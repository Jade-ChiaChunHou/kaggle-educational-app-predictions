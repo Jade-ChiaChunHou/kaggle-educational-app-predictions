{
 "cells": [
  {
   "cell_type": "markdown",
   "metadata": {
    "colab_type": "text",
    "id": "NqE30mH4KNIK"
   },
   "source": [
    "# **Predict Kids Learning Ability with Game Data**\n",
    "------------------------------------------\n",
    "## W207 Final Project \n",
    "#### Instructor: Peter Grabowski\n",
    "#### Team Members: Daniel Luo, Jade Chia-Chun Hou, Linda Yang, Skyler Roh\n"
   ]
  },
  {
   "cell_type": "markdown",
   "metadata": {
    "colab_type": "text",
    "id": "hpM0pHepEHXF"
   },
   "source": [
    "### **Problem Space**\n",
    "-------------------------------------------------\n",
    "We would want to learn how kids learn with the data gather from a kid game app.   \n",
    "In this app, children navigate a map and complete various levels, which may be activities, video clips, games, or assessments. Each assessment is designed to test a child's comprehension of a certain set of measurement-related skills. There are five assessments: Bird Measurer, Cart Balancer, Cauldron Filler, Chest Sorter, and Mushroom Sorter.\n",
    "The data we have contains the result which is the label of the data. How much attempt they tried, and what's the total answer and correct answer, the time taken etc. \n",
    "For the train and test data, we would have the event id, game session timestamp, event data which give detail description of the event.\n",
    "\n",
    "We would like to use some machine learning model to understand the factors that would help kids learn faster in the game and succsefully tackle the assesment. \n"
   ]
  },
  {
   "cell_type": "markdown",
   "metadata": {
    "colab_type": "text",
    "id": "Dr2MX597Lz0A"
   },
   "source": [
    "### **Object**\n",
    "--------------------\n",
    "The intent of this project is to use the gameplay data to forecast how many attempts a child will take to pass a given assessment (an incorrect answer is counted as an attempt)"
   ]
  },
  {
   "cell_type": "markdown",
   "metadata": {
    "colab_type": "text",
    "id": "KqXGO9UOBw4u"
   },
   "source": [
    "### **Load the Packages**\n",
    "--------------------------"
   ]
  },
  {
   "cell_type": "code",
   "execution_count": 0,
   "metadata": {
    "colab": {},
    "colab_type": "code",
    "id": "5d8P1N9GjP9N"
   },
   "outputs": [],
   "source": [
    "import pandas as pd\n",
    "import matplotlib.pyplot as plt\n",
    "import json\n",
    "from pandas.io.json import json_normalize\n",
    "import numpy as np\n",
    "\n",
    "%matplotlib inline\n"
   ]
  },
  {
   "cell_type": "markdown",
   "metadata": {
    "colab_type": "text",
    "id": "bzZ5gMw6B6uo"
   },
   "source": [
    "### **Load the Data**\n",
    "-------------------------------------------"
   ]
  },
  {
   "cell_type": "code",
   "execution_count": 2,
   "metadata": {
    "colab": {
     "base_uri": "https://localhost:8080/",
     "height": 51
    },
    "colab_type": "code",
    "id": "jpL11Z783P_z",
    "outputId": "4309ffed-3d80-4ab8-c0b4-7fc9ac411fa9"
   },
   "outputs": [
    {
     "name": "stdout",
     "output_type": "stream",
     "text": [
      "CPU times: user 1min, sys: 3.37 s, total: 1min 3s\n",
      "Wall time: 1min 29s\n"
     ]
    }
   ],
   "source": [
    "%%time\n",
    "df_train = pd.read_csv('/content/drive/My Drive/Colab Notebooks/input/data-science-bowl-2019/train.csv.zip', compression='zip', header=0, sep=',', quotechar='\"')\n",
    "df_test = pd.read_csv('/content/drive/My Drive/Colab Notebooks/input/data-science-bowl-2019/test.csv.zip', compression='zip', header=0, sep=',', quotechar='\"')\n",
    "df_train_label = pd.read_csv('/content/drive/My Drive/Colab Notebooks/input/data-science-bowl-2019/train_labels.csv.zip', compression='zip', header=0, sep=',', quotechar='\"')\n",
    "df_specs = pd.read_csv('/content/drive/My Drive/Colab Notebooks/input/data-science-bowl-2019/specs.csv', header=0, sep=',', quotechar='\"')\n",
    "df_sample_submission = pd.read_csv('/content/drive/My Drive/Colab Notebooks/input/data-science-bowl-2019/sample_submission.csv', header=0, sep=',', quotechar='\"')\n"
   ]
  },
  {
   "cell_type": "markdown",
   "metadata": {
    "colab_type": "text",
    "id": "rdLwC42z7AV8"
   },
   "source": [
    "### **Exploratory Data Analysis**\n",
    "---"
   ]
  },
  {
   "cell_type": "markdown",
   "metadata": {
    "colab_type": "text",
    "id": "kf6vXk1264MP"
   },
   "source": [
    "#### Understanding the Train Data\n"
   ]
  },
  {
   "cell_type": "markdown",
   "metadata": {
    "colab_type": "text",
    "id": "RNb-hX2y8pWC"
   },
   "source": [
    "##### a. Sample train data"
   ]
  },
  {
   "cell_type": "code",
   "execution_count": 3,
   "metadata": {
    "colab": {
     "base_uri": "https://localhost:8080/",
     "height": 411
    },
    "colab_type": "code",
    "id": "UAcSnBsC6-Kg",
    "outputId": "ebe4441f-3642-4d54-c34d-5a8b67b6b12a"
   },
   "outputs": [
    {
     "name": "stdout",
     "output_type": "stream",
     "text": [
      "Sample train data (rows: 11341042, columns: 11)\n"
     ]
    },
    {
     "data": {
      "text/html": [
       "<div>\n",
       "<style scoped>\n",
       "    .dataframe tbody tr th:only-of-type {\n",
       "        vertical-align: middle;\n",
       "    }\n",
       "\n",
       "    .dataframe tbody tr th {\n",
       "        vertical-align: top;\n",
       "    }\n",
       "\n",
       "    .dataframe thead th {\n",
       "        text-align: right;\n",
       "    }\n",
       "</style>\n",
       "<table border=\"1\" class=\"dataframe\">\n",
       "  <thead>\n",
       "    <tr style=\"text-align: right;\">\n",
       "      <th></th>\n",
       "      <th>event_id</th>\n",
       "      <th>game_session</th>\n",
       "      <th>timestamp</th>\n",
       "      <th>event_data</th>\n",
       "      <th>installation_id</th>\n",
       "      <th>event_count</th>\n",
       "      <th>event_code</th>\n",
       "      <th>game_time</th>\n",
       "      <th>title</th>\n",
       "      <th>type</th>\n",
       "      <th>world</th>\n",
       "    </tr>\n",
       "  </thead>\n",
       "  <tbody>\n",
       "    <tr>\n",
       "      <th>0</th>\n",
       "      <td>27253bdc</td>\n",
       "      <td>45bb1e1b6b50c07b</td>\n",
       "      <td>2019-09-06T17:53:46.937Z</td>\n",
       "      <td>{\"event_code\": 2000, \"event_count\": 1}</td>\n",
       "      <td>0001e90f</td>\n",
       "      <td>1</td>\n",
       "      <td>2000</td>\n",
       "      <td>0</td>\n",
       "      <td>Welcome to Lost Lagoon!</td>\n",
       "      <td>Clip</td>\n",
       "      <td>NONE</td>\n",
       "    </tr>\n",
       "    <tr>\n",
       "      <th>1</th>\n",
       "      <td>27253bdc</td>\n",
       "      <td>17eeb7f223665f53</td>\n",
       "      <td>2019-09-06T17:54:17.519Z</td>\n",
       "      <td>{\"event_code\": 2000, \"event_count\": 1}</td>\n",
       "      <td>0001e90f</td>\n",
       "      <td>1</td>\n",
       "      <td>2000</td>\n",
       "      <td>0</td>\n",
       "      <td>Magma Peak - Level 1</td>\n",
       "      <td>Clip</td>\n",
       "      <td>MAGMAPEAK</td>\n",
       "    </tr>\n",
       "    <tr>\n",
       "      <th>2</th>\n",
       "      <td>77261ab5</td>\n",
       "      <td>0848ef14a8dc6892</td>\n",
       "      <td>2019-09-06T17:54:56.302Z</td>\n",
       "      <td>{\"version\":\"1.0\",\"event_count\":1,\"game_time\":0...</td>\n",
       "      <td>0001e90f</td>\n",
       "      <td>1</td>\n",
       "      <td>2000</td>\n",
       "      <td>0</td>\n",
       "      <td>Sandcastle Builder (Activity)</td>\n",
       "      <td>Activity</td>\n",
       "      <td>MAGMAPEAK</td>\n",
       "    </tr>\n",
       "    <tr>\n",
       "      <th>3</th>\n",
       "      <td>b2dba42b</td>\n",
       "      <td>0848ef14a8dc6892</td>\n",
       "      <td>2019-09-06T17:54:56.387Z</td>\n",
       "      <td>{\"description\":\"Let's build a sandcastle! Firs...</td>\n",
       "      <td>0001e90f</td>\n",
       "      <td>2</td>\n",
       "      <td>3010</td>\n",
       "      <td>53</td>\n",
       "      <td>Sandcastle Builder (Activity)</td>\n",
       "      <td>Activity</td>\n",
       "      <td>MAGMAPEAK</td>\n",
       "    </tr>\n",
       "    <tr>\n",
       "      <th>4</th>\n",
       "      <td>1bb5fbdb</td>\n",
       "      <td>0848ef14a8dc6892</td>\n",
       "      <td>2019-09-06T17:55:03.253Z</td>\n",
       "      <td>{\"description\":\"Let's build a sandcastle! Firs...</td>\n",
       "      <td>0001e90f</td>\n",
       "      <td>3</td>\n",
       "      <td>3110</td>\n",
       "      <td>6972</td>\n",
       "      <td>Sandcastle Builder (Activity)</td>\n",
       "      <td>Activity</td>\n",
       "      <td>MAGMAPEAK</td>\n",
       "    </tr>\n",
       "  </tbody>\n",
       "</table>\n",
       "</div>"
      ],
      "text/plain": [
       "   event_id      game_session  ...      type      world\n",
       "0  27253bdc  45bb1e1b6b50c07b  ...      Clip       NONE\n",
       "1  27253bdc  17eeb7f223665f53  ...      Clip  MAGMAPEAK\n",
       "2  77261ab5  0848ef14a8dc6892  ...  Activity  MAGMAPEAK\n",
       "3  b2dba42b  0848ef14a8dc6892  ...  Activity  MAGMAPEAK\n",
       "4  1bb5fbdb  0848ef14a8dc6892  ...  Activity  MAGMAPEAK\n",
       "\n",
       "[5 rows x 11 columns]"
      ]
     },
     "execution_count": 3,
     "metadata": {
      "tags": []
     },
     "output_type": "execute_result"
    }
   ],
   "source": [
    "print(\"Sample train data (rows: %d, columns: %d)\" %(df_train.shape[0], df_train.shape[1]))\n",
    "df_train.head()"
   ]
  },
  {
   "cell_type": "markdown",
   "metadata": {
    "colab_type": "text",
    "id": "RkMyCTpr8eJq"
   },
   "source": [
    "Clean up the train data by dropping the row where the installation_id never take any game"
   ]
  },
  {
   "cell_type": "markdown",
   "metadata": {
    "colab_type": "text",
    "id": "nxYCmYUI8xve"
   },
   "source": [
    "##### b. Clean up train data"
   ]
  },
  {
   "cell_type": "code",
   "execution_count": 0,
   "metadata": {
    "colab": {},
    "colab_type": "code",
    "id": "rZ0jAt4p8dhW"
   },
   "outputs": [],
   "source": [
    "keep_id = df_train[df_train.type == \"Assessment\"][['installation_id']].drop_duplicates()\n",
    "df_train = pd.merge(df_train, keep_id, on=\"installation_id\", how=\"inner\")"
   ]
  },
  {
   "cell_type": "code",
   "execution_count": 5,
   "metadata": {
    "colab": {
     "base_uri": "https://localhost:8080/",
     "height": 411
    },
    "colab_type": "code",
    "id": "YOSNS-iz9K26",
    "outputId": "3e676456-4382-495f-d978-11e6f0167829"
   },
   "outputs": [
    {
     "name": "stdout",
     "output_type": "stream",
     "text": [
      "Sample train data after clean up (rows: 8294138, columns: 11)\n"
     ]
    },
    {
     "data": {
      "text/html": [
       "<div>\n",
       "<style scoped>\n",
       "    .dataframe tbody tr th:only-of-type {\n",
       "        vertical-align: middle;\n",
       "    }\n",
       "\n",
       "    .dataframe tbody tr th {\n",
       "        vertical-align: top;\n",
       "    }\n",
       "\n",
       "    .dataframe thead th {\n",
       "        text-align: right;\n",
       "    }\n",
       "</style>\n",
       "<table border=\"1\" class=\"dataframe\">\n",
       "  <thead>\n",
       "    <tr style=\"text-align: right;\">\n",
       "      <th></th>\n",
       "      <th>event_id</th>\n",
       "      <th>game_session</th>\n",
       "      <th>timestamp</th>\n",
       "      <th>event_data</th>\n",
       "      <th>installation_id</th>\n",
       "      <th>event_count</th>\n",
       "      <th>event_code</th>\n",
       "      <th>game_time</th>\n",
       "      <th>title</th>\n",
       "      <th>type</th>\n",
       "      <th>world</th>\n",
       "    </tr>\n",
       "  </thead>\n",
       "  <tbody>\n",
       "    <tr>\n",
       "      <th>0</th>\n",
       "      <td>27253bdc</td>\n",
       "      <td>34ba1a28d02ba8ba</td>\n",
       "      <td>2019-08-06T04:57:18.904Z</td>\n",
       "      <td>{\"event_code\": 2000, \"event_count\": 1}</td>\n",
       "      <td>0006a69f</td>\n",
       "      <td>1</td>\n",
       "      <td>2000</td>\n",
       "      <td>0</td>\n",
       "      <td>Welcome to Lost Lagoon!</td>\n",
       "      <td>Clip</td>\n",
       "      <td>NONE</td>\n",
       "    </tr>\n",
       "    <tr>\n",
       "      <th>1</th>\n",
       "      <td>27253bdc</td>\n",
       "      <td>4b57c9a59474a1b9</td>\n",
       "      <td>2019-08-06T04:57:45.301Z</td>\n",
       "      <td>{\"event_code\": 2000, \"event_count\": 1}</td>\n",
       "      <td>0006a69f</td>\n",
       "      <td>1</td>\n",
       "      <td>2000</td>\n",
       "      <td>0</td>\n",
       "      <td>Magma Peak - Level 1</td>\n",
       "      <td>Clip</td>\n",
       "      <td>MAGMAPEAK</td>\n",
       "    </tr>\n",
       "    <tr>\n",
       "      <th>2</th>\n",
       "      <td>77261ab5</td>\n",
       "      <td>2b9d5af79bcdb79f</td>\n",
       "      <td>2019-08-06T04:58:14.538Z</td>\n",
       "      <td>{\"version\":\"1.0\",\"event_count\":1,\"game_time\":0...</td>\n",
       "      <td>0006a69f</td>\n",
       "      <td>1</td>\n",
       "      <td>2000</td>\n",
       "      <td>0</td>\n",
       "      <td>Sandcastle Builder (Activity)</td>\n",
       "      <td>Activity</td>\n",
       "      <td>MAGMAPEAK</td>\n",
       "    </tr>\n",
       "    <tr>\n",
       "      <th>3</th>\n",
       "      <td>b2dba42b</td>\n",
       "      <td>2b9d5af79bcdb79f</td>\n",
       "      <td>2019-08-06T04:58:14.615Z</td>\n",
       "      <td>{\"description\":\"Let's build a sandcastle! Firs...</td>\n",
       "      <td>0006a69f</td>\n",
       "      <td>2</td>\n",
       "      <td>3010</td>\n",
       "      <td>29</td>\n",
       "      <td>Sandcastle Builder (Activity)</td>\n",
       "      <td>Activity</td>\n",
       "      <td>MAGMAPEAK</td>\n",
       "    </tr>\n",
       "    <tr>\n",
       "      <th>4</th>\n",
       "      <td>1325467d</td>\n",
       "      <td>2b9d5af79bcdb79f</td>\n",
       "      <td>2019-08-06T04:58:16.680Z</td>\n",
       "      <td>{\"coordinates\":{\"x\":273,\"y\":650,\"stage_width\":...</td>\n",
       "      <td>0006a69f</td>\n",
       "      <td>3</td>\n",
       "      <td>4070</td>\n",
       "      <td>2137</td>\n",
       "      <td>Sandcastle Builder (Activity)</td>\n",
       "      <td>Activity</td>\n",
       "      <td>MAGMAPEAK</td>\n",
       "    </tr>\n",
       "  </tbody>\n",
       "</table>\n",
       "</div>"
      ],
      "text/plain": [
       "   event_id      game_session  ...      type      world\n",
       "0  27253bdc  34ba1a28d02ba8ba  ...      Clip       NONE\n",
       "1  27253bdc  4b57c9a59474a1b9  ...      Clip  MAGMAPEAK\n",
       "2  77261ab5  2b9d5af79bcdb79f  ...  Activity  MAGMAPEAK\n",
       "3  b2dba42b  2b9d5af79bcdb79f  ...  Activity  MAGMAPEAK\n",
       "4  1325467d  2b9d5af79bcdb79f  ...  Activity  MAGMAPEAK\n",
       "\n",
       "[5 rows x 11 columns]"
      ]
     },
     "execution_count": 5,
     "metadata": {
      "tags": []
     },
     "output_type": "execute_result"
    }
   ],
   "source": [
    "print(\"Sample train data after clean up (rows: %d, columns: %d)\" %(df_train.shape[0], df_train.shape[1]))\n",
    "df_train.head()"
   ]
  },
  {
   "cell_type": "markdown",
   "metadata": {
    "colab_type": "text",
    "id": "dUHAj6vULWbF"
   },
   "source": [
    "After cleaning the data, we could see that the event data is in json format which would need later feature extracting and flatten. \n",
    "In the training set, we have the full history of gameplay data.\n",
    "To help understand the naming convention of the model, below are list of coumn name and its explannation:\n",
    " In the test set, we have truncated the history after the start event of a single assessment, chosen randomly, for which you must predict the number of attempts.\n",
    "\n",
    "*  **event_id** - *Randomly generated unique identifier for the event type. Maps to event_id column in specs table.*\n",
    "*  **game_session** - *Randomly generated unique identifier grouping events within a single game or video play session.*\n",
    "*  **timestamp** - *Client-generated datetime\n",
    "event_data - Semi-structured JSON formatted string containing the events parameters. Default fields are: event_count, event_code, and game_time; otherwise fields are determined by the event type.*\n",
    "*  **installation_id** - *Randomly generated unique identifier grouping game sessions within a single installed application instance.\n",
    "event_count - Incremental counter of events within a game session (offset at 1). Extracted from event_data.* \n",
    "*  **event_code** - *Identifier of the event 'class'. Unique per game, but may be duplicated across games. E.g. event code '2000' always identifies the 'Start Game' event for all games. Extracted from event_data.*\n",
    "*  **game_time** - *Time in milliseconds since the start of the game session. Extracted from event_data.*\n",
    "*  **title** - *Title of the game or video.*\n",
    "*  **type** - *Media type of the game or video. Possible values are: 'Game', 'Assessment', 'Activity', 'Clip'.*\n",
    "*  **world** - *The section of the application the game or video belongs to. Helpful to identify the educational curriculum goals of the media. Possible values are: 'NONE' (at the app's start screen), TREETOPCITY' (Length/Height), 'MAGMAPEAK' (Capacity/Displacement), 'CRYSTALCAVES' (Weight).*\n",
    "\n"
   ]
  },
  {
   "cell_type": "markdown",
   "metadata": {
    "colab_type": "text",
    "id": "RzMM0G-y9lkq"
   },
   "source": [
    "##### c. Visualization"
   ]
  },
  {
   "cell_type": "code",
   "execution_count": 6,
   "metadata": {
    "colab": {
     "base_uri": "https://localhost:8080/",
     "height": 34
    },
    "colab_type": "code",
    "id": "ie4rP-brACGR",
    "outputId": "141570ba-db6e-4cf5-a1d3-199d753fca2a"
   },
   "outputs": [
    {
     "data": {
      "text/plain": [
       "array(['Clip', 'Activity', 'Game', 'Assessment'], dtype=object)"
      ]
     },
     "execution_count": 6,
     "metadata": {
      "tags": []
     },
     "output_type": "execute_result"
    }
   ],
   "source": [
    "df_train.type.unique()"
   ]
  },
  {
   "cell_type": "code",
   "execution_count": 7,
   "metadata": {
    "colab": {
     "base_uri": "https://localhost:8080/",
     "height": 525
    },
    "colab_type": "code",
    "id": "dq0bVDYr9onx",
    "outputId": "7dcc1c5e-51ff-4833-fd7c-4c7eb57178fe"
   },
   "outputs": [
    {
     "data": {
      "image/png": "[encoded data removed]",
      "text/plain": [
       "<Figure size 720x576 with 1 Axes>"
      ]
     },
     "metadata": {
      "tags": []
     },
     "output_type": "display_data"
    }
   ],
   "source": [
    "types_data = df_train['type']\n",
    "\n",
    "plt.figure(figsize=[10,8])\n",
    "n, bins, patches = plt.hist(x=types_data, bins=4, color='#0504aa',alpha=0.7, rwidth=0.85)\n",
    "plt.grid(axis='y', alpha=0.75)\n",
    "plt.xlabel('Type',fontsize=15)\n",
    "plt.ylabel('Frequency',fontsize=15)\n",
    "plt.xticks(fontsize=15)\n",
    "plt.yticks(fontsize=15)\n",
    "plt.ylabel('Frequency',fontsize=15)\n",
    "plt.title('Type of Game',fontsize=15)\n",
    "plt.show()"
   ]
  },
  {
   "cell_type": "code",
   "execution_count": 8,
   "metadata": {
    "colab": {
     "base_uri": "https://localhost:8080/",
     "height": 525
    },
    "colab_type": "code",
    "id": "fIJ0gPCZCHZL",
    "outputId": "3c73350d-d00a-4179-b960-b81a79de286e"
   },
   "outputs": [
    {
     "data": {
      "image/png": "[encoded data removed]",
      "text/plain": [
       "<Figure size 720x576 with 1 Axes>"
      ]
     },
     "metadata": {
      "tags": []
     },
     "output_type": "display_data"
    }
   ],
   "source": [
    "types_data = df_train['world']\n",
    "\n",
    "plt.figure(figsize=[10,8])\n",
    "n, bins, patches = plt.hist(x=types_data, bins=4, color='#0504aa',alpha=0.7, rwidth=0.85)\n",
    "plt.grid(axis='y', alpha=0.75)\n",
    "plt.xlabel('World',fontsize=15)\n",
    "plt.ylabel('Frequency',fontsize=15)\n",
    "plt.xticks(fontsize=15)\n",
    "plt.yticks(fontsize=15)\n",
    "plt.ylabel('Frequency',fontsize=15)\n",
    "plt.title('Type of World',fontsize=15)\n",
    "plt.show()"
   ]
  },
  {
   "cell_type": "markdown",
   "metadata": {
    "colab_type": "text",
    "id": "dclLmm8XOm5O"
   },
   "source": [
    "Here we could see there are mainly three type of world in the game app. And the `Magmapeak` is very popular. "
   ]
  },
  {
   "cell_type": "code",
   "execution_count": 0,
   "metadata": {
    "colab": {},
    "colab_type": "code",
    "id": "n5M0v-JoZJSm"
   },
   "outputs": [],
   "source": [
    "title_frequency = df_train['title'].value_counts(sort=True, ascending=False)"
   ]
  },
  {
   "cell_type": "code",
   "execution_count": 10,
   "metadata": {
    "colab": {
     "base_uri": "https://localhost:8080/",
     "height": 925
    },
    "colab_type": "code",
    "id": "URWT2tnmCUAn",
    "outputId": "8b9e76cb-2937-4060-d849-e7c2b2510fca"
   },
   "outputs": [
    {
     "data": {
      "image/png": "[encoded data removed]",
      "text/plain": [
       "<Figure size 1296x1080 with 1 Axes>"
      ]
     },
     "metadata": {
      "tags": []
     },
     "output_type": "display_data"
    }
   ],
   "source": [
    "types_data = df_train['title']\n",
    "plt.figure(figsize=[18,15])\n",
    "\n",
    "frequencies = title_frequency.values\n",
    "titles = title_frequency.keys().to_list()\n",
    "y_pos = np.arange(len(titles))\n",
    "plt.barh(y_pos, frequencies, color='#0504aa',alpha=0.7)\n",
    "plt.yticks(y_pos, titles, fontsize=15)\n",
    "plt.grid(axis='x', alpha=0.75)\n",
    "plt.xlabel('Frequency',fontsize=15)\n",
    "plt.xticks(fontsize=15)\n",
    "plt.title('Type of Title',fontsize=15)\n",
    "\n",
    "plt.show()\n"
   ]
  },
  {
   "cell_type": "markdown",
   "metadata": {
    "colab_type": "text",
    "id": "lz5oljAcO2TW"
   },
   "source": [
    "Above is a histogram of the title of game appear in the data. We sort it the data, so that we could easily see the most frequent one is the Chow time, and `activity` type of game have more populartiy than `Assesment`. Interestingly, the level 1 and level 3 game have similar popularity. One guess would be, level 1 would be easier for kids to pass on, so they would only attempt once, level 2 are more chanllenging so they spend more time on it. As such, there will be less and less kid pass level 2, so level 3 also have lower frequency. "
   ]
  },
  {
   "cell_type": "markdown",
   "metadata": {
    "colab_type": "text",
    "id": "V5qj_B3p9cA8"
   },
   "source": [
    "#### Understand the Test Data"
   ]
  },
  {
   "cell_type": "markdown",
   "metadata": {
    "colab_type": "text",
    "id": "t6-uPP1XAzHL"
   },
   "source": [
    "##### a. Sample test data and clean up test data"
   ]
  },
  {
   "cell_type": "code",
   "execution_count": 11,
   "metadata": {
    "colab": {
     "base_uri": "https://localhost:8080/",
     "height": 377
    },
    "colab_type": "code",
    "id": "fM3UxxeV7Fvi",
    "outputId": "e05ed9eb-8fe8-456d-a5bf-14714a2909b1"
   },
   "outputs": [
    {
     "data": {
      "text/html": [
       "<div>\n",
       "<style scoped>\n",
       "    .dataframe tbody tr th:only-of-type {\n",
       "        vertical-align: middle;\n",
       "    }\n",
       "\n",
       "    .dataframe tbody tr th {\n",
       "        vertical-align: top;\n",
       "    }\n",
       "\n",
       "    .dataframe thead th {\n",
       "        text-align: right;\n",
       "    }\n",
       "</style>\n",
       "<table border=\"1\" class=\"dataframe\">\n",
       "  <thead>\n",
       "    <tr style=\"text-align: right;\">\n",
       "      <th></th>\n",
       "      <th>event_id</th>\n",
       "      <th>game_session</th>\n",
       "      <th>timestamp</th>\n",
       "      <th>event_data</th>\n",
       "      <th>installation_id</th>\n",
       "      <th>event_count</th>\n",
       "      <th>event_code</th>\n",
       "      <th>game_time</th>\n",
       "      <th>title</th>\n",
       "      <th>type</th>\n",
       "      <th>world</th>\n",
       "    </tr>\n",
       "  </thead>\n",
       "  <tbody>\n",
       "    <tr>\n",
       "      <th>0</th>\n",
       "      <td>27253bdc</td>\n",
       "      <td>0ea9ecc81a565215</td>\n",
       "      <td>2019-09-10T16:50:24.910Z</td>\n",
       "      <td>{\"event_code\": 2000, \"event_count\": 1}</td>\n",
       "      <td>00abaee7</td>\n",
       "      <td>1</td>\n",
       "      <td>2000</td>\n",
       "      <td>0</td>\n",
       "      <td>Welcome to Lost Lagoon!</td>\n",
       "      <td>Clip</td>\n",
       "      <td>NONE</td>\n",
       "    </tr>\n",
       "    <tr>\n",
       "      <th>1</th>\n",
       "      <td>27253bdc</td>\n",
       "      <td>c1ea43d8b8261d27</td>\n",
       "      <td>2019-09-10T16:50:55.503Z</td>\n",
       "      <td>{\"event_code\": 2000, \"event_count\": 1}</td>\n",
       "      <td>00abaee7</td>\n",
       "      <td>1</td>\n",
       "      <td>2000</td>\n",
       "      <td>0</td>\n",
       "      <td>Magma Peak - Level 1</td>\n",
       "      <td>Clip</td>\n",
       "      <td>MAGMAPEAK</td>\n",
       "    </tr>\n",
       "    <tr>\n",
       "      <th>2</th>\n",
       "      <td>27253bdc</td>\n",
       "      <td>7ed86c6b72e725e2</td>\n",
       "      <td>2019-09-10T16:51:51.805Z</td>\n",
       "      <td>{\"event_code\": 2000, \"event_count\": 1}</td>\n",
       "      <td>00abaee7</td>\n",
       "      <td>1</td>\n",
       "      <td>2000</td>\n",
       "      <td>0</td>\n",
       "      <td>Magma Peak - Level 2</td>\n",
       "      <td>Clip</td>\n",
       "      <td>MAGMAPEAK</td>\n",
       "    </tr>\n",
       "    <tr>\n",
       "      <th>3</th>\n",
       "      <td>27253bdc</td>\n",
       "      <td>7e516ace50e7fe67</td>\n",
       "      <td>2019-09-10T16:53:12.825Z</td>\n",
       "      <td>{\"event_code\": 2000, \"event_count\": 1}</td>\n",
       "      <td>00abaee7</td>\n",
       "      <td>1</td>\n",
       "      <td>2000</td>\n",
       "      <td>0</td>\n",
       "      <td>Crystal Caves - Level 1</td>\n",
       "      <td>Clip</td>\n",
       "      <td>CRYSTALCAVES</td>\n",
       "    </tr>\n",
       "    <tr>\n",
       "      <th>4</th>\n",
       "      <td>7d093bf9</td>\n",
       "      <td>a022c3f60ba547e7</td>\n",
       "      <td>2019-09-10T16:54:12.115Z</td>\n",
       "      <td>{\"version\":\"1.0\",\"round\":0,\"event_count\":1,\"ga...</td>\n",
       "      <td>00abaee7</td>\n",
       "      <td>1</td>\n",
       "      <td>2000</td>\n",
       "      <td>0</td>\n",
       "      <td>Chow Time</td>\n",
       "      <td>Game</td>\n",
       "      <td>CRYSTALCAVES</td>\n",
       "    </tr>\n",
       "  </tbody>\n",
       "</table>\n",
       "</div>"
      ],
      "text/plain": [
       "   event_id      game_session  ...  type         world\n",
       "0  27253bdc  0ea9ecc81a565215  ...  Clip          NONE\n",
       "1  27253bdc  c1ea43d8b8261d27  ...  Clip     MAGMAPEAK\n",
       "2  27253bdc  7ed86c6b72e725e2  ...  Clip     MAGMAPEAK\n",
       "3  27253bdc  7e516ace50e7fe67  ...  Clip  CRYSTALCAVES\n",
       "4  7d093bf9  a022c3f60ba547e7  ...  Game  CRYSTALCAVES\n",
       "\n",
       "[5 rows x 11 columns]"
      ]
     },
     "execution_count": 11,
     "metadata": {
      "tags": []
     },
     "output_type": "execute_result"
    }
   ],
   "source": [
    "keep_id = df_test[df_test.type == \"Assessment\"][['installation_id']].drop_duplicates()\n",
    "df_test = pd.merge(df_test, keep_id, on=\"installation_id\", how=\"inner\")\n",
    "df_test.head()"
   ]
  },
  {
   "cell_type": "markdown",
   "metadata": {
    "colab_type": "text",
    "id": "PP_qdh-FPpNF"
   },
   "source": [
    "In the test set, it truncated the history after the start event of a single assessment, chosen randomly, for which you must predict the number of attempts. Every installation_id in the test set made an attempt on at least one assessment."
   ]
  },
  {
   "cell_type": "markdown",
   "metadata": {
    "colab_type": "text",
    "id": "hzDC--AcBFfD"
   },
   "source": [
    "##### b. Visualization"
   ]
  },
  {
   "cell_type": "code",
   "execution_count": 12,
   "metadata": {
    "colab": {
     "base_uri": "https://localhost:8080/",
     "height": 525
    },
    "colab_type": "code",
    "id": "YGoIXZmzBFGm",
    "outputId": "374c1986-9c50-42ce-f912-bca84c7835bb"
   },
   "outputs": [
    {
     "data": {
      "image/png": "[encoded data removed]",
      "text/plain": [
       "<Figure size 720x576 with 1 Axes>"
      ]
     },
     "metadata": {
      "tags": []
     },
     "output_type": "display_data"
    }
   ],
   "source": [
    "types_data = df_test['type']\n",
    "\n",
    "plt.figure(figsize=[10,8])\n",
    "n, bins, patches = plt.hist(x=types_data, bins=4, color='#0504aa',alpha=0.7, rwidth=0.85)\n",
    "plt.grid(axis='y', alpha=0.75)\n",
    "plt.xlabel('Type',fontsize=15)\n",
    "plt.ylabel('Frequency',fontsize=15)\n",
    "plt.xticks(fontsize=15)\n",
    "plt.yticks(fontsize=15)\n",
    "plt.ylabel('Frequency',fontsize=15)\n",
    "plt.title('Type of Game',fontsize=15)\n",
    "plt.show()"
   ]
  },
  {
   "cell_type": "code",
   "execution_count": 13,
   "metadata": {
    "colab": {
     "base_uri": "https://localhost:8080/",
     "height": 525
    },
    "colab_type": "code",
    "id": "Di8di6paBY93",
    "outputId": "62ee808e-e8c9-4958-88c9-c01f03852b53"
   },
   "outputs": [
    {
     "data": {
      "image/png": "[encoded data removed]",
      "text/plain": [
       "<Figure size 720x576 with 1 Axes>"
      ]
     },
     "metadata": {
      "tags": []
     },
     "output_type": "display_data"
    }
   ],
   "source": [
    "types_data = df_test['world']\n",
    "\n",
    "plt.figure(figsize=[10,8])\n",
    "n, bins, patches = plt.hist(x=types_data, bins=4, color='#0504aa',alpha=0.7, rwidth=0.85)\n",
    "plt.grid(axis='y', alpha=0.75)\n",
    "plt.xlabel('World',fontsize=15)\n",
    "plt.ylabel('Frequency',fontsize=15)\n",
    "plt.xticks(fontsize=15)\n",
    "plt.yticks(fontsize=15)\n",
    "plt.ylabel('Frequency',fontsize=15)\n",
    "plt.title('Type of World',fontsize=15)\n",
    "plt.show()"
   ]
  },
  {
   "cell_type": "code",
   "execution_count": 14,
   "metadata": {
    "colab": {
     "base_uri": "https://localhost:8080/",
     "height": 925
    },
    "colab_type": "code",
    "id": "eqVMs4i7BePc",
    "outputId": "db7a96c9-9c44-4726-9b48-5b550fff47f4"
   },
   "outputs": [
    {
     "data": {
      "image/png": "[encoded data removed]",
      "text/plain": [
       "<Figure size 1296x1080 with 1 Axes>"
      ]
     },
     "metadata": {
      "tags": []
     },
     "output_type": "display_data"
    }
   ],
   "source": [
    "title_frequency = df_test['title'].value_counts(sort=True, ascending=False)\n",
    "types_data = df_test['title']\n",
    "plt.figure(figsize=[18,15])\n",
    "\n",
    "frequencies = title_frequency.values\n",
    "titles = title_frequency.keys().to_list()\n",
    "y_pos = np.arange(len(titles))\n",
    "plt.barh(y_pos, frequencies, color='#0504aa',alpha=0.7)\n",
    "plt.yticks(y_pos, titles, fontsize=15)\n",
    "plt.grid(axis='x', alpha=0.75)\n",
    "plt.xlabel('Frequency',fontsize=15)\n",
    "plt.xticks(fontsize=15)\n",
    "plt.title('Type of Title',fontsize=15)\n",
    "\n",
    "plt.show()"
   ]
  },
  {
   "cell_type": "markdown",
   "metadata": {
    "colab_type": "text",
    "id": "qUXY0VbrP_If"
   },
   "source": [
    "We did the same visualization as we did for train data. We could see the trends does not change much. "
   ]
  },
  {
   "cell_type": "markdown",
   "metadata": {
    "colab_type": "text",
    "id": "Zn66l3VyBpF9"
   },
   "source": [
    "#### Understanding the Train Label data"
   ]
  },
  {
   "cell_type": "markdown",
   "metadata": {
    "colab_type": "text",
    "id": "I0T17ZS1CNRQ"
   },
   "source": [
    "##### a. Sample train label data"
   ]
  },
  {
   "cell_type": "code",
   "execution_count": 15,
   "metadata": {
    "colab": {
     "base_uri": "https://localhost:8080/",
     "height": 204
    },
    "colab_type": "code",
    "id": "XWUUsH9UBuqO",
    "outputId": "69e35002-d4bd-4f25-b98b-1ec9e7a6584d"
   },
   "outputs": [
    {
     "data": {
      "text/html": [
       "<div>\n",
       "<style scoped>\n",
       "    .dataframe tbody tr th:only-of-type {\n",
       "        vertical-align: middle;\n",
       "    }\n",
       "\n",
       "    .dataframe tbody tr th {\n",
       "        vertical-align: top;\n",
       "    }\n",
       "\n",
       "    .dataframe thead th {\n",
       "        text-align: right;\n",
       "    }\n",
       "</style>\n",
       "<table border=\"1\" class=\"dataframe\">\n",
       "  <thead>\n",
       "    <tr style=\"text-align: right;\">\n",
       "      <th></th>\n",
       "      <th>game_session</th>\n",
       "      <th>installation_id</th>\n",
       "      <th>title</th>\n",
       "      <th>num_correct</th>\n",
       "      <th>num_incorrect</th>\n",
       "      <th>accuracy</th>\n",
       "      <th>accuracy_group</th>\n",
       "    </tr>\n",
       "  </thead>\n",
       "  <tbody>\n",
       "    <tr>\n",
       "      <th>0</th>\n",
       "      <td>6bdf9623adc94d89</td>\n",
       "      <td>0006a69f</td>\n",
       "      <td>Mushroom Sorter (Assessment)</td>\n",
       "      <td>1</td>\n",
       "      <td>0</td>\n",
       "      <td>1.0</td>\n",
       "      <td>3</td>\n",
       "    </tr>\n",
       "    <tr>\n",
       "      <th>1</th>\n",
       "      <td>77b8ee947eb84b4e</td>\n",
       "      <td>0006a69f</td>\n",
       "      <td>Bird Measurer (Assessment)</td>\n",
       "      <td>0</td>\n",
       "      <td>11</td>\n",
       "      <td>0.0</td>\n",
       "      <td>0</td>\n",
       "    </tr>\n",
       "    <tr>\n",
       "      <th>2</th>\n",
       "      <td>901acc108f55a5a1</td>\n",
       "      <td>0006a69f</td>\n",
       "      <td>Mushroom Sorter (Assessment)</td>\n",
       "      <td>1</td>\n",
       "      <td>0</td>\n",
       "      <td>1.0</td>\n",
       "      <td>3</td>\n",
       "    </tr>\n",
       "    <tr>\n",
       "      <th>3</th>\n",
       "      <td>9501794defd84e4d</td>\n",
       "      <td>0006a69f</td>\n",
       "      <td>Mushroom Sorter (Assessment)</td>\n",
       "      <td>1</td>\n",
       "      <td>1</td>\n",
       "      <td>0.5</td>\n",
       "      <td>2</td>\n",
       "    </tr>\n",
       "    <tr>\n",
       "      <th>4</th>\n",
       "      <td>a9ef3ecb3d1acc6a</td>\n",
       "      <td>0006a69f</td>\n",
       "      <td>Bird Measurer (Assessment)</td>\n",
       "      <td>1</td>\n",
       "      <td>0</td>\n",
       "      <td>1.0</td>\n",
       "      <td>3</td>\n",
       "    </tr>\n",
       "  </tbody>\n",
       "</table>\n",
       "</div>"
      ],
      "text/plain": [
       "       game_session installation_id  ... accuracy  accuracy_group\n",
       "0  6bdf9623adc94d89        0006a69f  ...      1.0               3\n",
       "1  77b8ee947eb84b4e        0006a69f  ...      0.0               0\n",
       "2  901acc108f55a5a1        0006a69f  ...      1.0               3\n",
       "3  9501794defd84e4d        0006a69f  ...      0.5               2\n",
       "4  a9ef3ecb3d1acc6a        0006a69f  ...      1.0               3\n",
       "\n",
       "[5 rows x 7 columns]"
      ]
     },
     "execution_count": 15,
     "metadata": {
      "tags": []
     },
     "output_type": "execute_result"
    }
   ],
   "source": [
    "df_train_label.head()"
   ]
  },
  {
   "cell_type": "markdown",
   "metadata": {
    "colab_type": "text",
    "id": "dUIir310QOfK"
   },
   "source": [
    "The outcomes in this data are grouped into 4 groups (labeled accuracy_group in the data):\n",
    "3: the assessment was solved on the first attempt\n",
    "2: the assessment was solved on the second attempt\n",
    "1: the assessment was solved after 3 or more attempts\n",
    "0: the assessment was never solved\n",
    "\n",
    "Assessment attempts are captured in event_code 4100 for all assessments except for Bird Measurer, which uses event_code 4110. If the attempt was correct, it contains \"correct\":true."
   ]
  },
  {
   "cell_type": "markdown",
   "metadata": {
    "colab_type": "text",
    "id": "EA3KmatCCSvz"
   },
   "source": [
    "##### b. Visualization"
   ]
  },
  {
   "cell_type": "code",
   "execution_count": 16,
   "metadata": {
    "colab": {
     "base_uri": "https://localhost:8080/",
     "height": 525
    },
    "colab_type": "code",
    "id": "FsYza2rOCjtE",
    "outputId": "ad4bbb59-471c-4314-b67f-3178588d2631"
   },
   "outputs": [
    {
     "data": {
      "image/png": "[encoded data removed]",
      "text/plain": [
       "<Figure size 720x576 with 1 Axes>"
      ]
     },
     "metadata": {
      "tags": []
     },
     "output_type": "display_data"
    }
   ],
   "source": [
    "df_avg_accuracy = df_train_label.groupby('title').mean()\n",
    "df_avg_accuracy.sort_values(by=['accuracy'])\n",
    "\n",
    "avg_accuracy_data = df_avg_accuracy['accuracy']\n",
    "plt.figure(figsize=[10,8])\n",
    "\n",
    "titles = df_avg_accuracy.index\n",
    "y_pos = np.arange(len(titles))\n",
    "plt.barh(y_pos, avg_accuracy_data, color='#0504aa',alpha=0.7)\n",
    "plt.yticks(y_pos, titles, fontsize=15)\n",
    "plt.grid(axis='x', alpha=0.75)\n",
    "plt.xlabel('Avg Accuracy',fontsize=15)\n",
    "plt.xticks(fontsize=15)\n",
    "plt.title('Type of Title',fontsize=15)\n",
    "\n",
    "plt.show()"
   ]
  },
  {
   "cell_type": "markdown",
   "metadata": {
    "colab_type": "text",
    "id": "WoIrWUQrQnkr"
   },
   "source": [
    "Here, we try to see the diffculty of each assesment we have. And how often does kid take this assesment. "
   ]
  },
  {
   "cell_type": "markdown",
   "metadata": {
    "colab_type": "text",
    "id": "8rPnWYaqQz3o"
   },
   "source": [
    "#### Understanding the spec data\n",
    "This file gives the specification of the various event types.\n",
    "\n",
    "*  **event_id** - *Global unique identifier for the event type. Joins to event_id column in events table.*\n",
    "*  **info** - *Description of the event.*\n",
    "*  **args** - *JSON formatted string of event arguments. Each argument contains:*\n",
    "  *  **name** - *Argument name.*\n",
    "  *  **type** - *Type of the argument (string, int, number, object, array).*\n",
    "  *  **info** - *Description of the argument.*"
   ]
  },
  {
   "cell_type": "markdown",
   "metadata": {
    "colab_type": "text",
    "id": "8xQwKe2z9cwo"
   },
   "source": [
    "### **Modeling**\n",
    "---"
   ]
  },
  {
   "cell_type": "markdown",
   "metadata": {
    "colab_type": "text",
    "id": "d9j29jImrzEd"
   },
   "source": [
    "##### a. Preprocessing data for models"
   ]
  },
  {
   "cell_type": "markdown",
   "metadata": {
    "colab_type": "text",
    "id": "BiYihHC_upnB"
   },
   "source": [
    "We would like to merge label data and game data into one data set for training purpose. Here, we are getting the label data and merge them by game session."
   ]
  },
  {
   "cell_type": "code",
   "execution_count": 32,
   "metadata": {
    "colab": {
     "base_uri": "https://localhost:8080/",
     "height": 34
    },
    "colab_type": "code",
    "id": "Y9hUQ3_gr9qu",
    "outputId": "a3fa11b4-c68b-4a16-8e67-5f976ca6a768"
   },
   "outputs": [
    {
     "name": "stdout",
     "output_type": "stream",
     "text": [
      "The length after merging the training set and labels:  17690\n"
     ]
    }
   ],
   "source": [
    "# Select the training set with last game_session entries\n",
    "train = df_train.drop_duplicates(subset = 'game_session', keep='last')\n",
    "# Merge train and train_label datasets\n",
    "train = pd.merge(train, df_train_label, on=\"game_session\", how=\"inner\")\n",
    "print(\"The length after merging the training set and labels: \", len(train))"
   ]
  },
  {
   "cell_type": "markdown",
   "metadata": {
    "colab_type": "text",
    "id": "Ii-0JR-l-tv8"
   },
   "source": [
    "Sample new train data:"
   ]
  },
  {
   "cell_type": "code",
   "execution_count": 27,
   "metadata": {
    "colab": {
     "base_uri": "https://localhost:8080/",
     "height": 394
    },
    "colab_type": "code",
    "id": "L8dBvB6esBND",
    "outputId": "0167c95f-d05f-4447-b693-507f7cc6889d"
   },
   "outputs": [
    {
     "data": {
      "text/html": [
       "<div>\n",
       "<style scoped>\n",
       "    .dataframe tbody tr th:only-of-type {\n",
       "        vertical-align: middle;\n",
       "    }\n",
       "\n",
       "    .dataframe tbody tr th {\n",
       "        vertical-align: top;\n",
       "    }\n",
       "\n",
       "    .dataframe thead th {\n",
       "        text-align: right;\n",
       "    }\n",
       "</style>\n",
       "<table border=\"1\" class=\"dataframe\">\n",
       "  <thead>\n",
       "    <tr style=\"text-align: right;\">\n",
       "      <th></th>\n",
       "      <th>event_id</th>\n",
       "      <th>game_session</th>\n",
       "      <th>timestamp</th>\n",
       "      <th>event_data</th>\n",
       "      <th>installation_id_x</th>\n",
       "      <th>event_count</th>\n",
       "      <th>event_code</th>\n",
       "      <th>game_time</th>\n",
       "      <th>title_x</th>\n",
       "      <th>type</th>\n",
       "      <th>world</th>\n",
       "      <th>installation_id_y</th>\n",
       "      <th>title_y</th>\n",
       "      <th>num_correct</th>\n",
       "      <th>num_incorrect</th>\n",
       "      <th>accuracy</th>\n",
       "      <th>accuracy_group</th>\n",
       "    </tr>\n",
       "  </thead>\n",
       "  <tbody>\n",
       "    <tr>\n",
       "      <th>0</th>\n",
       "      <td>a5be6304</td>\n",
       "      <td>901acc108f55a5a1</td>\n",
       "      <td>2019-08-06T05:22:41.147Z</td>\n",
       "      <td>{\"session_duration\":39803,\"exit_type\":\"game_co...</td>\n",
       "      <td>0006a69f</td>\n",
       "      <td>48</td>\n",
       "      <td>2010</td>\n",
       "      <td>39803</td>\n",
       "      <td>Mushroom Sorter (Assessment)</td>\n",
       "      <td>Assessment</td>\n",
       "      <td>TREETOPCITY</td>\n",
       "      <td>0006a69f</td>\n",
       "      <td>Mushroom Sorter (Assessment)</td>\n",
       "      <td>1</td>\n",
       "      <td>0</td>\n",
       "      <td>1.0</td>\n",
       "      <td>3</td>\n",
       "    </tr>\n",
       "    <tr>\n",
       "      <th>1</th>\n",
       "      <td>e37a2b78</td>\n",
       "      <td>77b8ee947eb84b4e</td>\n",
       "      <td>2019-08-06T05:36:51.915Z</td>\n",
       "      <td>{\"description\":\"Uh oh. This caterpillar is too...</td>\n",
       "      <td>0006a69f</td>\n",
       "      <td>87</td>\n",
       "      <td>3120</td>\n",
       "      <td>92799</td>\n",
       "      <td>Bird Measurer (Assessment)</td>\n",
       "      <td>Assessment</td>\n",
       "      <td>TREETOPCITY</td>\n",
       "      <td>0006a69f</td>\n",
       "      <td>Bird Measurer (Assessment)</td>\n",
       "      <td>0</td>\n",
       "      <td>11</td>\n",
       "      <td>0.0</td>\n",
       "      <td>0</td>\n",
       "    </tr>\n",
       "    <tr>\n",
       "      <th>2</th>\n",
       "      <td>a5be6304</td>\n",
       "      <td>6bdf9623adc94d89</td>\n",
       "      <td>2019-08-06T05:38:16.835Z</td>\n",
       "      <td>{\"session_duration\":26827,\"exit_type\":\"game_co...</td>\n",
       "      <td>0006a69f</td>\n",
       "      <td>35</td>\n",
       "      <td>2010</td>\n",
       "      <td>26827</td>\n",
       "      <td>Mushroom Sorter (Assessment)</td>\n",
       "      <td>Assessment</td>\n",
       "      <td>TREETOPCITY</td>\n",
       "      <td>0006a69f</td>\n",
       "      <td>Mushroom Sorter (Assessment)</td>\n",
       "      <td>1</td>\n",
       "      <td>0</td>\n",
       "      <td>1.0</td>\n",
       "      <td>3</td>\n",
       "    </tr>\n",
       "    <tr>\n",
       "      <th>3</th>\n",
       "      <td>a5be6304</td>\n",
       "      <td>9501794defd84e4d</td>\n",
       "      <td>2019-08-06T20:35:25.648Z</td>\n",
       "      <td>{\"session_duration\":31843,\"exit_type\":\"game_co...</td>\n",
       "      <td>0006a69f</td>\n",
       "      <td>42</td>\n",
       "      <td>2010</td>\n",
       "      <td>31843</td>\n",
       "      <td>Mushroom Sorter (Assessment)</td>\n",
       "      <td>Assessment</td>\n",
       "      <td>TREETOPCITY</td>\n",
       "      <td>0006a69f</td>\n",
       "      <td>Mushroom Sorter (Assessment)</td>\n",
       "      <td>1</td>\n",
       "      <td>1</td>\n",
       "      <td>0.5</td>\n",
       "      <td>2</td>\n",
       "    </tr>\n",
       "    <tr>\n",
       "      <th>4</th>\n",
       "      <td>3393b68b</td>\n",
       "      <td>a9ef3ecb3d1acc6a</td>\n",
       "      <td>2019-08-06T20:50:35.426Z</td>\n",
       "      <td>{\"session_duration\":36368,\"event_count\":32,\"ga...</td>\n",
       "      <td>0006a69f</td>\n",
       "      <td>32</td>\n",
       "      <td>2010</td>\n",
       "      <td>36368</td>\n",
       "      <td>Bird Measurer (Assessment)</td>\n",
       "      <td>Assessment</td>\n",
       "      <td>TREETOPCITY</td>\n",
       "      <td>0006a69f</td>\n",
       "      <td>Bird Measurer (Assessment)</td>\n",
       "      <td>1</td>\n",
       "      <td>0</td>\n",
       "      <td>1.0</td>\n",
       "      <td>3</td>\n",
       "    </tr>\n",
       "  </tbody>\n",
       "</table>\n",
       "</div>"
      ],
      "text/plain": [
       "   event_id      game_session  ... accuracy accuracy_group\n",
       "0  a5be6304  901acc108f55a5a1  ...      1.0              3\n",
       "1  e37a2b78  77b8ee947eb84b4e  ...      0.0              0\n",
       "2  a5be6304  6bdf9623adc94d89  ...      1.0              3\n",
       "3  a5be6304  9501794defd84e4d  ...      0.5              2\n",
       "4  3393b68b  a9ef3ecb3d1acc6a  ...      1.0              3\n",
       "\n",
       "[5 rows x 17 columns]"
      ]
     },
     "execution_count": 27,
     "metadata": {
      "tags": []
     },
     "output_type": "execute_result"
    }
   ],
   "source": [
    "train.head()"
   ]
  },
  {
   "cell_type": "markdown",
   "metadata": {
    "colab_type": "text",
    "id": "Z3fAQEMm-1Du"
   },
   "source": [
    "Also for our baseline model, we only want to use the numerical/categoric features. So we choose event count,  and game time for our models."
   ]
  },
  {
   "cell_type": "markdown",
   "metadata": {
    "colab_type": "text",
    "id": "yJa7KhKJuvKr"
   },
   "source": [
    "##### b. SVM classifier\n"
   ]
  },
  {
   "cell_type": "markdown",
   "metadata": {
    "colab_type": "text",
    "id": "-qNx3D1ruxQG"
   },
   "source": [
    "###### i. Import libraries"
   ]
  },
  {
   "cell_type": "code",
   "execution_count": 0,
   "metadata": {
    "colab": {},
    "colab_type": "code",
    "id": "p9cV3S2YsRBI"
   },
   "outputs": [],
   "source": [
    "from sklearn.svm import SVC \n",
    "from sklearn.metrics import confusion_matrix \n",
    "from sklearn.model_selection import train_test_split"
   ]
  },
  {
   "cell_type": "markdown",
   "metadata": {
    "colab_type": "text",
    "id": "nXA0y1KLAUXC"
   },
   "source": []
  },
  {
   "cell_type": "markdown",
   "metadata": {
    "colab_type": "text",
    "id": "L__V7XcKsWOe"
   },
   "source": [
    "###### ii. Train model"
   ]
  },
  {
   "cell_type": "code",
   "execution_count": 0,
   "metadata": {
    "colab": {},
    "colab_type": "code",
    "id": "b_mW26FUsYRf"
   },
   "outputs": [],
   "source": [
    "# X -> features, y -> label \n",
    "random_train = train.sample(n = 1000) \n",
    "X = random_train.iloc[:,5:8]\n",
    "y = random_train['accuracy_group']"
   ]
  },
  {
   "cell_type": "code",
   "execution_count": 34,
   "metadata": {
    "colab": {
     "base_uri": "https://localhost:8080/",
     "height": 85
    },
    "colab_type": "code",
    "id": "RYZXlD9lsayB",
    "outputId": "4d5e40be-8bde-491c-9405-a682787bf2d9"
   },
   "outputs": [
    {
     "name": "stdout",
     "output_type": "stream",
     "text": [
      "X_train.shape (750, 3)\n",
      "y_train.shape (750,)\n",
      "X_test.shape: (250, 3)\n",
      "y_test.shape: (250,)\n"
     ]
    }
   ],
   "source": [
    "# dividing X, y into train and test data \n",
    "X_train, X_test, y_train, y_test = train_test_split(X, y, random_state = 0) \n",
    "print(\"X_train.shape\", X_train.shape)\n",
    "print(\"y_train.shape\", y_train.shape)\n",
    "print(\"X_test.shape:\", X_test.shape)\n",
    "print(\"y_test.shape:\", y_test.shape)"
   ]
  },
  {
   "cell_type": "code",
   "execution_count": 0,
   "metadata": {
    "colab": {},
    "colab_type": "code",
    "id": "BevHX8fysc2m"
   },
   "outputs": [],
   "source": [
    "# SVM model\n",
    "clf = SVC()\n",
    "svm_model = clf.fit(X_train, y_train)\n",
    "svm_predictions = svm_model.predict(X_test)"
   ]
  },
  {
   "cell_type": "code",
   "execution_count": 36,
   "metadata": {
    "colab": {
     "base_uri": "https://localhost:8080/",
     "height": 34
    },
    "colab_type": "code",
    "id": "Y8LqaMmjsema",
    "outputId": "5ad34efc-a620-423f-de1e-8bdd447eccee"
   },
   "outputs": [
    {
     "name": "stdout",
     "output_type": "stream",
     "text": [
      "SVM classifier's accuracy:  0.528\n"
     ]
    }
   ],
   "source": [
    "# model accuracy for X_test   \n",
    "accuracy = svm_model.score(X_test, y_test) \n",
    "print(\"SVM classifier's accuracy: \", accuracy)"
   ]
  },
  {
   "cell_type": "code",
   "execution_count": 37,
   "metadata": {
    "colab": {
     "base_uri": "https://localhost:8080/",
     "height": 102
    },
    "colab_type": "code",
    "id": "igGsGMSvsgDp",
    "outputId": "b759805c-1ac5-4c2f-8a55-38382497f81f"
   },
   "outputs": [
    {
     "name": "stdout",
     "output_type": "stream",
     "text": [
      "SVM classifier's confusion_matrix:\n",
      "[[ 18   1   0  44]\n",
      " [ 24   0   0  16]\n",
      " [  6   0   0  21]\n",
      " [  6   0   0 114]]\n"
     ]
    }
   ],
   "source": [
    "# creating a confusion matrix \n",
    "cm = confusion_matrix(y_test, svm_predictions) \n",
    "print(\"SVM classifier's confusion_matrix:\")\n",
    "print(cm)"
   ]
  },
  {
   "cell_type": "markdown",
   "metadata": {
    "colab_type": "text",
    "id": "KUnSoO5ksjA5"
   },
   "source": [
    "##### c. Decision tree classifier\n"
   ]
  },
  {
   "cell_type": "markdown",
   "metadata": {
    "colab_type": "text",
    "id": "z5xXVqJ3ssbr"
   },
   "source": [
    "###### i. Import libraries\n"
   ]
  },
  {
   "cell_type": "code",
   "execution_count": 0,
   "metadata": {
    "colab": {},
    "colab_type": "code",
    "id": "jDT_xjhvsorV"
   },
   "outputs": [],
   "source": [
    "from sklearn.tree import DecisionTreeClassifier \n",
    "from sklearn.metrics import confusion_matrix \n",
    "from sklearn.model_selection import train_test_split"
   ]
  },
  {
   "cell_type": "markdown",
   "metadata": {
    "colab_type": "text",
    "id": "5F6ri5QkvCCq"
   },
   "source": [
    "###### ii. Train model"
   ]
  },
  {
   "cell_type": "code",
   "execution_count": 0,
   "metadata": {
    "colab": {},
    "colab_type": "code",
    "id": "SGyIVlIeszrd"
   },
   "outputs": [],
   "source": [
    "# X -> features, y -> label \n",
    "random_train = train.sample(n = 5000) \n",
    "X = random_train.iloc[:,5:8]\n",
    "y = random_train[\"accuracy_group\"]"
   ]
  },
  {
   "cell_type": "code",
   "execution_count": 40,
   "metadata": {
    "colab": {
     "base_uri": "https://localhost:8080/",
     "height": 85
    },
    "colab_type": "code",
    "id": "l9CP0Wnqs1YO",
    "outputId": "29e53cc9-974c-44c0-d1bb-85d56109bc32"
   },
   "outputs": [
    {
     "name": "stdout",
     "output_type": "stream",
     "text": [
      "X_train.shape (3750, 3)\n",
      "y_train.shape (3750,)\n",
      "X_test.shape: (1250, 3)\n",
      "y_test.shape: (1250,)\n"
     ]
    }
   ],
   "source": [
    "# dividing X, y into train and test data \n",
    "X_train, X_test, y_train, y_test = train_test_split(X, y, random_state = 0) \n",
    "print(\"X_train.shape\", X_train.shape)\n",
    "print(\"y_train.shape\", y_train.shape)\n",
    "print(\"X_test.shape:\", X_test.shape)\n",
    "print(\"y_test.shape:\", y_test.shape)"
   ]
  },
  {
   "cell_type": "code",
   "execution_count": 0,
   "metadata": {
    "colab": {},
    "colab_type": "code",
    "id": "8mMww3P_s3K0"
   },
   "outputs": [],
   "source": [
    "# training a Descision Tree Classifier \n",
    "dtree_model = DecisionTreeClassifier(max_depth = 2).fit(X_train, y_train) \n",
    "dtree_predictions = dtree_model.predict(X_test) "
   ]
  },
  {
   "cell_type": "code",
   "execution_count": 42,
   "metadata": {
    "colab": {
     "base_uri": "https://localhost:8080/",
     "height": 34
    },
    "colab_type": "code",
    "id": "V7AqPwdxs404",
    "outputId": "a345d3ea-a3f1-47c5-b646-53df812ae2de"
   },
   "outputs": [
    {
     "name": "stdout",
     "output_type": "stream",
     "text": [
      "Decision tree classifier's accuracy:  0.7216\n"
     ]
    }
   ],
   "source": [
    "# accuracy on X_test \n",
    "accuracy = dtree_model.score(X_test, y_test) \n",
    "print(\"Decision tree classifier's accuracy: \", accuracy)"
   ]
  },
  {
   "cell_type": "code",
   "execution_count": 43,
   "metadata": {
    "colab": {
     "base_uri": "https://localhost:8080/",
     "height": 102
    },
    "colab_type": "code",
    "id": "z_qL9Bids6p5",
    "outputId": "13d0b412-a8c8-4d2d-865f-d7b2448986da"
   },
   "outputs": [
    {
     "name": "stdout",
     "output_type": "stream",
     "text": [
      "Decision tree classifier's confusion_matrix:\n"
     ]
    },
    {
     "data": {
      "text/plain": [
       "array([[285,   0,   0,   0],\n",
       "       [ 31, 142,   0,   8],\n",
       "       [ 18,  76,   0,  70],\n",
       "       [ 66,  79,   0, 475]])"
      ]
     },
     "execution_count": 43,
     "metadata": {
      "tags": []
     },
     "output_type": "execute_result"
    }
   ],
   "source": [
    "# creating a confusion matrix \n",
    "dtree_predictions = dtree_model.predict(X_test)  \n",
    "cm = confusion_matrix(y_test, dtree_predictions) \n",
    "print(\"Decision tree classifier's confusion_matrix:\")\n",
    "cm"
   ]
  },
  {
   "cell_type": "markdown",
   "metadata": {
    "colab_type": "text",
    "id": "fIzo9nmItAU0"
   },
   "source": [
    "#### d. KNN (k-nearest neighbours) classifier \n"
   ]
  },
  {
   "cell_type": "markdown",
   "metadata": {
    "colab_type": "text",
    "id": "5ltQbHSMtCpe"
   },
   "source": [
    "###### i. Import libraries"
   ]
  },
  {
   "cell_type": "code",
   "execution_count": 0,
   "metadata": {
    "colab": {},
    "colab_type": "code",
    "id": "XEtFVFzntEIH"
   },
   "outputs": [],
   "source": [
    "from sklearn.neighbors import KNeighborsClassifier \n",
    "from sklearn.metrics import confusion_matrix \n",
    "from sklearn.model_selection import train_test_split "
   ]
  },
  {
   "cell_type": "markdown",
   "metadata": {
    "colab_type": "text",
    "id": "jRPvRllptGJE"
   },
   "source": [
    "###### ii. Train model"
   ]
  },
  {
   "cell_type": "code",
   "execution_count": 0,
   "metadata": {
    "colab": {},
    "colab_type": "code",
    "id": "QRPpPzjatH1-"
   },
   "outputs": [],
   "source": [
    "# X -> features, y -> label \n",
    "random_train = train.sample(n = 5000) \n",
    "X = random_train.iloc[:,5:8]\n",
    "y = random_train[\"accuracy_group\"]"
   ]
  },
  {
   "cell_type": "code",
   "execution_count": 46,
   "metadata": {
    "colab": {
     "base_uri": "https://localhost:8080/",
     "height": 85
    },
    "colab_type": "code",
    "id": "4PucIAJwtLnI",
    "outputId": "2e3320e9-85ab-4aed-9466-379eabd9fe4a"
   },
   "outputs": [
    {
     "name": "stdout",
     "output_type": "stream",
     "text": [
      "X_train.shape (3750, 3)\n",
      "y_train.shape (3750,)\n",
      "X_test.shape: (1250, 3)\n",
      "y_test.shape: (1250,)\n"
     ]
    }
   ],
   "source": [
    "# dividing X, y into train and test data \n",
    "X_train, X_test, y_train, y_test = train_test_split(X, y, random_state = 0) \n",
    "print(\"X_train.shape\", X_train.shape)\n",
    "print(\"y_train.shape\", y_train.shape)\n",
    "print(\"X_test.shape:\", X_test.shape)\n",
    "print(\"y_test.shape:\", y_test.shape)"
   ]
  },
  {
   "cell_type": "code",
   "execution_count": 0,
   "metadata": {
    "colab": {},
    "colab_type": "code",
    "id": "pUxW3JlItNE6"
   },
   "outputs": [],
   "source": [
    "# training a KNN classifier \n",
    "knn = KNeighborsClassifier(n_neighbors = 7).fit(X_train, y_train) "
   ]
  },
  {
   "cell_type": "code",
   "execution_count": 48,
   "metadata": {
    "colab": {
     "base_uri": "https://localhost:8080/",
     "height": 34
    },
    "colab_type": "code",
    "id": "Y2hn-hyVtOWA",
    "outputId": "1a52c856-fe68-415a-9502-9b7bd2ac2cec"
   },
   "outputs": [
    {
     "name": "stdout",
     "output_type": "stream",
     "text": [
      "KNN classifier's accuracy:  0.6912\n"
     ]
    }
   ],
   "source": [
    "# accuracy on X_test \n",
    "accuracy = knn.score(X_test, y_test) \n",
    "print(\"KNN classifier's accuracy: \", accuracy)"
   ]
  },
  {
   "cell_type": "code",
   "execution_count": 49,
   "metadata": {
    "colab": {
     "base_uri": "https://localhost:8080/",
     "height": 102
    },
    "colab_type": "code",
    "id": "5T3aQKUktQA6",
    "outputId": "bf7ff7c2-267b-4aac-dfa1-c9081f74fab6"
   },
   "outputs": [
    {
     "name": "stdout",
     "output_type": "stream",
     "text": [
      "KNN classifier's confusion_matrix:\n"
     ]
    },
    {
     "data": {
      "text/plain": [
       "array([[266,  13,   0,  19],\n",
       "       [ 33,  83,  18,  35],\n",
       "       [ 24,  29,  27,  91],\n",
       "       [ 43,  40,  41, 488]])"
      ]
     },
     "execution_count": 49,
     "metadata": {
      "tags": []
     },
     "output_type": "execute_result"
    }
   ],
   "source": [
    "# creating a confusion matrix \n",
    "knn_predictions = knn.predict(X_test)  \n",
    "cm = confusion_matrix(y_test, knn_predictions) \n",
    "print(\"KNN classifier's confusion_matrix:\")\n",
    "cm"
   ]
  },
  {
   "cell_type": "markdown",
   "metadata": {},
   "source": [
    "### Feature Extraction"
   ]
  },
  {
   "cell_type": "code",
   "execution_count": 1,
   "metadata": {
    "ExecuteTime": {
     "end_time": "2020-03-11T21:30:42.571915Z",
     "start_time": "2020-03-11T21:30:34.799416Z"
    }
   },
   "outputs": [],
   "source": [
    "#%load_ext autoreload\n",
    "#%autoreload 2\n",
    "import features\n",
    "import seaborn as sns\n",
    "import numpy as np\n",
    "import pandas as pd\n",
    "from sklearn.pipeline import Pipeline\n"
   ]
  },
  {
   "cell_type": "code",
   "execution_count": 2,
   "metadata": {
    "ExecuteTime": {
     "end_time": "2020-03-11T21:31:38.544976Z",
     "start_time": "2020-03-11T21:30:44.515405Z"
    }
   },
   "outputs": [
    {
     "name": "stdout",
     "output_type": "stream",
     "text": [
      "Reading train.csv file....\n",
      "Training.csv file have 11341042 rows and 11 columns\n",
      "Reading test.csv file....\n",
      "Test.csv file have 1156414 rows and 11 columns\n",
      "Reading train_labels.csv file....\n",
      "Train_labels.csv file have 17690 rows and 7 columns\n",
      "Reading specs.csv file....\n",
      "Specs.csv file have 386 rows and 3 columns\n"
     ]
    }
   ],
   "source": [
    "train, test, train_labels, specs = features.read_data()"
   ]
  },
  {
   "cell_type": "code",
   "execution_count": 157,
   "metadata": {
    "ExecuteTime": {
     "end_time": "2020-03-11T20:49:29.862937Z",
     "start_time": "2020-03-11T20:49:29.407432Z"
    }
   },
   "outputs": [
    {
     "data": {
      "text/plain": [
       "17000"
      ]
     },
     "execution_count": 157,
     "metadata": {},
     "output_type": "execute_result"
    }
   ],
   "source": [
    "train.installation_id.unique().size"
   ]
  },
  {
   "cell_type": "code",
   "execution_count": 158,
   "metadata": {
    "ExecuteTime": {
     "end_time": "2020-03-11T20:50:26.294222Z",
     "start_time": "2020-03-11T20:50:26.258284Z"
    }
   },
   "outputs": [
    {
     "data": {
      "text/plain": [
       "Index(['event_id', 'game_session', 'timestamp', 'event_data',\n",
       "       'installation_id', 'event_count', 'event_code', 'game_time', 'title',\n",
       "       'type', 'world'],\n",
       "      dtype='object')"
      ]
     },
     "execution_count": 158,
     "metadata": {},
     "output_type": "execute_result"
    }
   ],
   "source": [
    "train.columns"
   ]
  },
  {
   "cell_type": "code",
   "execution_count": 159,
   "metadata": {
    "ExecuteTime": {
     "end_time": "2020-03-11T20:51:22.231391Z",
     "start_time": "2020-03-11T20:51:22.201791Z"
    }
   },
   "outputs": [
    {
     "data": {
      "text/plain": [
       "Index(['game_session', 'installation_id', 'title', 'num_correct',\n",
       "       'num_incorrect', 'accuracy', 'accuracy_group'],\n",
       "      dtype='object')"
      ]
     },
     "execution_count": 159,
     "metadata": {},
     "output_type": "execute_result"
    }
   ],
   "source": [
    "train_labels.columns"
   ]
  },
  {
   "cell_type": "code",
   "execution_count": 70,
   "metadata": {
    "ExecuteTime": {
     "end_time": "2020-03-11T22:17:20.403906Z",
     "start_time": "2020-03-11T22:17:19.393194Z"
    }
   },
   "outputs": [
    {
     "data": {
      "text/plain": [
       "<matplotlib.axes._subplots.AxesSubplot at 0x12a2566a0>"
      ]
     },
     "execution_count": 70,
     "metadata": {},
     "output_type": "execute_result"
    },
    {
     "data": {
      "image/png": "[encoded data removed]",
      "text/plain": [
       "<Figure size 432x288 with 1 Axes>"
      ]
     },
     "metadata": {
      "needs_background": "light"
     },
     "output_type": "display_data"
    }
   ],
   "source": [
    "sns.kdeplot(np.log(train.installation_id.value_counts()))"
   ]
  },
  {
   "cell_type": "code",
   "execution_count": 71,
   "metadata": {
    "ExecuteTime": {
     "end_time": "2020-03-11T22:17:57.556548Z",
     "start_time": "2020-03-11T22:17:56.107276Z"
    }
   },
   "outputs": [
    {
     "data": {
      "text/plain": [
       "<matplotlib.axes._subplots.AxesSubplot at 0x12a332d30>"
      ]
     },
     "execution_count": 71,
     "metadata": {},
     "output_type": "execute_result"
    },
    {
     "data": {
      "image/png": "[encoded data removed]",
      "text/plain": [
       "<Figure size 432x288 with 1 Axes>"
      ]
     },
     "metadata": {
      "needs_background": "light"
     },
     "output_type": "display_data"
    }
   ],
   "source": [
    "sns.kdeplot(np.log(train.event_id.value_counts()))"
   ]
  },
  {
   "cell_type": "code",
   "execution_count": 3,
   "metadata": {
    "ExecuteTime": {
     "end_time": "2020-03-11T21:31:58.242223Z",
     "start_time": "2020-03-11T21:31:51.871832Z"
    }
   },
   "outputs": [],
   "source": [
    "def get_worst_score(group):\n",
    "    return group.sort_values('accuracy_group').iloc[0]\n",
    "\n",
    "labels = train_labels.groupby(['installation_id', 'title']).apply(get_worst_score).reset_index(drop=True)"
   ]
  },
  {
   "cell_type": "markdown",
   "metadata": {},
   "source": [
    "#### One installation example"
   ]
  },
  {
   "cell_type": "code",
   "execution_count": 64,
   "metadata": {
    "ExecuteTime": {
     "end_time": "2020-03-11T22:07:07.343338Z",
     "start_time": "2020-03-11T22:07:06.521025Z"
    }
   },
   "outputs": [
    {
     "data": {
      "text/html": [
       "<div>\n",
       "<style scoped>\n",
       "    .dataframe tbody tr th:only-of-type {\n",
       "        vertical-align: middle;\n",
       "    }\n",
       "\n",
       "    .dataframe tbody tr th {\n",
       "        vertical-align: top;\n",
       "    }\n",
       "\n",
       "    .dataframe thead th {\n",
       "        text-align: right;\n",
       "    }\n",
       "</style>\n",
       "<table border=\"1\" class=\"dataframe\">\n",
       "  <thead>\n",
       "    <tr style=\"text-align: right;\">\n",
       "      <th></th>\n",
       "      <th>event_id</th>\n",
       "      <th>game_session</th>\n",
       "      <th>timestamp</th>\n",
       "      <th>event_data</th>\n",
       "      <th>installation_id</th>\n",
       "      <th>event_count</th>\n",
       "      <th>event_code</th>\n",
       "      <th>game_time</th>\n",
       "      <th>title</th>\n",
       "      <th>type</th>\n",
       "      <th>world</th>\n",
       "    </tr>\n",
       "  </thead>\n",
       "  <tbody>\n",
       "    <tr>\n",
       "      <th>1538</th>\n",
       "      <td>27253bdc</td>\n",
       "      <td>34ba1a28d02ba8ba</td>\n",
       "      <td>2019-08-06T04:57:18.904Z</td>\n",
       "      <td>{\"event_code\": 2000, \"event_count\": 1}</td>\n",
       "      <td>0006a69f</td>\n",
       "      <td>1</td>\n",
       "      <td>2000</td>\n",
       "      <td>0</td>\n",
       "      <td>Welcome to Lost Lagoon!</td>\n",
       "      <td>Clip</td>\n",
       "      <td>NONE</td>\n",
       "    </tr>\n",
       "    <tr>\n",
       "      <th>1539</th>\n",
       "      <td>27253bdc</td>\n",
       "      <td>4b57c9a59474a1b9</td>\n",
       "      <td>2019-08-06T04:57:45.301Z</td>\n",
       "      <td>{\"event_code\": 2000, \"event_count\": 1}</td>\n",
       "      <td>0006a69f</td>\n",
       "      <td>1</td>\n",
       "      <td>2000</td>\n",
       "      <td>0</td>\n",
       "      <td>Magma Peak - Level 1</td>\n",
       "      <td>Clip</td>\n",
       "      <td>MAGMAPEAK</td>\n",
       "    </tr>\n",
       "    <tr>\n",
       "      <th>1540</th>\n",
       "      <td>77261ab5</td>\n",
       "      <td>2b9d5af79bcdb79f</td>\n",
       "      <td>2019-08-06T04:58:14.538Z</td>\n",
       "      <td>{\"version\":\"1.0\",\"event_count\":1,\"game_time\":0...</td>\n",
       "      <td>0006a69f</td>\n",
       "      <td>1</td>\n",
       "      <td>2000</td>\n",
       "      <td>0</td>\n",
       "      <td>Sandcastle Builder (Activity)</td>\n",
       "      <td>Activity</td>\n",
       "      <td>MAGMAPEAK</td>\n",
       "    </tr>\n",
       "    <tr>\n",
       "      <th>1541</th>\n",
       "      <td>b2dba42b</td>\n",
       "      <td>2b9d5af79bcdb79f</td>\n",
       "      <td>2019-08-06T04:58:14.615Z</td>\n",
       "      <td>{\"description\":\"Let's build a sandcastle! Firs...</td>\n",
       "      <td>0006a69f</td>\n",
       "      <td>2</td>\n",
       "      <td>3010</td>\n",
       "      <td>29</td>\n",
       "      <td>Sandcastle Builder (Activity)</td>\n",
       "      <td>Activity</td>\n",
       "      <td>MAGMAPEAK</td>\n",
       "    </tr>\n",
       "    <tr>\n",
       "      <th>1542</th>\n",
       "      <td>1325467d</td>\n",
       "      <td>2b9d5af79bcdb79f</td>\n",
       "      <td>2019-08-06T04:58:16.680Z</td>\n",
       "      <td>{\"coordinates\":{\"x\":273,\"y\":650,\"stage_width\":...</td>\n",
       "      <td>0006a69f</td>\n",
       "      <td>3</td>\n",
       "      <td>4070</td>\n",
       "      <td>2137</td>\n",
       "      <td>Sandcastle Builder (Activity)</td>\n",
       "      <td>Activity</td>\n",
       "      <td>MAGMAPEAK</td>\n",
       "    </tr>\n",
       "    <tr>\n",
       "      <th>...</th>\n",
       "      <td>...</td>\n",
       "      <td>...</td>\n",
       "      <td>...</td>\n",
       "      <td>...</td>\n",
       "      <td>...</td>\n",
       "      <td>...</td>\n",
       "      <td>...</td>\n",
       "      <td>...</td>\n",
       "      <td>...</td>\n",
       "      <td>...</td>\n",
       "      <td>...</td>\n",
       "    </tr>\n",
       "    <tr>\n",
       "      <th>5334</th>\n",
       "      <td>832735e1</td>\n",
       "      <td>0721802df0531701</td>\n",
       "      <td>2019-08-29T16:33:53.227Z</td>\n",
       "      <td>{\"description\":\"Let's warm up. Tap a dinosaur ...</td>\n",
       "      <td>0006a69f</td>\n",
       "      <td>11</td>\n",
       "      <td>3010</td>\n",
       "      <td>23145</td>\n",
       "      <td>Dino Dive</td>\n",
       "      <td>Game</td>\n",
       "      <td>MAGMAPEAK</td>\n",
       "    </tr>\n",
       "    <tr>\n",
       "      <th>5335</th>\n",
       "      <td>ab3136ba</td>\n",
       "      <td>0721802df0531701</td>\n",
       "      <td>2019-08-29T16:33:56.880Z</td>\n",
       "      <td>{\"description\":\"Let's warm up. Tap a dinosaur ...</td>\n",
       "      <td>0006a69f</td>\n",
       "      <td>12</td>\n",
       "      <td>3110</td>\n",
       "      <td>26804</td>\n",
       "      <td>Dino Dive</td>\n",
       "      <td>Game</td>\n",
       "      <td>MAGMAPEAK</td>\n",
       "    </tr>\n",
       "    <tr>\n",
       "      <th>5336</th>\n",
       "      <td>832735e1</td>\n",
       "      <td>0721802df0531701</td>\n",
       "      <td>2019-08-29T16:34:11.881Z</td>\n",
       "      <td>{\"description\":\"Let's warm up. Tap a dinosaur ...</td>\n",
       "      <td>0006a69f</td>\n",
       "      <td>13</td>\n",
       "      <td>3010</td>\n",
       "      <td>41805</td>\n",
       "      <td>Dino Dive</td>\n",
       "      <td>Game</td>\n",
       "      <td>MAGMAPEAK</td>\n",
       "    </tr>\n",
       "    <tr>\n",
       "      <th>5337</th>\n",
       "      <td>ab3136ba</td>\n",
       "      <td>0721802df0531701</td>\n",
       "      <td>2019-08-29T16:34:15.480Z</td>\n",
       "      <td>{\"description\":\"Let's warm up. Tap a dinosaur ...</td>\n",
       "      <td>0006a69f</td>\n",
       "      <td>14</td>\n",
       "      <td>3110</td>\n",
       "      <td>45405</td>\n",
       "      <td>Dino Dive</td>\n",
       "      <td>Game</td>\n",
       "      <td>MAGMAPEAK</td>\n",
       "    </tr>\n",
       "    <tr>\n",
       "      <th>5338</th>\n",
       "      <td>76babcde</td>\n",
       "      <td>0721802df0531701</td>\n",
       "      <td>2019-08-29T16:39:12.615Z</td>\n",
       "      <td>{\"coordinates\":{\"x\":1013,\"y\":195,\"stage_width\"...</td>\n",
       "      <td>0006a69f</td>\n",
       "      <td>15</td>\n",
       "      <td>4070</td>\n",
       "      <td>167337</td>\n",
       "      <td>Dino Dive</td>\n",
       "      <td>Game</td>\n",
       "      <td>MAGMAPEAK</td>\n",
       "    </tr>\n",
       "  </tbody>\n",
       "</table>\n",
       "<p>3801 rows × 11 columns</p>\n",
       "</div>"
      ],
      "text/plain": [
       "      event_id      game_session                 timestamp  \\\n",
       "1538  27253bdc  34ba1a28d02ba8ba  2019-08-06T04:57:18.904Z   \n",
       "1539  27253bdc  4b57c9a59474a1b9  2019-08-06T04:57:45.301Z   \n",
       "1540  77261ab5  2b9d5af79bcdb79f  2019-08-06T04:58:14.538Z   \n",
       "1541  b2dba42b  2b9d5af79bcdb79f  2019-08-06T04:58:14.615Z   \n",
       "1542  1325467d  2b9d5af79bcdb79f  2019-08-06T04:58:16.680Z   \n",
       "...        ...               ...                       ...   \n",
       "5334  832735e1  0721802df0531701  2019-08-29T16:33:53.227Z   \n",
       "5335  ab3136ba  0721802df0531701  2019-08-29T16:33:56.880Z   \n",
       "5336  832735e1  0721802df0531701  2019-08-29T16:34:11.881Z   \n",
       "5337  ab3136ba  0721802df0531701  2019-08-29T16:34:15.480Z   \n",
       "5338  76babcde  0721802df0531701  2019-08-29T16:39:12.615Z   \n",
       "\n",
       "                                             event_data installation_id  \\\n",
       "1538             {\"event_code\": 2000, \"event_count\": 1}        0006a69f   \n",
       "1539             {\"event_code\": 2000, \"event_count\": 1}        0006a69f   \n",
       "1540  {\"version\":\"1.0\",\"event_count\":1,\"game_time\":0...        0006a69f   \n",
       "1541  {\"description\":\"Let's build a sandcastle! Firs...        0006a69f   \n",
       "1542  {\"coordinates\":{\"x\":273,\"y\":650,\"stage_width\":...        0006a69f   \n",
       "...                                                 ...             ...   \n",
       "5334  {\"description\":\"Let's warm up. Tap a dinosaur ...        0006a69f   \n",
       "5335  {\"description\":\"Let's warm up. Tap a dinosaur ...        0006a69f   \n",
       "5336  {\"description\":\"Let's warm up. Tap a dinosaur ...        0006a69f   \n",
       "5337  {\"description\":\"Let's warm up. Tap a dinosaur ...        0006a69f   \n",
       "5338  {\"coordinates\":{\"x\":1013,\"y\":195,\"stage_width\"...        0006a69f   \n",
       "\n",
       "      event_count  event_code  game_time                          title  \\\n",
       "1538            1        2000          0        Welcome to Lost Lagoon!   \n",
       "1539            1        2000          0           Magma Peak - Level 1   \n",
       "1540            1        2000          0  Sandcastle Builder (Activity)   \n",
       "1541            2        3010         29  Sandcastle Builder (Activity)   \n",
       "1542            3        4070       2137  Sandcastle Builder (Activity)   \n",
       "...           ...         ...        ...                            ...   \n",
       "5334           11        3010      23145                      Dino Dive   \n",
       "5335           12        3110      26804                      Dino Dive   \n",
       "5336           13        3010      41805                      Dino Dive   \n",
       "5337           14        3110      45405                      Dino Dive   \n",
       "5338           15        4070     167337                      Dino Dive   \n",
       "\n",
       "          type      world  \n",
       "1538      Clip       NONE  \n",
       "1539      Clip  MAGMAPEAK  \n",
       "1540  Activity  MAGMAPEAK  \n",
       "1541  Activity  MAGMAPEAK  \n",
       "1542  Activity  MAGMAPEAK  \n",
       "...        ...        ...  \n",
       "5334      Game  MAGMAPEAK  \n",
       "5335      Game  MAGMAPEAK  \n",
       "5336      Game  MAGMAPEAK  \n",
       "5337      Game  MAGMAPEAK  \n",
       "5338      Game  MAGMAPEAK  \n",
       "\n",
       "[3801 rows x 11 columns]"
      ]
     },
     "execution_count": 64,
     "metadata": {},
     "output_type": "execute_result"
    }
   ],
   "source": [
    "train[(train.installation_id == '0006a69f')]"
   ]
  },
  {
   "cell_type": "code",
   "execution_count": 7,
   "metadata": {
    "ExecuteTime": {
     "end_time": "2020-03-11T21:33:01.286278Z",
     "start_time": "2020-03-11T21:33:00.595463Z"
    }
   },
   "outputs": [],
   "source": [
    "testing = train[(train.installation_id == '0006a69f')].merge(labels[labels.installation_id == '0006a69f'], on='installation_id')\n",
    "groups = testing.groupby(['installation_id', 'game_session_y'])                                           \n",
    "                                                             "
   ]
  },
  {
   "cell_type": "code",
   "execution_count": 8,
   "metadata": {
    "ExecuteTime": {
     "end_time": "2020-03-11T21:33:04.526714Z",
     "start_time": "2020-03-11T21:33:04.493996Z"
    }
   },
   "outputs": [
    {
     "data": {
      "text/plain": [
       "<pandas.core.groupby.generic.DataFrameGroupBy object at 0x125b9edd8>"
      ]
     },
     "execution_count": 8,
     "metadata": {},
     "output_type": "execute_result"
    }
   ],
   "source": [
    "groups"
   ]
  },
  {
   "cell_type": "code",
   "execution_count": 20,
   "metadata": {
    "ExecuteTime": {
     "end_time": "2020-03-11T21:35:07.969741Z",
     "start_time": "2020-03-11T21:35:07.828900Z"
    }
   },
   "outputs": [],
   "source": [
    "feats = groups \\\n",
    "        .apply(lambda x: features.summarize_events_before_game_session(x, game_session=x.name[1] if len(x.name) == 2 else '')) \\\n",
    "        .reset_index()"
   ]
  },
  {
   "cell_type": "code",
   "execution_count": 21,
   "metadata": {
    "ExecuteTime": {
     "end_time": "2020-03-11T21:35:09.378297Z",
     "start_time": "2020-03-11T21:35:09.346135Z"
    }
   },
   "outputs": [
    {
     "data": {
      "text/html": [
       "<div>\n",
       "<style scoped>\n",
       "    .dataframe tbody tr th:only-of-type {\n",
       "        vertical-align: middle;\n",
       "    }\n",
       "\n",
       "    .dataframe tbody tr th {\n",
       "        vertical-align: top;\n",
       "    }\n",
       "\n",
       "    .dataframe thead th {\n",
       "        text-align: right;\n",
       "    }\n",
       "</style>\n",
       "<table border=\"1\" class=\"dataframe\">\n",
       "  <thead>\n",
       "    <tr style=\"text-align: right;\">\n",
       "      <th></th>\n",
       "      <th>installation_id</th>\n",
       "      <th>game_session_y</th>\n",
       "      <th>event_count</th>\n",
       "      <th>game_time</th>\n",
       "      <th>num_unique_days</th>\n",
       "      <th>elapsed_days</th>\n",
       "      <th>last_world</th>\n",
       "      <th>last_game_session</th>\n",
       "      <th>type_counts</th>\n",
       "      <th>unique_game_sessions</th>\n",
       "      <th>title_y</th>\n",
       "      <th>num_correct</th>\n",
       "      <th>num_incorrect</th>\n",
       "      <th>accuracy</th>\n",
       "      <th>accuracy_group</th>\n",
       "    </tr>\n",
       "  </thead>\n",
       "  <tbody>\n",
       "    <tr>\n",
       "      <th>0</th>\n",
       "      <td>0006a69f</td>\n",
       "      <td>77b8ee947eb84b4e</td>\n",
       "      <td>1230</td>\n",
       "      <td>1135</td>\n",
       "      <td>1</td>\n",
       "      <td>0</td>\n",
       "      <td>TREETOPCITY</td>\n",
       "      <td>77b8ee947eb84b4e</td>\n",
       "      <td>Activity      556\n",
       "Game          525\n",
       "Assessment...</td>\n",
       "      <td>26</td>\n",
       "      <td>Bird Measurer (Assessment)</td>\n",
       "      <td>0</td>\n",
       "      <td>11</td>\n",
       "      <td>0.0</td>\n",
       "      <td>0</td>\n",
       "    </tr>\n",
       "    <tr>\n",
       "      <th>1</th>\n",
       "      <td>0006a69f</td>\n",
       "      <td>9501794defd84e4d</td>\n",
       "      <td>2201</td>\n",
       "      <td>3488</td>\n",
       "      <td>1</td>\n",
       "      <td>0</td>\n",
       "      <td>TREETOPCITY</td>\n",
       "      <td>9501794defd84e4d</td>\n",
       "      <td>Activity      1103\n",
       "Game           845\n",
       "Assessme...</td>\n",
       "      <td>48</td>\n",
       "      <td>Mushroom Sorter (Assessment)</td>\n",
       "      <td>1</td>\n",
       "      <td>1</td>\n",
       "      <td>0.5</td>\n",
       "      <td>2</td>\n",
       "    </tr>\n",
       "  </tbody>\n",
       "</table>\n",
       "</div>"
      ],
      "text/plain": [
       "  installation_id    game_session_y  event_count  game_time  num_unique_days  \\\n",
       "0        0006a69f  77b8ee947eb84b4e         1230       1135                1   \n",
       "1        0006a69f  9501794defd84e4d         2201       3488                1   \n",
       "\n",
       "   elapsed_days   last_world last_game_session  \\\n",
       "0             0  TREETOPCITY  77b8ee947eb84b4e   \n",
       "1             0  TREETOPCITY  9501794defd84e4d   \n",
       "\n",
       "                                         type_counts  unique_game_sessions  \\\n",
       "0  Activity      556\n",
       "Game          525\n",
       "Assessment...                    26   \n",
       "1  Activity      1103\n",
       "Game           845\n",
       "Assessme...                    48   \n",
       "\n",
       "                        title_y  num_correct  num_incorrect  accuracy  \\\n",
       "0    Bird Measurer (Assessment)            0             11       0.0   \n",
       "1  Mushroom Sorter (Assessment)            1              1       0.5   \n",
       "\n",
       "   accuracy_group  \n",
       "0               0  \n",
       "1               2  "
      ]
     },
     "execution_count": 21,
     "metadata": {},
     "output_type": "execute_result"
    }
   ],
   "source": [
    "feats"
   ]
  },
  {
   "cell_type": "markdown",
   "metadata": {},
   "source": [
    "#### Run on all data"
   ]
  },
  {
   "cell_type": "code",
   "execution_count": 23,
   "metadata": {
    "ExecuteTime": {
     "end_time": "2020-03-11T21:42:44.318708Z",
     "start_time": "2020-03-11T21:35:25.182561Z"
    }
   },
   "outputs": [],
   "source": [
    "feats, labels = features.basic_user_features_transform(train, labels)"
   ]
  },
  {
   "cell_type": "code",
   "execution_count": 67,
   "metadata": {
    "ExecuteTime": {
     "end_time": "2020-03-11T22:08:57.121449Z",
     "start_time": "2020-03-11T22:08:56.923406Z"
    }
   },
   "outputs": [],
   "source": [
    "# Save checkpoint\n",
    "feats.to_csv('installation_features.csv', index=False)\n",
    "labels.to_csv('installation_labels.csv', index=False)"
   ]
  },
  {
   "cell_type": "code",
   "execution_count": 24,
   "metadata": {
    "ExecuteTime": {
     "end_time": "2020-03-11T21:42:47.889881Z",
     "start_time": "2020-03-11T21:42:47.851543Z"
    }
   },
   "outputs": [
    {
     "data": {
      "text/plain": [
       "(9386, 10)"
      ]
     },
     "execution_count": 24,
     "metadata": {},
     "output_type": "execute_result"
    }
   ],
   "source": [
    "feats.shape"
   ]
  },
  {
   "cell_type": "code",
   "execution_count": 66,
   "metadata": {
    "ExecuteTime": {
     "end_time": "2020-03-11T22:08:17.189330Z",
     "start_time": "2020-03-11T22:08:16.951776Z"
    }
   },
   "outputs": [
    {
     "data": {
      "text/plain": [
       "<matplotlib.axes._subplots.AxesSubplot at 0x126d78a58>"
      ]
     },
     "execution_count": 66,
     "metadata": {},
     "output_type": "execute_result"
    },
    {
     "data": {
      "image/png": "[encoded data removed]",
      "text/plain": [
       "<Figure size 432x288 with 1 Axes>"
      ]
     },
     "metadata": {
      "needs_background": "light"
     },
     "output_type": "display_data"
    }
   ],
   "source": [
    "# installation ids have between 1 - 5 assessments in the training data\n",
    "sns.kdeplot(labels.installation_id.value_counts())"
   ]
  },
  {
   "cell_type": "code",
   "execution_count": 33,
   "metadata": {
    "ExecuteTime": {
     "end_time": "2020-03-11T21:43:39.202288Z",
     "start_time": "2020-03-11T21:43:39.161953Z"
    }
   },
   "outputs": [
    {
     "data": {
      "text/html": [
       "<div>\n",
       "<style scoped>\n",
       "    .dataframe tbody tr th:only-of-type {\n",
       "        vertical-align: middle;\n",
       "    }\n",
       "\n",
       "    .dataframe tbody tr th {\n",
       "        vertical-align: top;\n",
       "    }\n",
       "\n",
       "    .dataframe thead th {\n",
       "        text-align: right;\n",
       "    }\n",
       "</style>\n",
       "<table border=\"1\" class=\"dataframe\">\n",
       "  <thead>\n",
       "    <tr style=\"text-align: right;\">\n",
       "      <th></th>\n",
       "      <th>event_count</th>\n",
       "      <th>game_time</th>\n",
       "      <th>num_unique_days</th>\n",
       "      <th>elapsed_days</th>\n",
       "      <th>last_world</th>\n",
       "      <th>unique_game_sessions</th>\n",
       "      <th>activity_ct</th>\n",
       "      <th>game_ct</th>\n",
       "      <th>assessment_ct</th>\n",
       "      <th>clip_ct</th>\n",
       "    </tr>\n",
       "  </thead>\n",
       "  <tbody>\n",
       "    <tr>\n",
       "      <th>0</th>\n",
       "      <td>1230</td>\n",
       "      <td>1135</td>\n",
       "      <td>1</td>\n",
       "      <td>0</td>\n",
       "      <td>TREETOPCITY</td>\n",
       "      <td>26</td>\n",
       "      <td>556.0</td>\n",
       "      <td>525.0</td>\n",
       "      <td>135.0</td>\n",
       "      <td>14.0</td>\n",
       "    </tr>\n",
       "    <tr>\n",
       "      <th>1</th>\n",
       "      <td>2201</td>\n",
       "      <td>3488</td>\n",
       "      <td>1</td>\n",
       "      <td>0</td>\n",
       "      <td>TREETOPCITY</td>\n",
       "      <td>48</td>\n",
       "      <td>1103.0</td>\n",
       "      <td>845.0</td>\n",
       "      <td>229.0</td>\n",
       "      <td>24.0</td>\n",
       "    </tr>\n",
       "    <tr>\n",
       "      <th>2</th>\n",
       "      <td>1566</td>\n",
       "      <td>1342</td>\n",
       "      <td>2</td>\n",
       "      <td>1</td>\n",
       "      <td>MAGMAPEAK</td>\n",
       "      <td>26</td>\n",
       "      <td>894.0</td>\n",
       "      <td>633.0</td>\n",
       "      <td>24.0</td>\n",
       "      <td>15.0</td>\n",
       "    </tr>\n",
       "    <tr>\n",
       "      <th>3</th>\n",
       "      <td>2222</td>\n",
       "      <td>2063</td>\n",
       "      <td>4</td>\n",
       "      <td>18</td>\n",
       "      <td>TREETOPCITY</td>\n",
       "      <td>48</td>\n",
       "      <td>1206.0</td>\n",
       "      <td>643.0</td>\n",
       "      <td>343.0</td>\n",
       "      <td>30.0</td>\n",
       "    </tr>\n",
       "    <tr>\n",
       "      <th>4</th>\n",
       "      <td>2014</td>\n",
       "      <td>1835</td>\n",
       "      <td>4</td>\n",
       "      <td>18</td>\n",
       "      <td>TREETOPCITY</td>\n",
       "      <td>44</td>\n",
       "      <td>1206.0</td>\n",
       "      <td>637.0</td>\n",
       "      <td>143.0</td>\n",
       "      <td>28.0</td>\n",
       "    </tr>\n",
       "  </tbody>\n",
       "</table>\n",
       "</div>"
      ],
      "text/plain": [
       "   event_count  game_time  num_unique_days  elapsed_days   last_world  \\\n",
       "0         1230       1135                1             0  TREETOPCITY   \n",
       "1         2201       3488                1             0  TREETOPCITY   \n",
       "2         1566       1342                2             1    MAGMAPEAK   \n",
       "3         2222       2063                4            18  TREETOPCITY   \n",
       "4         2014       1835                4            18  TREETOPCITY   \n",
       "\n",
       "   unique_game_sessions  activity_ct  game_ct  assessment_ct  clip_ct  \n",
       "0                    26        556.0    525.0          135.0     14.0  \n",
       "1                    48       1103.0    845.0          229.0     24.0  \n",
       "2                    26        894.0    633.0           24.0     15.0  \n",
       "3                    48       1206.0    643.0          343.0     30.0  \n",
       "4                    44       1206.0    637.0          143.0     28.0  "
      ]
     },
     "execution_count": 33,
     "metadata": {},
     "output_type": "execute_result"
    }
   ],
   "source": [
    "feats.head()"
   ]
  },
  {
   "cell_type": "code",
   "execution_count": 27,
   "metadata": {
    "ExecuteTime": {
     "end_time": "2020-03-11T21:42:56.830197Z",
     "start_time": "2020-03-11T21:42:56.777248Z"
    }
   },
   "outputs": [
    {
     "data": {
      "text/html": [
       "<div>\n",
       "<style scoped>\n",
       "    .dataframe tbody tr th:only-of-type {\n",
       "        vertical-align: middle;\n",
       "    }\n",
       "\n",
       "    .dataframe tbody tr th {\n",
       "        vertical-align: top;\n",
       "    }\n",
       "\n",
       "    .dataframe thead th {\n",
       "        text-align: right;\n",
       "    }\n",
       "</style>\n",
       "<table border=\"1\" class=\"dataframe\">\n",
       "  <thead>\n",
       "    <tr style=\"text-align: right;\">\n",
       "      <th></th>\n",
       "      <th>title_y</th>\n",
       "      <th>num_correct</th>\n",
       "      <th>num_incorrect</th>\n",
       "      <th>accuracy</th>\n",
       "      <th>accuracy_group</th>\n",
       "      <th>installation_id</th>\n",
       "      <th>game_session_y</th>\n",
       "    </tr>\n",
       "  </thead>\n",
       "  <tbody>\n",
       "    <tr>\n",
       "      <th>0</th>\n",
       "      <td>Bird Measurer (Assessment)</td>\n",
       "      <td>0</td>\n",
       "      <td>11</td>\n",
       "      <td>0.0</td>\n",
       "      <td>0</td>\n",
       "      <td>0006a69f</td>\n",
       "      <td>77b8ee947eb84b4e</td>\n",
       "    </tr>\n",
       "    <tr>\n",
       "      <th>1</th>\n",
       "      <td>Mushroom Sorter (Assessment)</td>\n",
       "      <td>1</td>\n",
       "      <td>1</td>\n",
       "      <td>0.5</td>\n",
       "      <td>2</td>\n",
       "      <td>0006a69f</td>\n",
       "      <td>9501794defd84e4d</td>\n",
       "    </tr>\n",
       "    <tr>\n",
       "      <th>2</th>\n",
       "      <td>Cauldron Filler (Assessment)</td>\n",
       "      <td>1</td>\n",
       "      <td>0</td>\n",
       "      <td>1.0</td>\n",
       "      <td>3</td>\n",
       "      <td>0006c192</td>\n",
       "      <td>197a373a77101924</td>\n",
       "    </tr>\n",
       "    <tr>\n",
       "      <th>3</th>\n",
       "      <td>Bird Measurer (Assessment)</td>\n",
       "      <td>1</td>\n",
       "      <td>1</td>\n",
       "      <td>0.5</td>\n",
       "      <td>2</td>\n",
       "      <td>0006c192</td>\n",
       "      <td>957406a905d59afd</td>\n",
       "    </tr>\n",
       "    <tr>\n",
       "      <th>4</th>\n",
       "      <td>Mushroom Sorter (Assessment)</td>\n",
       "      <td>0</td>\n",
       "      <td>4</td>\n",
       "      <td>0.0</td>\n",
       "      <td>0</td>\n",
       "      <td>0006c192</td>\n",
       "      <td>b2297d292892745a</td>\n",
       "    </tr>\n",
       "  </tbody>\n",
       "</table>\n",
       "</div>"
      ],
      "text/plain": [
       "                        title_y  num_correct  num_incorrect  accuracy  \\\n",
       "0    Bird Measurer (Assessment)            0             11       0.0   \n",
       "1  Mushroom Sorter (Assessment)            1              1       0.5   \n",
       "2  Cauldron Filler (Assessment)            1              0       1.0   \n",
       "3    Bird Measurer (Assessment)            1              1       0.5   \n",
       "4  Mushroom Sorter (Assessment)            0              4       0.0   \n",
       "\n",
       "   accuracy_group installation_id    game_session_y  \n",
       "0               0        0006a69f  77b8ee947eb84b4e  \n",
       "1               2        0006a69f  9501794defd84e4d  \n",
       "2               3        0006c192  197a373a77101924  \n",
       "3               2        0006c192  957406a905d59afd  \n",
       "4               0        0006c192  b2297d292892745a  "
      ]
     },
     "execution_count": 27,
     "metadata": {},
     "output_type": "execute_result"
    }
   ],
   "source": [
    "labels.head()"
   ]
  },
  {
   "cell_type": "code",
   "execution_count": 48,
   "metadata": {
    "ExecuteTime": {
     "end_time": "2020-03-11T21:51:27.992828Z",
     "start_time": "2020-03-11T21:51:26.603443Z"
    }
   },
   "outputs": [],
   "source": [
    "from sklearn.preprocessing import OneHotEncoder\n",
    "from sklearn.linear_model import LogisticRegression\n",
    "from sklearn.model_selection import GridSearchCV\n",
    "from sklearn.svm import SVC \n",
    "from sklearn.ensemble import RandomForestClassifier\n",
    "import inspect"
   ]
  },
  {
   "cell_type": "code",
   "execution_count": 30,
   "metadata": {
    "ExecuteTime": {
     "end_time": "2020-03-11T21:43:20.653062Z",
     "start_time": "2020-03-11T21:43:20.621308Z"
    }
   },
   "outputs": [],
   "source": [
    "feature_pipe = features.get_data_processing_pipe(feats,log_features=['game_time', 'event_count'], categorical_features=['last_world'])"
   ]
  },
  {
   "cell_type": "code",
   "execution_count": 34,
   "metadata": {
    "ExecuteTime": {
     "end_time": "2020-03-11T21:43:53.612580Z",
     "start_time": "2020-03-11T21:43:53.558677Z"
    }
   },
   "outputs": [],
   "source": [
    "f = feature_pipe.fit_transform(feats[:1000])"
   ]
  },
  {
   "cell_type": "code",
   "execution_count": 37,
   "metadata": {
    "ExecuteTime": {
     "end_time": "2020-03-11T21:44:18.487097Z",
     "start_time": "2020-03-11T21:44:18.458494Z"
    }
   },
   "outputs": [
    {
     "data": {
      "text/plain": [
       "array([-0.58823969, -0.57109623, -0.14503066,  0.0607788 , -0.1039365 ,\n",
       "       -0.16982723, -0.10627748,  0.12066108,  0.46398825,  0.        ,\n",
       "        0.        ,  1.        ])"
      ]
     },
     "execution_count": 37,
     "metadata": {},
     "output_type": "execute_result"
    }
   ],
   "source": [
    "f[0]"
   ]
  },
  {
   "cell_type": "code",
   "execution_count": 38,
   "metadata": {
    "ExecuteTime": {
     "end_time": "2020-03-11T21:44:23.491187Z",
     "start_time": "2020-03-11T21:44:23.458178Z"
    }
   },
   "outputs": [
    {
     "data": {
      "text/plain": [
       "array([-0.58823969, -0.57109623,  0.27396796,  0.74117096,  0.20558543,\n",
       "        0.05003504,  0.22234801,  0.91260474,  0.95262231,  0.        ,\n",
       "        0.        ,  1.        ])"
      ]
     },
     "execution_count": 38,
     "metadata": {},
     "output_type": "execute_result"
    }
   ],
   "source": [
    "f[1]"
   ]
  },
  {
   "cell_type": "code",
   "execution_count": null,
   "metadata": {},
   "outputs": [],
   "source": [
    "f[2]"
   ]
  },
  {
   "cell_type": "code",
   "execution_count": 49,
   "metadata": {
    "ExecuteTime": {
     "end_time": "2020-03-11T21:51:33.782544Z",
     "start_time": "2020-03-11T21:51:33.745160Z"
    }
   },
   "outputs": [],
   "source": [
    "lr_pipe = Pipeline(steps=[\n",
    "    ('preprocess', feature_pipe),\n",
    "    ('clf', LogisticRegression())])\n",
    "\n",
    "rf_pipe = Pipeline(steps=[\n",
    "    ('preprocess', feature_pipe),\n",
    "    ('clf', RandomForestClassifier())])"
   ]
  },
  {
   "cell_type": "code",
   "execution_count": 46,
   "metadata": {
    "ExecuteTime": {
     "end_time": "2020-03-11T21:47:33.580524Z",
     "start_time": "2020-03-11T21:47:27.580523Z"
    },
    "collapsed": true
   },
   "outputs": [
    {
     "data": {
      "text/plain": [
       "GridSearchCV(cv=None, error_score=nan,\n",
       "             estimator=Pipeline(memory=None,\n",
       "                                steps=[('preprocess',\n",
       "                                        ColumnTransformer(n_jobs=None,\n",
       "                                                          remainder='drop',\n",
       "                                                          sparse_threshold=0.3,\n",
       "                                                          transformer_weights=None,\n",
       "                                                          transformers=[('num',\n",
       "                                                                         Pipeline(memory=None,\n",
       "                                                                                  steps=[('imputer',\n",
       "                                                                                          SimpleImputer(add_indicator=False,\n",
       "                                                                                                        copy=True,\n",
       "                                                                                                        fill_value=0,\n",
       "                                                                                                        missing_values=nan,\n",
       "                                                                                                        strategy='mean',\n",
       "                                                                                                        verbose=0)),\n",
       "                                                                                         ('sc...\n",
       "                                                           l1_ratio=None,\n",
       "                                                           max_iter=100,\n",
       "                                                           multi_class='auto',\n",
       "                                                           n_jobs=None,\n",
       "                                                           penalty='l2',\n",
       "                                                           random_state=None,\n",
       "                                                           solver='lbfgs',\n",
       "                                                           tol=0.0001,\n",
       "                                                           verbose=0,\n",
       "                                                           warm_start=False))],\n",
       "                                verbose=False),\n",
       "             iid='deprecated', n_jobs=None,\n",
       "             param_grid={'clf__C': [0.001, 0.01, 0.1, 1, 10, 100, 1000],\n",
       "                         'clf__max_iter': [1000]},\n",
       "             pre_dispatch='2*n_jobs', refit=True, return_train_score=False,\n",
       "             scoring='accuracy', verbose=0)"
      ]
     },
     "execution_count": 46,
     "metadata": {},
     "output_type": "execute_result"
    }
   ],
   "source": [
    "lr_cv = GridSearchCV(lr_pipe, scoring='accuracy', param_grid={'clf__C': [10**i for i in range(-3, 4)], 'clf__max_iter': [1000]})\n",
    "lr_cv.fit(feats, labels.accuracy_group)\n",
    "pd.DataFrame(lr_cv.cv_results_)"
   ]
  },
  {
   "cell_type": "code",
   "execution_count": 54,
   "metadata": {
    "ExecuteTime": {
     "end_time": "2020-03-11T21:58:53.373581Z",
     "start_time": "2020-03-11T21:54:48.985327Z"
    }
   },
   "outputs": [
    {
     "data": {
      "text/plain": [
       "GridSearchCV(cv=None, error_score=nan,\n",
       "             estimator=Pipeline(memory=None,\n",
       "                                steps=[('preprocess',\n",
       "                                        ColumnTransformer(n_jobs=None,\n",
       "                                                          remainder='drop',\n",
       "                                                          sparse_threshold=0.3,\n",
       "                                                          transformer_weights=None,\n",
       "                                                          transformers=[('num',\n",
       "                                                                         Pipeline(memory=None,\n",
       "                                                                                  steps=[('imputer',\n",
       "                                                                                          SimpleImputer(add_indicator=False,\n",
       "                                                                                                        copy=True,\n",
       "                                                                                                        fill_value=0,\n",
       "                                                                                                        missing_values=nan,\n",
       "                                                                                                        strategy='mean',\n",
       "                                                                                                        verbose=0)),\n",
       "                                                                                         ('sc...\n",
       "                                                               min_samples_split=2,\n",
       "                                                               min_weight_fraction_leaf=0.0,\n",
       "                                                               n_estimators=100,\n",
       "                                                               n_jobs=None,\n",
       "                                                               oob_score=False,\n",
       "                                                               random_state=None,\n",
       "                                                               verbose=0,\n",
       "                                                               warm_start=False))],\n",
       "                                verbose=False),\n",
       "             iid='deprecated', n_jobs=None,\n",
       "             param_grid={'clf__max_depth': [1, 3, 5, 7, 9],\n",
       "                         'clf__n_estimators': [100, 500, 1000]},\n",
       "             pre_dispatch='2*n_jobs', refit=True, return_train_score=False,\n",
       "             scoring='accuracy', verbose=0)"
      ]
     },
     "execution_count": 54,
     "metadata": {},
     "output_type": "execute_result"
    }
   ],
   "source": [
    "rf_cv = GridSearchCV(rf_pipe, scoring='accuracy', param_grid={'clf__max_depth': [1, 3, 5, 7, 9], 'clf__n_estimators': [100, 500, 1000]})\n",
    "rf_cv.fit(feats, labels.accuracy_group)\n",
    "pd.DataFrame(rf_cv.cv_results_)"
   ]
  },
  {
   "cell_type": "code",
   "execution_count": 57,
   "metadata": {
    "ExecuteTime": {
     "end_time": "2020-03-11T22:02:26.612486Z",
     "start_time": "2020-03-11T22:02:26.581867Z"
    }
   },
   "outputs": [],
   "source": []
  },
  {
   "cell_type": "code",
   "execution_count": 60,
   "metadata": {
    "ExecuteTime": {
     "end_time": "2020-03-11T22:03:25.461720Z",
     "start_time": "2020-03-11T22:03:25.429859Z"
    }
   },
   "outputs": [
    {
     "name": "stdout",
     "output_type": "stream",
     "text": [
      "import pandas as pd\n",
      "import numpy as np\n",
      "import tensorflow as tf\n",
      "from sklearn.pipeline import Pipeline\n",
      "from sklearn.impute import SimpleImputer\n",
      "from sklearn.compose import ColumnTransformer\n",
      "from sklearn.preprocessing import StandardScaler, OneHotEncoder, FunctionTransformer\n",
      "\n",
      "\n",
      "def read_data():\n",
      "    print('Reading train.csv file....')\n",
      "    train = pd.read_csv('train.csv')\n",
      "    print('Training.csv file have {} rows and {} columns'.format(train.shape[0], train.shape[1]))\n",
      "\n",
      "    print('Reading test.csv file....')\n",
      "    test = pd.read_csv('test.csv')\n",
      "    print('Test.csv file have {} rows and {} columns'.format(test.shape[0], test.shape[1]))\n",
      "\n",
      "    print('Reading train_labels.csv file....')\n",
      "    train_labels = pd.read_csv('train_labels.csv')\n",
      "    print('Train_labels.csv file have {} rows and {} columns'.format(train_labels.shape[0], train_labels.shape[1]))\n",
      "\n",
      "    print('Reading specs.csv file....')\n",
      "    specs = pd.read_csv('specs.csv')\n",
      "    print('Specs.csv file have {} rows and {} columns'.format(specs.shape[0], specs.shape[1]))\n",
      "    return train, test, train_labels, specs\n",
      "\n",
      "\n",
      "def num_unique_days(timestamps):\n",
      "    return pd.to_datetime(timestamps).apply(lambda x: x.date()).unique().size\n",
      "\n",
      "\n",
      "def days_since_first_event(timestamps):\n",
      "    dates = pd.to_datetime(timestamps).apply(lambda x: x.date())\n",
      "    return (dates.max() - dates.min()).days\n",
      "\n",
      "\n",
      "def get_events_before_game_session(events, game_session):\n",
      "    game_session_index = events.index[(events.game_session_x == game_session)]\n",
      "    if not game_session_index.empty:\n",
      "        return events.loc[:game_session_index[-1]]\n",
      "    else:\n",
      "        return events\n",
      "\n",
      "def group_by_game_session_and_sum(events, columns):\n",
      "    \"\"\"\n",
      "    some columns are rolling counts by game session,\n",
      "    take the max value of each game session then some for totals\n",
      "    \"\"\"\n",
      "    series = pd.Series()\n",
      "    for c in columns:\n",
      "        series[c] = events.groupby('game_session')[c].max().sum()\n",
      "    return series\n",
      "\n",
      "\n",
      "def summarize_events(events):\n",
      "    \"\"\"\n",
      "    takes a dataframe of events and returns a pd.Series with aggregate/summary values\n",
      "    \"\"\"\n",
      "    events = events.sort_values('timestamp').reset_index()\n",
      "    events = events.rename(columns={'game_session_x': 'game_session'}, errors='ignore')\n",
      "    numeric_rows = ['event_count', 'game_time']\n",
      "    aggregates = group_by_game_session_and_sum(events, numeric_rows)\n",
      "    aggregates['game_time'] = aggregates['game_time'] / 1000\n",
      "    aggregates['num_unique_days'] = num_unique_days(events['timestamp'])\n",
      "    aggregates['elapsed_days'] = days_since_first_event(events['timestamp'])\n",
      "    aggregates['last_world'] = events.tail(1)['world'].values[0]\n",
      "    aggregates['last_game_session'] = events.tail(1)['game_session'].values[0]\n",
      "    aggregates['type_counts'] = events.type.value_counts()\n",
      "    aggregates['unique_game_sessions'] = events.game_session.unique().size\n",
      "    return aggregates\n",
      "\n",
      "\n",
      "def summarize_events_before_game_session(events, game_session):\n",
      "    events_before = get_events_before_game_session(events, game_session)\n",
      "    aggregates = summarize_events(events_before)\n",
      "    labels = events[['title_y', 'num_correct',\n",
      "       'num_incorrect', 'accuracy', 'accuracy_group']].iloc[0]\n",
      "    row = aggregates.append(labels)\n",
      "    return row\n",
      "\n",
      "\n",
      "def split_features_and_labels(df):\n",
      "    labels_df = df[['title_y', 'num_correct', 'num_incorrect',\n",
      "                    'accuracy', 'accuracy_group', 'installation_id', 'game_session_y']].copy()\n",
      "    feats_df = df.drop(\n",
      "        ['title_y', 'num_correct', 'num_incorrect', 'installation_id', 'game_session_y', 'last_game_session',\n",
      "         'accuracy', 'accuracy_group'], axis=1)\n",
      "    return feats_df, labels_df\n",
      "\n",
      "\n",
      "def basic_user_features_transform(train_data, train_labels=None):\n",
      "    data = train_data[['event_id', 'game_session', 'timestamp', 'installation_id', 'event_count', 'event_code',\n",
      "                       'game_time', 'title', 'type', 'world']]\n",
      "    if train_labels is not None:\n",
      "        train_w_labels = data.merge(train_labels, on='installation_id')\n",
      "        groups = train_w_labels.groupby(['installation_id', 'game_session_y'])\n",
      "    else:\n",
      "        groups = data.groupby(['installation_id'])\n",
      "    # game session y is index 1 of the group name\n",
      "    # passing none to game session is for eval data, does not subset any of the data for each installation_id\n",
      "    features = groups \\\n",
      "        .apply(lambda x: summarize_events_before_game_session(x, game_session=x.name[1] if len(x.name) == 2 else '')) \\\n",
      "        .reset_index()\n",
      "    expanded_counts = features.type_counts.apply(pd.Series).fillna(0)\n",
      "    # rename the type count columns\n",
      "    expanded_counts.columns = [c.lower()+'_ct' for c in expanded_counts.columns]\n",
      "    feats = pd.concat([features.drop(['type_counts'], axis=1), expanded_counts], axis=1)\n",
      "\n",
      "    if train_labels is not None:\n",
      "        return split_features_and_labels(feats)\n",
      "    else:\n",
      "        return feats, None\n",
      "\n",
      "def get_data_processing_pipe(feats, log_features, categorical_features):\n",
      "    # We create the preprocessing pipelines for both numeric and categorical data.\n",
      "    numeric_features = [c for c in feats.columns if c not in log_features+categorical_features]\n",
      "    numeric_transformer = Pipeline(steps=[\n",
      "        ('imputer', SimpleImputer(fill_value=0)),\n",
      "        ('scaler', StandardScaler())])\n",
      "\n",
      "    numeric_log_transformer = Pipeline(steps=[\n",
      "        ('imputer', SimpleImputer(fill_value=1)),\n",
      "        ('log_scale', FunctionTransformer(np.log)),\n",
      "        ('scaler', StandardScaler())])\n",
      "\n",
      "    categorical_transformer = Pipeline(steps=[\n",
      "        ('imputer', SimpleImputer(strategy='constant', fill_value='missing')),\n",
      "        ('onehot', OneHotEncoder(handle_unknown='ignore'))])\n",
      "\n",
      "    preprocessor = ColumnTransformer(\n",
      "        transformers=[\n",
      "            ('num', numeric_transformer, numeric_features),\n",
      "            ('num_log', numeric_log_transformer, log_features),\n",
      "            ('cat', categorical_transformer, categorical_features)])\n",
      "\n",
      "    return preprocessor\n",
      "\n"
     ]
    }
   ],
   "source": [
    "print(inspect.getsource(features))"
   ]
  },
  {
   "cell_type": "code",
   "execution_count": null,
   "metadata": {},
   "outputs": [],
   "source": []
  },
  {
   "cell_type": "markdown",
   "metadata": {
    "colab_type": "text",
    "id": "S8hE_27qHLj7"
   },
   "source": [
    "### Modeling with Extracted Features\n",
    "---"
   ]
  },
  {
   "cell_type": "markdown",
   "metadata": {
    "colab_type": "text",
    "id": "gI9VlwgTHuQH"
   },
   "source": [
    "import common libraries"
   ]
  },
  {
   "cell_type": "code",
   "execution_count": 0,
   "metadata": {
    "colab": {},
    "colab_type": "code",
    "id": "PYwx_MTcHxLi"
   },
   "outputs": [],
   "source": [
    "# SK-learn libraries for evaluation.\n",
    "from sklearn.metrics import confusion_matrix\n",
    "from sklearn import metrics\n",
    "from sklearn.metrics import classification_report"
   ]
  },
  {
   "cell_type": "markdown",
   "metadata": {
    "colab_type": "text",
    "id": "gNQnfQLuIWlB"
   },
   "source": [
    "load the data"
   ]
  },
  {
   "cell_type": "code",
   "execution_count": 75,
   "metadata": {
    "colab": {
     "base_uri": "https://localhost:8080/",
     "height": 51
    },
    "colab_type": "code",
    "id": "kflfsV5oIV8M",
    "outputId": "eb24777b-f7e9-40af-c876-1fa18e4ee2bd"
   },
   "outputs": [
    {
     "name": "stdout",
     "output_type": "stream",
     "text": [
      "CPU times: user 26.5 ms, sys: 2.2 ms, total: 28.7 ms\n",
      "Wall time: 1.21 s\n"
     ]
    }
   ],
   "source": [
    "%%time\n",
    "df = pd.read_csv('/content/drive/My Drive/Colab Notebooks/input/installation_features.csv', header=0, sep=',', quotechar='\"')\n"
   ]
  },
  {
   "cell_type": "markdown",
   "metadata": {
    "colab_type": "text",
    "id": "_Mz17nGqJpuV"
   },
   "source": [
    "sample the data"
   ]
  },
  {
   "cell_type": "code",
   "execution_count": 76,
   "metadata": {
    "colab": {
     "base_uri": "https://localhost:8080/",
     "height": 394
    },
    "colab_type": "code",
    "id": "04xsg2ZxJ7Cp",
    "outputId": "d9d2d44d-63e2-4452-d305-7b7a6a4e97b7"
   },
   "outputs": [
    {
     "data": {
      "text/html": [
       "<div>\n",
       "<style scoped>\n",
       "    .dataframe tbody tr th:only-of-type {\n",
       "        vertical-align: middle;\n",
       "    }\n",
       "\n",
       "    .dataframe tbody tr th {\n",
       "        vertical-align: top;\n",
       "    }\n",
       "\n",
       "    .dataframe thead th {\n",
       "        text-align: right;\n",
       "    }\n",
       "</style>\n",
       "<table border=\"1\" class=\"dataframe\">\n",
       "  <thead>\n",
       "    <tr style=\"text-align: right;\">\n",
       "      <th></th>\n",
       "      <th>installation_id</th>\n",
       "      <th>game_session_y</th>\n",
       "      <th>event_count</th>\n",
       "      <th>game_time</th>\n",
       "      <th>num_unique_days</th>\n",
       "      <th>elapsed_days</th>\n",
       "      <th>last_world</th>\n",
       "      <th>last_game_session</th>\n",
       "      <th>unique_game_sessions</th>\n",
       "      <th>title_y</th>\n",
       "      <th>num_correct</th>\n",
       "      <th>num_incorrect</th>\n",
       "      <th>accuracy</th>\n",
       "      <th>accuracy_group</th>\n",
       "      <th>activity_ct</th>\n",
       "      <th>game_ct</th>\n",
       "      <th>assessment_ct</th>\n",
       "      <th>clip_ct</th>\n",
       "    </tr>\n",
       "  </thead>\n",
       "  <tbody>\n",
       "    <tr>\n",
       "      <th>0</th>\n",
       "      <td>0006a69f</td>\n",
       "      <td>77b8ee947eb84b4e</td>\n",
       "      <td>1230</td>\n",
       "      <td>1135.912</td>\n",
       "      <td>1</td>\n",
       "      <td>0 days 00:00:00.000000000</td>\n",
       "      <td>TREETOPCITY</td>\n",
       "      <td>77b8ee947eb84b4e</td>\n",
       "      <td>26</td>\n",
       "      <td>Bird Measurer (Assessment)</td>\n",
       "      <td>0</td>\n",
       "      <td>11</td>\n",
       "      <td>0.0</td>\n",
       "      <td>0</td>\n",
       "      <td>556.0</td>\n",
       "      <td>525.0</td>\n",
       "      <td>135.0</td>\n",
       "      <td>14.0</td>\n",
       "    </tr>\n",
       "    <tr>\n",
       "      <th>1</th>\n",
       "      <td>0006a69f</td>\n",
       "      <td>9501794defd84e4d</td>\n",
       "      <td>2201</td>\n",
       "      <td>3488.074</td>\n",
       "      <td>1</td>\n",
       "      <td>0 days 00:00:00.000000000</td>\n",
       "      <td>TREETOPCITY</td>\n",
       "      <td>9501794defd84e4d</td>\n",
       "      <td>48</td>\n",
       "      <td>Mushroom Sorter (Assessment)</td>\n",
       "      <td>1</td>\n",
       "      <td>1</td>\n",
       "      <td>0.5</td>\n",
       "      <td>2</td>\n",
       "      <td>1103.0</td>\n",
       "      <td>845.0</td>\n",
       "      <td>229.0</td>\n",
       "      <td>24.0</td>\n",
       "    </tr>\n",
       "    <tr>\n",
       "      <th>2</th>\n",
       "      <td>0006c192</td>\n",
       "      <td>197a373a77101924</td>\n",
       "      <td>1566</td>\n",
       "      <td>1342.993</td>\n",
       "      <td>2</td>\n",
       "      <td>1 days 00:00:00.000000000</td>\n",
       "      <td>MAGMAPEAK</td>\n",
       "      <td>197a373a77101924</td>\n",
       "      <td>26</td>\n",
       "      <td>Cauldron Filler (Assessment)</td>\n",
       "      <td>1</td>\n",
       "      <td>0</td>\n",
       "      <td>1.0</td>\n",
       "      <td>3</td>\n",
       "      <td>894.0</td>\n",
       "      <td>633.0</td>\n",
       "      <td>24.0</td>\n",
       "      <td>15.0</td>\n",
       "    </tr>\n",
       "    <tr>\n",
       "      <th>3</th>\n",
       "      <td>0006c192</td>\n",
       "      <td>957406a905d59afd</td>\n",
       "      <td>2222</td>\n",
       "      <td>2063.664</td>\n",
       "      <td>4</td>\n",
       "      <td>18 days 00:00:00.000000000</td>\n",
       "      <td>TREETOPCITY</td>\n",
       "      <td>957406a905d59afd</td>\n",
       "      <td>48</td>\n",
       "      <td>Bird Measurer (Assessment)</td>\n",
       "      <td>1</td>\n",
       "      <td>1</td>\n",
       "      <td>0.5</td>\n",
       "      <td>2</td>\n",
       "      <td>1206.0</td>\n",
       "      <td>643.0</td>\n",
       "      <td>343.0</td>\n",
       "      <td>30.0</td>\n",
       "    </tr>\n",
       "    <tr>\n",
       "      <th>4</th>\n",
       "      <td>0006c192</td>\n",
       "      <td>b2297d292892745a</td>\n",
       "      <td>2014</td>\n",
       "      <td>1835.341</td>\n",
       "      <td>4</td>\n",
       "      <td>18 days 00:00:00.000000000</td>\n",
       "      <td>TREETOPCITY</td>\n",
       "      <td>b2297d292892745a</td>\n",
       "      <td>44</td>\n",
       "      <td>Mushroom Sorter (Assessment)</td>\n",
       "      <td>0</td>\n",
       "      <td>4</td>\n",
       "      <td>0.0</td>\n",
       "      <td>0</td>\n",
       "      <td>1206.0</td>\n",
       "      <td>637.0</td>\n",
       "      <td>143.0</td>\n",
       "      <td>28.0</td>\n",
       "    </tr>\n",
       "  </tbody>\n",
       "</table>\n",
       "</div>"
      ],
      "text/plain": [
       "  installation_id    game_session_y  ...  assessment_ct  clip_ct\n",
       "0        0006a69f  77b8ee947eb84b4e  ...          135.0     14.0\n",
       "1        0006a69f  9501794defd84e4d  ...          229.0     24.0\n",
       "2        0006c192  197a373a77101924  ...           24.0     15.0\n",
       "3        0006c192  957406a905d59afd  ...          343.0     30.0\n",
       "4        0006c192  b2297d292892745a  ...          143.0     28.0\n",
       "\n",
       "[5 rows x 18 columns]"
      ]
     },
     "execution_count": 76,
     "metadata": {
      "tags": []
     },
     "output_type": "execute_result"
    }
   ],
   "source": [
    "df.head()"
   ]
  },
  {
   "cell_type": "code",
   "execution_count": 77,
   "metadata": {
    "colab": {
     "base_uri": "https://localhost:8080/",
     "height": 34
    },
    "colab_type": "code",
    "id": "sxriSYFzKBDm",
    "outputId": "0ab6ae4f-fe5f-460f-97b4-0cc93c835e45"
   },
   "outputs": [
    {
     "data": {
      "text/plain": [
       "(9386, 18)"
      ]
     },
     "execution_count": 77,
     "metadata": {
      "tags": []
     },
     "output_type": "execute_result"
    }
   ],
   "source": [
    "df.shape"
   ]
  },
  {
   "cell_type": "markdown",
   "metadata": {
    "colab_type": "text",
    "id": "ZigIAsbHKD2C"
   },
   "source": [
    "#### a. Preprocessing data for models"
   ]
  },
  {
   "cell_type": "code",
   "execution_count": 78,
   "metadata": {
    "colab": {
     "base_uri": "https://localhost:8080/",
     "height": 85
    },
    "colab_type": "code",
    "id": "esWRvzGCKVQl",
    "outputId": "a3a7f004-fbb4-41a8-b1cc-aa2417447175"
   },
   "outputs": [
    {
     "name": "stdout",
     "output_type": "stream",
     "text": [
      "Feature names: ['game_time', 'unique_game_sessions', 'activity_ct', 'game_ct', 'assessment_ct', 'clip_ct']\n",
      "training label shape: (8448,)\n",
      "dev label shape: (938,)\n",
      "labels names: [0 1 2 3]\n"
     ]
    }
   ],
   "source": [
    "# Split them into development and trainning dataset\n",
    "features = ['game_time', 'unique_game_sessions', 'activity_ct', 'game_ct', 'assessment_ct', 'clip_ct']\n",
    "X = df[features].to_numpy()\n",
    "Y = df[['accuracy_group']].to_numpy().flatten()\n",
    "\n",
    "# Shuffle the data, but make sure that the features and accompanying labels stay in sync.\n",
    "np.random.seed(0)\n",
    "shuffle = np.random.permutation(np.arange(X.shape[0]))\n",
    "X, Y = X[shuffle], Y[shuffle]\n",
    "# Convert NaN values to 0.\n",
    "X = np.nan_to_num(X)\n",
    "\n",
    "# Split into train and dev.\n",
    "num_dev = int(len(Y)*0.1)\n",
    "train_data, train_labels = X[num_dev:], Y[num_dev:]\n",
    "dev_data, dev_labels = X[:num_dev], Y[:num_dev]\n",
    "\n",
    "print ('Feature names:', features)\n",
    "print('training label shape:', train_labels.shape)\n",
    "print('dev label shape:', dev_labels.shape)\n",
    "print('labels names:', np.unique(Y))"
   ]
  },
  {
   "cell_type": "markdown",
   "metadata": {
    "colab_type": "text",
    "id": "iIAh0dP5HU64"
   },
   "source": [
    "#### b. Logistic Regression"
   ]
  },
  {
   "cell_type": "markdown",
   "metadata": {
    "colab_type": "text",
    "id": "WdIclIwvHhzY"
   },
   "source": [
    "##### i. Import libraries"
   ]
  },
  {
   "cell_type": "code",
   "execution_count": 0,
   "metadata": {
    "colab": {},
    "colab_type": "code",
    "id": "snkbzJ9KHTqe"
   },
   "outputs": [],
   "source": [
    "from sklearn.linear_model import LogisticRegression\n"
   ]
  },
  {
   "cell_type": "markdown",
   "metadata": {
    "colab_type": "text",
    "id": "KA0ZpoSpH1la"
   },
   "source": [
    "##### ii. Train model"
   ]
  },
  {
   "cell_type": "code",
   "execution_count": 80,
   "metadata": {
    "colab": {
     "base_uri": "https://localhost:8080/",
     "height": 51
    },
    "colab_type": "code",
    "id": "0KESNZKYJ-bD",
    "outputId": "93cfd4af-8bb1-4f5a-bcf9-5afbf586c1a7"
   },
   "outputs": [
    {
     "name": "stdout",
     "output_type": "stream",
     "text": [
      "Optimal value for C in Logistic Regression: 0.001000\n",
      "F1 score of Logistic Regression: 0.394346\n"
     ]
    }
   ],
   "source": [
    "# Test different C values for Logistic Regression Model\n",
    "candidate_c = [0.0001, 0.001, 0.01, 0.05, 0.1, 0.5,\n",
    "               1, 5, 10, 50, 100, 1000]\n",
    "\n",
    "best_f1 = -1\n",
    "best_c = -1\n",
    "for c in candidate_c:\n",
    "  lr_model = LogisticRegression(penalty=\"l2\",\n",
    "                                C = c,\n",
    "                                solver=\"liblinear\",\n",
    "                                multi_class=\"auto\",\n",
    "                                max_iter = 1000)\n",
    "  lr_model.fit(train_data, train_labels)\n",
    "  lr_predict_labels = lr_model.predict(dev_data)\n",
    "  f1_score = metrics.f1_score(dev_labels, lr_predict_labels, average=\"weighted\")\n",
    "  for class_index in range(lr_model.coef_.shape[0]):\n",
    "    squared_sum = np.sum(np.square(lr_model.coef_[class_index]))\n",
    "  if f1_score > best_f1:\n",
    "      best_f1 = f1_score\n",
    "      best_c = c\n",
    "\n",
    "print(\"Optimal value for C in Logistic Regression: %f\" % best_c)\n",
    "print(\"F1 score of Logistic Regression: %f\" % best_f1)"
   ]
  },
  {
   "cell_type": "markdown",
   "metadata": {
    "colab_type": "text",
    "id": "BsF9NIncK8Nt"
   },
   "source": [
    "#### c. KNN "
   ]
  },
  {
   "cell_type": "markdown",
   "metadata": {
    "colab_type": "text",
    "id": "0uTXeIr2LA-u"
   },
   "source": [
    "##### i. Import libraries"
   ]
  },
  {
   "cell_type": "code",
   "execution_count": 0,
   "metadata": {
    "colab": {},
    "colab_type": "code",
    "id": "Bpk__KtoLAO0"
   },
   "outputs": [],
   "source": [
    "from sklearn.neighbors import KNeighborsClassifier\n"
   ]
  },
  {
   "cell_type": "markdown",
   "metadata": {
    "colab_type": "text",
    "id": "9b7m9A7bLF6k"
   },
   "source": [
    "##### ii. Train model"
   ]
  },
  {
   "cell_type": "code",
   "execution_count": 82,
   "metadata": {
    "colab": {
     "base_uri": "https://localhost:8080/",
     "height": 51
    },
    "colab_type": "code",
    "id": "KXQrGStZLKZo",
    "outputId": "f1e0b055-3293-4132-e5ee-ae7460f9c574"
   },
   "outputs": [
    {
     "name": "stdout",
     "output_type": "stream",
     "text": [
      "The optimal k value: 11, and optimal F1 score: 0.41 \n",
      "\n"
     ]
    }
   ],
   "source": [
    "  # KNN Method\n",
    "  k_value = [k for k in range(1, 15, 2)]\n",
    "  f1_k = []\n",
    "  for k in k_value:\n",
    "    model1 = KNeighborsClassifier(n_neighbors=k)\n",
    "    model1.fit(train_data, train_labels)\n",
    "    p_label_1 = model1.predict(dev_data)\n",
    "    accuracy_k = model1.score(dev_data, dev_labels)\n",
    "    score1 = metrics.f1_score(dev_labels, p_label_1, average = \"weighted\")\n",
    "    f1_k.append(score1)\n",
    "  # Get the optimized f1 score and k\n",
    "  max_f1_k = max(f1_k)\n",
    "  max_index1 = f1_k.index(max_f1_k)\n",
    "  print(\"The optimal k value: %2d, and optimal F1 score: %.2f\" % (k_value[max_index1], max_f1_k), \"\\n\")"
   ]
  },
  {
   "cell_type": "markdown",
   "metadata": {
    "colab_type": "text",
    "id": "_7tpEoqVLPT1"
   },
   "source": [
    "#### d. Naive Bayes"
   ]
  },
  {
   "cell_type": "markdown",
   "metadata": {
    "colab_type": "text",
    "id": "kCfEfgmULSyf"
   },
   "source": [
    "##### i. Import libraries"
   ]
  },
  {
   "cell_type": "code",
   "execution_count": 0,
   "metadata": {
    "colab": {},
    "colab_type": "code",
    "id": "ILpOaDw3HSSM"
   },
   "outputs": [],
   "source": [
    "# SK-learn libraries for learning.\n",
    "from sklearn.naive_bayes import BernoulliNB\n",
    "from sklearn.naive_bayes import MultinomialNB\n"
   ]
  },
  {
   "cell_type": "markdown",
   "metadata": {
    "colab_type": "text",
    "id": "eN2f43KPLZHb"
   },
   "source": [
    "##### ii. Train model"
   ]
  },
  {
   "cell_type": "code",
   "execution_count": 84,
   "metadata": {
    "colab": {
     "base_uri": "https://localhost:8080/",
     "height": 51
    },
    "colab_type": "code",
    "id": "er2JINIDHgJU",
    "outputId": "76fe6ae2-1ab4-4d4c-ef86-09a5b12c18d7"
   },
   "outputs": [
    {
     "name": "stdout",
     "output_type": "stream",
     "text": [
      "The optimal alpha value: 0.001, and optimal F1 score: 0.34 \n",
      "\n"
     ]
    }
   ],
   "source": [
    "  # NB Method\n",
    "  alpha = [10**x for x in range(-3,2)]\n",
    "  f1_nb = []\n",
    "  for a in alpha:\n",
    "      model2 = MultinomialNB(alpha=a)\n",
    "      model2.fit(train_data, train_labels)\n",
    "      p_label_2 = model2.predict(dev_data)\n",
    "      score2 = metrics.f1_score(dev_labels,p_label_2,average=\"weighted\")\n",
    "      f1_nb.append(score2)\n",
    "  # Get the optimized f1 score and alpha\n",
    "  max_f1_nb = max(f1_nb)\n",
    "  max_index2 = f1_nb.index(max_f1_nb)\n",
    "  print(\"The optimal alpha value: %.3f, and optimal F1 score: %.2f\"% (alpha[max_index2], max_f1_nb), '\\n')"
   ]
  }
 ],
 "metadata": {
  "accelerator": "GPU",
  "colab": {
   "collapsed_sections": [],
   "machine_shape": "hm",
   "name": "W207_Final_Project_Baseline.ipynb",
   "provenance": [],
   "toc_visible": true
  },
  "kernelspec": {
   "display_name": "Python 3",
   "language": "python",
   "name": "python3"
  },
  "latex_envs": {
   "LaTeX_envs_menu_present": true,
   "autoclose": false,
   "autocomplete": true,
   "bibliofile": "biblio.bib",
   "cite_by": "apalike",
   "current_citInitial": 1,
   "eqLabelWithNumbers": true,
   "eqNumInitial": 1,
   "hotkeys": {
    "equation": "Ctrl-E",
    "itemize": "Ctrl-I"
   },
   "labels_anchors": false,
   "latex_user_defs": false,
   "report_style_numbering": false,
   "user_envs_cfg": false
  },
  "varInspector": {
   "cols": {
    "lenName": 16,
    "lenType": 16,
    "lenVar": 40
   },
   "kernels_config": {
    "python": {
     "delete_cmd_postfix": "",
     "delete_cmd_prefix": "del ",
     "library": "var_list.py",
     "varRefreshCmd": "print(var_dic_list())"
    },
    "r": {
     "delete_cmd_postfix": ") ",
     "delete_cmd_prefix": "rm(",
     "library": "var_list.r",
     "varRefreshCmd": "cat(var_dic_list()) "
    }
   },
   "types_to_exclude": [
    "module",
    "function",
    "builtin_function_or_method",
    "instance",
    "_Feature"
   ],
   "window_display": false
  }
 },
 "nbformat": 4,
 "nbformat_minor": 1
}
