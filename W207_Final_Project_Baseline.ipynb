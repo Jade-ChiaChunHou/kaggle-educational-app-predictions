{
  "nbformat": 4,
  "nbformat_minor": 0,
  "metadata": {
    "colab": {
      "name": "W207_Final_Project_Baseline.ipynb",
      "provenance": [],
      "collapsed_sections": [],
      "toc_visible": true,
      "machine_shape": "hm"
    },
    "kernelspec": {
      "name": "python3",
      "display_name": "Python 3"
    },
    "accelerator": "GPU"
  },
  "cells": [
    {
      "cell_type": "markdown",
      "metadata": {
        "id": "NqE30mH4KNIK",
        "colab_type": "text"
      },
      "source": [
        "# **Predict Kids Learning Ability with Game Data**\n",
        "------------------------------------------\n",
        "## W207 Final Project \n",
        "#### Instructor: Peter Grabowski\n",
        "#### Team Members: Daniel Luo, Jade Chia-Chun Hou, Linda Yang, Skyler Roh\n"
      ]
    },
    {
      "cell_type": "markdown",
      "metadata": {
        "id": "hpM0pHepEHXF",
        "colab_type": "text"
      },
      "source": [
        "### **Problem Space**\n",
        "-------------------------------------------------\n",
        "We would want to learn how kids learn with the data gather from a kid game app.   \n",
        "In this app, children navigate a map and complete various levels, which may be activities, video clips, games, or assessments. Each assessment is designed to test a child's comprehension of a certain set of measurement-related skills. There are five assessments: Bird Measurer, Cart Balancer, Cauldron Filler, Chest Sorter, and Mushroom Sorter.\n",
        "The data we have contains the result which is the label of the data. How much attempt they tried, and what's the total answer and correct answer, the time taken etc. \n",
        "For the train and test data, we would have the event id, game session timestamp, event data which give detail description of the event.\n",
        "\n",
        "We would like to use some machine learning model to understand the factors that would help kids learn faster in the game and succsefully tackle the assesment. \n"
      ]
    },
    {
      "cell_type": "markdown",
      "metadata": {
        "id": "Dr2MX597Lz0A",
        "colab_type": "text"
      },
      "source": [
        "### **Object**\n",
        "--------------------\n",
        "The intent of this project is to use the gameplay data to forecast how many attempts a child will take to pass a given assessment (an incorrect answer is counted as an attempt)"
      ]
    },
    {
      "cell_type": "markdown",
      "metadata": {
        "id": "KqXGO9UOBw4u",
        "colab_type": "text"
      },
      "source": [
        "### **Load the Packages**\n",
        "--------------------------"
      ]
    },
    {
      "cell_type": "code",
      "metadata": {
        "id": "5d8P1N9GjP9N",
        "colab_type": "code",
        "colab": {}
      },
      "source": [
        "import pandas as pd\n",
        "import matplotlib.pyplot as plt\n",
        "import json\n",
        "from pandas.io.json import json_normalize\n",
        "import numpy as np\n",
        "\n",
        "%matplotlib inline\n"
      ],
      "execution_count": 0,
      "outputs": []
    },
    {
      "cell_type": "markdown",
      "metadata": {
        "id": "bzZ5gMw6B6uo",
        "colab_type": "text"
      },
      "source": [
        "### **Load the Data**\n",
        "-------------------------------------------"
      ]
    },
    {
      "cell_type": "code",
      "metadata": {
        "id": "jpL11Z783P_z",
        "colab_type": "code",
        "outputId": "4309ffed-3d80-4ab8-c0b4-7fc9ac411fa9",
        "colab": {
          "base_uri": "https://localhost:8080/",
          "height": 51
        }
      },
      "source": [
        "%%time\n",
        "df_train = pd.read_csv('/content/drive/My Drive/Colab Notebooks/input/data-science-bowl-2019/train.csv.zip', compression='zip', header=0, sep=',', quotechar='\"')\n",
        "df_test = pd.read_csv('/content/drive/My Drive/Colab Notebooks/input/data-science-bowl-2019/test.csv.zip', compression='zip', header=0, sep=',', quotechar='\"')\n",
        "df_train_label = pd.read_csv('/content/drive/My Drive/Colab Notebooks/input/data-science-bowl-2019/train_labels.csv.zip', compression='zip', header=0, sep=',', quotechar='\"')\n",
        "df_specs = pd.read_csv('/content/drive/My Drive/Colab Notebooks/input/data-science-bowl-2019/specs.csv', header=0, sep=',', quotechar='\"')\n",
        "df_sample_submission = pd.read_csv('/content/drive/My Drive/Colab Notebooks/input/data-science-bowl-2019/sample_submission.csv', header=0, sep=',', quotechar='\"')\n"
      ],
      "execution_count": 2,
      "outputs": [
        {
          "output_type": "stream",
          "text": [
            "CPU times: user 1min, sys: 3.37 s, total: 1min 3s\n",
            "Wall time: 1min 29s\n"
          ],
          "name": "stdout"
        }
      ]
    },
    {
      "cell_type": "markdown",
      "metadata": {
        "id": "rdLwC42z7AV8",
        "colab_type": "text"
      },
      "source": [
        "### **Exploratory Data Analysis**\n",
        "---"
      ]
    },
    {
      "cell_type": "markdown",
      "metadata": {
        "id": "kf6vXk1264MP",
        "colab_type": "text"
      },
      "source": [
        "#### Understanding the Train Data\n"
      ]
    },
    {
      "cell_type": "markdown",
      "metadata": {
        "id": "RNb-hX2y8pWC",
        "colab_type": "text"
      },
      "source": [
        "##### a. Sample train data"
      ]
    },
    {
      "cell_type": "code",
      "metadata": {
        "id": "UAcSnBsC6-Kg",
        "colab_type": "code",
        "outputId": "ebe4441f-3642-4d54-c34d-5a8b67b6b12a",
        "colab": {
          "base_uri": "https://localhost:8080/",
          "height": 411
        }
      },
      "source": [
        "print(\"Sample train data (rows: %d, columns: %d)\" %(df_train.shape[0], df_train.shape[1]))\n",
        "df_train.head()"
      ],
      "execution_count": 3,
      "outputs": [
        {
          "output_type": "stream",
          "text": [
            "Sample train data (rows: 11341042, columns: 11)\n"
          ],
          "name": "stdout"
        },
        {
          "output_type": "execute_result",
          "data": {
            "text/html": [
              "<div>\n",
              "<style scoped>\n",
              "    .dataframe tbody tr th:only-of-type {\n",
              "        vertical-align: middle;\n",
              "    }\n",
              "\n",
              "    .dataframe tbody tr th {\n",
              "        vertical-align: top;\n",
              "    }\n",
              "\n",
              "    .dataframe thead th {\n",
              "        text-align: right;\n",
              "    }\n",
              "</style>\n",
              "<table border=\"1\" class=\"dataframe\">\n",
              "  <thead>\n",
              "    <tr style=\"text-align: right;\">\n",
              "      <th></th>\n",
              "      <th>event_id</th>\n",
              "      <th>game_session</th>\n",
              "      <th>timestamp</th>\n",
              "      <th>event_data</th>\n",
              "      <th>installation_id</th>\n",
              "      <th>event_count</th>\n",
              "      <th>event_code</th>\n",
              "      <th>game_time</th>\n",
              "      <th>title</th>\n",
              "      <th>type</th>\n",
              "      <th>world</th>\n",
              "    </tr>\n",
              "  </thead>\n",
              "  <tbody>\n",
              "    <tr>\n",
              "      <th>0</th>\n",
              "      <td>27253bdc</td>\n",
              "      <td>45bb1e1b6b50c07b</td>\n",
              "      <td>2019-09-06T17:53:46.937Z</td>\n",
              "      <td>{\"event_code\": 2000, \"event_count\": 1}</td>\n",
              "      <td>0001e90f</td>\n",
              "      <td>1</td>\n",
              "      <td>2000</td>\n",
              "      <td>0</td>\n",
              "      <td>Welcome to Lost Lagoon!</td>\n",
              "      <td>Clip</td>\n",
              "      <td>NONE</td>\n",
              "    </tr>\n",
              "    <tr>\n",
              "      <th>1</th>\n",
              "      <td>27253bdc</td>\n",
              "      <td>17eeb7f223665f53</td>\n",
              "      <td>2019-09-06T17:54:17.519Z</td>\n",
              "      <td>{\"event_code\": 2000, \"event_count\": 1}</td>\n",
              "      <td>0001e90f</td>\n",
              "      <td>1</td>\n",
              "      <td>2000</td>\n",
              "      <td>0</td>\n",
              "      <td>Magma Peak - Level 1</td>\n",
              "      <td>Clip</td>\n",
              "      <td>MAGMAPEAK</td>\n",
              "    </tr>\n",
              "    <tr>\n",
              "      <th>2</th>\n",
              "      <td>77261ab5</td>\n",
              "      <td>0848ef14a8dc6892</td>\n",
              "      <td>2019-09-06T17:54:56.302Z</td>\n",
              "      <td>{\"version\":\"1.0\",\"event_count\":1,\"game_time\":0...</td>\n",
              "      <td>0001e90f</td>\n",
              "      <td>1</td>\n",
              "      <td>2000</td>\n",
              "      <td>0</td>\n",
              "      <td>Sandcastle Builder (Activity)</td>\n",
              "      <td>Activity</td>\n",
              "      <td>MAGMAPEAK</td>\n",
              "    </tr>\n",
              "    <tr>\n",
              "      <th>3</th>\n",
              "      <td>b2dba42b</td>\n",
              "      <td>0848ef14a8dc6892</td>\n",
              "      <td>2019-09-06T17:54:56.387Z</td>\n",
              "      <td>{\"description\":\"Let's build a sandcastle! Firs...</td>\n",
              "      <td>0001e90f</td>\n",
              "      <td>2</td>\n",
              "      <td>3010</td>\n",
              "      <td>53</td>\n",
              "      <td>Sandcastle Builder (Activity)</td>\n",
              "      <td>Activity</td>\n",
              "      <td>MAGMAPEAK</td>\n",
              "    </tr>\n",
              "    <tr>\n",
              "      <th>4</th>\n",
              "      <td>1bb5fbdb</td>\n",
              "      <td>0848ef14a8dc6892</td>\n",
              "      <td>2019-09-06T17:55:03.253Z</td>\n",
              "      <td>{\"description\":\"Let's build a sandcastle! Firs...</td>\n",
              "      <td>0001e90f</td>\n",
              "      <td>3</td>\n",
              "      <td>3110</td>\n",
              "      <td>6972</td>\n",
              "      <td>Sandcastle Builder (Activity)</td>\n",
              "      <td>Activity</td>\n",
              "      <td>MAGMAPEAK</td>\n",
              "    </tr>\n",
              "  </tbody>\n",
              "</table>\n",
              "</div>"
            ],
            "text/plain": [
              "   event_id      game_session  ...      type      world\n",
              "0  27253bdc  45bb1e1b6b50c07b  ...      Clip       NONE\n",
              "1  27253bdc  17eeb7f223665f53  ...      Clip  MAGMAPEAK\n",
              "2  77261ab5  0848ef14a8dc6892  ...  Activity  MAGMAPEAK\n",
              "3  b2dba42b  0848ef14a8dc6892  ...  Activity  MAGMAPEAK\n",
              "4  1bb5fbdb  0848ef14a8dc6892  ...  Activity  MAGMAPEAK\n",
              "\n",
              "[5 rows x 11 columns]"
            ]
          },
          "metadata": {
            "tags": []
          },
          "execution_count": 3
        }
      ]
    },
    {
      "cell_type": "markdown",
      "metadata": {
        "id": "RkMyCTpr8eJq",
        "colab_type": "text"
      },
      "source": [
        "Clean up the train data by dropping the row where the installation_id never take any game"
      ]
    },
    {
      "cell_type": "markdown",
      "metadata": {
        "id": "nxYCmYUI8xve",
        "colab_type": "text"
      },
      "source": [
        "##### b. Clean up train data"
      ]
    },
    {
      "cell_type": "code",
      "metadata": {
        "id": "rZ0jAt4p8dhW",
        "colab_type": "code",
        "colab": {}
      },
      "source": [
        "keep_id = df_train[df_train.type == \"Assessment\"][['installation_id']].drop_duplicates()\n",
        "df_train = pd.merge(df_train, keep_id, on=\"installation_id\", how=\"inner\")"
      ],
      "execution_count": 0,
      "outputs": []
    },
    {
      "cell_type": "code",
      "metadata": {
        "id": "YOSNS-iz9K26",
        "colab_type": "code",
        "outputId": "3e676456-4382-495f-d978-11e6f0167829",
        "colab": {
          "base_uri": "https://localhost:8080/",
          "height": 411
        }
      },
      "source": [
        "print(\"Sample train data after clean up (rows: %d, columns: %d)\" %(df_train.shape[0], df_train.shape[1]))\n",
        "df_train.head()"
      ],
      "execution_count": 5,
      "outputs": [
        {
          "output_type": "stream",
          "text": [
            "Sample train data after clean up (rows: 8294138, columns: 11)\n"
          ],
          "name": "stdout"
        },
        {
          "output_type": "execute_result",
          "data": {
            "text/html": [
              "<div>\n",
              "<style scoped>\n",
              "    .dataframe tbody tr th:only-of-type {\n",
              "        vertical-align: middle;\n",
              "    }\n",
              "\n",
              "    .dataframe tbody tr th {\n",
              "        vertical-align: top;\n",
              "    }\n",
              "\n",
              "    .dataframe thead th {\n",
              "        text-align: right;\n",
              "    }\n",
              "</style>\n",
              "<table border=\"1\" class=\"dataframe\">\n",
              "  <thead>\n",
              "    <tr style=\"text-align: right;\">\n",
              "      <th></th>\n",
              "      <th>event_id</th>\n",
              "      <th>game_session</th>\n",
              "      <th>timestamp</th>\n",
              "      <th>event_data</th>\n",
              "      <th>installation_id</th>\n",
              "      <th>event_count</th>\n",
              "      <th>event_code</th>\n",
              "      <th>game_time</th>\n",
              "      <th>title</th>\n",
              "      <th>type</th>\n",
              "      <th>world</th>\n",
              "    </tr>\n",
              "  </thead>\n",
              "  <tbody>\n",
              "    <tr>\n",
              "      <th>0</th>\n",
              "      <td>27253bdc</td>\n",
              "      <td>34ba1a28d02ba8ba</td>\n",
              "      <td>2019-08-06T04:57:18.904Z</td>\n",
              "      <td>{\"event_code\": 2000, \"event_count\": 1}</td>\n",
              "      <td>0006a69f</td>\n",
              "      <td>1</td>\n",
              "      <td>2000</td>\n",
              "      <td>0</td>\n",
              "      <td>Welcome to Lost Lagoon!</td>\n",
              "      <td>Clip</td>\n",
              "      <td>NONE</td>\n",
              "    </tr>\n",
              "    <tr>\n",
              "      <th>1</th>\n",
              "      <td>27253bdc</td>\n",
              "      <td>4b57c9a59474a1b9</td>\n",
              "      <td>2019-08-06T04:57:45.301Z</td>\n",
              "      <td>{\"event_code\": 2000, \"event_count\": 1}</td>\n",
              "      <td>0006a69f</td>\n",
              "      <td>1</td>\n",
              "      <td>2000</td>\n",
              "      <td>0</td>\n",
              "      <td>Magma Peak - Level 1</td>\n",
              "      <td>Clip</td>\n",
              "      <td>MAGMAPEAK</td>\n",
              "    </tr>\n",
              "    <tr>\n",
              "      <th>2</th>\n",
              "      <td>77261ab5</td>\n",
              "      <td>2b9d5af79bcdb79f</td>\n",
              "      <td>2019-08-06T04:58:14.538Z</td>\n",
              "      <td>{\"version\":\"1.0\",\"event_count\":1,\"game_time\":0...</td>\n",
              "      <td>0006a69f</td>\n",
              "      <td>1</td>\n",
              "      <td>2000</td>\n",
              "      <td>0</td>\n",
              "      <td>Sandcastle Builder (Activity)</td>\n",
              "      <td>Activity</td>\n",
              "      <td>MAGMAPEAK</td>\n",
              "    </tr>\n",
              "    <tr>\n",
              "      <th>3</th>\n",
              "      <td>b2dba42b</td>\n",
              "      <td>2b9d5af79bcdb79f</td>\n",
              "      <td>2019-08-06T04:58:14.615Z</td>\n",
              "      <td>{\"description\":\"Let's build a sandcastle! Firs...</td>\n",
              "      <td>0006a69f</td>\n",
              "      <td>2</td>\n",
              "      <td>3010</td>\n",
              "      <td>29</td>\n",
              "      <td>Sandcastle Builder (Activity)</td>\n",
              "      <td>Activity</td>\n",
              "      <td>MAGMAPEAK</td>\n",
              "    </tr>\n",
              "    <tr>\n",
              "      <th>4</th>\n",
              "      <td>1325467d</td>\n",
              "      <td>2b9d5af79bcdb79f</td>\n",
              "      <td>2019-08-06T04:58:16.680Z</td>\n",
              "      <td>{\"coordinates\":{\"x\":273,\"y\":650,\"stage_width\":...</td>\n",
              "      <td>0006a69f</td>\n",
              "      <td>3</td>\n",
              "      <td>4070</td>\n",
              "      <td>2137</td>\n",
              "      <td>Sandcastle Builder (Activity)</td>\n",
              "      <td>Activity</td>\n",
              "      <td>MAGMAPEAK</td>\n",
              "    </tr>\n",
              "  </tbody>\n",
              "</table>\n",
              "</div>"
            ],
            "text/plain": [
              "   event_id      game_session  ...      type      world\n",
              "0  27253bdc  34ba1a28d02ba8ba  ...      Clip       NONE\n",
              "1  27253bdc  4b57c9a59474a1b9  ...      Clip  MAGMAPEAK\n",
              "2  77261ab5  2b9d5af79bcdb79f  ...  Activity  MAGMAPEAK\n",
              "3  b2dba42b  2b9d5af79bcdb79f  ...  Activity  MAGMAPEAK\n",
              "4  1325467d  2b9d5af79bcdb79f  ...  Activity  MAGMAPEAK\n",
              "\n",
              "[5 rows x 11 columns]"
            ]
          },
          "metadata": {
            "tags": []
          },
          "execution_count": 5
        }
      ]
    },
    {
      "cell_type": "markdown",
      "metadata": {
        "id": "dUHAj6vULWbF",
        "colab_type": "text"
      },
      "source": [
        "After cleaning the data, we could see that the event data is in json format which would need later feature extracting and flatten. \n",
        "In the training set, we have the full history of gameplay data.\n",
        "To help understand the naming convention of the model, below are list of coumn name and its explannation:\n",
        " In the test set, we have truncated the history after the start event of a single assessment, chosen randomly, for which you must predict the number of attempts.\n",
        "\n",
        "*  **event_id** - *Randomly generated unique identifier for the event type. Maps to event_id column in specs table.*\n",
        "*  **game_session** - *Randomly generated unique identifier grouping events within a single game or video play session.*\n",
        "*  **timestamp** - *Client-generated datetime\n",
        "event_data - Semi-structured JSON formatted string containing the events parameters. Default fields are: event_count, event_code, and game_time; otherwise fields are determined by the event type.*\n",
        "*  **installation_id** - *Randomly generated unique identifier grouping game sessions within a single installed application instance.\n",
        "event_count - Incremental counter of events within a game session (offset at 1). Extracted from event_data.* \n",
        "*  **event_code** - *Identifier of the event 'class'. Unique per game, but may be duplicated across games. E.g. event code '2000' always identifies the 'Start Game' event for all games. Extracted from event_data.*\n",
        "*  **game_time** - *Time in milliseconds since the start of the game session. Extracted from event_data.*\n",
        "*  **title** - *Title of the game or video.*\n",
        "*  **type** - *Media type of the game or video. Possible values are: 'Game', 'Assessment', 'Activity', 'Clip'.*\n",
        "*  **world** - *The section of the application the game or video belongs to. Helpful to identify the educational curriculum goals of the media. Possible values are: 'NONE' (at the app's start screen), TREETOPCITY' (Length/Height), 'MAGMAPEAK' (Capacity/Displacement), 'CRYSTALCAVES' (Weight).*\n",
        "\n"
      ]
    },
    {
      "cell_type": "markdown",
      "metadata": {
        "id": "RzMM0G-y9lkq",
        "colab_type": "text"
      },
      "source": [
        "##### c. Visualization"
      ]
    },
    {
      "cell_type": "code",
      "metadata": {
        "id": "ie4rP-brACGR",
        "colab_type": "code",
        "outputId": "141570ba-db6e-4cf5-a1d3-199d753fca2a",
        "colab": {
          "base_uri": "https://localhost:8080/",
          "height": 34
        }
      },
      "source": [
        "df_train.type.unique()"
      ],
      "execution_count": 6,
      "outputs": [
        {
          "output_type": "execute_result",
          "data": {
            "text/plain": [
              "array(['Clip', 'Activity', 'Game', 'Assessment'], dtype=object)"
            ]
          },
          "metadata": {
            "tags": []
          },
          "execution_count": 6
        }
      ]
    },
    {
      "cell_type": "code",
      "metadata": {
        "id": "dq0bVDYr9onx",
        "colab_type": "code",
        "outputId": "7dcc1c5e-51ff-4833-fd7c-4c7eb57178fe",
        "colab": {
          "base_uri": "https://localhost:8080/",
          "height": 525
        }
      },
      "source": [
        "types_data = df_train['type']\n",
        "\n",
        "plt.figure(figsize=[10,8])\n",
        "n, bins, patches = plt.hist(x=types_data, bins=4, color='#0504aa',alpha=0.7, rwidth=0.85)\n",
        "plt.grid(axis='y', alpha=0.75)\n",
        "plt.xlabel('Type',fontsize=15)\n",
        "plt.ylabel('Frequency',fontsize=15)\n",
        "plt.xticks(fontsize=15)\n",
        "plt.yticks(fontsize=15)\n",
        "plt.ylabel('Frequency',fontsize=15)\n",
        "plt.title('Type of Game',fontsize=15)\n",
        "plt.show()"
      ],
      "execution_count": 7,
      "outputs": [
        {
          "output_type": "display_data",
          "data": {
            "image/png": "[encoded data removed]",
            "text/plain": [
              "<Figure size 720x576 with 1 Axes>"
            ]
          },
          "metadata": {
            "tags": []
          }
        }
      ]
    },
    {
      "cell_type": "code",
      "metadata": {
        "id": "fIJ0gPCZCHZL",
        "colab_type": "code",
        "outputId": "3c73350d-d00a-4179-b960-b81a79de286e",
        "colab": {
          "base_uri": "https://localhost:8080/",
          "height": 525
        }
      },
      "source": [
        "types_data = df_train['world']\n",
        "\n",
        "plt.figure(figsize=[10,8])\n",
        "n, bins, patches = plt.hist(x=types_data, bins=4, color='#0504aa',alpha=0.7, rwidth=0.85)\n",
        "plt.grid(axis='y', alpha=0.75)\n",
        "plt.xlabel('World',fontsize=15)\n",
        "plt.ylabel('Frequency',fontsize=15)\n",
        "plt.xticks(fontsize=15)\n",
        "plt.yticks(fontsize=15)\n",
        "plt.ylabel('Frequency',fontsize=15)\n",
        "plt.title('Type of World',fontsize=15)\n",
        "plt.show()"
      ],
      "execution_count": 8,
      "outputs": [
        {
          "output_type": "display_data",
          "data": {
            "image/png": "[encoded data removed]",
            "text/plain": [
              "<Figure size 720x576 with 1 Axes>"
            ]
          },
          "metadata": {
            "tags": []
          }
        }
      ]
    },
    {
      "cell_type": "markdown",
      "metadata": {
        "id": "dclLmm8XOm5O",
        "colab_type": "text"
      },
      "source": [
        "Here we could see there are mainly three type of world in the game app. And the `Magmapeak` is very popular. "
      ]
    },
    {
      "cell_type": "code",
      "metadata": {
        "id": "n5M0v-JoZJSm",
        "colab_type": "code",
        "colab": {}
      },
      "source": [
        "title_frequency = df_train['title'].value_counts(sort=True, ascending=False)"
      ],
      "execution_count": 0,
      "outputs": []
    },
    {
      "cell_type": "code",
      "metadata": {
        "id": "URWT2tnmCUAn",
        "colab_type": "code",
        "outputId": "8b9e76cb-2937-4060-d849-e7c2b2510fca",
        "colab": {
          "base_uri": "https://localhost:8080/",
          "height": 925
        }
      },
      "source": [
        "types_data = df_train['title']\n",
        "plt.figure(figsize=[18,15])\n",
        "\n",
        "frequencies = title_frequency.values\n",
        "titles = title_frequency.keys().to_list()\n",
        "y_pos = np.arange(len(titles))\n",
        "plt.barh(y_pos, frequencies, color='#0504aa',alpha=0.7)\n",
        "plt.yticks(y_pos, titles, fontsize=15)\n",
        "plt.grid(axis='x', alpha=0.75)\n",
        "plt.xlabel('Frequency',fontsize=15)\n",
        "plt.xticks(fontsize=15)\n",
        "plt.title('Type of Title',fontsize=15)\n",
        "\n",
        "plt.show()\n"
      ],
      "execution_count": 10,
      "outputs": [
        {
          "output_type": "display_data",
          "data": {
            "image/png": "[encoded data removed]",
            "text/plain": [
              "<Figure size 1296x1080 with 1 Axes>"
            ]
          },
          "metadata": {
            "tags": []
          }
        }
      ]
    },
    {
      "cell_type": "markdown",
      "metadata": {
        "id": "lz5oljAcO2TW",
        "colab_type": "text"
      },
      "source": [
        "Above is a histogram of the title of game appear in the data. We sort it the data, so that we could easily see the most frequent one is the Chow time, and `activity` type of game have more populartiy than `Assesment`. Interestingly, the level 1 and level 3 game have similar popularity. One guess would be, level 1 would be easier for kids to pass on, so they would only attempt once, level 2 are more chanllenging so they spend more time on it. As such, there will be less and less kid pass level 2, so level 3 also have lower frequency. "
      ]
    },
    {
      "cell_type": "markdown",
      "metadata": {
        "id": "V5qj_B3p9cA8",
        "colab_type": "text"
      },
      "source": [
        "#### Understand the Test Data"
      ]
    },
    {
      "cell_type": "markdown",
      "metadata": {
        "id": "t6-uPP1XAzHL",
        "colab_type": "text"
      },
      "source": [
        "##### a. Sample test data and clean up test data"
      ]
    },
    {
      "cell_type": "code",
      "metadata": {
        "id": "fM3UxxeV7Fvi",
        "colab_type": "code",
        "outputId": "e05ed9eb-8fe8-456d-a5bf-14714a2909b1",
        "colab": {
          "base_uri": "https://localhost:8080/",
          "height": 377
        }
      },
      "source": [
        "keep_id = df_test[df_test.type == \"Assessment\"][['installation_id']].drop_duplicates()\n",
        "df_test = pd.merge(df_test, keep_id, on=\"installation_id\", how=\"inner\")\n",
        "df_test.head()"
      ],
      "execution_count": 11,
      "outputs": [
        {
          "output_type": "execute_result",
          "data": {
            "text/html": [
              "<div>\n",
              "<style scoped>\n",
              "    .dataframe tbody tr th:only-of-type {\n",
              "        vertical-align: middle;\n",
              "    }\n",
              "\n",
              "    .dataframe tbody tr th {\n",
              "        vertical-align: top;\n",
              "    }\n",
              "\n",
              "    .dataframe thead th {\n",
              "        text-align: right;\n",
              "    }\n",
              "</style>\n",
              "<table border=\"1\" class=\"dataframe\">\n",
              "  <thead>\n",
              "    <tr style=\"text-align: right;\">\n",
              "      <th></th>\n",
              "      <th>event_id</th>\n",
              "      <th>game_session</th>\n",
              "      <th>timestamp</th>\n",
              "      <th>event_data</th>\n",
              "      <th>installation_id</th>\n",
              "      <th>event_count</th>\n",
              "      <th>event_code</th>\n",
              "      <th>game_time</th>\n",
              "      <th>title</th>\n",
              "      <th>type</th>\n",
              "      <th>world</th>\n",
              "    </tr>\n",
              "  </thead>\n",
              "  <tbody>\n",
              "    <tr>\n",
              "      <th>0</th>\n",
              "      <td>27253bdc</td>\n",
              "      <td>0ea9ecc81a565215</td>\n",
              "      <td>2019-09-10T16:50:24.910Z</td>\n",
              "      <td>{\"event_code\": 2000, \"event_count\": 1}</td>\n",
              "      <td>00abaee7</td>\n",
              "      <td>1</td>\n",
              "      <td>2000</td>\n",
              "      <td>0</td>\n",
              "      <td>Welcome to Lost Lagoon!</td>\n",
              "      <td>Clip</td>\n",
              "      <td>NONE</td>\n",
              "    </tr>\n",
              "    <tr>\n",
              "      <th>1</th>\n",
              "      <td>27253bdc</td>\n",
              "      <td>c1ea43d8b8261d27</td>\n",
              "      <td>2019-09-10T16:50:55.503Z</td>\n",
              "      <td>{\"event_code\": 2000, \"event_count\": 1}</td>\n",
              "      <td>00abaee7</td>\n",
              "      <td>1</td>\n",
              "      <td>2000</td>\n",
              "      <td>0</td>\n",
              "      <td>Magma Peak - Level 1</td>\n",
              "      <td>Clip</td>\n",
              "      <td>MAGMAPEAK</td>\n",
              "    </tr>\n",
              "    <tr>\n",
              "      <th>2</th>\n",
              "      <td>27253bdc</td>\n",
              "      <td>7ed86c6b72e725e2</td>\n",
              "      <td>2019-09-10T16:51:51.805Z</td>\n",
              "      <td>{\"event_code\": 2000, \"event_count\": 1}</td>\n",
              "      <td>00abaee7</td>\n",
              "      <td>1</td>\n",
              "      <td>2000</td>\n",
              "      <td>0</td>\n",
              "      <td>Magma Peak - Level 2</td>\n",
              "      <td>Clip</td>\n",
              "      <td>MAGMAPEAK</td>\n",
              "    </tr>\n",
              "    <tr>\n",
              "      <th>3</th>\n",
              "      <td>27253bdc</td>\n",
              "      <td>7e516ace50e7fe67</td>\n",
              "      <td>2019-09-10T16:53:12.825Z</td>\n",
              "      <td>{\"event_code\": 2000, \"event_count\": 1}</td>\n",
              "      <td>00abaee7</td>\n",
              "      <td>1</td>\n",
              "      <td>2000</td>\n",
              "      <td>0</td>\n",
              "      <td>Crystal Caves - Level 1</td>\n",
              "      <td>Clip</td>\n",
              "      <td>CRYSTALCAVES</td>\n",
              "    </tr>\n",
              "    <tr>\n",
              "      <th>4</th>\n",
              "      <td>7d093bf9</td>\n",
              "      <td>a022c3f60ba547e7</td>\n",
              "      <td>2019-09-10T16:54:12.115Z</td>\n",
              "      <td>{\"version\":\"1.0\",\"round\":0,\"event_count\":1,\"ga...</td>\n",
              "      <td>00abaee7</td>\n",
              "      <td>1</td>\n",
              "      <td>2000</td>\n",
              "      <td>0</td>\n",
              "      <td>Chow Time</td>\n",
              "      <td>Game</td>\n",
              "      <td>CRYSTALCAVES</td>\n",
              "    </tr>\n",
              "  </tbody>\n",
              "</table>\n",
              "</div>"
            ],
            "text/plain": [
              "   event_id      game_session  ...  type         world\n",
              "0  27253bdc  0ea9ecc81a565215  ...  Clip          NONE\n",
              "1  27253bdc  c1ea43d8b8261d27  ...  Clip     MAGMAPEAK\n",
              "2  27253bdc  7ed86c6b72e725e2  ...  Clip     MAGMAPEAK\n",
              "3  27253bdc  7e516ace50e7fe67  ...  Clip  CRYSTALCAVES\n",
              "4  7d093bf9  a022c3f60ba547e7  ...  Game  CRYSTALCAVES\n",
              "\n",
              "[5 rows x 11 columns]"
            ]
          },
          "metadata": {
            "tags": []
          },
          "execution_count": 11
        }
      ]
    },
    {
      "cell_type": "markdown",
      "metadata": {
        "id": "PP_qdh-FPpNF",
        "colab_type": "text"
      },
      "source": [
        "In the test set, it truncated the history after the start event of a single assessment, chosen randomly, for which you must predict the number of attempts. Every installation_id in the test set made an attempt on at least one assessment."
      ]
    },
    {
      "cell_type": "markdown",
      "metadata": {
        "id": "hzDC--AcBFfD",
        "colab_type": "text"
      },
      "source": [
        "##### b. Visualization"
      ]
    },
    {
      "cell_type": "code",
      "metadata": {
        "id": "YGoIXZmzBFGm",
        "colab_type": "code",
        "outputId": "374c1986-9c50-42ce-f912-bca84c7835bb",
        "colab": {
          "base_uri": "https://localhost:8080/",
          "height": 525
        }
      },
      "source": [
        "types_data = df_test['type']\n",
        "\n",
        "plt.figure(figsize=[10,8])\n",
        "n, bins, patches = plt.hist(x=types_data, bins=4, color='#0504aa',alpha=0.7, rwidth=0.85)\n",
        "plt.grid(axis='y', alpha=0.75)\n",
        "plt.xlabel('Type',fontsize=15)\n",
        "plt.ylabel('Frequency',fontsize=15)\n",
        "plt.xticks(fontsize=15)\n",
        "plt.yticks(fontsize=15)\n",
        "plt.ylabel('Frequency',fontsize=15)\n",
        "plt.title('Type of Game',fontsize=15)\n",
        "plt.show()"
      ],
      "execution_count": 12,
      "outputs": [
        {
          "output_type": "display_data",
          "data": {
            "image/png": "[encoded data removed]",
            "text/plain": [
              "<Figure size 720x576 with 1 Axes>"
            ]
          },
          "metadata": {
            "tags": []
          }
        }
      ]
    },
    {
      "cell_type": "code",
      "metadata": {
        "id": "Di8di6paBY93",
        "colab_type": "code",
        "outputId": "62ee808e-e8c9-4958-88c9-c01f03852b53",
        "colab": {
          "base_uri": "https://localhost:8080/",
          "height": 525
        }
      },
      "source": [
        "types_data = df_test['world']\n",
        "\n",
        "plt.figure(figsize=[10,8])\n",
        "n, bins, patches = plt.hist(x=types_data, bins=4, color='#0504aa',alpha=0.7, rwidth=0.85)\n",
        "plt.grid(axis='y', alpha=0.75)\n",
        "plt.xlabel('World',fontsize=15)\n",
        "plt.ylabel('Frequency',fontsize=15)\n",
        "plt.xticks(fontsize=15)\n",
        "plt.yticks(fontsize=15)\n",
        "plt.ylabel('Frequency',fontsize=15)\n",
        "plt.title('Type of World',fontsize=15)\n",
        "plt.show()"
      ],
      "execution_count": 13,
      "outputs": [
        {
          "output_type": "display_data",
          "data": {
            "image/png": "[encoded data removed]",
            "text/plain": [
              "<Figure size 720x576 with 1 Axes>"
            ]
          },
          "metadata": {
            "tags": []
          }
        }
      ]
    },
    {
      "cell_type": "code",
      "metadata": {
        "id": "eqVMs4i7BePc",
        "colab_type": "code",
        "outputId": "db7a96c9-9c44-4726-9b48-5b550fff47f4",
        "colab": {
          "base_uri": "https://localhost:8080/",
          "height": 925
        }
      },
      "source": [
        "title_frequency = df_test['title'].value_counts(sort=True, ascending=False)\n",
        "types_data = df_test['title']\n",
        "plt.figure(figsize=[18,15])\n",
        "\n",
        "frequencies = title_frequency.values\n",
        "titles = title_frequency.keys().to_list()\n",
        "y_pos = np.arange(len(titles))\n",
        "plt.barh(y_pos, frequencies, color='#0504aa',alpha=0.7)\n",
        "plt.yticks(y_pos, titles, fontsize=15)\n",
        "plt.grid(axis='x', alpha=0.75)\n",
        "plt.xlabel('Frequency',fontsize=15)\n",
        "plt.xticks(fontsize=15)\n",
        "plt.title('Type of Title',fontsize=15)\n",
        "\n",
        "plt.show()"
      ],
      "execution_count": 14,
      "outputs": [
        {
          "output_type": "display_data",
          "data": {
            "image/png": "[encoded data removed]",
            "text/plain": [
              "<Figure size 1296x1080 with 1 Axes>"
            ]
          },
          "metadata": {
            "tags": []
          }
        }
      ]
    },
    {
      "cell_type": "markdown",
      "metadata": {
        "id": "qUXY0VbrP_If",
        "colab_type": "text"
      },
      "source": [
        "We did the same visualization as we did for train data. We could see the trends does not change much. "
      ]
    },
    {
      "cell_type": "markdown",
      "metadata": {
        "id": "Zn66l3VyBpF9",
        "colab_type": "text"
      },
      "source": [
        "#### Understanding the Train Label data"
      ]
    },
    {
      "cell_type": "markdown",
      "metadata": {
        "id": "I0T17ZS1CNRQ",
        "colab_type": "text"
      },
      "source": [
        "##### a. Sample train label data"
      ]
    },
    {
      "cell_type": "code",
      "metadata": {
        "id": "XWUUsH9UBuqO",
        "colab_type": "code",
        "outputId": "69e35002-d4bd-4f25-b98b-1ec9e7a6584d",
        "colab": {
          "base_uri": "https://localhost:8080/",
          "height": 204
        }
      },
      "source": [
        "df_train_label.head()"
      ],
      "execution_count": 15,
      "outputs": [
        {
          "output_type": "execute_result",
          "data": {
            "text/html": [
              "<div>\n",
              "<style scoped>\n",
              "    .dataframe tbody tr th:only-of-type {\n",
              "        vertical-align: middle;\n",
              "    }\n",
              "\n",
              "    .dataframe tbody tr th {\n",
              "        vertical-align: top;\n",
              "    }\n",
              "\n",
              "    .dataframe thead th {\n",
              "        text-align: right;\n",
              "    }\n",
              "</style>\n",
              "<table border=\"1\" class=\"dataframe\">\n",
              "  <thead>\n",
              "    <tr style=\"text-align: right;\">\n",
              "      <th></th>\n",
              "      <th>game_session</th>\n",
              "      <th>installation_id</th>\n",
              "      <th>title</th>\n",
              "      <th>num_correct</th>\n",
              "      <th>num_incorrect</th>\n",
              "      <th>accuracy</th>\n",
              "      <th>accuracy_group</th>\n",
              "    </tr>\n",
              "  </thead>\n",
              "  <tbody>\n",
              "    <tr>\n",
              "      <th>0</th>\n",
              "      <td>6bdf9623adc94d89</td>\n",
              "      <td>0006a69f</td>\n",
              "      <td>Mushroom Sorter (Assessment)</td>\n",
              "      <td>1</td>\n",
              "      <td>0</td>\n",
              "      <td>1.0</td>\n",
              "      <td>3</td>\n",
              "    </tr>\n",
              "    <tr>\n",
              "      <th>1</th>\n",
              "      <td>77b8ee947eb84b4e</td>\n",
              "      <td>0006a69f</td>\n",
              "      <td>Bird Measurer (Assessment)</td>\n",
              "      <td>0</td>\n",
              "      <td>11</td>\n",
              "      <td>0.0</td>\n",
              "      <td>0</td>\n",
              "    </tr>\n",
              "    <tr>\n",
              "      <th>2</th>\n",
              "      <td>901acc108f55a5a1</td>\n",
              "      <td>0006a69f</td>\n",
              "      <td>Mushroom Sorter (Assessment)</td>\n",
              "      <td>1</td>\n",
              "      <td>0</td>\n",
              "      <td>1.0</td>\n",
              "      <td>3</td>\n",
              "    </tr>\n",
              "    <tr>\n",
              "      <th>3</th>\n",
              "      <td>9501794defd84e4d</td>\n",
              "      <td>0006a69f</td>\n",
              "      <td>Mushroom Sorter (Assessment)</td>\n",
              "      <td>1</td>\n",
              "      <td>1</td>\n",
              "      <td>0.5</td>\n",
              "      <td>2</td>\n",
              "    </tr>\n",
              "    <tr>\n",
              "      <th>4</th>\n",
              "      <td>a9ef3ecb3d1acc6a</td>\n",
              "      <td>0006a69f</td>\n",
              "      <td>Bird Measurer (Assessment)</td>\n",
              "      <td>1</td>\n",
              "      <td>0</td>\n",
              "      <td>1.0</td>\n",
              "      <td>3</td>\n",
              "    </tr>\n",
              "  </tbody>\n",
              "</table>\n",
              "</div>"
            ],
            "text/plain": [
              "       game_session installation_id  ... accuracy  accuracy_group\n",
              "0  6bdf9623adc94d89        0006a69f  ...      1.0               3\n",
              "1  77b8ee947eb84b4e        0006a69f  ...      0.0               0\n",
              "2  901acc108f55a5a1        0006a69f  ...      1.0               3\n",
              "3  9501794defd84e4d        0006a69f  ...      0.5               2\n",
              "4  a9ef3ecb3d1acc6a        0006a69f  ...      1.0               3\n",
              "\n",
              "[5 rows x 7 columns]"
            ]
          },
          "metadata": {
            "tags": []
          },
          "execution_count": 15
        }
      ]
    },
    {
      "cell_type": "markdown",
      "metadata": {
        "id": "dUIir310QOfK",
        "colab_type": "text"
      },
      "source": [
        "The outcomes in this data are grouped into 4 groups (labeled accuracy_group in the data):\n",
        "3: the assessment was solved on the first attempt\n",
        "2: the assessment was solved on the second attempt\n",
        "1: the assessment was solved after 3 or more attempts\n",
        "0: the assessment was never solved\n",
        "\n",
        "Assessment attempts are captured in event_code 4100 for all assessments except for Bird Measurer, which uses event_code 4110. If the attempt was correct, it contains \"correct\":true."
      ]
    },
    {
      "cell_type": "markdown",
      "metadata": {
        "id": "EA3KmatCCSvz",
        "colab_type": "text"
      },
      "source": [
        "##### b. Visualization"
      ]
    },
    {
      "cell_type": "code",
      "metadata": {
        "id": "FsYza2rOCjtE",
        "colab_type": "code",
        "outputId": "ad4bbb59-471c-4314-b67f-3178588d2631",
        "colab": {
          "base_uri": "https://localhost:8080/",
          "height": 525
        }
      },
      "source": [
        "df_avg_accuracy = df_train_label.groupby('title').mean()\n",
        "df_avg_accuracy.sort_values(by=['accuracy'])\n",
        "\n",
        "avg_accuracy_data = df_avg_accuracy['accuracy']\n",
        "plt.figure(figsize=[10,8])\n",
        "\n",
        "titles = df_avg_accuracy.index\n",
        "y_pos = np.arange(len(titles))\n",
        "plt.barh(y_pos, avg_accuracy_data, color='#0504aa',alpha=0.7)\n",
        "plt.yticks(y_pos, titles, fontsize=15)\n",
        "plt.grid(axis='x', alpha=0.75)\n",
        "plt.xlabel('Avg Accuracy',fontsize=15)\n",
        "plt.xticks(fontsize=15)\n",
        "plt.title('Type of Title',fontsize=15)\n",
        "\n",
        "plt.show()"
      ],
      "execution_count": 16,
      "outputs": [
        {
          "output_type": "display_data",
          "data": {
            "image/png": "[encoded data removed]",
            "text/plain": [
              "<Figure size 720x576 with 1 Axes>"
            ]
          },
          "metadata": {
            "tags": []
          }
        }
      ]
    },
    {
      "cell_type": "markdown",
      "metadata": {
        "id": "WoIrWUQrQnkr",
        "colab_type": "text"
      },
      "source": [
        "Here, we try to see the diffculty of each assesment we have. And how often does kid take this assesment. "
      ]
    },
    {
      "cell_type": "markdown",
      "metadata": {
        "id": "8rPnWYaqQz3o",
        "colab_type": "text"
      },
      "source": [
        "#### Understanding the spec data\n",
        "This file gives the specification of the various event types.\n",
        "\n",
        "*  **event_id** - *Global unique identifier for the event type. Joins to event_id column in events table.*\n",
        "*  **info** - *Description of the event.*\n",
        "*  **args** - *JSON formatted string of event arguments. Each argument contains:*\n",
        "  *  **name** - *Argument name.*\n",
        "  *  **type** - *Type of the argument (string, int, number, object, array).*\n",
        "  *  **info** - *Description of the argument.*"
      ]
    },
    {
      "cell_type": "markdown",
      "metadata": {
        "id": "8xQwKe2z9cwo",
        "colab_type": "text"
      },
      "source": [
        "### **Modeling**\n",
        "---"
      ]
    },
    {
      "cell_type": "markdown",
      "metadata": {
        "id": "d9j29jImrzEd",
        "colab_type": "text"
      },
      "source": [
        "##### a. Preprocessing data for models"
      ]
    },
    {
      "cell_type": "markdown",
      "metadata": {
        "id": "BiYihHC_upnB",
        "colab_type": "text"
      },
      "source": [
        "We would like to merge label data and game data into one data set for training purpose. Here, we are getting the label data and merge them by game session."
      ]
    },
    {
      "cell_type": "code",
      "metadata": {
        "id": "Y9hUQ3_gr9qu",
        "colab_type": "code",
        "outputId": "a3fa11b4-c68b-4a16-8e67-5f976ca6a768",
        "colab": {
          "base_uri": "https://localhost:8080/",
          "height": 34
        }
      },
      "source": [
        "# Select the training set with last game_session entries\n",
        "train = df_train.drop_duplicates(subset = 'game_session', keep='last')\n",
        "# Merge train and train_label datasets\n",
        "train = pd.merge(train, df_train_label, on=\"game_session\", how=\"inner\")\n",
        "print(\"The length after merging the training set and labels: \", len(train))"
      ],
      "execution_count": 32,
      "outputs": [
        {
          "output_type": "stream",
          "text": [
            "The length after merging the training set and labels:  17690\n"
          ],
          "name": "stdout"
        }
      ]
    },
    {
      "cell_type": "markdown",
      "metadata": {
        "id": "Ii-0JR-l-tv8",
        "colab_type": "text"
      },
      "source": [
        "Sample new train data:"
      ]
    },
    {
      "cell_type": "code",
      "metadata": {
        "id": "L8dBvB6esBND",
        "colab_type": "code",
        "outputId": "0167c95f-d05f-4447-b693-507f7cc6889d",
        "colab": {
          "base_uri": "https://localhost:8080/",
          "height": 394
        }
      },
      "source": [
        "train.head()"
      ],
      "execution_count": 27,
      "outputs": [
        {
          "output_type": "execute_result",
          "data": {
            "text/html": [
              "<div>\n",
              "<style scoped>\n",
              "    .dataframe tbody tr th:only-of-type {\n",
              "        vertical-align: middle;\n",
              "    }\n",
              "\n",
              "    .dataframe tbody tr th {\n",
              "        vertical-align: top;\n",
              "    }\n",
              "\n",
              "    .dataframe thead th {\n",
              "        text-align: right;\n",
              "    }\n",
              "</style>\n",
              "<table border=\"1\" class=\"dataframe\">\n",
              "  <thead>\n",
              "    <tr style=\"text-align: right;\">\n",
              "      <th></th>\n",
              "      <th>event_id</th>\n",
              "      <th>game_session</th>\n",
              "      <th>timestamp</th>\n",
              "      <th>event_data</th>\n",
              "      <th>installation_id_x</th>\n",
              "      <th>event_count</th>\n",
              "      <th>event_code</th>\n",
              "      <th>game_time</th>\n",
              "      <th>title_x</th>\n",
              "      <th>type</th>\n",
              "      <th>world</th>\n",
              "      <th>installation_id_y</th>\n",
              "      <th>title_y</th>\n",
              "      <th>num_correct</th>\n",
              "      <th>num_incorrect</th>\n",
              "      <th>accuracy</th>\n",
              "      <th>accuracy_group</th>\n",
              "    </tr>\n",
              "  </thead>\n",
              "  <tbody>\n",
              "    <tr>\n",
              "      <th>0</th>\n",
              "      <td>a5be6304</td>\n",
              "      <td>901acc108f55a5a1</td>\n",
              "      <td>2019-08-06T05:22:41.147Z</td>\n",
              "      <td>{\"session_duration\":39803,\"exit_type\":\"game_co...</td>\n",
              "      <td>0006a69f</td>\n",
              "      <td>48</td>\n",
              "      <td>2010</td>\n",
              "      <td>39803</td>\n",
              "      <td>Mushroom Sorter (Assessment)</td>\n",
              "      <td>Assessment</td>\n",
              "      <td>TREETOPCITY</td>\n",
              "      <td>0006a69f</td>\n",
              "      <td>Mushroom Sorter (Assessment)</td>\n",
              "      <td>1</td>\n",
              "      <td>0</td>\n",
              "      <td>1.0</td>\n",
              "      <td>3</td>\n",
              "    </tr>\n",
              "    <tr>\n",
              "      <th>1</th>\n",
              "      <td>e37a2b78</td>\n",
              "      <td>77b8ee947eb84b4e</td>\n",
              "      <td>2019-08-06T05:36:51.915Z</td>\n",
              "      <td>{\"description\":\"Uh oh. This caterpillar is too...</td>\n",
              "      <td>0006a69f</td>\n",
              "      <td>87</td>\n",
              "      <td>3120</td>\n",
              "      <td>92799</td>\n",
              "      <td>Bird Measurer (Assessment)</td>\n",
              "      <td>Assessment</td>\n",
              "      <td>TREETOPCITY</td>\n",
              "      <td>0006a69f</td>\n",
              "      <td>Bird Measurer (Assessment)</td>\n",
              "      <td>0</td>\n",
              "      <td>11</td>\n",
              "      <td>0.0</td>\n",
              "      <td>0</td>\n",
              "    </tr>\n",
              "    <tr>\n",
              "      <th>2</th>\n",
              "      <td>a5be6304</td>\n",
              "      <td>6bdf9623adc94d89</td>\n",
              "      <td>2019-08-06T05:38:16.835Z</td>\n",
              "      <td>{\"session_duration\":26827,\"exit_type\":\"game_co...</td>\n",
              "      <td>0006a69f</td>\n",
              "      <td>35</td>\n",
              "      <td>2010</td>\n",
              "      <td>26827</td>\n",
              "      <td>Mushroom Sorter (Assessment)</td>\n",
              "      <td>Assessment</td>\n",
              "      <td>TREETOPCITY</td>\n",
              "      <td>0006a69f</td>\n",
              "      <td>Mushroom Sorter (Assessment)</td>\n",
              "      <td>1</td>\n",
              "      <td>0</td>\n",
              "      <td>1.0</td>\n",
              "      <td>3</td>\n",
              "    </tr>\n",
              "    <tr>\n",
              "      <th>3</th>\n",
              "      <td>a5be6304</td>\n",
              "      <td>9501794defd84e4d</td>\n",
              "      <td>2019-08-06T20:35:25.648Z</td>\n",
              "      <td>{\"session_duration\":31843,\"exit_type\":\"game_co...</td>\n",
              "      <td>0006a69f</td>\n",
              "      <td>42</td>\n",
              "      <td>2010</td>\n",
              "      <td>31843</td>\n",
              "      <td>Mushroom Sorter (Assessment)</td>\n",
              "      <td>Assessment</td>\n",
              "      <td>TREETOPCITY</td>\n",
              "      <td>0006a69f</td>\n",
              "      <td>Mushroom Sorter (Assessment)</td>\n",
              "      <td>1</td>\n",
              "      <td>1</td>\n",
              "      <td>0.5</td>\n",
              "      <td>2</td>\n",
              "    </tr>\n",
              "    <tr>\n",
              "      <th>4</th>\n",
              "      <td>3393b68b</td>\n",
              "      <td>a9ef3ecb3d1acc6a</td>\n",
              "      <td>2019-08-06T20:50:35.426Z</td>\n",
              "      <td>{\"session_duration\":36368,\"event_count\":32,\"ga...</td>\n",
              "      <td>0006a69f</td>\n",
              "      <td>32</td>\n",
              "      <td>2010</td>\n",
              "      <td>36368</td>\n",
              "      <td>Bird Measurer (Assessment)</td>\n",
              "      <td>Assessment</td>\n",
              "      <td>TREETOPCITY</td>\n",
              "      <td>0006a69f</td>\n",
              "      <td>Bird Measurer (Assessment)</td>\n",
              "      <td>1</td>\n",
              "      <td>0</td>\n",
              "      <td>1.0</td>\n",
              "      <td>3</td>\n",
              "    </tr>\n",
              "  </tbody>\n",
              "</table>\n",
              "</div>"
            ],
            "text/plain": [
              "   event_id      game_session  ... accuracy accuracy_group\n",
              "0  a5be6304  901acc108f55a5a1  ...      1.0              3\n",
              "1  e37a2b78  77b8ee947eb84b4e  ...      0.0              0\n",
              "2  a5be6304  6bdf9623adc94d89  ...      1.0              3\n",
              "3  a5be6304  9501794defd84e4d  ...      0.5              2\n",
              "4  3393b68b  a9ef3ecb3d1acc6a  ...      1.0              3\n",
              "\n",
              "[5 rows x 17 columns]"
            ]
          },
          "metadata": {
            "tags": []
          },
          "execution_count": 27
        }
      ]
    },
    {
      "cell_type": "markdown",
      "metadata": {
        "id": "Z3fAQEMm-1Du",
        "colab_type": "text"
      },
      "source": [
        "Also for our baseline model, we only want to use the numerical/categoric features. So we choose event count,  and game time for our models."
      ]
    },
    {
      "cell_type": "markdown",
      "metadata": {
        "id": "yJa7KhKJuvKr",
        "colab_type": "text"
      },
      "source": [
        "##### b. SVM classifier\n"
      ]
    },
    {
      "cell_type": "markdown",
      "metadata": {
        "id": "-qNx3D1ruxQG",
        "colab_type": "text"
      },
      "source": [
        "###### i. Import libraries"
      ]
    },
    {
      "cell_type": "code",
      "metadata": {
        "id": "p9cV3S2YsRBI",
        "colab_type": "code",
        "colab": {}
      },
      "source": [
        "from sklearn.svm import SVC \n",
        "from sklearn.metrics import confusion_matrix \n",
        "from sklearn.model_selection import train_test_split"
      ],
      "execution_count": 0,
      "outputs": []
    },
    {
      "cell_type": "markdown",
      "metadata": {
        "id": "nXA0y1KLAUXC",
        "colab_type": "text"
      },
      "source": [
        ""
      ]
    },
    {
      "cell_type": "markdown",
      "metadata": {
        "id": "L__V7XcKsWOe",
        "colab_type": "text"
      },
      "source": [
        "###### ii. Train model"
      ]
    },
    {
      "cell_type": "code",
      "metadata": {
        "id": "b_mW26FUsYRf",
        "colab_type": "code",
        "colab": {}
      },
      "source": [
        "# X -> features, y -> label \n",
        "random_train = train.sample(n = 1000) \n",
        "X = random_train.iloc[:,5:8]\n",
        "y = random_train['accuracy_group']"
      ],
      "execution_count": 0,
      "outputs": []
    },
    {
      "cell_type": "code",
      "metadata": {
        "id": "RYZXlD9lsayB",
        "colab_type": "code",
        "outputId": "4d5e40be-8bde-491c-9405-a682787bf2d9",
        "colab": {
          "base_uri": "https://localhost:8080/",
          "height": 85
        }
      },
      "source": [
        "# dividing X, y into train and test data \n",
        "X_train, X_test, y_train, y_test = train_test_split(X, y, random_state = 0) \n",
        "print(\"X_train.shape\", X_train.shape)\n",
        "print(\"y_train.shape\", y_train.shape)\n",
        "print(\"X_test.shape:\", X_test.shape)\n",
        "print(\"y_test.shape:\", y_test.shape)"
      ],
      "execution_count": 34,
      "outputs": [
        {
          "output_type": "stream",
          "text": [
            "X_train.shape (750, 3)\n",
            "y_train.shape (750,)\n",
            "X_test.shape: (250, 3)\n",
            "y_test.shape: (250,)\n"
          ],
          "name": "stdout"
        }
      ]
    },
    {
      "cell_type": "code",
      "metadata": {
        "id": "BevHX8fysc2m",
        "colab_type": "code",
        "colab": {}
      },
      "source": [
        "# SVM model\n",
        "clf = SVC()\n",
        "svm_model = clf.fit(X_train, y_train)\n",
        "svm_predictions = svm_model.predict(X_test)"
      ],
      "execution_count": 0,
      "outputs": []
    },
    {
      "cell_type": "code",
      "metadata": {
        "id": "Y8LqaMmjsema",
        "colab_type": "code",
        "outputId": "5ad34efc-a620-423f-de1e-8bdd447eccee",
        "colab": {
          "base_uri": "https://localhost:8080/",
          "height": 34
        }
      },
      "source": [
        "# model accuracy for X_test   \n",
        "accuracy = svm_model.score(X_test, y_test) \n",
        "print(\"SVM classifier's accuracy: \", accuracy)"
      ],
      "execution_count": 36,
      "outputs": [
        {
          "output_type": "stream",
          "text": [
            "SVM classifier's accuracy:  0.528\n"
          ],
          "name": "stdout"
        }
      ]
    },
    {
      "cell_type": "code",
      "metadata": {
        "id": "igGsGMSvsgDp",
        "colab_type": "code",
        "outputId": "b759805c-1ac5-4c2f-8a55-38382497f81f",
        "colab": {
          "base_uri": "https://localhost:8080/",
          "height": 102
        }
      },
      "source": [
        "# creating a confusion matrix \n",
        "cm = confusion_matrix(y_test, svm_predictions) \n",
        "print(\"SVM classifier's confusion_matrix:\")\n",
        "print(cm)"
      ],
      "execution_count": 37,
      "outputs": [
        {
          "output_type": "stream",
          "text": [
            "SVM classifier's confusion_matrix:\n",
            "[[ 18   1   0  44]\n",
            " [ 24   0   0  16]\n",
            " [  6   0   0  21]\n",
            " [  6   0   0 114]]\n"
          ],
          "name": "stdout"
        }
      ]
    },
    {
      "cell_type": "markdown",
      "metadata": {
        "id": "KUnSoO5ksjA5",
        "colab_type": "text"
      },
      "source": [
        "##### c. Decision tree classifier\n"
      ]
    },
    {
      "cell_type": "markdown",
      "metadata": {
        "id": "z5xXVqJ3ssbr",
        "colab_type": "text"
      },
      "source": [
        "###### i. Import libraries\n"
      ]
    },
    {
      "cell_type": "code",
      "metadata": {
        "id": "jDT_xjhvsorV",
        "colab_type": "code",
        "colab": {}
      },
      "source": [
        "from sklearn.tree import DecisionTreeClassifier \n",
        "from sklearn.metrics import confusion_matrix \n",
        "from sklearn.model_selection import train_test_split"
      ],
      "execution_count": 0,
      "outputs": []
    },
    {
      "cell_type": "markdown",
      "metadata": {
        "id": "5F6ri5QkvCCq",
        "colab_type": "text"
      },
      "source": [
        "###### ii. Train model"
      ]
    },
    {
      "cell_type": "code",
      "metadata": {
        "id": "SGyIVlIeszrd",
        "colab_type": "code",
        "colab": {}
      },
      "source": [
        "# X -> features, y -> label \n",
        "random_train = train.sample(n = 5000) \n",
        "X = random_train.iloc[:,5:8]\n",
        "y = random_train[\"accuracy_group\"]"
      ],
      "execution_count": 0,
      "outputs": []
    },
    {
      "cell_type": "code",
      "metadata": {
        "id": "l9CP0Wnqs1YO",
        "colab_type": "code",
        "outputId": "29e53cc9-974c-44c0-d1bb-85d56109bc32",
        "colab": {
          "base_uri": "https://localhost:8080/",
          "height": 85
        }
      },
      "source": [
        "# dividing X, y into train and test data \n",
        "X_train, X_test, y_train, y_test = train_test_split(X, y, random_state = 0) \n",
        "print(\"X_train.shape\", X_train.shape)\n",
        "print(\"y_train.shape\", y_train.shape)\n",
        "print(\"X_test.shape:\", X_test.shape)\n",
        "print(\"y_test.shape:\", y_test.shape)"
      ],
      "execution_count": 40,
      "outputs": [
        {
          "output_type": "stream",
          "text": [
            "X_train.shape (3750, 3)\n",
            "y_train.shape (3750,)\n",
            "X_test.shape: (1250, 3)\n",
            "y_test.shape: (1250,)\n"
          ],
          "name": "stdout"
        }
      ]
    },
    {
      "cell_type": "code",
      "metadata": {
        "id": "8mMww3P_s3K0",
        "colab_type": "code",
        "colab": {}
      },
      "source": [
        "# training a Descision Tree Classifier \n",
        "dtree_model = DecisionTreeClassifier(max_depth = 2).fit(X_train, y_train) \n",
        "dtree_predictions = dtree_model.predict(X_test) "
      ],
      "execution_count": 0,
      "outputs": []
    },
    {
      "cell_type": "code",
      "metadata": {
        "id": "V7AqPwdxs404",
        "colab_type": "code",
        "outputId": "a345d3ea-a3f1-47c5-b646-53df812ae2de",
        "colab": {
          "base_uri": "https://localhost:8080/",
          "height": 34
        }
      },
      "source": [
        "# accuracy on X_test \n",
        "accuracy = dtree_model.score(X_test, y_test) \n",
        "print(\"Decision tree classifier's accuracy: \", accuracy)"
      ],
      "execution_count": 42,
      "outputs": [
        {
          "output_type": "stream",
          "text": [
            "Decision tree classifier's accuracy:  0.7216\n"
          ],
          "name": "stdout"
        }
      ]
    },
    {
      "cell_type": "code",
      "metadata": {
        "id": "z_qL9Bids6p5",
        "colab_type": "code",
        "outputId": "13d0b412-a8c8-4d2d-865f-d7b2448986da",
        "colab": {
          "base_uri": "https://localhost:8080/",
          "height": 102
        }
      },
      "source": [
        "# creating a confusion matrix \n",
        "dtree_predictions = dtree_model.predict(X_test)  \n",
        "cm = confusion_matrix(y_test, dtree_predictions) \n",
        "print(\"Decision tree classifier's confusion_matrix:\")\n",
        "cm"
      ],
      "execution_count": 43,
      "outputs": [
        {
          "output_type": "stream",
          "text": [
            "Decision tree classifier's confusion_matrix:\n"
          ],
          "name": "stdout"
        },
        {
          "output_type": "execute_result",
          "data": {
            "text/plain": [
              "array([[285,   0,   0,   0],\n",
              "       [ 31, 142,   0,   8],\n",
              "       [ 18,  76,   0,  70],\n",
              "       [ 66,  79,   0, 475]])"
            ]
          },
          "metadata": {
            "tags": []
          },
          "execution_count": 43
        }
      ]
    },
    {
      "cell_type": "markdown",
      "metadata": {
        "id": "fIzo9nmItAU0",
        "colab_type": "text"
      },
      "source": [
        "#### d. KNN (k-nearest neighbours) classifier \n"
      ]
    },
    {
      "cell_type": "markdown",
      "metadata": {
        "id": "5ltQbHSMtCpe",
        "colab_type": "text"
      },
      "source": [
        "###### i. Import libraries"
      ]
    },
    {
      "cell_type": "code",
      "metadata": {
        "id": "XEtFVFzntEIH",
        "colab_type": "code",
        "colab": {}
      },
      "source": [
        "from sklearn.neighbors import KNeighborsClassifier \n",
        "from sklearn.metrics import confusion_matrix \n",
        "from sklearn.model_selection import train_test_split "
      ],
      "execution_count": 0,
      "outputs": []
    },
    {
      "cell_type": "markdown",
      "metadata": {
        "id": "jRPvRllptGJE",
        "colab_type": "text"
      },
      "source": [
        "###### ii. Train model"
      ]
    },
    {
      "cell_type": "code",
      "metadata": {
        "id": "QRPpPzjatH1-",
        "colab_type": "code",
        "colab": {}
      },
      "source": [
        "# X -> features, y -> label \n",
        "random_train = train.sample(n = 5000) \n",
        "X = random_train.iloc[:,5:8]\n",
        "y = random_train[\"accuracy_group\"]"
      ],
      "execution_count": 0,
      "outputs": []
    },
    {
      "cell_type": "code",
      "metadata": {
        "id": "4PucIAJwtLnI",
        "colab_type": "code",
        "outputId": "2e3320e9-85ab-4aed-9466-379eabd9fe4a",
        "colab": {
          "base_uri": "https://localhost:8080/",
          "height": 85
        }
      },
      "source": [
        "# dividing X, y into train and test data \n",
        "X_train, X_test, y_train, y_test = train_test_split(X, y, random_state = 0) \n",
        "print(\"X_train.shape\", X_train.shape)\n",
        "print(\"y_train.shape\", y_train.shape)\n",
        "print(\"X_test.shape:\", X_test.shape)\n",
        "print(\"y_test.shape:\", y_test.shape)"
      ],
      "execution_count": 46,
      "outputs": [
        {
          "output_type": "stream",
          "text": [
            "X_train.shape (3750, 3)\n",
            "y_train.shape (3750,)\n",
            "X_test.shape: (1250, 3)\n",
            "y_test.shape: (1250,)\n"
          ],
          "name": "stdout"
        }
      ]
    },
    {
      "cell_type": "code",
      "metadata": {
        "id": "pUxW3JlItNE6",
        "colab_type": "code",
        "colab": {}
      },
      "source": [
        "# training a KNN classifier \n",
        "knn = KNeighborsClassifier(n_neighbors = 7).fit(X_train, y_train) "
      ],
      "execution_count": 0,
      "outputs": []
    },
    {
      "cell_type": "code",
      "metadata": {
        "id": "Y2hn-hyVtOWA",
        "colab_type": "code",
        "outputId": "1a52c856-fe68-415a-9502-9b7bd2ac2cec",
        "colab": {
          "base_uri": "https://localhost:8080/",
          "height": 34
        }
      },
      "source": [
        "# accuracy on X_test \n",
        "accuracy = knn.score(X_test, y_test) \n",
        "print(\"KNN classifier's accuracy: \", accuracy)"
      ],
      "execution_count": 48,
      "outputs": [
        {
          "output_type": "stream",
          "text": [
            "KNN classifier's accuracy:  0.6912\n"
          ],
          "name": "stdout"
        }
      ]
    },
    {
      "cell_type": "code",
      "metadata": {
        "id": "5T3aQKUktQA6",
        "colab_type": "code",
        "outputId": "bf7ff7c2-267b-4aac-dfa1-c9081f74fab6",
        "colab": {
          "base_uri": "https://localhost:8080/",
          "height": 102
        }
      },
      "source": [
        "# creating a confusion matrix \n",
        "knn_predictions = knn.predict(X_test)  \n",
        "cm = confusion_matrix(y_test, knn_predictions) \n",
        "print(\"KNN classifier's confusion_matrix:\")\n",
        "cm"
      ],
      "execution_count": 49,
      "outputs": [
        {
          "output_type": "stream",
          "text": [
            "KNN classifier's confusion_matrix:\n"
          ],
          "name": "stdout"
        },
        {
          "output_type": "execute_result",
          "data": {
            "text/plain": [
              "array([[266,  13,   0,  19],\n",
              "       [ 33,  83,  18,  35],\n",
              "       [ 24,  29,  27,  91],\n",
              "       [ 43,  40,  41, 488]])"
            ]
          },
          "metadata": {
            "tags": []
          },
          "execution_count": 49
        }
      ]
    },
    {
      "cell_type": "markdown",
      "metadata": {
        "id": "oC2JO97JB0Ff",
        "colab_type": "text"
      },
      "source": [
        "### Feature Extraction\n",
        "---"
      ]
    },
    {
      "cell_type": "markdown",
      "metadata": {
        "id": "40NjLLCVB_LF",
        "colab_type": "text"
      },
      "source": [
        "As we could see, the information we could get from the train data are limited, so we decided to flattem the `event_data` which is in json formt in the train table. Then we did some feature extraction and visualization on it.   \n"
      ]
    },
    {
      "cell_type": "markdown",
      "metadata": {
        "id": "kUPzsnWGD9VO",
        "colab_type": "text"
      },
      "source": [
        "#### a. Flatten and Feature Extraction"
      ]
    },
    {
      "cell_type": "code",
      "metadata": {
        "id": "QXKpbmuGDRSS",
        "colab_type": "code",
        "colab": {}
      },
      "source": [
        "def num_unique_days(timestamps):\n",
        "\treturn pd.to_datetime(timestamps).apply(lambda x: x.date()).unique().size\n",
        "\n",
        "def days_since_first_event(timestamps):\n",
        "\tdates = pd.to_datetime(timestamps).apply(lambda x: x.date())\n",
        "\treturn dates.max() - dates.min()\n",
        "\n",
        "def get_events_before_game_session(events, game_session):\n",
        "\tgame_session_index = events.index[(events.game_session_x == game_session)]\n",
        "\tif not game_session_index.empty:\n",
        "\t\treturn events.loc[:game_session_index[-1]]\n",
        "\telse:\n",
        "\t\treturn events\n",
        "\n",
        "def group_by_game_session_and_sum(events, columns):\n",
        "\t\"\"\"\n",
        "\tsome columns are rolling counts by game session, \n",
        "\ttake the max value of each game session then some for totals\n",
        "\t\"\"\"\n",
        "\tseries = pd.Series()\n",
        "\tfor c in columns:\n",
        "\t\tseries[c] = events.groupby('game_session')[c].max().sum()\n",
        "\treturn series\n",
        "\n",
        "\n",
        "def summarize_events(events):\n",
        "\t\"\"\"\n",
        "\ttakes a dataframe of events and returns a pd.Series with aggregate/summary values\n",
        "\t\"\"\"\n",
        "\tevents = events.sort_values('timestamp').reset_index()\n",
        "\tevents = events.rename(columns={'game_session_x': 'game_session'}, errors='ignore')\n",
        "\tnumeric_rows = ['event_count', 'game_time']\n",
        "\taggregates = group_by_game_session_and_sum(events, numeric_rows)\n",
        "\taggregates['game_time'] = aggregates['game_time'] / 1000\n",
        "\taggregates['num_unique_days'] = num_unique_days(events['timestamp'])\n",
        "\taggregates['elapsed_days'] = days_since_first_event(events['timestamp'])\n",
        "\taggregates['last_world'] = events.tail(1)['world'].values[0]\n",
        "\taggregates['last_game_session'] = events.tail(1)['game_session'].values[0]\n",
        "\taggregates['type_counts'] = events.type.value_counts()\n",
        "\taggregates['unique_game_sessions'] = events.game_session.unique().size\n",
        "\treturn aggregates\n",
        "\n",
        "def summarize_events_before_game_session(events, game_session):\n",
        "\t# game_session = events['game_session_y'].min()\n",
        "\tevents_before = get_events_before_game_session(events, game_session)\n",
        "\taggregates = summarize_events(events_before)\n",
        "\tlabels = events[['title_y', 'num_correct',\n",
        "       'num_incorrect', 'accuracy', 'accuracy_group']].iloc[0]\n",
        "\trow = aggregates.append(labels)\n",
        "\treturn row\n",
        "\n",
        "\n",
        "def get_basic_user_features(train_data, train_labels):\n",
        "\ttrain_w_labels = train_data[['event_id', 'game_session', 'timestamp', 'installation_id', 'event_count', 'event_code', 'game_time', 'title',\n",
        "           'type', 'world']].merge(train_labels, on='installation_id')\n",
        "\tgroups = train_w_labels.groupby(['installation_id', 'game_session_y'])\n",
        "\tfeatures = groups.apply(lambda x: summarize_events_before_game_session(x, game_session=x.name[1])).reset_index()\n",
        "\texpanded_counts = features.type_counts.apply(pd.Series)\n",
        "\t# rename the type count columns\n",
        "\texpanded_counts.columns = [c.lower()+'_ct' for c in expanded_counts.columns]\n",
        "\treturn pd.concat([features.drop(['type_counts'], axis=1), expanded_counts], axis=1)\n",
        "\n",
        "\n"
      ],
      "execution_count": 0,
      "outputs": []
    },
    {
      "cell_type": "markdown",
      "metadata": {
        "id": "9rS_cYV4D2YU",
        "colab_type": "text"
      },
      "source": [
        "#### b. Visualization "
      ]
    },
    {
      "cell_type": "code",
      "metadata": {
        "id": "e3u2kXJXD2DN",
        "colab_type": "code",
        "colab": {}
      },
      "source": [
        "%load_ext autoreload\n",
        "%autoreload 2\n",
        "import seaborn as sns"
      ],
      "execution_count": 0,
      "outputs": []
    },
    {
      "cell_type": "code",
      "metadata": {
        "id": "SElRcyqPFR0t",
        "colab_type": "code",
        "outputId": "685430c1-a4e3-4e51-951e-24d07ec6809f",
        "colab": {
          "base_uri": "https://localhost:8080/",
          "height": 34
        }
      },
      "source": [
        "df_train.installation_id.unique().size"
      ],
      "execution_count": 52,
      "outputs": [
        {
          "output_type": "execute_result",
          "data": {
            "text/plain": [
              "4242"
            ]
          },
          "metadata": {
            "tags": []
          },
          "execution_count": 52
        }
      ]
    },
    {
      "cell_type": "code",
      "metadata": {
        "id": "hMVdcsiXFTRY",
        "colab_type": "code",
        "outputId": "8fb0a371-b769-4ada-8b46-24179ff9a393",
        "colab": {
          "base_uri": "https://localhost:8080/",
          "height": 85
        }
      },
      "source": [
        "df_train.columns"
      ],
      "execution_count": 53,
      "outputs": [
        {
          "output_type": "execute_result",
          "data": {
            "text/plain": [
              "Index(['event_id', 'game_session', 'timestamp', 'event_data',\n",
              "       'installation_id', 'event_count', 'event_code', 'game_time', 'title',\n",
              "       'type', 'world'],\n",
              "      dtype='object')"
            ]
          },
          "metadata": {
            "tags": []
          },
          "execution_count": 53
        }
      ]
    },
    {
      "cell_type": "code",
      "metadata": {
        "id": "36a5cOWrFUvq",
        "colab_type": "code",
        "outputId": "958acfd6-435c-422e-8049-80c4c4c6a399",
        "colab": {
          "base_uri": "https://localhost:8080/",
          "height": 68
        }
      },
      "source": [
        "df_train_label.columns"
      ],
      "execution_count": 54,
      "outputs": [
        {
          "output_type": "execute_result",
          "data": {
            "text/plain": [
              "Index(['game_session', 'installation_id', 'title', 'num_correct',\n",
              "       'num_incorrect', 'accuracy', 'accuracy_group'],\n",
              "      dtype='object')"
            ]
          },
          "metadata": {
            "tags": []
          },
          "execution_count": 54
        }
      ]
    },
    {
      "cell_type": "code",
      "metadata": {
        "id": "YZBm2MEvFWLL",
        "colab_type": "code",
        "outputId": "afcb3fa9-1ae1-4cc1-af5b-b63656709523",
        "colab": {
          "base_uri": "https://localhost:8080/",
          "height": 297
        }
      },
      "source": [
        "sns.violinplot(np.log(df_train.installation_id.value_counts()))"
      ],
      "execution_count": 55,
      "outputs": [
        {
          "output_type": "execute_result",
          "data": {
            "text/plain": [
              "<matplotlib.axes._subplots.AxesSubplot at 0x7f383f6fa358>"
            ]
          },
          "metadata": {
            "tags": []
          },
          "execution_count": 55
        },
        {
          "output_type": "display_data",
          "data": {
            "image/png": "[encoded data removed]",
            "text/plain": [
              "<Figure size 432x288 with 1 Axes>"
            ]
          },
          "metadata": {
            "tags": []
          }
        }
      ]
    },
    {
      "cell_type": "code",
      "metadata": {
        "id": "UkU0P352FXs7",
        "colab_type": "code",
        "outputId": "4d74aec7-0d76-4ce9-a93b-9a3f40ebd2d1",
        "colab": {
          "base_uri": "https://localhost:8080/",
          "height": 297
        }
      },
      "source": [
        "sns.violinplot(np.log(df_train.event_id.value_counts()))"
      ],
      "execution_count": 56,
      "outputs": [
        {
          "output_type": "execute_result",
          "data": {
            "text/plain": [
              "<matplotlib.axes._subplots.AxesSubplot at 0x7f383f637fd0>"
            ]
          },
          "metadata": {
            "tags": []
          },
          "execution_count": 56
        },
        {
          "output_type": "display_data",
          "data": {
            "image/png": "[encoded data removed]",
            "text/plain": [
              "<Figure size 432x288 with 1 Axes>"
            ]
          },
          "metadata": {
            "tags": []
          }
        }
      ]
    },
    {
      "cell_type": "code",
      "metadata": {
        "id": "F5vWwX-fFZt0",
        "colab_type": "code",
        "colab": {}
      },
      "source": [
        "def get_worst_score(group):\n",
        "    return group.sort_values('accuracy_group').iloc[0]\n",
        "\n",
        "labels = df_train_label.groupby(['installation_id', 'title']).apply(get_worst_score).reset_index(drop=True)"
      ],
      "execution_count": 0,
      "outputs": []
    },
    {
      "cell_type": "code",
      "metadata": {
        "id": "JKM-0ZitFbid",
        "colab_type": "code",
        "colab": {}
      },
      "source": [
        "feats = get_basic_user_features(df_train, labels)"
      ],
      "execution_count": 0,
      "outputs": []
    },
    {
      "cell_type": "code",
      "metadata": {
        "id": "1KWYmxSKFdsm",
        "colab_type": "code",
        "colab": {}
      },
      "source": [
        "feats['game_time'] = feats['game_time'] / 1000"
      ],
      "execution_count": 0,
      "outputs": []
    },
    {
      "cell_type": "code",
      "metadata": {
        "id": "rRLucyWaFfNw",
        "colab_type": "code",
        "colab": {
          "base_uri": "https://localhost:8080/",
          "height": 34
        },
        "outputId": "a11e0dfd-7cc3-4805-fa44-a557007a31d8"
      },
      "source": [
        "feats.shape"
      ],
      "execution_count": 60,
      "outputs": [
        {
          "output_type": "execute_result",
          "data": {
            "text/plain": [
              "(9386, 18)"
            ]
          },
          "metadata": {
            "tags": []
          },
          "execution_count": 60
        }
      ]
    },
    {
      "cell_type": "code",
      "metadata": {
        "id": "skW4rYKPFgb6",
        "colab_type": "code",
        "colab": {
          "base_uri": "https://localhost:8080/",
          "height": 297
        },
        "outputId": "5b74c168-d58b-4b3c-8f09-fa5444a655fc"
      },
      "source": [
        "sns.violinplot(np.log(feats.event_count))"
      ],
      "execution_count": 61,
      "outputs": [
        {
          "output_type": "execute_result",
          "data": {
            "text/plain": [
              "<matplotlib.axes._subplots.AxesSubplot at 0x7f382c88e6d8>"
            ]
          },
          "metadata": {
            "tags": []
          },
          "execution_count": 61
        },
        {
          "output_type": "display_data",
          "data": {
            "image/png": "[encoded data removed]",
            "text/plain": [
              "<Figure size 432x288 with 1 Axes>"
            ]
          },
          "metadata": {
            "tags": []
          }
        }
      ]
    },
    {
      "cell_type": "code",
      "metadata": {
        "id": "3xxYX-M_Fixw",
        "colab_type": "code",
        "colab": {
          "base_uri": "https://localhost:8080/",
          "height": 297
        },
        "outputId": "a58d1c93-7b5b-43a6-ccfb-b86c1bd31318"
      },
      "source": [
        "sns.violinplot(feats.installation_id.value_counts())"
      ],
      "execution_count": 62,
      "outputs": [
        {
          "output_type": "execute_result",
          "data": {
            "text/plain": [
              "<matplotlib.axes._subplots.AxesSubplot at 0x7f382c9313c8>"
            ]
          },
          "metadata": {
            "tags": []
          },
          "execution_count": 62
        },
        {
          "output_type": "display_data",
          "data": {
            "image/png": "[encoded data removed]",
            "text/plain": [
              "<Figure size 432x288 with 1 Axes>"
            ]
          },
          "metadata": {
            "tags": []
          }
        }
      ]
    },
    {
      "cell_type": "code",
      "metadata": {
        "id": "Ns7MkDoEFkz6",
        "colab_type": "code",
        "colab": {}
      },
      "source": [
        "feats.to_csv('installation_features.csv', index=False)"
      ],
      "execution_count": 0,
      "outputs": []
    },
    {
      "cell_type": "code",
      "metadata": {
        "id": "6-btnIHPFnAp",
        "colab_type": "code",
        "colab": {
          "base_uri": "https://localhost:8080/",
          "height": 394
        },
        "outputId": "bf913e4e-cde4-4f4a-e556-a1c8e2baaaa3"
      },
      "source": [
        "feats.head()"
      ],
      "execution_count": 64,
      "outputs": [
        {
          "output_type": "execute_result",
          "data": {
            "text/html": [
              "<div>\n",
              "<style scoped>\n",
              "    .dataframe tbody tr th:only-of-type {\n",
              "        vertical-align: middle;\n",
              "    }\n",
              "\n",
              "    .dataframe tbody tr th {\n",
              "        vertical-align: top;\n",
              "    }\n",
              "\n",
              "    .dataframe thead th {\n",
              "        text-align: right;\n",
              "    }\n",
              "</style>\n",
              "<table border=\"1\" class=\"dataframe\">\n",
              "  <thead>\n",
              "    <tr style=\"text-align: right;\">\n",
              "      <th></th>\n",
              "      <th>installation_id</th>\n",
              "      <th>game_session_y</th>\n",
              "      <th>event_count</th>\n",
              "      <th>game_time</th>\n",
              "      <th>num_unique_days</th>\n",
              "      <th>elapsed_days</th>\n",
              "      <th>last_world</th>\n",
              "      <th>last_game_session</th>\n",
              "      <th>unique_game_sessions</th>\n",
              "      <th>title_y</th>\n",
              "      <th>num_correct</th>\n",
              "      <th>num_incorrect</th>\n",
              "      <th>accuracy</th>\n",
              "      <th>accuracy_group</th>\n",
              "      <th>activity_ct</th>\n",
              "      <th>game_ct</th>\n",
              "      <th>assessment_ct</th>\n",
              "      <th>clip_ct</th>\n",
              "    </tr>\n",
              "  </thead>\n",
              "  <tbody>\n",
              "    <tr>\n",
              "      <th>0</th>\n",
              "      <td>0006a69f</td>\n",
              "      <td>77b8ee947eb84b4e</td>\n",
              "      <td>1230</td>\n",
              "      <td>1.135</td>\n",
              "      <td>1</td>\n",
              "      <td>0 days</td>\n",
              "      <td>TREETOPCITY</td>\n",
              "      <td>77b8ee947eb84b4e</td>\n",
              "      <td>26</td>\n",
              "      <td>Bird Measurer (Assessment)</td>\n",
              "      <td>0</td>\n",
              "      <td>11</td>\n",
              "      <td>0.0</td>\n",
              "      <td>0</td>\n",
              "      <td>556.0</td>\n",
              "      <td>525.0</td>\n",
              "      <td>135.0</td>\n",
              "      <td>14.0</td>\n",
              "    </tr>\n",
              "    <tr>\n",
              "      <th>1</th>\n",
              "      <td>0006a69f</td>\n",
              "      <td>9501794defd84e4d</td>\n",
              "      <td>2201</td>\n",
              "      <td>3.488</td>\n",
              "      <td>1</td>\n",
              "      <td>0 days</td>\n",
              "      <td>TREETOPCITY</td>\n",
              "      <td>9501794defd84e4d</td>\n",
              "      <td>48</td>\n",
              "      <td>Mushroom Sorter (Assessment)</td>\n",
              "      <td>1</td>\n",
              "      <td>1</td>\n",
              "      <td>0.5</td>\n",
              "      <td>2</td>\n",
              "      <td>1103.0</td>\n",
              "      <td>845.0</td>\n",
              "      <td>229.0</td>\n",
              "      <td>24.0</td>\n",
              "    </tr>\n",
              "    <tr>\n",
              "      <th>2</th>\n",
              "      <td>0006c192</td>\n",
              "      <td>197a373a77101924</td>\n",
              "      <td>1566</td>\n",
              "      <td>1.342</td>\n",
              "      <td>2</td>\n",
              "      <td>1 days</td>\n",
              "      <td>MAGMAPEAK</td>\n",
              "      <td>197a373a77101924</td>\n",
              "      <td>26</td>\n",
              "      <td>Cauldron Filler (Assessment)</td>\n",
              "      <td>1</td>\n",
              "      <td>0</td>\n",
              "      <td>1.0</td>\n",
              "      <td>3</td>\n",
              "      <td>894.0</td>\n",
              "      <td>633.0</td>\n",
              "      <td>24.0</td>\n",
              "      <td>15.0</td>\n",
              "    </tr>\n",
              "    <tr>\n",
              "      <th>3</th>\n",
              "      <td>0006c192</td>\n",
              "      <td>957406a905d59afd</td>\n",
              "      <td>2222</td>\n",
              "      <td>2.063</td>\n",
              "      <td>4</td>\n",
              "      <td>18 days</td>\n",
              "      <td>TREETOPCITY</td>\n",
              "      <td>957406a905d59afd</td>\n",
              "      <td>48</td>\n",
              "      <td>Bird Measurer (Assessment)</td>\n",
              "      <td>1</td>\n",
              "      <td>1</td>\n",
              "      <td>0.5</td>\n",
              "      <td>2</td>\n",
              "      <td>1206.0</td>\n",
              "      <td>643.0</td>\n",
              "      <td>343.0</td>\n",
              "      <td>30.0</td>\n",
              "    </tr>\n",
              "    <tr>\n",
              "      <th>4</th>\n",
              "      <td>0006c192</td>\n",
              "      <td>b2297d292892745a</td>\n",
              "      <td>2014</td>\n",
              "      <td>1.835</td>\n",
              "      <td>4</td>\n",
              "      <td>18 days</td>\n",
              "      <td>TREETOPCITY</td>\n",
              "      <td>b2297d292892745a</td>\n",
              "      <td>44</td>\n",
              "      <td>Mushroom Sorter (Assessment)</td>\n",
              "      <td>0</td>\n",
              "      <td>4</td>\n",
              "      <td>0.0</td>\n",
              "      <td>0</td>\n",
              "      <td>1206.0</td>\n",
              "      <td>637.0</td>\n",
              "      <td>143.0</td>\n",
              "      <td>28.0</td>\n",
              "    </tr>\n",
              "  </tbody>\n",
              "</table>\n",
              "</div>"
            ],
            "text/plain": [
              "  installation_id    game_session_y  ...  assessment_ct  clip_ct\n",
              "0        0006a69f  77b8ee947eb84b4e  ...          135.0     14.0\n",
              "1        0006a69f  9501794defd84e4d  ...          229.0     24.0\n",
              "2        0006c192  197a373a77101924  ...           24.0     15.0\n",
              "3        0006c192  957406a905d59afd  ...          343.0     30.0\n",
              "4        0006c192  b2297d292892745a  ...          143.0     28.0\n",
              "\n",
              "[5 rows x 18 columns]"
            ]
          },
          "metadata": {
            "tags": []
          },
          "execution_count": 64
        }
      ]
    },
    {
      "cell_type": "code",
      "metadata": {
        "id": "Ukyr0ctKFp4X",
        "colab_type": "code",
        "colab": {
          "base_uri": "https://localhost:8080/",
          "height": 119
        },
        "outputId": "b98ff095-9057-4710-ff0e-880f118cccc5"
      },
      "source": [
        "feats.columns"
      ],
      "execution_count": 65,
      "outputs": [
        {
          "output_type": "execute_result",
          "data": {
            "text/plain": [
              "Index(['installation_id', 'game_session_y', 'event_count', 'game_time',\n",
              "       'num_unique_days', 'elapsed_days', 'last_world', 'last_game_session',\n",
              "       'unique_game_sessions', 'title_y', 'num_correct', 'num_incorrect',\n",
              "       'accuracy', 'accuracy_group', 'activity_ct', 'game_ct', 'assessment_ct',\n",
              "       'clip_ct'],\n",
              "      dtype='object')"
            ]
          },
          "metadata": {
            "tags": []
          },
          "execution_count": 65
        }
      ]
    },
    {
      "cell_type": "code",
      "metadata": {
        "id": "UOzzDvUfFrny",
        "colab_type": "code",
        "colab": {}
      },
      "source": [
        "labels_df = feats[['title_y', 'num_correct', 'num_incorrect',\n",
        "       'accuracy', 'accuracy_group', 'installation_id', 'game_session_y']].copy()\n",
        "feats_df = feats.drop(['title_y', 'num_correct', 'num_incorrect', 'installation_id', 'game_session_y', 'last_game_session',\n",
        "       'accuracy', 'accuracy_group'], axis=1)"
      ],
      "execution_count": 0,
      "outputs": []
    },
    {
      "cell_type": "code",
      "metadata": {
        "id": "orwbZJ8rFtEy",
        "colab_type": "code",
        "colab": {}
      },
      "source": [
        "feats_df['elapsed_days'] = feats_df.elapsed_days.dt.days"
      ],
      "execution_count": 0,
      "outputs": []
    },
    {
      "cell_type": "code",
      "metadata": {
        "id": "tphIywRVFuue",
        "colab_type": "code",
        "colab": {}
      },
      "source": [
        "feats_arrays = [row[1].fillna(0) for row in feats_df.iterrows()]"
      ],
      "execution_count": 0,
      "outputs": []
    },
    {
      "cell_type": "code",
      "metadata": {
        "id": "hz7lueO_FwPT",
        "colab_type": "code",
        "colab": {}
      },
      "source": [
        "from sklearn.preprocessing import OneHotEncoder\n",
        "from sklearn.linear_model import LogisticRegression\n",
        "from sklearn.model_selection import GridSearchCV\n"
      ],
      "execution_count": 0,
      "outputs": []
    },
    {
      "cell_type": "code",
      "metadata": {
        "id": "weQRfOKhFx4a",
        "colab_type": "code",
        "colab": {
          "base_uri": "https://localhost:8080/",
          "height": 1000
        },
        "outputId": "24f09560-826b-45a5-b475-e0472bf79137"
      },
      "source": [
        "feats_arrays[:100]"
      ],
      "execution_count": 70,
      "outputs": [
        {
          "output_type": "execute_result",
          "data": {
            "text/plain": [
              "[event_count                    1230\n",
              " game_time                     1.135\n",
              " num_unique_days                   1\n",
              " elapsed_days                      0\n",
              " last_world              TREETOPCITY\n",
              " unique_game_sessions             26\n",
              " activity_ct                     556\n",
              " game_ct                         525\n",
              " assessment_ct                   135\n",
              " clip_ct                          14\n",
              " Name: 0, dtype: object, event_count                    2201\n",
              " game_time                     3.488\n",
              " num_unique_days                   1\n",
              " elapsed_days                      0\n",
              " last_world              TREETOPCITY\n",
              " unique_game_sessions             48\n",
              " activity_ct                    1103\n",
              " game_ct                         845\n",
              " assessment_ct                   229\n",
              " clip_ct                          24\n",
              " Name: 1, dtype: object, event_count                  1566\n",
              " game_time                   1.342\n",
              " num_unique_days                 2\n",
              " elapsed_days                    1\n",
              " last_world              MAGMAPEAK\n",
              " unique_game_sessions           26\n",
              " activity_ct                   894\n",
              " game_ct                       633\n",
              " assessment_ct                  24\n",
              " clip_ct                        15\n",
              " Name: 2, dtype: object, event_count                    2222\n",
              " game_time                     2.063\n",
              " num_unique_days                   4\n",
              " elapsed_days                     18\n",
              " last_world              TREETOPCITY\n",
              " unique_game_sessions             48\n",
              " activity_ct                    1206\n",
              " game_ct                         643\n",
              " assessment_ct                   343\n",
              " clip_ct                          30\n",
              " Name: 3, dtype: object, event_count                    2014\n",
              " game_time                     1.835\n",
              " num_unique_days                   4\n",
              " elapsed_days                     18\n",
              " last_world              TREETOPCITY\n",
              " unique_game_sessions             44\n",
              " activity_ct                    1206\n",
              " game_ct                         637\n",
              " assessment_ct                   143\n",
              " clip_ct                          28\n",
              " Name: 4, dtype: object, event_count                      43\n",
              " game_time                     0.039\n",
              " num_unique_days                   2\n",
              " elapsed_days                     28\n",
              " last_world              TREETOPCITY\n",
              " unique_game_sessions              2\n",
              " activity_ct                       0\n",
              " game_ct                           0\n",
              " assessment_ct                    43\n",
              " clip_ct                           0\n",
              " Name: 5, dtype: object, event_count                     162\n",
              " game_time                     0.135\n",
              " num_unique_days                   1\n",
              " elapsed_days                      0\n",
              " last_world              TREETOPCITY\n",
              " unique_game_sessions             13\n",
              " activity_ct                       0\n",
              " game_ct                           0\n",
              " assessment_ct                   152\n",
              " clip_ct                          10\n",
              " Name: 6, dtype: object, event_count                      409\n",
              " game_time                      0.498\n",
              " num_unique_days                    1\n",
              " elapsed_days                       0\n",
              " last_world              CRYSTALCAVES\n",
              " unique_game_sessions              29\n",
              " activity_ct                       12\n",
              " game_ct                          176\n",
              " assessment_ct                    202\n",
              " clip_ct                           19\n",
              " Name: 7, dtype: object, event_count                      294\n",
              " game_time                       0.29\n",
              " num_unique_days                    1\n",
              " elapsed_days                       0\n",
              " last_world              CRYSTALCAVES\n",
              " unique_game_sessions              23\n",
              " activity_ct                        0\n",
              " game_ct                          112\n",
              " assessment_ct                    165\n",
              " clip_ct                           17\n",
              " Name: 8, dtype: object, event_count                      70\n",
              " game_time                     0.051\n",
              " num_unique_days                   1\n",
              " elapsed_days                      0\n",
              " last_world              TREETOPCITY\n",
              " unique_game_sessions              7\n",
              " activity_ct                       0\n",
              " game_ct                           0\n",
              " assessment_ct                    64\n",
              " clip_ct                           6\n",
              " Name: 9, dtype: object, event_count                     641\n",
              " game_time                      0.58\n",
              " num_unique_days                   2\n",
              " elapsed_days                      1\n",
              " last_world              TREETOPCITY\n",
              " unique_game_sessions             18\n",
              " activity_ct                     211\n",
              " game_ct                         355\n",
              " assessment_ct                    65\n",
              " clip_ct                          10\n",
              " Name: 10, dtype: object, event_count                     2635\n",
              " game_time                      5.025\n",
              " num_unique_days                    1\n",
              " elapsed_days                       0\n",
              " last_world              CRYSTALCAVES\n",
              " unique_game_sessions              43\n",
              " activity_ct                     1129\n",
              " game_ct                         1350\n",
              " assessment_ct                    135\n",
              " clip_ct                           21\n",
              " Name: 11, dtype: object, event_count                    2406\n",
              " game_time                       3.2\n",
              " num_unique_days                   1\n",
              " elapsed_days                      0\n",
              " last_world              TREETOPCITY\n",
              " unique_game_sessions             39\n",
              " activity_ct                    1027\n",
              " game_ct                        1262\n",
              " assessment_ct                    99\n",
              " clip_ct                          18\n",
              " Name: 12, dtype: object, event_count                     2535\n",
              " game_time                      3.379\n",
              " num_unique_days                    2\n",
              " elapsed_days                       1\n",
              " last_world              CRYSTALCAVES\n",
              " unique_game_sessions              43\n",
              " activity_ct                     1027\n",
              " game_ct                         1262\n",
              " assessment_ct                    226\n",
              " clip_ct                           20\n",
              " Name: 13, dtype: object, event_count                  2894\n",
              " game_time                   4.012\n",
              " num_unique_days                 2\n",
              " elapsed_days                    1\n",
              " last_world              MAGMAPEAK\n",
              " unique_game_sessions           49\n",
              " activity_ct                  1289\n",
              " game_ct                      1262\n",
              " assessment_ct                 320\n",
              " clip_ct                        23\n",
              " Name: 14, dtype: object, event_count                    3436\n",
              " game_time                     4.609\n",
              " num_unique_days                   4\n",
              " elapsed_days                      5\n",
              " last_world              TREETOPCITY\n",
              " unique_game_sessions             74\n",
              " activity_ct                    1534\n",
              " game_ct                        1402\n",
              " assessment_ct                   461\n",
              " clip_ct                          39\n",
              " Name: 15, dtype: object, event_count                      783\n",
              " game_time                      0.753\n",
              " num_unique_days                    1\n",
              " elapsed_days                       0\n",
              " last_world              CRYSTALCAVES\n",
              " unique_game_sessions              18\n",
              " activity_ct                      292\n",
              " game_ct                          427\n",
              " assessment_ct                     52\n",
              " clip_ct                           12\n",
              " Name: 16, dtype: object, event_count                     1047\n",
              " game_time                      1.206\n",
              " num_unique_days                    1\n",
              " elapsed_days                       0\n",
              " last_world              CRYSTALCAVES\n",
              " unique_game_sessions              35\n",
              " activity_ct                      317\n",
              " game_ct                          569\n",
              " assessment_ct                    139\n",
              " clip_ct                           22\n",
              " Name: 17, dtype: object, event_count                  1783\n",
              " game_time                   2.329\n",
              " num_unique_days                 2\n",
              " elapsed_days                    1\n",
              " last_world              MAGMAPEAK\n",
              " unique_game_sessions           52\n",
              " activity_ct                   538\n",
              " game_ct                       980\n",
              " assessment_ct                 238\n",
              " clip_ct                        27\n",
              " Name: 18, dtype: object, event_count                     694\n",
              " game_time                      0.73\n",
              " num_unique_days                   1\n",
              " elapsed_days                      0\n",
              " last_world              TREETOPCITY\n",
              " unique_game_sessions             21\n",
              " activity_ct                     236\n",
              " game_ct                         369\n",
              " assessment_ct                    76\n",
              " clip_ct                          13\n",
              " Name: 19, dtype: object, event_count                     1247\n",
              " game_time                      1.529\n",
              " num_unique_days                    1\n",
              " elapsed_days                       0\n",
              " last_world              CRYSTALCAVES\n",
              " unique_game_sessions              41\n",
              " activity_ct                      370\n",
              " game_ct                          652\n",
              " assessment_ct                    201\n",
              " clip_ct                           24\n",
              " Name: 20, dtype: object, event_count                     224\n",
              " game_time                     0.244\n",
              " num_unique_days                   1\n",
              " elapsed_days                      0\n",
              " last_world              TREETOPCITY\n",
              " unique_game_sessions             13\n",
              " activity_ct                     131\n",
              " game_ct                          49\n",
              " assessment_ct                    35\n",
              " clip_ct                           9\n",
              " Name: 21, dtype: object, event_count                     331\n",
              " game_time                     0.451\n",
              " num_unique_days                   3\n",
              " elapsed_days                      2\n",
              " last_world              TREETOPCITY\n",
              " unique_game_sessions             40\n",
              " activity_ct                     147\n",
              " game_ct                           7\n",
              " assessment_ct                   156\n",
              " clip_ct                          21\n",
              " Name: 22, dtype: object, event_count                   109\n",
              " game_time                   0.258\n",
              " num_unique_days                 1\n",
              " elapsed_days                    0\n",
              " last_world              MAGMAPEAK\n",
              " unique_game_sessions           17\n",
              " activity_ct                    51\n",
              " game_ct                         7\n",
              " assessment_ct                  43\n",
              " clip_ct                         8\n",
              " Name: 23, dtype: object, event_count                   167\n",
              " game_time                    0.22\n",
              " num_unique_days                 1\n",
              " elapsed_days                    0\n",
              " last_world              MAGMAPEAK\n",
              " unique_game_sessions            7\n",
              " activity_ct                     0\n",
              " game_ct                        99\n",
              " assessment_ct                  63\n",
              " clip_ct                         5\n",
              " Name: 24, dtype: object, event_count                      195\n",
              " game_time                       0.25\n",
              " num_unique_days                    1\n",
              " elapsed_days                       0\n",
              " last_world              CRYSTALCAVES\n",
              " unique_game_sessions               9\n",
              " activity_ct                        0\n",
              " game_ct                           99\n",
              " assessment_ct                     90\n",
              " clip_ct                            6\n",
              " Name: 25, dtype: object, event_count                      266\n",
              " game_time                      0.347\n",
              " num_unique_days                    1\n",
              " elapsed_days                       0\n",
              " last_world              CRYSTALCAVES\n",
              " unique_game_sessions              11\n",
              " activity_ct                        0\n",
              " game_ct                           99\n",
              " assessment_ct                    160\n",
              " clip_ct                            7\n",
              " Name: 26, dtype: object, event_count                      513\n",
              " game_time                      0.524\n",
              " num_unique_days                    7\n",
              " elapsed_days                      51\n",
              " last_world              CRYSTALCAVES\n",
              " unique_game_sessions              45\n",
              " activity_ct                      295\n",
              " game_ct                           48\n",
              " assessment_ct                    133\n",
              " clip_ct                           37\n",
              " Name: 27, dtype: object, event_count                    2028\n",
              " game_time                     2.236\n",
              " num_unique_days                  10\n",
              " elapsed_days                     35\n",
              " last_world              TREETOPCITY\n",
              " unique_game_sessions             64\n",
              " activity_ct                     559\n",
              " game_ct                         943\n",
              " assessment_ct                   499\n",
              " clip_ct                          27\n",
              " Name: 28, dtype: object, event_count                   983\n",
              " game_time                   1.133\n",
              " num_unique_days                 5\n",
              " elapsed_days                    9\n",
              " last_world              MAGMAPEAK\n",
              " unique_game_sessions           45\n",
              " activity_ct                   319\n",
              " game_ct                       496\n",
              " assessment_ct                 144\n",
              " clip_ct                        24\n",
              " Name: 29, dtype: object, event_count                    1088\n",
              " game_time                     1.228\n",
              " num_unique_days                   5\n",
              " elapsed_days                      9\n",
              " last_world              TREETOPCITY\n",
              " unique_game_sessions             48\n",
              " activity_ct                     370\n",
              " game_ct                         496\n",
              " assessment_ct                   197\n",
              " clip_ct                          25\n",
              " Name: 30, dtype: object, event_count                     1405\n",
              " game_time                      1.568\n",
              " num_unique_days                    8\n",
              " elapsed_days                      21\n",
              " last_world              CRYSTALCAVES\n",
              " unique_game_sessions              54\n",
              " activity_ct                      449\n",
              " game_ct                          678\n",
              " assessment_ct                    252\n",
              " clip_ct                           26\n",
              " Name: 31, dtype: object, event_count                      409\n",
              " game_time                      1.257\n",
              " num_unique_days                    3\n",
              " elapsed_days                       4\n",
              " last_world              CRYSTALCAVES\n",
              " unique_game_sessions              26\n",
              " activity_ct                       68\n",
              " game_ct                          104\n",
              " assessment_ct                    217\n",
              " clip_ct                           20\n",
              " Name: 32, dtype: object, event_count                      41\n",
              " game_time                     0.029\n",
              " num_unique_days                   1\n",
              " elapsed_days                      0\n",
              " last_world              TREETOPCITY\n",
              " unique_game_sessions              2\n",
              " activity_ct                       0\n",
              " game_ct                           0\n",
              " assessment_ct                    40\n",
              " clip_ct                           1\n",
              " Name: 33, dtype: object, event_count                   908\n",
              " game_time                   1.216\n",
              " num_unique_days                 3\n",
              " elapsed_days                    5\n",
              " last_world              MAGMAPEAK\n",
              " unique_game_sessions           28\n",
              " activity_ct                   794\n",
              " game_ct                        40\n",
              " assessment_ct                  55\n",
              " clip_ct                        19\n",
              " Name: 34, dtype: object, event_count                       80\n",
              " game_time                      0.089\n",
              " num_unique_days                    1\n",
              " elapsed_days                       0\n",
              " last_world              CRYSTALCAVES\n",
              " unique_game_sessions              11\n",
              " activity_ct                        2\n",
              " game_ct                           54\n",
              " assessment_ct                     17\n",
              " clip_ct                            7\n",
              " Name: 35, dtype: object, event_count                      191\n",
              " game_time                      0.257\n",
              " num_unique_days                    2\n",
              " elapsed_days                      69\n",
              " last_world              CRYSTALCAVES\n",
              " unique_game_sessions              10\n",
              " activity_ct                        0\n",
              " game_ct                          153\n",
              " assessment_ct                     30\n",
              " clip_ct                            8\n",
              " Name: 36, dtype: object, event_count                     1352\n",
              " game_time                      1.895\n",
              " num_unique_days                    2\n",
              " elapsed_days                       1\n",
              " last_world              CRYSTALCAVES\n",
              " unique_game_sessions              37\n",
              " activity_ct                      248\n",
              " game_ct                          775\n",
              " assessment_ct                    313\n",
              " clip_ct                           16\n",
              " Name: 37, dtype: object, event_count                     712\n",
              " game_time                     0.991\n",
              " num_unique_days                   1\n",
              " elapsed_days                      0\n",
              " last_world              TREETOPCITY\n",
              " unique_game_sessions             23\n",
              " activity_ct                       0\n",
              " game_ct                         534\n",
              " assessment_ct                   166\n",
              " clip_ct                          12\n",
              " Name: 38, dtype: object, event_count                     1322\n",
              " game_time                      1.854\n",
              " num_unique_days                    1\n",
              " elapsed_days                       0\n",
              " last_world              CRYSTALCAVES\n",
              " unique_game_sessions              35\n",
              " activity_ct                      248\n",
              " game_ct                          775\n",
              " assessment_ct                    284\n",
              " clip_ct                           15\n",
              " Name: 39, dtype: object, event_count                   391\n",
              " game_time                   0.583\n",
              " num_unique_days                 1\n",
              " elapsed_days                    0\n",
              " last_world              MAGMAPEAK\n",
              " unique_game_sessions           14\n",
              " activity_ct                     0\n",
              " game_ct                       329\n",
              " assessment_ct                  53\n",
              " clip_ct                         9\n",
              " Name: 40, dtype: object, event_count                     509\n",
              " game_time                     0.727\n",
              " num_unique_days                   1\n",
              " elapsed_days                      0\n",
              " last_world              TREETOPCITY\n",
              " unique_game_sessions             19\n",
              " activity_ct                       0\n",
              " game_ct                         381\n",
              " assessment_ct                   117\n",
              " clip_ct                          11\n",
              " Name: 41, dtype: object, event_count                    1150\n",
              " game_time                     1.283\n",
              " num_unique_days                   3\n",
              " elapsed_days                     13\n",
              " last_world              TREETOPCITY\n",
              " unique_game_sessions             28\n",
              " activity_ct                     263\n",
              " game_ct                         583\n",
              " assessment_ct                   291\n",
              " clip_ct                          13\n",
              " Name: 42, dtype: object, event_count                      359\n",
              " game_time                      0.434\n",
              " num_unique_days                    2\n",
              " elapsed_days                      12\n",
              " last_world              CRYSTALCAVES\n",
              " unique_game_sessions              13\n",
              " activity_ct                       83\n",
              " game_ct                          171\n",
              " assessment_ct                     99\n",
              " clip_ct                            6\n",
              " Name: 43, dtype: object, event_count                      789\n",
              " game_time                      0.925\n",
              " num_unique_days                    2\n",
              " elapsed_days                      12\n",
              " last_world              CRYSTALCAVES\n",
              " unique_game_sessions              19\n",
              " activity_ct                      152\n",
              " game_ct                          426\n",
              " assessment_ct                    203\n",
              " clip_ct                            8\n",
              " Name: 44, dtype: object, event_count                   110\n",
              " game_time                   0.124\n",
              " num_unique_days                 2\n",
              " elapsed_days                   12\n",
              " last_world              MAGMAPEAK\n",
              " unique_game_sessions            4\n",
              " activity_ct                    23\n",
              " game_ct                         0\n",
              " assessment_ct                  86\n",
              " clip_ct                         1\n",
              " Name: 45, dtype: object, event_count                    3822\n",
              " game_time                     5.268\n",
              " num_unique_days                   2\n",
              " elapsed_days                      1\n",
              " last_world              TREETOPCITY\n",
              " unique_game_sessions            115\n",
              " activity_ct                    2726\n",
              " game_ct                         866\n",
              " assessment_ct                   150\n",
              " clip_ct                          80\n",
              " Name: 46, dtype: object, event_count                     2030\n",
              " game_time                      3.015\n",
              " num_unique_days                    2\n",
              " elapsed_days                       1\n",
              " last_world              CRYSTALCAVES\n",
              " unique_game_sessions              63\n",
              " activity_ct                     1286\n",
              " game_ct                          651\n",
              " assessment_ct                     47\n",
              " clip_ct                           46\n",
              " Name: 47, dtype: object, event_count                    3663\n",
              " game_time                     5.092\n",
              " num_unique_days                   2\n",
              " elapsed_days                      1\n",
              " last_world              TREETOPCITY\n",
              " unique_game_sessions            112\n",
              " activity_ct                    2636\n",
              " game_ct                         866\n",
              " assessment_ct                    82\n",
              " clip_ct                          79\n",
              " Name: 48, dtype: object, event_count                  2434\n",
              " game_time                   3.828\n",
              " num_unique_days                 1\n",
              " elapsed_days                    0\n",
              " last_world              MAGMAPEAK\n",
              " unique_game_sessions           28\n",
              " activity_ct                   747\n",
              " game_ct                      1604\n",
              " assessment_ct                  70\n",
              " clip_ct                        13\n",
              " Name: 49, dtype: object, event_count                    3304\n",
              " game_time                      4.73\n",
              " num_unique_days                   1\n",
              " elapsed_days                      0\n",
              " last_world              TREETOPCITY\n",
              " unique_game_sessions             43\n",
              " activity_ct                    1092\n",
              " game_ct                        1993\n",
              " assessment_ct                   200\n",
              " clip_ct                          19\n",
              " Name: 50, dtype: object, event_count                    2817\n",
              " game_time                     4.225\n",
              " num_unique_days                   1\n",
              " elapsed_days                      0\n",
              " last_world              TREETOPCITY\n",
              " unique_game_sessions             35\n",
              " activity_ct                     980\n",
              " game_ct                        1701\n",
              " assessment_ct                   120\n",
              " clip_ct                          16\n",
              " Name: 51, dtype: object, event_count                     5781\n",
              " game_time                     11.905\n",
              " num_unique_days                    2\n",
              " elapsed_days                       6\n",
              " last_world              CRYSTALCAVES\n",
              " unique_game_sessions              77\n",
              " activity_ct                     1668\n",
              " game_ct                         3641\n",
              " assessment_ct                    439\n",
              " clip_ct                           33\n",
              " Name: 52, dtype: object, event_count                     3718\n",
              " game_time                      5.235\n",
              " num_unique_days                    1\n",
              " elapsed_days                       0\n",
              " last_world              CRYSTALCAVES\n",
              " unique_game_sessions              50\n",
              " activity_ct                     1215\n",
              " game_ct                         2230\n",
              " assessment_ct                    252\n",
              " clip_ct                           21\n",
              " Name: 53, dtype: object, event_count                     573\n",
              " game_time                     0.615\n",
              " num_unique_days                   2\n",
              " elapsed_days                      4\n",
              " last_world              TREETOPCITY\n",
              " unique_game_sessions             12\n",
              " activity_ct                     236\n",
              " game_ct                         167\n",
              " assessment_ct                   165\n",
              " clip_ct                           5\n",
              " Name: 54, dtype: object, event_count                     206\n",
              " game_time                     0.224\n",
              " num_unique_days                   2\n",
              " elapsed_days                      4\n",
              " last_world              TREETOPCITY\n",
              " unique_game_sessions              8\n",
              " activity_ct                     106\n",
              " game_ct                           0\n",
              " assessment_ct                    96\n",
              " clip_ct                           4\n",
              " Name: 55, dtype: object, event_count                     523\n",
              " game_time                      0.55\n",
              " num_unique_days                   2\n",
              " elapsed_days                     38\n",
              " last_world              TREETOPCITY\n",
              " unique_game_sessions              6\n",
              " activity_ct                     337\n",
              " game_ct                         155\n",
              " assessment_ct                    30\n",
              " clip_ct                           1\n",
              " Name: 56, dtype: object, event_count                    1529\n",
              " game_time                     2.224\n",
              " num_unique_days                   3\n",
              " elapsed_days                     15\n",
              " last_world              TREETOPCITY\n",
              " unique_game_sessions             26\n",
              " activity_ct                     684\n",
              " game_ct                         768\n",
              " assessment_ct                    63\n",
              " clip_ct                          14\n",
              " Name: 57, dtype: object, event_count                      105\n",
              " game_time                      0.113\n",
              " num_unique_days                    2\n",
              " elapsed_days                      23\n",
              " last_world              CRYSTALCAVES\n",
              " unique_game_sessions               7\n",
              " activity_ct                        0\n",
              " game_ct                           69\n",
              " assessment_ct                     31\n",
              " clip_ct                            5\n",
              " Name: 58, dtype: object, event_count                      596\n",
              " game_time                      0.718\n",
              " num_unique_days                    4\n",
              " elapsed_days                      52\n",
              " last_world              CRYSTALCAVES\n",
              " unique_game_sessions              16\n",
              " activity_ct                      159\n",
              " game_ct                          265\n",
              " assessment_ct                    165\n",
              " clip_ct                            7\n",
              " Name: 59, dtype: object, event_count                      579\n",
              " game_time                       1.18\n",
              " num_unique_days                    1\n",
              " elapsed_days                       0\n",
              " last_world              CRYSTALCAVES\n",
              " unique_game_sessions              22\n",
              " activity_ct                       73\n",
              " game_ct                          457\n",
              " assessment_ct                     36\n",
              " clip_ct                           13\n",
              " Name: 60, dtype: object, event_count                     1818\n",
              " game_time                      2.656\n",
              " num_unique_days                    3\n",
              " elapsed_days                       2\n",
              " last_world              CRYSTALCAVES\n",
              " unique_game_sessions              42\n",
              " activity_ct                      297\n",
              " game_ct                         1412\n",
              " assessment_ct                     81\n",
              " clip_ct                           23\n",
              " Name: 61, dtype: object, event_count                    1863\n",
              " game_time                     2.719\n",
              " num_unique_days                   3\n",
              " elapsed_days                      2\n",
              " last_world              TREETOPCITY\n",
              " unique_game_sessions             43\n",
              " activity_ct                     297\n",
              " game_ct                        1412\n",
              " assessment_ct                   126\n",
              " clip_ct                          23\n",
              " Name: 62, dtype: object, event_count                  2210\n",
              " game_time                   2.882\n",
              " num_unique_days                 5\n",
              " elapsed_days                   42\n",
              " last_world              MAGMAPEAK\n",
              " unique_game_sessions           57\n",
              " activity_ct                   596\n",
              " game_ct                      1379\n",
              " assessment_ct                 205\n",
              " clip_ct                        30\n",
              " Name: 63, dtype: object, event_count                     1719\n",
              " game_time                      2.289\n",
              " num_unique_days                    4\n",
              " elapsed_days                      35\n",
              " last_world              CRYSTALCAVES\n",
              " unique_game_sessions              39\n",
              " activity_ct                      393\n",
              " game_ct                         1131\n",
              " assessment_ct                    174\n",
              " clip_ct                           21\n",
              " Name: 64, dtype: object, event_count                      464\n",
              " game_time                       0.47\n",
              " num_unique_days                    1\n",
              " elapsed_days                       0\n",
              " last_world              CRYSTALCAVES\n",
              " unique_game_sessions               8\n",
              " activity_ct                      116\n",
              " game_ct                          317\n",
              " assessment_ct                     27\n",
              " clip_ct                            4\n",
              " Name: 65, dtype: object, event_count                      364\n",
              " game_time                      0.399\n",
              " num_unique_days                    2\n",
              " elapsed_days                      21\n",
              " last_world              CRYSTALCAVES\n",
              " unique_game_sessions               5\n",
              " activity_ct                        0\n",
              " game_ct                          298\n",
              " assessment_ct                     64\n",
              " clip_ct                            2\n",
              " Name: 66, dtype: object, event_count                    1266\n",
              " game_time                     1.569\n",
              " num_unique_days                   2\n",
              " elapsed_days                     11\n",
              " last_world              TREETOPCITY\n",
              " unique_game_sessions             24\n",
              " activity_ct                     499\n",
              " game_ct                         518\n",
              " assessment_ct                   238\n",
              " clip_ct                          11\n",
              " Name: 67, dtype: object, event_count                     270\n",
              " game_time                     0.273\n",
              " num_unique_days                   1\n",
              " elapsed_days                      0\n",
              " last_world              TREETOPCITY\n",
              " unique_game_sessions              2\n",
              " activity_ct                       0\n",
              " game_ct                         201\n",
              " assessment_ct                    69\n",
              " clip_ct                           0\n",
              " Name: 68, dtype: object, event_count                    2245\n",
              " game_time                     2.784\n",
              " num_unique_days                   1\n",
              " elapsed_days                      0\n",
              " last_world              TREETOPCITY\n",
              " unique_game_sessions             42\n",
              " activity_ct                     726\n",
              " game_ct                        1326\n",
              " assessment_ct                   169\n",
              " clip_ct                          24\n",
              " Name: 69, dtype: object, event_count                    2673\n",
              " game_time                     3.422\n",
              " num_unique_days                   1\n",
              " elapsed_days                      0\n",
              " last_world              TREETOPCITY\n",
              " unique_game_sessions             49\n",
              " activity_ct                     847\n",
              " game_ct                        1568\n",
              " assessment_ct                   231\n",
              " clip_ct                          27\n",
              " Name: 70, dtype: object, event_count                      442\n",
              " game_time                      0.516\n",
              " num_unique_days                    1\n",
              " elapsed_days                       0\n",
              " last_world              CRYSTALCAVES\n",
              " unique_game_sessions              16\n",
              " activity_ct                      219\n",
              " game_ct                          178\n",
              " assessment_ct                     34\n",
              " clip_ct                           11\n",
              " Name: 71, dtype: object, event_count                     1121\n",
              " game_time                       1.42\n",
              " num_unique_days                    1\n",
              " elapsed_days                       0\n",
              " last_world              CRYSTALCAVES\n",
              " unique_game_sessions              23\n",
              " activity_ct                      354\n",
              " game_ct                          621\n",
              " assessment_ct                    133\n",
              " clip_ct                           13\n",
              " Name: 72, dtype: object, event_count                      205\n",
              " game_time                      0.192\n",
              " num_unique_days                    2\n",
              " elapsed_days                      19\n",
              " last_world              CRYSTALCAVES\n",
              " unique_game_sessions               8\n",
              " activity_ct                      116\n",
              " game_ct                           55\n",
              " assessment_ct                     29\n",
              " clip_ct                            5\n",
              " Name: 73, dtype: object, event_count                   998\n",
              " game_time                   1.167\n",
              " num_unique_days                 4\n",
              " elapsed_days                   21\n",
              " last_world              MAGMAPEAK\n",
              " unique_game_sessions           25\n",
              " activity_ct                   348\n",
              " game_ct                       535\n",
              " assessment_ct                 106\n",
              " clip_ct                         9\n",
              " Name: 74, dtype: object, event_count                      309\n",
              " game_time                      0.359\n",
              " num_unique_days                    2\n",
              " elapsed_days                      19\n",
              " last_world              CRYSTALCAVES\n",
              " unique_game_sessions              13\n",
              " activity_ct                      116\n",
              " game_ct                          108\n",
              " assessment_ct                     79\n",
              " clip_ct                            6\n",
              " Name: 75, dtype: object, event_count                     369\n",
              " game_time                     0.646\n",
              " num_unique_days                   1\n",
              " elapsed_days                      0\n",
              " last_world              TREETOPCITY\n",
              " unique_game_sessions             12\n",
              " activity_ct                     263\n",
              " game_ct                          42\n",
              " assessment_ct                    58\n",
              " clip_ct                           6\n",
              " Name: 76, dtype: object, event_count                     1432\n",
              " game_time                      2.229\n",
              " num_unique_days                    2\n",
              " elapsed_days                      30\n",
              " last_world              CRYSTALCAVES\n",
              " unique_game_sessions              29\n",
              " activity_ct                      573\n",
              " game_ct                          644\n",
              " assessment_ct                    202\n",
              " clip_ct                           13\n",
              " Name: 77, dtype: object, event_count                     1206\n",
              " game_time                      1.872\n",
              " num_unique_days                    2\n",
              " elapsed_days                      30\n",
              " last_world              CRYSTALCAVES\n",
              " unique_game_sessions              25\n",
              " activity_ct                      527\n",
              " game_ct                          549\n",
              " assessment_ct                    118\n",
              " clip_ct                           12\n",
              " Name: 78, dtype: object, event_count                  2405\n",
              " game_time                   3.452\n",
              " num_unique_days                 2\n",
              " elapsed_days                   30\n",
              " last_world              MAGMAPEAK\n",
              " unique_game_sessions           48\n",
              " activity_ct                  1095\n",
              " game_ct                       940\n",
              " assessment_ct                 352\n",
              " clip_ct                        18\n",
              " Name: 79, dtype: object, event_count                     175\n",
              " game_time                     0.173\n",
              " num_unique_days                   1\n",
              " elapsed_days                      0\n",
              " last_world              TREETOPCITY\n",
              " unique_game_sessions              6\n",
              " activity_ct                     138\n",
              " game_ct                           0\n",
              " assessment_ct                    34\n",
              " clip_ct                           3\n",
              " Name: 80, dtype: object, event_count                    1874\n",
              " game_time                     2.728\n",
              " num_unique_days                   2\n",
              " elapsed_days                     30\n",
              " last_world              TREETOPCITY\n",
              " unique_game_sessions             39\n",
              " activity_ct                     851\n",
              " game_ct                         700\n",
              " assessment_ct                   307\n",
              " clip_ct                          16\n",
              " Name: 81, dtype: object, event_count                    1139\n",
              " game_time                      5.68\n",
              " num_unique_days                   3\n",
              " elapsed_days                      4\n",
              " last_world              TREETOPCITY\n",
              " unique_game_sessions             22\n",
              " activity_ct                     235\n",
              " game_ct                         710\n",
              " assessment_ct                   189\n",
              " clip_ct                           5\n",
              " Name: 82, dtype: object, event_count                     882\n",
              " game_time                     5.471\n",
              " num_unique_days                   3\n",
              " elapsed_days                      4\n",
              " last_world              TREETOPCITY\n",
              " unique_game_sessions             18\n",
              " activity_ct                     235\n",
              " game_ct                         499\n",
              " assessment_ct                   144\n",
              " clip_ct                           4\n",
              " Name: 83, dtype: object, event_count                      658\n",
              " game_time                      0.688\n",
              " num_unique_days                    2\n",
              " elapsed_days                       1\n",
              " last_world              CRYSTALCAVES\n",
              " unique_game_sessions              12\n",
              " activity_ct                      235\n",
              " game_ct                          387\n",
              " assessment_ct                     33\n",
              " clip_ct                            3\n",
              " Name: 84, dtype: object, event_count                      833\n",
              " game_time                      0.951\n",
              " num_unique_days                    2\n",
              " elapsed_days                       1\n",
              " last_world              CRYSTALCAVES\n",
              " unique_game_sessions              17\n",
              " activity_ct                      235\n",
              " game_ct                          499\n",
              " assessment_ct                     95\n",
              " clip_ct                            4\n",
              " Name: 85, dtype: object, event_count                      448\n",
              " game_time                      0.353\n",
              " num_unique_days                    1\n",
              " elapsed_days                       0\n",
              " last_world              CRYSTALCAVES\n",
              " unique_game_sessions              15\n",
              " activity_ct                       53\n",
              " game_ct                           87\n",
              " assessment_ct                    301\n",
              " clip_ct                            7\n",
              " Name: 86, dtype: object, event_count                      309\n",
              " game_time                      0.227\n",
              " num_unique_days                    1\n",
              " elapsed_days                       0\n",
              " last_world              CRYSTALCAVES\n",
              " unique_game_sessions              11\n",
              " activity_ct                       38\n",
              " game_ct                            0\n",
              " assessment_ct                    265\n",
              " clip_ct                            6\n",
              " Name: 87, dtype: object, event_count                  1422\n",
              " game_time                   1.339\n",
              " num_unique_days                 1\n",
              " elapsed_days                    0\n",
              " last_world              MAGMAPEAK\n",
              " unique_game_sessions           24\n",
              " activity_ct                   555\n",
              " game_ct                       332\n",
              " assessment_ct                 525\n",
              " clip_ct                        10\n",
              " Name: 88, dtype: object, event_count                     798\n",
              " game_time                     0.641\n",
              " num_unique_days                   1\n",
              " elapsed_days                      0\n",
              " last_world              TREETOPCITY\n",
              " unique_game_sessions             20\n",
              " activity_ct                      53\n",
              " game_ct                         330\n",
              " assessment_ct                   406\n",
              " clip_ct                           9\n",
              " Name: 89, dtype: object, event_count                     503\n",
              " game_time                     0.399\n",
              " num_unique_days                   1\n",
              " elapsed_days                      0\n",
              " last_world              TREETOPCITY\n",
              " unique_game_sessions             16\n",
              " activity_ct                      53\n",
              " game_ct                          87\n",
              " assessment_ct                   356\n",
              " clip_ct                           7\n",
              " Name: 90, dtype: object, event_count                  2537\n",
              " game_time                   4.802\n",
              " num_unique_days                 2\n",
              " elapsed_days                    8\n",
              " last_world              MAGMAPEAK\n",
              " unique_game_sessions           45\n",
              " activity_ct                  1114\n",
              " game_ct                      1180\n",
              " assessment_ct                 224\n",
              " clip_ct                        19\n",
              " Name: 91, dtype: object, event_count                    1300\n",
              " game_time                     2.984\n",
              " num_unique_days                   1\n",
              " elapsed_days                      0\n",
              " last_world              TREETOPCITY\n",
              " unique_game_sessions             27\n",
              " activity_ct                     588\n",
              " game_ct                         531\n",
              " assessment_ct                   171\n",
              " clip_ct                          10\n",
              " Name: 92, dtype: object, event_count                      879\n",
              " game_time                      2.584\n",
              " num_unique_days                    1\n",
              " elapsed_days                       0\n",
              " last_world              CRYSTALCAVES\n",
              " unique_game_sessions              17\n",
              " activity_ct                      343\n",
              " game_ct                          447\n",
              " assessment_ct                     82\n",
              " clip_ct                            7\n",
              " Name: 93, dtype: object, event_count                      730\n",
              " game_time                      0.928\n",
              " num_unique_days                    1\n",
              " elapsed_days                       0\n",
              " last_world              CRYSTALCAVES\n",
              " unique_game_sessions              14\n",
              " activity_ct                      222\n",
              " game_ct                          447\n",
              " assessment_ct                     55\n",
              " clip_ct                            6\n",
              " Name: 94, dtype: object, event_count                    2070\n",
              " game_time                      2.52\n",
              " num_unique_days                   2\n",
              " elapsed_days                     17\n",
              " last_world              TREETOPCITY\n",
              " unique_game_sessions             44\n",
              " activity_ct                    1336\n",
              " game_ct                         628\n",
              " assessment_ct                    81\n",
              " clip_ct                          25\n",
              " Name: 95, dtype: object, event_count                       54\n",
              " game_time                      0.049\n",
              " num_unique_days                    1\n",
              " elapsed_days                       0\n",
              " last_world              CRYSTALCAVES\n",
              " unique_game_sessions               2\n",
              " activity_ct                        0\n",
              " game_ct                            0\n",
              " assessment_ct                     53\n",
              " clip_ct                            1\n",
              " Name: 96, dtype: object, event_count                  1591\n",
              " game_time                   1.957\n",
              " num_unique_days                 2\n",
              " elapsed_days                   26\n",
              " last_world              MAGMAPEAK\n",
              " unique_game_sessions           34\n",
              " activity_ct                   580\n",
              " game_ct                       809\n",
              " assessment_ct                 186\n",
              " clip_ct                        16\n",
              " Name: 97, dtype: object, event_count                      134\n",
              " game_time                      0.217\n",
              " num_unique_days                    1\n",
              " elapsed_days                       0\n",
              " last_world              CRYSTALCAVES\n",
              " unique_game_sessions               2\n",
              " activity_ct                       57\n",
              " game_ct                            0\n",
              " assessment_ct                     77\n",
              " clip_ct                            0\n",
              " Name: 98, dtype: object, event_count                    1154\n",
              " game_time                     1.446\n",
              " num_unique_days                   2\n",
              " elapsed_days                     26\n",
              " last_world              TREETOPCITY\n",
              " unique_game_sessions             23\n",
              " activity_ct                     423\n",
              " game_ct                         600\n",
              " assessment_ct                   120\n",
              " clip_ct                          11\n",
              " Name: 99, dtype: object]"
            ]
          },
          "metadata": {
            "tags": []
          },
          "execution_count": 70
        }
      ]
    },
    {
      "cell_type": "code",
      "metadata": {
        "id": "o-Cp66KpF0rY",
        "colab_type": "code",
        "colab": {}
      },
      "source": [
        "OneHot = OneHotEncoder()\n",
        "train_vectors = OneHot.fit_transform(feats_arrays)"
      ],
      "execution_count": 0,
      "outputs": []
    },
    {
      "cell_type": "code",
      "metadata": {
        "id": "6nZeB68WF2Fi",
        "colab_type": "code",
        "colab": {
          "base_uri": "https://localhost:8080/",
          "height": 255
        },
        "outputId": "49112c90-8f81-4728-c940-2dec87a633a3"
      },
      "source": [
        "cv = GridSearchCV(LogisticRegression(), scoring='accuracy', param_grid={'C': [10**i for i in range(-3, 3)], 'max_iter': [1000]})\n",
        "cv.fit(train_vectors, labels_df.accuracy_group)"
      ],
      "execution_count": 72,
      "outputs": [
        {
          "output_type": "execute_result",
          "data": {
            "text/plain": [
              "GridSearchCV(cv=None, error_score=nan,\n",
              "             estimator=LogisticRegression(C=1.0, class_weight=None, dual=False,\n",
              "                                          fit_intercept=True,\n",
              "                                          intercept_scaling=1, l1_ratio=None,\n",
              "                                          max_iter=100, multi_class='auto',\n",
              "                                          n_jobs=None, penalty='l2',\n",
              "                                          random_state=None, solver='lbfgs',\n",
              "                                          tol=0.0001, verbose=0,\n",
              "                                          warm_start=False),\n",
              "             iid='deprecated', n_jobs=None,\n",
              "             param_grid={'C': [0.001, 0.01, 0.1, 1, 10, 100],\n",
              "                         'max_iter': [1000]},\n",
              "             pre_dispatch='2*n_jobs', refit=True, return_train_score=False,\n",
              "             scoring='accuracy', verbose=0)"
            ]
          },
          "metadata": {
            "tags": []
          },
          "execution_count": 72
        }
      ]
    },
    {
      "cell_type": "code",
      "metadata": {
        "id": "SOC8_bVDF3sa",
        "colab_type": "code",
        "colab": {
          "base_uri": "https://localhost:8080/",
          "height": 476
        },
        "outputId": "aefd3563-927e-4a26-9e63-a6afb4eeeb89"
      },
      "source": [
        "pd.DataFrame(cv.cv_results_)"
      ],
      "execution_count": 73,
      "outputs": [
        {
          "output_type": "execute_result",
          "data": {
            "text/html": [
              "<div>\n",
              "<style scoped>\n",
              "    .dataframe tbody tr th:only-of-type {\n",
              "        vertical-align: middle;\n",
              "    }\n",
              "\n",
              "    .dataframe tbody tr th {\n",
              "        vertical-align: top;\n",
              "    }\n",
              "\n",
              "    .dataframe thead th {\n",
              "        text-align: right;\n",
              "    }\n",
              "</style>\n",
              "<table border=\"1\" class=\"dataframe\">\n",
              "  <thead>\n",
              "    <tr style=\"text-align: right;\">\n",
              "      <th></th>\n",
              "      <th>mean_fit_time</th>\n",
              "      <th>std_fit_time</th>\n",
              "      <th>mean_score_time</th>\n",
              "      <th>std_score_time</th>\n",
              "      <th>param_C</th>\n",
              "      <th>param_max_iter</th>\n",
              "      <th>params</th>\n",
              "      <th>split0_test_score</th>\n",
              "      <th>split1_test_score</th>\n",
              "      <th>split2_test_score</th>\n",
              "      <th>split3_test_score</th>\n",
              "      <th>split4_test_score</th>\n",
              "      <th>mean_test_score</th>\n",
              "      <th>std_test_score</th>\n",
              "      <th>rank_test_score</th>\n",
              "    </tr>\n",
              "  </thead>\n",
              "  <tbody>\n",
              "    <tr>\n",
              "      <th>0</th>\n",
              "      <td>0.209421</td>\n",
              "      <td>0.020345</td>\n",
              "      <td>0.001363</td>\n",
              "      <td>0.000054</td>\n",
              "      <td>0.001</td>\n",
              "      <td>1000</td>\n",
              "      <td>{'C': 0.001, 'max_iter': 1000}</td>\n",
              "      <td>0.437167</td>\n",
              "      <td>0.441662</td>\n",
              "      <td>0.438466</td>\n",
              "      <td>0.436335</td>\n",
              "      <td>0.430474</td>\n",
              "      <td>0.436821</td>\n",
              "      <td>0.003655</td>\n",
              "      <td>3</td>\n",
              "    </tr>\n",
              "    <tr>\n",
              "      <th>1</th>\n",
              "      <td>0.389098</td>\n",
              "      <td>0.016084</td>\n",
              "      <td>0.001412</td>\n",
              "      <td>0.000048</td>\n",
              "      <td>0.01</td>\n",
              "      <td>1000</td>\n",
              "      <td>{'C': 0.01, 'max_iter': 1000}</td>\n",
              "      <td>0.452077</td>\n",
              "      <td>0.456580</td>\n",
              "      <td>0.458178</td>\n",
              "      <td>0.443261</td>\n",
              "      <td>0.459243</td>\n",
              "      <td>0.453868</td>\n",
              "      <td>0.005840</td>\n",
              "      <td>2</td>\n",
              "    </tr>\n",
              "    <tr>\n",
              "      <th>2</th>\n",
              "      <td>0.974952</td>\n",
              "      <td>0.015816</td>\n",
              "      <td>0.001405</td>\n",
              "      <td>0.000080</td>\n",
              "      <td>0.1</td>\n",
              "      <td>1000</td>\n",
              "      <td>{'C': 0.1, 'max_iter': 1000}</td>\n",
              "      <td>0.456869</td>\n",
              "      <td>0.459776</td>\n",
              "      <td>0.467768</td>\n",
              "      <td>0.443793</td>\n",
              "      <td>0.453916</td>\n",
              "      <td>0.456424</td>\n",
              "      <td>0.007822</td>\n",
              "      <td>1</td>\n",
              "    </tr>\n",
              "    <tr>\n",
              "      <th>3</th>\n",
              "      <td>2.446550</td>\n",
              "      <td>0.087726</td>\n",
              "      <td>0.001418</td>\n",
              "      <td>0.000044</td>\n",
              "      <td>1</td>\n",
              "      <td>1000</td>\n",
              "      <td>{'C': 1, 'max_iter': 1000}</td>\n",
              "      <td>0.423855</td>\n",
              "      <td>0.405434</td>\n",
              "      <td>0.426745</td>\n",
              "      <td>0.396910</td>\n",
              "      <td>0.418753</td>\n",
              "      <td>0.414339</td>\n",
              "      <td>0.011376</td>\n",
              "      <td>4</td>\n",
              "    </tr>\n",
              "    <tr>\n",
              "      <th>4</th>\n",
              "      <td>4.789923</td>\n",
              "      <td>0.108046</td>\n",
              "      <td>0.001481</td>\n",
              "      <td>0.000077</td>\n",
              "      <td>10</td>\n",
              "      <td>1000</td>\n",
              "      <td>{'C': 10, 'max_iter': 1000}</td>\n",
              "      <td>0.389776</td>\n",
              "      <td>0.381460</td>\n",
              "      <td>0.393181</td>\n",
              "      <td>0.370272</td>\n",
              "      <td>0.387853</td>\n",
              "      <td>0.384508</td>\n",
              "      <td>0.008076</td>\n",
              "      <td>5</td>\n",
              "    </tr>\n",
              "    <tr>\n",
              "      <th>5</th>\n",
              "      <td>7.600686</td>\n",
              "      <td>0.207556</td>\n",
              "      <td>0.001415</td>\n",
              "      <td>0.000068</td>\n",
              "      <td>100</td>\n",
              "      <td>1000</td>\n",
              "      <td>{'C': 100, 'max_iter': 1000}</td>\n",
              "      <td>0.379659</td>\n",
              "      <td>0.377730</td>\n",
              "      <td>0.375067</td>\n",
              "      <td>0.363346</td>\n",
              "      <td>0.377198</td>\n",
              "      <td>0.374600</td>\n",
              "      <td>0.005814</td>\n",
              "      <td>6</td>\n",
              "    </tr>\n",
              "  </tbody>\n",
              "</table>\n",
              "</div>"
            ],
            "text/plain": [
              "   mean_fit_time  std_fit_time  ...  std_test_score  rank_test_score\n",
              "0       0.209421      0.020345  ...        0.003655                3\n",
              "1       0.389098      0.016084  ...        0.005840                2\n",
              "2       0.974952      0.015816  ...        0.007822                1\n",
              "3       2.446550      0.087726  ...        0.011376                4\n",
              "4       4.789923      0.108046  ...        0.008076                5\n",
              "5       7.600686      0.207556  ...        0.005814                6\n",
              "\n",
              "[6 rows x 15 columns]"
            ]
          },
          "metadata": {
            "tags": []
          },
          "execution_count": 73
        }
      ]
    },
    {
      "cell_type": "markdown",
      "metadata": {
        "id": "S8hE_27qHLj7",
        "colab_type": "text"
      },
      "source": [
        "### Modeling with Extracted Features\n",
        "---"
      ]
    },
    {
      "cell_type": "markdown",
      "metadata": {
        "id": "gI9VlwgTHuQH",
        "colab_type": "text"
      },
      "source": [
        "import common libraries"
      ]
    },
    {
      "cell_type": "code",
      "metadata": {
        "id": "PYwx_MTcHxLi",
        "colab_type": "code",
        "colab": {}
      },
      "source": [
        "# SK-learn libraries for evaluation.\n",
        "from sklearn.metrics import confusion_matrix\n",
        "from sklearn import metrics\n",
        "from sklearn.metrics import classification_report"
      ],
      "execution_count": 0,
      "outputs": []
    },
    {
      "cell_type": "markdown",
      "metadata": {
        "id": "gNQnfQLuIWlB",
        "colab_type": "text"
      },
      "source": [
        "load the data"
      ]
    },
    {
      "cell_type": "code",
      "metadata": {
        "id": "kflfsV5oIV8M",
        "colab_type": "code",
        "outputId": "eb24777b-f7e9-40af-c876-1fa18e4ee2bd",
        "colab": {
          "base_uri": "https://localhost:8080/",
          "height": 51
        }
      },
      "source": [
        "%%time\n",
        "df = pd.read_csv('/content/drive/My Drive/Colab Notebooks/input/installation_features.csv', header=0, sep=',', quotechar='\"')\n"
      ],
      "execution_count": 75,
      "outputs": [
        {
          "output_type": "stream",
          "text": [
            "CPU times: user 26.5 ms, sys: 2.2 ms, total: 28.7 ms\n",
            "Wall time: 1.21 s\n"
          ],
          "name": "stdout"
        }
      ]
    },
    {
      "cell_type": "markdown",
      "metadata": {
        "id": "_Mz17nGqJpuV",
        "colab_type": "text"
      },
      "source": [
        "sample the data"
      ]
    },
    {
      "cell_type": "code",
      "metadata": {
        "id": "04xsg2ZxJ7Cp",
        "colab_type": "code",
        "outputId": "d9d2d44d-63e2-4452-d305-7b7a6a4e97b7",
        "colab": {
          "base_uri": "https://localhost:8080/",
          "height": 394
        }
      },
      "source": [
        "df.head()"
      ],
      "execution_count": 76,
      "outputs": [
        {
          "output_type": "execute_result",
          "data": {
            "text/html": [
              "<div>\n",
              "<style scoped>\n",
              "    .dataframe tbody tr th:only-of-type {\n",
              "        vertical-align: middle;\n",
              "    }\n",
              "\n",
              "    .dataframe tbody tr th {\n",
              "        vertical-align: top;\n",
              "    }\n",
              "\n",
              "    .dataframe thead th {\n",
              "        text-align: right;\n",
              "    }\n",
              "</style>\n",
              "<table border=\"1\" class=\"dataframe\">\n",
              "  <thead>\n",
              "    <tr style=\"text-align: right;\">\n",
              "      <th></th>\n",
              "      <th>installation_id</th>\n",
              "      <th>game_session_y</th>\n",
              "      <th>event_count</th>\n",
              "      <th>game_time</th>\n",
              "      <th>num_unique_days</th>\n",
              "      <th>elapsed_days</th>\n",
              "      <th>last_world</th>\n",
              "      <th>last_game_session</th>\n",
              "      <th>unique_game_sessions</th>\n",
              "      <th>title_y</th>\n",
              "      <th>num_correct</th>\n",
              "      <th>num_incorrect</th>\n",
              "      <th>accuracy</th>\n",
              "      <th>accuracy_group</th>\n",
              "      <th>activity_ct</th>\n",
              "      <th>game_ct</th>\n",
              "      <th>assessment_ct</th>\n",
              "      <th>clip_ct</th>\n",
              "    </tr>\n",
              "  </thead>\n",
              "  <tbody>\n",
              "    <tr>\n",
              "      <th>0</th>\n",
              "      <td>0006a69f</td>\n",
              "      <td>77b8ee947eb84b4e</td>\n",
              "      <td>1230</td>\n",
              "      <td>1135.912</td>\n",
              "      <td>1</td>\n",
              "      <td>0 days 00:00:00.000000000</td>\n",
              "      <td>TREETOPCITY</td>\n",
              "      <td>77b8ee947eb84b4e</td>\n",
              "      <td>26</td>\n",
              "      <td>Bird Measurer (Assessment)</td>\n",
              "      <td>0</td>\n",
              "      <td>11</td>\n",
              "      <td>0.0</td>\n",
              "      <td>0</td>\n",
              "      <td>556.0</td>\n",
              "      <td>525.0</td>\n",
              "      <td>135.0</td>\n",
              "      <td>14.0</td>\n",
              "    </tr>\n",
              "    <tr>\n",
              "      <th>1</th>\n",
              "      <td>0006a69f</td>\n",
              "      <td>9501794defd84e4d</td>\n",
              "      <td>2201</td>\n",
              "      <td>3488.074</td>\n",
              "      <td>1</td>\n",
              "      <td>0 days 00:00:00.000000000</td>\n",
              "      <td>TREETOPCITY</td>\n",
              "      <td>9501794defd84e4d</td>\n",
              "      <td>48</td>\n",
              "      <td>Mushroom Sorter (Assessment)</td>\n",
              "      <td>1</td>\n",
              "      <td>1</td>\n",
              "      <td>0.5</td>\n",
              "      <td>2</td>\n",
              "      <td>1103.0</td>\n",
              "      <td>845.0</td>\n",
              "      <td>229.0</td>\n",
              "      <td>24.0</td>\n",
              "    </tr>\n",
              "    <tr>\n",
              "      <th>2</th>\n",
              "      <td>0006c192</td>\n",
              "      <td>197a373a77101924</td>\n",
              "      <td>1566</td>\n",
              "      <td>1342.993</td>\n",
              "      <td>2</td>\n",
              "      <td>1 days 00:00:00.000000000</td>\n",
              "      <td>MAGMAPEAK</td>\n",
              "      <td>197a373a77101924</td>\n",
              "      <td>26</td>\n",
              "      <td>Cauldron Filler (Assessment)</td>\n",
              "      <td>1</td>\n",
              "      <td>0</td>\n",
              "      <td>1.0</td>\n",
              "      <td>3</td>\n",
              "      <td>894.0</td>\n",
              "      <td>633.0</td>\n",
              "      <td>24.0</td>\n",
              "      <td>15.0</td>\n",
              "    </tr>\n",
              "    <tr>\n",
              "      <th>3</th>\n",
              "      <td>0006c192</td>\n",
              "      <td>957406a905d59afd</td>\n",
              "      <td>2222</td>\n",
              "      <td>2063.664</td>\n",
              "      <td>4</td>\n",
              "      <td>18 days 00:00:00.000000000</td>\n",
              "      <td>TREETOPCITY</td>\n",
              "      <td>957406a905d59afd</td>\n",
              "      <td>48</td>\n",
              "      <td>Bird Measurer (Assessment)</td>\n",
              "      <td>1</td>\n",
              "      <td>1</td>\n",
              "      <td>0.5</td>\n",
              "      <td>2</td>\n",
              "      <td>1206.0</td>\n",
              "      <td>643.0</td>\n",
              "      <td>343.0</td>\n",
              "      <td>30.0</td>\n",
              "    </tr>\n",
              "    <tr>\n",
              "      <th>4</th>\n",
              "      <td>0006c192</td>\n",
              "      <td>b2297d292892745a</td>\n",
              "      <td>2014</td>\n",
              "      <td>1835.341</td>\n",
              "      <td>4</td>\n",
              "      <td>18 days 00:00:00.000000000</td>\n",
              "      <td>TREETOPCITY</td>\n",
              "      <td>b2297d292892745a</td>\n",
              "      <td>44</td>\n",
              "      <td>Mushroom Sorter (Assessment)</td>\n",
              "      <td>0</td>\n",
              "      <td>4</td>\n",
              "      <td>0.0</td>\n",
              "      <td>0</td>\n",
              "      <td>1206.0</td>\n",
              "      <td>637.0</td>\n",
              "      <td>143.0</td>\n",
              "      <td>28.0</td>\n",
              "    </tr>\n",
              "  </tbody>\n",
              "</table>\n",
              "</div>"
            ],
            "text/plain": [
              "  installation_id    game_session_y  ...  assessment_ct  clip_ct\n",
              "0        0006a69f  77b8ee947eb84b4e  ...          135.0     14.0\n",
              "1        0006a69f  9501794defd84e4d  ...          229.0     24.0\n",
              "2        0006c192  197a373a77101924  ...           24.0     15.0\n",
              "3        0006c192  957406a905d59afd  ...          343.0     30.0\n",
              "4        0006c192  b2297d292892745a  ...          143.0     28.0\n",
              "\n",
              "[5 rows x 18 columns]"
            ]
          },
          "metadata": {
            "tags": []
          },
          "execution_count": 76
        }
      ]
    },
    {
      "cell_type": "code",
      "metadata": {
        "id": "sxriSYFzKBDm",
        "colab_type": "code",
        "outputId": "0ab6ae4f-fe5f-460f-97b4-0cc93c835e45",
        "colab": {
          "base_uri": "https://localhost:8080/",
          "height": 34
        }
      },
      "source": [
        "df.shape"
      ],
      "execution_count": 77,
      "outputs": [
        {
          "output_type": "execute_result",
          "data": {
            "text/plain": [
              "(9386, 18)"
            ]
          },
          "metadata": {
            "tags": []
          },
          "execution_count": 77
        }
      ]
    },
    {
      "cell_type": "markdown",
      "metadata": {
        "id": "ZigIAsbHKD2C",
        "colab_type": "text"
      },
      "source": [
        "#### a. Preprocessing data for models"
      ]
    },
    {
      "cell_type": "code",
      "metadata": {
        "id": "esWRvzGCKVQl",
        "colab_type": "code",
        "outputId": "a3a7f004-fbb4-41a8-b1cc-aa2417447175",
        "colab": {
          "base_uri": "https://localhost:8080/",
          "height": 85
        }
      },
      "source": [
        "# Split them into development and trainning dataset\n",
        "features = ['game_time', 'unique_game_sessions', 'activity_ct', 'game_ct', 'assessment_ct', 'clip_ct']\n",
        "X = df[features].to_numpy()\n",
        "Y = df[['accuracy_group']].to_numpy().flatten()\n",
        "\n",
        "# Shuffle the data, but make sure that the features and accompanying labels stay in sync.\n",
        "np.random.seed(0)\n",
        "shuffle = np.random.permutation(np.arange(X.shape[0]))\n",
        "X, Y = X[shuffle], Y[shuffle]\n",
        "# Convert NaN values to 0.\n",
        "X = np.nan_to_num(X)\n",
        "\n",
        "# Split into train and dev.\n",
        "num_dev = int(len(Y)*0.1)\n",
        "train_data, train_labels = X[num_dev:], Y[num_dev:]\n",
        "dev_data, dev_labels = X[:num_dev], Y[:num_dev]\n",
        "\n",
        "print ('Feature names:', features)\n",
        "print('training label shape:', train_labels.shape)\n",
        "print('dev label shape:', dev_labels.shape)\n",
        "print('labels names:', np.unique(Y))"
      ],
      "execution_count": 78,
      "outputs": [
        {
          "output_type": "stream",
          "text": [
            "Feature names: ['game_time', 'unique_game_sessions', 'activity_ct', 'game_ct', 'assessment_ct', 'clip_ct']\n",
            "training label shape: (8448,)\n",
            "dev label shape: (938,)\n",
            "labels names: [0 1 2 3]\n"
          ],
          "name": "stdout"
        }
      ]
    },
    {
      "cell_type": "markdown",
      "metadata": {
        "id": "iIAh0dP5HU64",
        "colab_type": "text"
      },
      "source": [
        "#### b. Logistic Regression"
      ]
    },
    {
      "cell_type": "markdown",
      "metadata": {
        "id": "WdIclIwvHhzY",
        "colab_type": "text"
      },
      "source": [
        "##### i. Import libraries"
      ]
    },
    {
      "cell_type": "code",
      "metadata": {
        "id": "snkbzJ9KHTqe",
        "colab_type": "code",
        "colab": {}
      },
      "source": [
        "from sklearn.linear_model import LogisticRegression\n"
      ],
      "execution_count": 0,
      "outputs": []
    },
    {
      "cell_type": "markdown",
      "metadata": {
        "id": "KA0ZpoSpH1la",
        "colab_type": "text"
      },
      "source": [
        "##### ii. Train model"
      ]
    },
    {
      "cell_type": "code",
      "metadata": {
        "id": "0KESNZKYJ-bD",
        "colab_type": "code",
        "outputId": "93cfd4af-8bb1-4f5a-bcf9-5afbf586c1a7",
        "colab": {
          "base_uri": "https://localhost:8080/",
          "height": 51
        }
      },
      "source": [
        "# Test different C values for Logistic Regression Model\n",
        "candidate_c = [0.0001, 0.001, 0.01, 0.05, 0.1, 0.5,\n",
        "               1, 5, 10, 50, 100, 1000]\n",
        "\n",
        "best_f1 = -1\n",
        "best_c = -1\n",
        "for c in candidate_c:\n",
        "  lr_model = LogisticRegression(penalty=\"l2\",\n",
        "                                C = c,\n",
        "                                solver=\"liblinear\",\n",
        "                                multi_class=\"auto\",\n",
        "                                max_iter = 1000)\n",
        "  lr_model.fit(train_data, train_labels)\n",
        "  lr_predict_labels = lr_model.predict(dev_data)\n",
        "  f1_score = metrics.f1_score(dev_labels, lr_predict_labels, average=\"weighted\")\n",
        "  for class_index in range(lr_model.coef_.shape[0]):\n",
        "    squared_sum = np.sum(np.square(lr_model.coef_[class_index]))\n",
        "  if f1_score > best_f1:\n",
        "      best_f1 = f1_score\n",
        "      best_c = c\n",
        "\n",
        "print(\"Optimal value for C in Logistic Regression: %f\" % best_c)\n",
        "print(\"F1 score of Logistic Regression: %f\" % best_f1)"
      ],
      "execution_count": 80,
      "outputs": [
        {
          "output_type": "stream",
          "text": [
            "Optimal value for C in Logistic Regression: 0.001000\n",
            "F1 score of Logistic Regression: 0.394346\n"
          ],
          "name": "stdout"
        }
      ]
    },
    {
      "cell_type": "markdown",
      "metadata": {
        "id": "BsF9NIncK8Nt",
        "colab_type": "text"
      },
      "source": [
        "#### c. KNN "
      ]
    },
    {
      "cell_type": "markdown",
      "metadata": {
        "id": "0uTXeIr2LA-u",
        "colab_type": "text"
      },
      "source": [
        "##### i. Import libraries"
      ]
    },
    {
      "cell_type": "code",
      "metadata": {
        "id": "Bpk__KtoLAO0",
        "colab_type": "code",
        "colab": {}
      },
      "source": [
        "from sklearn.neighbors import KNeighborsClassifier\n"
      ],
      "execution_count": 0,
      "outputs": []
    },
    {
      "cell_type": "markdown",
      "metadata": {
        "id": "9b7m9A7bLF6k",
        "colab_type": "text"
      },
      "source": [
        "##### ii. Train model"
      ]
    },
    {
      "cell_type": "code",
      "metadata": {
        "id": "KXQrGStZLKZo",
        "colab_type": "code",
        "outputId": "f1e0b055-3293-4132-e5ee-ae7460f9c574",
        "colab": {
          "base_uri": "https://localhost:8080/",
          "height": 51
        }
      },
      "source": [
        "  # KNN Method\n",
        "  k_value = [k for k in range(1, 15, 2)]\n",
        "  f1_k = []\n",
        "  for k in k_value:\n",
        "    model1 = KNeighborsClassifier(n_neighbors=k)\n",
        "    model1.fit(train_data, train_labels)\n",
        "    p_label_1 = model1.predict(dev_data)\n",
        "    accuracy_k = model1.score(dev_data, dev_labels)\n",
        "    score1 = metrics.f1_score(dev_labels, p_label_1, average = \"weighted\")\n",
        "    f1_k.append(score1)\n",
        "  # Get the optimized f1 score and k\n",
        "  max_f1_k = max(f1_k)\n",
        "  max_index1 = f1_k.index(max_f1_k)\n",
        "  print(\"The optimal k value: %2d, and optimal F1 score: %.2f\" % (k_value[max_index1], max_f1_k), \"\\n\")"
      ],
      "execution_count": 82,
      "outputs": [
        {
          "output_type": "stream",
          "text": [
            "The optimal k value: 11, and optimal F1 score: 0.41 \n",
            "\n"
          ],
          "name": "stdout"
        }
      ]
    },
    {
      "cell_type": "markdown",
      "metadata": {
        "id": "_7tpEoqVLPT1",
        "colab_type": "text"
      },
      "source": [
        "#### d. Naive Bayes"
      ]
    },
    {
      "cell_type": "markdown",
      "metadata": {
        "id": "kCfEfgmULSyf",
        "colab_type": "text"
      },
      "source": [
        "##### i. Import libraries"
      ]
    },
    {
      "cell_type": "code",
      "metadata": {
        "id": "ILpOaDw3HSSM",
        "colab_type": "code",
        "colab": {}
      },
      "source": [
        "# SK-learn libraries for learning.\n",
        "from sklearn.naive_bayes import BernoulliNB\n",
        "from sklearn.naive_bayes import MultinomialNB\n"
      ],
      "execution_count": 0,
      "outputs": []
    },
    {
      "cell_type": "markdown",
      "metadata": {
        "id": "eN2f43KPLZHb",
        "colab_type": "text"
      },
      "source": [
        "##### ii. Train model"
      ]
    },
    {
      "cell_type": "code",
      "metadata": {
        "id": "er2JINIDHgJU",
        "colab_type": "code",
        "outputId": "76fe6ae2-1ab4-4d4c-ef86-09a5b12c18d7",
        "colab": {
          "base_uri": "https://localhost:8080/",
          "height": 51
        }
      },
      "source": [
        "  # NB Method\n",
        "  alpha = [10**x for x in range(-3,2)]\n",
        "  f1_nb = []\n",
        "  for a in alpha:\n",
        "      model2 = MultinomialNB(alpha=a)\n",
        "      model2.fit(train_data, train_labels)\n",
        "      p_label_2 = model2.predict(dev_data)\n",
        "      score2 = metrics.f1_score(dev_labels,p_label_2,average=\"weighted\")\n",
        "      f1_nb.append(score2)\n",
        "  # Get the optimized f1 score and alpha\n",
        "  max_f1_nb = max(f1_nb)\n",
        "  max_index2 = f1_nb.index(max_f1_nb)\n",
        "  print(\"The optimal alpha value: %.3f, and optimal F1 score: %.2f\"% (alpha[max_index2], max_f1_nb), '\\n')"
      ],
      "execution_count": 84,
      "outputs": [
        {
          "output_type": "stream",
          "text": [
            "The optimal alpha value: 0.001, and optimal F1 score: 0.34 \n",
            "\n"
          ],
          "name": "stdout"
        }
      ]
    }
  ]
}