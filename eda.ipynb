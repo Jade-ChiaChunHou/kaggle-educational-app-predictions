{
  "nbformat": 4,
  "nbformat_minor": 0,
  "metadata": {
    "colab": {
      "name": "eda.ipynb",
      "provenance": [],
      "collapsed_sections": []
    },
    "kernelspec": {
      "name": "python3",
      "display_name": "Python 3"
    },
    "accelerator": "GPU"
  },
  "cells": [
    {
      "cell_type": "code",
      "metadata": {
        "id": "5d8P1N9GjP9N",
        "colab_type": "code",
        "colab": {}
      },
      "source": [
        "import pandas as pd\n",
        "import matplotlib.pyplot as plt\n",
        "\n",
        "%matplotlib inline\n"
      ],
      "execution_count": 0,
      "outputs": []
    },
    {
      "cell_type": "code",
      "metadata": {
        "id": "emLn9BN5ziOH",
        "colab_type": "code",
        "colab": {
          "base_uri": "https://localhost:8080/",
          "height": 289
        },
        "outputId": "f9b504a0-0629-44a1-cc2d-50b74268ecb8"
      },
      "source": [
        ""
      ],
      "execution_count": 18,
      "outputs": [
        {
          "output_type": "stream",
          "text": [
            "Warning: Looks like you're using an outdated API Version, please consider updating (server 1.5.6 / client 1.5.4)\n",
            "Downloading test.csv.zip to {/content}/competitions/data-science-bowl-2019\n",
            " 81% 33.0M/40.8M [00:00<00:00, 20.5MB/s]\n",
            "100% 40.8M/40.8M [00:00<00:00, 52.4MB/s]\n",
            "Downloading train_labels.csv.zip to {/content}/competitions/data-science-bowl-2019\n",
            "  0% 0.00/262k [00:00<?, ?B/s]\n",
            "100% 262k/262k [00:00<00:00, 82.6MB/s]\n",
            "Downloading train.csv.zip to {/content}/competitions/data-science-bowl-2019\n",
            " 97% 384M/397M [00:07<00:00, 37.8MB/s]\n",
            "100% 397M/397M [00:07<00:00, 55.2MB/s]\n",
            "Downloading specs.csv to {/content}/competitions/data-science-bowl-2019\n",
            "  0% 0.00/399k [00:00<?, ?B/s]\n",
            "100% 399k/399k [00:00<00:00, 54.8MB/s]\n",
            "Downloading sample_submission.csv to {/content}/competitions/data-science-bowl-2019\n",
            "  0% 0.00/10.8k [00:00<?, ?B/s]\n",
            "100% 10.8k/10.8k [00:00<00:00, 30.7MB/s]\n"
          ],
          "name": "stdout"
        }
      ]
    },
    {
      "cell_type": "code",
      "metadata": {
        "id": "jpL11Z783P_z",
        "colab_type": "code",
        "colab": {
          "base_uri": "https://localhost:8080/",
          "height": 51
        },
        "outputId": "0f2556bf-9437-488f-f623-76279bbf4d79"
      },
      "source": [
        "%%time\n",
        "df_train = pd.read_csv('input/data-science-bowl-2019/train.csv.zip', compression='zip', header=0, sep=',', quotechar='\"')\n",
        "df_test = pd.read_csv('input/data-science-bowl-2019/test.csv.zip', compression='zip', header=0, sep=',', quotechar='\"')\n",
        "df_train_label = pd.read_csv('input/data-science-bowl-2019/train_labels.csv.zip', compression='zip', header=0, sep=',', quotechar='\"')\n",
        "df_specs = pd.read_csv('input/data-science-bowl-2019/specs.csv', header=0, sep=',', quotechar='\"')\n",
        "df_sample_submission = pd.read_csv('input/data-science-bowl-2019/sample_submission.csv', header=0, sep=',', quotechar='\"')\n",
        "\n",
        "# df_test = pd.read_csv('test.zip', compression='zip', header=0, sep=',', quotechar='\"')"
      ],
      "execution_count": 22,
      "outputs": [
        {
          "output_type": "stream",
          "text": [
            "CPU times: user 1min, sys: 3.97 s, total: 1min 4s\n",
            "Wall time: 1min 4s\n"
          ],
          "name": "stdout"
        }
      ]
    },
    {
      "cell_type": "markdown",
      "metadata": {
        "id": "kf6vXk1264MP",
        "colab_type": "text"
      },
      "source": [
        "### Understanding the train data"
      ]
    },
    {
      "cell_type": "markdown",
      "metadata": {
        "id": "RNb-hX2y8pWC",
        "colab_type": "text"
      },
      "source": [
        "#### Sample train data"
      ]
    },
    {
      "cell_type": "code",
      "metadata": {
        "id": "UAcSnBsC6-Kg",
        "colab_type": "code",
        "colab": {
          "base_uri": "https://localhost:8080/",
          "height": 411
        },
        "outputId": "2f155e57-85d8-47e3-d0d1-119f3be9e7a2"
      },
      "source": [
        "print(\"Sample train data (rows: %d, columns: %d)\" %(df_train.shape[0], df_train.shape[1]))\n",
        "df_train.head()"
      ],
      "execution_count": 30,
      "outputs": [
        {
          "output_type": "stream",
          "text": [
            "Sample train data (rows: 11341042, columns: 11)\n"
          ],
          "name": "stdout"
        },
        {
          "output_type": "execute_result",
          "data": {
            "text/html": [
              "<div>\n",
              "<style scoped>\n",
              "    .dataframe tbody tr th:only-of-type {\n",
              "        vertical-align: middle;\n",
              "    }\n",
              "\n",
              "    .dataframe tbody tr th {\n",
              "        vertical-align: top;\n",
              "    }\n",
              "\n",
              "    .dataframe thead th {\n",
              "        text-align: right;\n",
              "    }\n",
              "</style>\n",
              "<table border=\"1\" class=\"dataframe\">\n",
              "  <thead>\n",
              "    <tr style=\"text-align: right;\">\n",
              "      <th></th>\n",
              "      <th>event_id</th>\n",
              "      <th>game_session</th>\n",
              "      <th>timestamp</th>\n",
              "      <th>event_data</th>\n",
              "      <th>installation_id</th>\n",
              "      <th>event_count</th>\n",
              "      <th>event_code</th>\n",
              "      <th>game_time</th>\n",
              "      <th>title</th>\n",
              "      <th>type</th>\n",
              "      <th>world</th>\n",
              "    </tr>\n",
              "  </thead>\n",
              "  <tbody>\n",
              "    <tr>\n",
              "      <th>0</th>\n",
              "      <td>27253bdc</td>\n",
              "      <td>45bb1e1b6b50c07b</td>\n",
              "      <td>2019-09-06T17:53:46.937Z</td>\n",
              "      <td>{\"event_code\": 2000, \"event_count\": 1}</td>\n",
              "      <td>0001e90f</td>\n",
              "      <td>1</td>\n",
              "      <td>2000</td>\n",
              "      <td>0</td>\n",
              "      <td>Welcome to Lost Lagoon!</td>\n",
              "      <td>Clip</td>\n",
              "      <td>NONE</td>\n",
              "    </tr>\n",
              "    <tr>\n",
              "      <th>1</th>\n",
              "      <td>27253bdc</td>\n",
              "      <td>17eeb7f223665f53</td>\n",
              "      <td>2019-09-06T17:54:17.519Z</td>\n",
              "      <td>{\"event_code\": 2000, \"event_count\": 1}</td>\n",
              "      <td>0001e90f</td>\n",
              "      <td>1</td>\n",
              "      <td>2000</td>\n",
              "      <td>0</td>\n",
              "      <td>Magma Peak - Level 1</td>\n",
              "      <td>Clip</td>\n",
              "      <td>MAGMAPEAK</td>\n",
              "    </tr>\n",
              "    <tr>\n",
              "      <th>2</th>\n",
              "      <td>77261ab5</td>\n",
              "      <td>0848ef14a8dc6892</td>\n",
              "      <td>2019-09-06T17:54:56.302Z</td>\n",
              "      <td>{\"version\":\"1.0\",\"event_count\":1,\"game_time\":0...</td>\n",
              "      <td>0001e90f</td>\n",
              "      <td>1</td>\n",
              "      <td>2000</td>\n",
              "      <td>0</td>\n",
              "      <td>Sandcastle Builder (Activity)</td>\n",
              "      <td>Activity</td>\n",
              "      <td>MAGMAPEAK</td>\n",
              "    </tr>\n",
              "    <tr>\n",
              "      <th>3</th>\n",
              "      <td>b2dba42b</td>\n",
              "      <td>0848ef14a8dc6892</td>\n",
              "      <td>2019-09-06T17:54:56.387Z</td>\n",
              "      <td>{\"description\":\"Let's build a sandcastle! Firs...</td>\n",
              "      <td>0001e90f</td>\n",
              "      <td>2</td>\n",
              "      <td>3010</td>\n",
              "      <td>53</td>\n",
              "      <td>Sandcastle Builder (Activity)</td>\n",
              "      <td>Activity</td>\n",
              "      <td>MAGMAPEAK</td>\n",
              "    </tr>\n",
              "    <tr>\n",
              "      <th>4</th>\n",
              "      <td>1bb5fbdb</td>\n",
              "      <td>0848ef14a8dc6892</td>\n",
              "      <td>2019-09-06T17:55:03.253Z</td>\n",
              "      <td>{\"description\":\"Let's build a sandcastle! Firs...</td>\n",
              "      <td>0001e90f</td>\n",
              "      <td>3</td>\n",
              "      <td>3110</td>\n",
              "      <td>6972</td>\n",
              "      <td>Sandcastle Builder (Activity)</td>\n",
              "      <td>Activity</td>\n",
              "      <td>MAGMAPEAK</td>\n",
              "    </tr>\n",
              "  </tbody>\n",
              "</table>\n",
              "</div>"
            ],
            "text/plain": [
              "   event_id      game_session  ...      type      world\n",
              "0  27253bdc  45bb1e1b6b50c07b  ...      Clip       NONE\n",
              "1  27253bdc  17eeb7f223665f53  ...      Clip  MAGMAPEAK\n",
              "2  77261ab5  0848ef14a8dc6892  ...  Activity  MAGMAPEAK\n",
              "3  b2dba42b  0848ef14a8dc6892  ...  Activity  MAGMAPEAK\n",
              "4  1bb5fbdb  0848ef14a8dc6892  ...  Activity  MAGMAPEAK\n",
              "\n",
              "[5 rows x 11 columns]"
            ]
          },
          "metadata": {
            "tags": []
          },
          "execution_count": 30
        }
      ]
    },
    {
      "cell_type": "markdown",
      "metadata": {
        "id": "RkMyCTpr8eJq",
        "colab_type": "text"
      },
      "source": [
        "Clean up the train data by dropping the row where the installation_id never take any game"
      ]
    },
    {
      "cell_type": "markdown",
      "metadata": {
        "id": "nxYCmYUI8xve",
        "colab_type": "text"
      },
      "source": [
        "#### Clean up train data"
      ]
    },
    {
      "cell_type": "code",
      "metadata": {
        "id": "rZ0jAt4p8dhW",
        "colab_type": "code",
        "colab": {}
      },
      "source": [
        "keep_id = df_train[df_train.type == \"Assessment\"][['installation_id']].drop_duplicates()\n",
        "df_train = pd.merge(df_train, keep_id, on=\"installation_id\", how=\"inner\")"
      ],
      "execution_count": 0,
      "outputs": []
    },
    {
      "cell_type": "code",
      "metadata": {
        "id": "YOSNS-iz9K26",
        "colab_type": "code",
        "colab": {
          "base_uri": "https://localhost:8080/",
          "height": 51
        },
        "outputId": "780af3c2-ee35-458a-844e-3de558bfcfb6"
      },
      "source": [
        "print(\"Sample train data after clean up (rows: %d, columns: %d)\" %(df_train.shape[0], df_train.shape[1]))\n",
        "df_train.head()"
      ],
      "execution_count": 36,
      "outputs": [
        {
          "output_type": "stream",
          "text": [
            "Sample train data after clean up (rows: 8294138, columns: 11)\n"
          ],
          "name": "stdout"
        },
        {
          "output_type": "execute_result",
          "data": {
            "text/plain": [
              "array(['Clip', 'Activity', 'Game', 'Assessment'], dtype=object)"
            ]
          },
          "metadata": {
            "tags": []
          },
          "execution_count": 36
        }
      ]
    },
    {
      "cell_type": "markdown",
      "metadata": {
        "id": "RzMM0G-y9lkq",
        "colab_type": "text"
      },
      "source": [
        "#### Visualization"
      ]
    },
    {
      "cell_type": "code",
      "metadata": {
        "id": "ie4rP-brACGR",
        "colab_type": "code",
        "colab": {
          "base_uri": "https://localhost:8080/",
          "height": 34
        },
        "outputId": "8b57a721-58c7-474b-d1b0-c38301cae19b"
      },
      "source": [
        "df_train.type.unique()"
      ],
      "execution_count": 37,
      "outputs": [
        {
          "output_type": "execute_result",
          "data": {
            "text/plain": [
              "array(['Clip', 'Activity', 'Game', 'Assessment'], dtype=object)"
            ]
          },
          "metadata": {
            "tags": []
          },
          "execution_count": 37
        }
      ]
    },
    {
      "cell_type": "code",
      "metadata": {
        "id": "dq0bVDYr9onx",
        "colab_type": "code",
        "colab": {
          "base_uri": "https://localhost:8080/",
          "height": 525
        },
        "outputId": "1f33a3e1-1462-4623-9969-cb846eab31a1"
      },
      "source": [
        "types_data = df_train['type']\n",
        "\n",
        "plt.figure(figsize=[10,8])\n",
        "n, bins, patches = plt.hist(x=types_data, bins=4, color='#0504aa',alpha=0.7, rwidth=0.85)\n",
        "plt.grid(axis='y', alpha=0.75)\n",
        "plt.xlabel('Type',fontsize=15)\n",
        "plt.ylabel('Frequency',fontsize=15)\n",
        "plt.xticks(fontsize=15)\n",
        "plt.yticks(fontsize=15)\n",
        "plt.ylabel('Frequency',fontsize=15)\n",
        "plt.title('Type of Game',fontsize=15)\n",
        "plt.show()"
      ],
      "execution_count": 44,
      "outputs": [
        {
          "output_type": "display_data",
          "data": {
            "image/png": "[encoded data removed]",
            "text/plain": [
              "<Figure size 720x576 with 1 Axes>"
            ]
          },
          "metadata": {
            "tags": []
          }
        }
      ]
    },
    {
      "cell_type": "code",
      "metadata": {
        "id": "fIJ0gPCZCHZL",
        "colab_type": "code",
        "colab": {
          "base_uri": "https://localhost:8080/",
          "height": 525
        },
        "outputId": "71f77106-c5b0-48bf-9be5-da6ac668ce87"
      },
      "source": [
        "types_data = df_train['world']\n",
        "\n",
        "plt.figure(figsize=[10,8])\n",
        "n, bins, patches = plt.hist(x=types_data, bins=4, color='#0504aa',alpha=0.7, rwidth=0.85)\n",
        "plt.grid(axis='y', alpha=0.75)\n",
        "plt.xlabel('World',fontsize=15)\n",
        "plt.ylabel('Frequency',fontsize=15)\n",
        "plt.xticks(fontsize=15)\n",
        "plt.yticks(fontsize=15)\n",
        "plt.ylabel('Frequency',fontsize=15)\n",
        "plt.title('Type of World',fontsize=15)\n",
        "plt.show()"
      ],
      "execution_count": 45,
      "outputs": [
        {
          "output_type": "display_data",
          "data": {
            "image/png": "[encoded data removed]",
            "text/plain": [
              "<Figure size 720x576 with 1 Axes>"
            ]
          },
          "metadata": {
            "tags": []
          }
        }
      ]
    },
    {
      "cell_type": "code",
      "metadata": {
        "id": "URWT2tnmCUAn",
        "colab_type": "code",
        "colab": {}
      },
      "source": [
        ""
      ],
      "execution_count": 0,
      "outputs": []
    },
    {
      "cell_type": "markdown",
      "metadata": {
        "id": "V5qj_B3p9cA8",
        "colab_type": "text"
      },
      "source": [
        "### Understand the Test Data"
      ]
    },
    {
      "cell_type": "code",
      "metadata": {
        "id": "fM3UxxeV7Fvi",
        "colab_type": "code",
        "colab": {
          "base_uri": "https://localhost:8080/",
          "height": 394
        },
        "outputId": "582572b5-db05-4114-9628-d5d820e78eed"
      },
      "source": [
        ""
      ],
      "execution_count": 24,
      "outputs": [
        {
          "output_type": "stream",
          "text": [
            "Sample test data\n"
          ],
          "name": "stdout"
        },
        {
          "output_type": "execute_result",
          "data": {
            "text/html": [
              "<div>\n",
              "<style scoped>\n",
              "    .dataframe tbody tr th:only-of-type {\n",
              "        vertical-align: middle;\n",
              "    }\n",
              "\n",
              "    .dataframe tbody tr th {\n",
              "        vertical-align: top;\n",
              "    }\n",
              "\n",
              "    .dataframe thead th {\n",
              "        text-align: right;\n",
              "    }\n",
              "</style>\n",
              "<table border=\"1\" class=\"dataframe\">\n",
              "  <thead>\n",
              "    <tr style=\"text-align: right;\">\n",
              "      <th></th>\n",
              "      <th>event_id</th>\n",
              "      <th>game_session</th>\n",
              "      <th>timestamp</th>\n",
              "      <th>event_data</th>\n",
              "      <th>installation_id</th>\n",
              "      <th>event_count</th>\n",
              "      <th>event_code</th>\n",
              "      <th>game_time</th>\n",
              "      <th>title</th>\n",
              "      <th>type</th>\n",
              "      <th>world</th>\n",
              "    </tr>\n",
              "  </thead>\n",
              "  <tbody>\n",
              "    <tr>\n",
              "      <th>0</th>\n",
              "      <td>27253bdc</td>\n",
              "      <td>0ea9ecc81a565215</td>\n",
              "      <td>2019-09-10T16:50:24.910Z</td>\n",
              "      <td>{\"event_code\": 2000, \"event_count\": 1}</td>\n",
              "      <td>00abaee7</td>\n",
              "      <td>1</td>\n",
              "      <td>2000</td>\n",
              "      <td>0</td>\n",
              "      <td>Welcome to Lost Lagoon!</td>\n",
              "      <td>Clip</td>\n",
              "      <td>NONE</td>\n",
              "    </tr>\n",
              "    <tr>\n",
              "      <th>1</th>\n",
              "      <td>27253bdc</td>\n",
              "      <td>c1ea43d8b8261d27</td>\n",
              "      <td>2019-09-10T16:50:55.503Z</td>\n",
              "      <td>{\"event_code\": 2000, \"event_count\": 1}</td>\n",
              "      <td>00abaee7</td>\n",
              "      <td>1</td>\n",
              "      <td>2000</td>\n",
              "      <td>0</td>\n",
              "      <td>Magma Peak - Level 1</td>\n",
              "      <td>Clip</td>\n",
              "      <td>MAGMAPEAK</td>\n",
              "    </tr>\n",
              "    <tr>\n",
              "      <th>2</th>\n",
              "      <td>27253bdc</td>\n",
              "      <td>7ed86c6b72e725e2</td>\n",
              "      <td>2019-09-10T16:51:51.805Z</td>\n",
              "      <td>{\"event_code\": 2000, \"event_count\": 1}</td>\n",
              "      <td>00abaee7</td>\n",
              "      <td>1</td>\n",
              "      <td>2000</td>\n",
              "      <td>0</td>\n",
              "      <td>Magma Peak - Level 2</td>\n",
              "      <td>Clip</td>\n",
              "      <td>MAGMAPEAK</td>\n",
              "    </tr>\n",
              "    <tr>\n",
              "      <th>3</th>\n",
              "      <td>27253bdc</td>\n",
              "      <td>7e516ace50e7fe67</td>\n",
              "      <td>2019-09-10T16:53:12.825Z</td>\n",
              "      <td>{\"event_code\": 2000, \"event_count\": 1}</td>\n",
              "      <td>00abaee7</td>\n",
              "      <td>1</td>\n",
              "      <td>2000</td>\n",
              "      <td>0</td>\n",
              "      <td>Crystal Caves - Level 1</td>\n",
              "      <td>Clip</td>\n",
              "      <td>CRYSTALCAVES</td>\n",
              "    </tr>\n",
              "    <tr>\n",
              "      <th>4</th>\n",
              "      <td>7d093bf9</td>\n",
              "      <td>a022c3f60ba547e7</td>\n",
              "      <td>2019-09-10T16:54:12.115Z</td>\n",
              "      <td>{\"version\":\"1.0\",\"round\":0,\"event_count\":1,\"ga...</td>\n",
              "      <td>00abaee7</td>\n",
              "      <td>1</td>\n",
              "      <td>2000</td>\n",
              "      <td>0</td>\n",
              "      <td>Chow Time</td>\n",
              "      <td>Game</td>\n",
              "      <td>CRYSTALCAVES</td>\n",
              "    </tr>\n",
              "  </tbody>\n",
              "</table>\n",
              "</div>"
            ],
            "text/plain": [
              "   event_id      game_session  ...  type         world\n",
              "0  27253bdc  0ea9ecc81a565215  ...  Clip          NONE\n",
              "1  27253bdc  c1ea43d8b8261d27  ...  Clip     MAGMAPEAK\n",
              "2  27253bdc  7ed86c6b72e725e2  ...  Clip     MAGMAPEAK\n",
              "3  27253bdc  7e516ace50e7fe67  ...  Clip  CRYSTALCAVES\n",
              "4  7d093bf9  a022c3f60ba547e7  ...  Game  CRYSTALCAVES\n",
              "\n",
              "[5 rows x 11 columns]"
            ]
          },
          "metadata": {
            "tags": []
          },
          "execution_count": 24
        }
      ]
    }
  ]
}