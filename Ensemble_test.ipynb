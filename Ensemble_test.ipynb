{
 "cells": [
  {
   "cell_type": "code",
   "execution_count": 2,
   "metadata": {},
   "outputs": [],
   "source": [
    "%load_ext autoreload\n",
    "%autoreload 2\n",
    "import pandas as pd\n",
    "import numpy as np\n",
    "import features\n",
    "import warnings\n",
    "warnings.filterwarnings('ignore')"
   ]
  },
  {
   "cell_type": "code",
   "execution_count": 3,
   "metadata": {},
   "outputs": [],
   "source": [
    "feats=pd.read_csv('installation_features.csv')\n",
    "labels=pd.read_csv('installation_labels.csv')"
   ]
  },
  {
   "cell_type": "code",
   "execution_count": 4,
   "metadata": {},
   "outputs": [],
   "source": [
    "feature_pipe=features.get_data_processing_pipe(feats,log_features=['game_time', 'event_count'], categorical_features=['last_world', 'last_assessment'])"
   ]
  },
  {
   "cell_type": "code",
   "execution_count": 5,
   "metadata": {},
   "outputs": [],
   "source": [
    "from sklearn.model_selection import GridSearchCV, train_test_split\n",
    "X_train, X_test, y_train, y_test = train_test_split(feats, labels.accuracy_group, test_size=0.05, random_state=42)"
   ]
  },
  {
   "cell_type": "code",
   "execution_count": 6,
   "metadata": {},
   "outputs": [],
   "source": [
    "from sklearn.preprocessing import OneHotEncoder\n",
    "from sklearn.linear_model import LogisticRegression\n",
    "from sklearn import model_selection\n",
    "from sklearn.model_selection import GridSearchCV, train_test_split\n",
    "from sklearn.svm import SVC \n",
    "from sklearn.ensemble import BaggingClassifier\n",
    "from sklearn.tree import DecisionTreeClassifier\n",
    "from sklearn.metrics import confusion_matrix, cohen_kappa_score, make_scorer, accuracy_score, mean_squared_error\n",
    "from sklearn.pipeline import Pipeline\n",
    "import inspect\n",
    "import xgboost as xgb\n",
    "# import soft_kappa_loss as kappa\n",
    "from sklearn.utils import class_weight"
   ]
  },
  {
   "cell_type": "code",
   "execution_count": 35,
   "metadata": {},
   "outputs": [
    {
     "name": "stdout",
     "output_type": "stream",
     "text": [
      "0.6248587570621469\n",
      "ck_score: 0.5432883500643164\n"
     ]
    },
    {
     "data": {
      "text/plain": [
       "array([[151,   6,   1,  73],\n",
       "       [ 39,  12,   0,  71],\n",
       "       [ 23,   4,   0,  84],\n",
       "       [ 25,   6,   0, 390]], dtype=int64)"
      ]
     },
     "execution_count": 35,
     "metadata": {},
     "output_type": "execute_result"
    }
   ],
   "source": [
    "# Bagging Ensemble with logistic regression\n",
    "kfold = model_selection.KFold(n_splits=5, random_state=7)\n",
    "cart = LogisticRegression() # Use Logistic Regression as base estimator\n",
    "num_trees = 10\n",
    "\n",
    "lg_pipe = Pipeline(steps=[\n",
    "    ('preprocess', feature_pipe),\n",
    "    ('clf', BaggingClassifier(base_estimator=cart, \n",
    "                              n_estimators=num_trees, \n",
    "                              random_state=7))])\n",
    "\n",
    "lg_pipe.fit(X_train, y_train)\n",
    "y_pred = lg_pipe.predict(X_test)\n",
    "\n",
    "print((y_pred==y_test).mean())\n",
    "print(\"ck_score:\", cohen_kappa_score(y1=y_test, y2=y_pred, weights='quadratic'))\n",
    "confusion_matrix(y_test, y_pred)"
   ]
  },
  {
   "cell_type": "code",
   "execution_count": 7,
   "metadata": {},
   "outputs": [
    {
     "name": "stdout",
     "output_type": "stream",
     "text": [
      "0.6293785310734463\n",
      "ck_score: 0.5575126184614507\n"
     ]
    },
    {
     "data": {
      "text/plain": [
       "array([[149,  12,   5,  65],\n",
       "       [ 20,  27,   9,  66],\n",
       "       [ 17,  13,   7,  74],\n",
       "       [ 19,  17,  11, 374]], dtype=int64)"
      ]
     },
     "execution_count": 7,
     "metadata": {},
     "output_type": "execute_result"
    }
   ],
   "source": [
    "# Bagging Ensemble with Decision Tree\n",
    "kfold = model_selection.KFold(n_splits=5, random_state=7)\n",
    "cart = DecisionTreeClassifier() # Use Decision Tree as base estimator\n",
    "num_trees = 100\n",
    "\n",
    "dt_pipe = Pipeline(steps=[\n",
    "    ('preprocess', feature_pipe),\n",
    "    ('clf', BaggingClassifier(base_estimator=cart, \n",
    "                              n_estimators=num_trees, \n",
    "                              random_state=7))])\n",
    "\n",
    "dt_pipe.fit(X_train, y_train)\n",
    "y_pred = dt_pipe.predict(X_test)\n",
    "\n",
    "print((y_pred==y_test).mean())\n",
    "print(\"ck_score:\", cohen_kappa_score(y1=y_test, y2=y_pred, weights='quadratic'))\n",
    "confusion_matrix(y_test, y_pred)"
   ]
  },
  {
   "cell_type": "code",
   "execution_count": 36,
   "metadata": {},
   "outputs": [
    {
     "name": "stdout",
     "output_type": "stream",
     "text": [
      "0.631638418079096\n",
      "ck_score: 0.5489783338603855\n"
     ]
    },
    {
     "data": {
      "text/plain": [
       "array([[145,   9,   0,  77],\n",
       "       [ 27,  20,   0,  75],\n",
       "       [ 14,   3,   0,  94],\n",
       "       [ 15,  12,   0, 394]], dtype=int64)"
      ]
     },
     "execution_count": 36,
     "metadata": {},
     "output_type": "execute_result"
    }
   ],
   "source": [
    "# Test AdaBoost Ensemble\n",
    "from sklearn.ensemble import AdaBoostClassifier\n",
    "seed = 7\n",
    "num_trees = 70\n",
    "kfold = model_selection.KFold(n_splits=10, random_state=seed)\n",
    "adb_pipe = Pipeline(steps=[\n",
    "    ('preprocess', feature_pipe),\n",
    "    ('clf', AdaBoostClassifier(n_estimators=num_trees, random_state=seed))])\n",
    "\n",
    "adb_pipe.fit(X_train, y_train)\n",
    "y_pred = adb_pipe.predict(X_test)\n",
    "\n",
    "print((y_pred==y_test).mean())\n",
    "print(\"ck_score:\", cohen_kappa_score(y1=y_test, y2=y_pred, weights='quadratic'))\n",
    "confusion_matrix(y_test, y_pred)"
   ]
  },
  {
   "cell_type": "code",
   "execution_count": 39,
   "metadata": {},
   "outputs": [
    {
     "name": "stdout",
     "output_type": "stream",
     "text": [
      "0.6237288135593221\n",
      "ck_score: 0.5449248207043201\n"
     ]
    },
    {
     "data": {
      "text/plain": [
       "array([[148,   8,   0,  75],\n",
       "       [ 40,  18,   0,  64],\n",
       "       [ 23,   4,   0,  84],\n",
       "       [ 21,  14,   0, 386]], dtype=int64)"
      ]
     },
     "execution_count": 39,
     "metadata": {},
     "output_type": "execute_result"
    }
   ],
   "source": [
    "# Voting-Base Ensemble\n",
    "from sklearn.svm import SVC\n",
    "from sklearn.ensemble import VotingClassifier\n",
    "\n",
    "kfold = model_selection.KFold(n_splits=10, random_state=seed)\n",
    "# create the sub models\n",
    "estimators = []\n",
    "model1 = Pipeline(steps=[\n",
    "    ('preprocess', feature_pipe),\n",
    "    ('clf', LogisticRegression())])\n",
    "estimators.append(('logistic', model1))\n",
    "model2 = Pipeline(steps=[\n",
    "    ('preprocess', feature_pipe),\n",
    "    ('clf', DecisionTreeClassifier())])\n",
    "estimators.append(('cart', model2))\n",
    "model3 = Pipeline(steps=[\n",
    "    ('preprocess', feature_pipe),\n",
    "    ('clf', SVC())])\n",
    "estimators.append(('svm', model3))\n",
    "# create the ensemble model\n",
    "ensemble = VotingClassifier(estimators)\n",
    "\n",
    "\n",
    "ensemble.fit(X_train, y_train)\n",
    "y_pred = ensemble.predict(X_test)\n",
    "\n",
    "print((y_pred==y_test).mean())\n",
    "print(\"ck_score:\", cohen_kappa_score(y1=y_test, y2=y_pred, weights='quadratic'))\n",
    "confusion_matrix(y_test, y_pred)"
   ]
  },
  {
   "cell_type": "code",
   "execution_count": 41,
   "metadata": {},
   "outputs": [
    {
     "data": {
      "text/html": [
       "<div>\n",
       "<style scoped>\n",
       "    .dataframe tbody tr th:only-of-type {\n",
       "        vertical-align: middle;\n",
       "    }\n",
       "\n",
       "    .dataframe tbody tr th {\n",
       "        vertical-align: top;\n",
       "    }\n",
       "\n",
       "    .dataframe thead th {\n",
       "        text-align: right;\n",
       "    }\n",
       "</style>\n",
       "<table border=\"1\" class=\"dataframe\">\n",
       "  <thead>\n",
       "    <tr style=\"text-align: right;\">\n",
       "      <th></th>\n",
       "      <th>mean_fit_time</th>\n",
       "      <th>std_fit_time</th>\n",
       "      <th>mean_score_time</th>\n",
       "      <th>std_score_time</th>\n",
       "      <th>param_clf__n_estimators</th>\n",
       "      <th>params</th>\n",
       "      <th>split0_test_kappa</th>\n",
       "      <th>split1_test_kappa</th>\n",
       "      <th>split2_test_kappa</th>\n",
       "      <th>split3_test_kappa</th>\n",
       "      <th>...</th>\n",
       "      <th>split2_train_rmse</th>\n",
       "      <th>split3_train_rmse</th>\n",
       "      <th>split4_train_rmse</th>\n",
       "      <th>split5_train_rmse</th>\n",
       "      <th>split6_train_rmse</th>\n",
       "      <th>split7_train_rmse</th>\n",
       "      <th>split8_train_rmse</th>\n",
       "      <th>split9_train_rmse</th>\n",
       "      <th>mean_train_rmse</th>\n",
       "      <th>std_train_rmse</th>\n",
       "    </tr>\n",
       "  </thead>\n",
       "  <tbody>\n",
       "    <tr>\n",
       "      <th>0</th>\n",
       "      <td>2.645448</td>\n",
       "      <td>0.694773</td>\n",
       "      <td>0.047403</td>\n",
       "      <td>0.003090</td>\n",
       "      <td>5</td>\n",
       "      <td>{'clf__n_estimators': 5}</td>\n",
       "      <td>0.427293</td>\n",
       "      <td>0.385597</td>\n",
       "      <td>0.445234</td>\n",
       "      <td>0.403831</td>\n",
       "      <td>...</td>\n",
       "      <td>0.242337</td>\n",
       "      <td>0.254334</td>\n",
       "      <td>0.250942</td>\n",
       "      <td>0.251790</td>\n",
       "      <td>0.232823</td>\n",
       "      <td>0.256438</td>\n",
       "      <td>0.250911</td>\n",
       "      <td>0.233185</td>\n",
       "      <td>0.247573</td>\n",
       "      <td>0.009156</td>\n",
       "    </tr>\n",
       "    <tr>\n",
       "      <th>1</th>\n",
       "      <td>4.682973</td>\n",
       "      <td>0.224965</td>\n",
       "      <td>0.070351</td>\n",
       "      <td>0.009957</td>\n",
       "      <td>10</td>\n",
       "      <td>{'clf__n_estimators': 10}</td>\n",
       "      <td>0.466582</td>\n",
       "      <td>0.405084</td>\n",
       "      <td>0.453943</td>\n",
       "      <td>0.444151</td>\n",
       "      <td>...</td>\n",
       "      <td>0.113819</td>\n",
       "      <td>0.114322</td>\n",
       "      <td>0.113254</td>\n",
       "      <td>0.108906</td>\n",
       "      <td>0.103128</td>\n",
       "      <td>0.111732</td>\n",
       "      <td>0.110727</td>\n",
       "      <td>0.111160</td>\n",
       "      <td>0.111507</td>\n",
       "      <td>0.004013</td>\n",
       "    </tr>\n",
       "    <tr>\n",
       "      <th>2</th>\n",
       "      <td>8.934751</td>\n",
       "      <td>0.295163</td>\n",
       "      <td>0.094249</td>\n",
       "      <td>0.004953</td>\n",
       "      <td>20</td>\n",
       "      <td>{'clf__n_estimators': 20}</td>\n",
       "      <td>0.433960</td>\n",
       "      <td>0.451722</td>\n",
       "      <td>0.481136</td>\n",
       "      <td>0.455977</td>\n",
       "      <td>...</td>\n",
       "      <td>0.060050</td>\n",
       "      <td>0.059359</td>\n",
       "      <td>0.062123</td>\n",
       "      <td>0.061738</td>\n",
       "      <td>0.063057</td>\n",
       "      <td>0.067328</td>\n",
       "      <td>0.060796</td>\n",
       "      <td>0.065189</td>\n",
       "      <td>0.062176</td>\n",
       "      <td>0.002471</td>\n",
       "    </tr>\n",
       "    <tr>\n",
       "      <th>3</th>\n",
       "      <td>42.440261</td>\n",
       "      <td>3.172690</td>\n",
       "      <td>0.332231</td>\n",
       "      <td>0.069500</td>\n",
       "      <td>100</td>\n",
       "      <td>{'clf__n_estimators': 100}</td>\n",
       "      <td>0.445930</td>\n",
       "      <td>0.463050</td>\n",
       "      <td>0.492764</td>\n",
       "      <td>0.489210</td>\n",
       "      <td>...</td>\n",
       "      <td>0.046294</td>\n",
       "      <td>0.045791</td>\n",
       "      <td>0.046545</td>\n",
       "      <td>0.042834</td>\n",
       "      <td>0.039379</td>\n",
       "      <td>0.045660</td>\n",
       "      <td>0.042771</td>\n",
       "      <td>0.044150</td>\n",
       "      <td>0.043911</td>\n",
       "      <td>0.002153</td>\n",
       "    </tr>\n",
       "  </tbody>\n",
       "</table>\n",
       "<p>4 rows × 81 columns</p>\n",
       "</div>"
      ],
      "text/plain": [
       "   mean_fit_time  std_fit_time  mean_score_time  std_score_time  \\\n",
       "0       2.645448      0.694773         0.047403        0.003090   \n",
       "1       4.682973      0.224965         0.070351        0.009957   \n",
       "2       8.934751      0.295163         0.094249        0.004953   \n",
       "3      42.440261      3.172690         0.332231        0.069500   \n",
       "\n",
       "  param_clf__n_estimators                      params  split0_test_kappa  \\\n",
       "0                       5    {'clf__n_estimators': 5}           0.427293   \n",
       "1                      10   {'clf__n_estimators': 10}           0.466582   \n",
       "2                      20   {'clf__n_estimators': 20}           0.433960   \n",
       "3                     100  {'clf__n_estimators': 100}           0.445930   \n",
       "\n",
       "   split1_test_kappa  split2_test_kappa  split3_test_kappa  ...  \\\n",
       "0           0.385597           0.445234           0.403831  ...   \n",
       "1           0.405084           0.453943           0.444151  ...   \n",
       "2           0.451722           0.481136           0.455977  ...   \n",
       "3           0.463050           0.492764           0.489210  ...   \n",
       "\n",
       "   split2_train_rmse  split3_train_rmse  split4_train_rmse  split5_train_rmse  \\\n",
       "0           0.242337           0.254334           0.250942           0.251790   \n",
       "1           0.113819           0.114322           0.113254           0.108906   \n",
       "2           0.060050           0.059359           0.062123           0.061738   \n",
       "3           0.046294           0.045791           0.046545           0.042834   \n",
       "\n",
       "   split6_train_rmse  split7_train_rmse  split8_train_rmse  split9_train_rmse  \\\n",
       "0           0.232823           0.256438           0.250911           0.233185   \n",
       "1           0.103128           0.111732           0.110727           0.111160   \n",
       "2           0.063057           0.067328           0.060796           0.065189   \n",
       "3           0.039379           0.045660           0.042771           0.044150   \n",
       "\n",
       "   mean_train_rmse  std_train_rmse  \n",
       "0         0.247573        0.009156  \n",
       "1         0.111507        0.004013  \n",
       "2         0.062176        0.002471  \n",
       "3         0.043911        0.002153  \n",
       "\n",
       "[4 rows x 81 columns]"
      ]
     },
     "execution_count": 41,
     "metadata": {},
     "output_type": "execute_result"
    }
   ],
   "source": [
    "regressor_kappa_score = make_scorer(lambda y, y_pred: cohen_kappa_score(y, y_pred, weights='quadratic'))\n",
    "regressor_accuracy_score = make_scorer(lambda y, y_pred: accuracy_score(y, y_pred))\n",
    "\n",
    "dt_cv = GridSearchCV(ordinal_pipe, cv=10, \n",
    "                      scoring={'kappa': regressor_kappa_score,\n",
    "                               'accuracy': regressor_accuracy_score)},\n",
    "                      param_grid={'clf__n_estimators': [5, 10, 20, 100]},\n",
    "                      refit=False)\n",
    "dt_cv.fit(feats, labels.accuracy_group)\n",
    "pd.DataFrame(dt_cv.cv_results_)"
   ]
  },
  {
   "cell_type": "code",
   "execution_count": 42,
   "metadata": {},
   "outputs": [
    {
     "data": {
      "text/html": [
       "<div>\n",
       "<style scoped>\n",
       "    .dataframe tbody tr th:only-of-type {\n",
       "        vertical-align: middle;\n",
       "    }\n",
       "\n",
       "    .dataframe tbody tr th {\n",
       "        vertical-align: top;\n",
       "    }\n",
       "\n",
       "    .dataframe thead th {\n",
       "        text-align: right;\n",
       "    }\n",
       "</style>\n",
       "<table border=\"1\" class=\"dataframe\">\n",
       "  <thead>\n",
       "    <tr style=\"text-align: right;\">\n",
       "      <th></th>\n",
       "      <th>mean_test_kappa</th>\n",
       "      <th>mean_test_accuracy</th>\n",
       "      <th>mean_test_rmse</th>\n",
       "    </tr>\n",
       "  </thead>\n",
       "  <tbody>\n",
       "    <tr>\n",
       "      <th>3</th>\n",
       "      <td>0.478088</td>\n",
       "      <td>0.583833</td>\n",
       "      <td>1.724251</td>\n",
       "    </tr>\n",
       "    <tr>\n",
       "      <th>2</th>\n",
       "      <td>0.458683</td>\n",
       "      <td>0.561730</td>\n",
       "      <td>1.789090</td>\n",
       "    </tr>\n",
       "    <tr>\n",
       "      <th>1</th>\n",
       "      <td>0.437443</td>\n",
       "      <td>0.537931</td>\n",
       "      <td>1.861504</td>\n",
       "    </tr>\n",
       "    <tr>\n",
       "      <th>0</th>\n",
       "      <td>0.405642</td>\n",
       "      <td>0.499774</td>\n",
       "      <td>1.952007</td>\n",
       "    </tr>\n",
       "  </tbody>\n",
       "</table>\n",
       "</div>"
      ],
      "text/plain": [
       "   mean_test_kappa  mean_test_accuracy  mean_test_rmse\n",
       "3         0.478088            0.583833        1.724251\n",
       "2         0.458683            0.561730        1.789090\n",
       "1         0.437443            0.537931        1.861504\n",
       "0         0.405642            0.499774        1.952007"
      ]
     },
     "execution_count": 42,
     "metadata": {},
     "output_type": "execute_result"
    }
   ],
   "source": [
    "# print(ordinal_cv.best_params_)\n",
    "pd.DataFrame(ftl_cv.cv_results_).sort_values('mean_test_kappa', ascending=False).head()[['mean_test_kappa', 'mean_test_accuracy', 'mean_test_rmse']]"
   ]
  }
 ],
 "metadata": {
  "kernelspec": {
   "display_name": "Python 3",
   "language": "python",
   "name": "python3"
  },
  "language_info": {
   "codemirror_mode": {
    "name": "ipython",
    "version": 3
   },
   "file_extension": ".py",
   "mimetype": "text/x-python",
   "name": "python",
   "nbconvert_exporter": "python",
   "pygments_lexer": "ipython3",
   "version": "3.7.3"
  }
 },
 "nbformat": 4,
 "nbformat_minor": 4
}
