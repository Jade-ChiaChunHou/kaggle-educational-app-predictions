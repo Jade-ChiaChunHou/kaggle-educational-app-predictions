{
 "cells": [
  {
   "cell_type": "code",
   "execution_count": 14,
   "metadata": {
    "ExecuteTime": {
     "end_time": "2020-03-08T09:53:22.175220Z",
     "start_time": "2020-03-08T09:53:22.131836Z"
    }
   },
   "outputs": [
    {
     "name": "stdout",
     "output_type": "stream",
     "text": [
      "The autoreload extension is already loaded. To reload it, use:\n",
      "  %reload_ext autoreload\n"
     ]
    }
   ],
   "source": [
    "%load_ext autoreload\n",
    "%autoreload 2\n",
    "import features\n",
    "import seaborn as sns\n",
    "import numpy as np\n",
    "import pandas as pd"
   ]
  },
  {
   "cell_type": "code",
   "execution_count": 3,
   "metadata": {
    "ExecuteTime": {
     "end_time": "2020-03-08T09:21:01.999368Z",
     "start_time": "2020-03-08T09:20:09.248064Z"
    }
   },
   "outputs": [
    {
     "name": "stdout",
     "output_type": "stream",
     "text": [
      "Reading train.csv file....\n",
      "Training.csv file have 11341042 rows and 11 columns\n",
      "Reading test.csv file....\n",
      "Test.csv file have 1156414 rows and 11 columns\n",
      "Reading train_labels.csv file....\n",
      "Train_labels.csv file have 17690 rows and 7 columns\n",
      "Reading specs.csv file....\n",
      "Specs.csv file have 386 rows and 3 columns\n"
     ]
    }
   ],
   "source": [
    "train, test, train_labels, specs = features.read_data()"
   ]
  },
  {
   "cell_type": "code",
   "execution_count": 31,
   "metadata": {
    "ExecuteTime": {
     "end_time": "2020-03-08T06:13:54.454561Z",
     "start_time": "2020-03-08T06:13:54.036528Z"
    }
   },
   "outputs": [
    {
     "data": {
      "text/plain": [
       "17000"
      ]
     },
     "execution_count": 31,
     "metadata": {},
     "output_type": "execute_result"
    }
   ],
   "source": [
    "train.installation_id.unique().size"
   ]
  },
  {
   "cell_type": "code",
   "execution_count": null,
   "metadata": {},
   "outputs": [],
   "source": [
    "train.columns"
   ]
  },
  {
   "cell_type": "code",
   "execution_count": 168,
   "metadata": {
    "ExecuteTime": {
     "end_time": "2020-03-08T08:39:36.659907Z",
     "start_time": "2020-03-08T08:39:36.630683Z"
    }
   },
   "outputs": [
    {
     "data": {
      "text/plain": [
       "Index(['game_session', 'installation_id', 'title', 'num_correct',\n",
       "       'num_incorrect', 'accuracy', 'accuracy_group'],\n",
       "      dtype='object')"
      ]
     },
     "execution_count": 168,
     "metadata": {},
     "output_type": "execute_result"
    }
   ],
   "source": [
    "train_labels.columns"
   ]
  },
  {
   "cell_type": "code",
   "execution_count": 27,
   "metadata": {
    "ExecuteTime": {
     "end_time": "2020-03-08T06:07:48.581574Z",
     "start_time": "2020-03-08T06:07:47.578578Z"
    }
   },
   "outputs": [
    {
     "data": {
      "text/plain": [
       "<matplotlib.axes._subplots.AxesSubplot at 0x13bf2b0f0>"
      ]
     },
     "execution_count": 27,
     "metadata": {},
     "output_type": "execute_result"
    },
    {
     "data": {
      "image/png": "[encoded data removed]",
      "text/plain": [
       "<Figure size 432x288 with 1 Axes>"
      ]
     },
     "metadata": {
      "needs_background": "light"
     },
     "output_type": "display_data"
    }
   ],
   "source": [
    "sns.violinplot(np.log(train.installation_id.value_counts()))"
   ]
  },
  {
   "cell_type": "code",
   "execution_count": 30,
   "metadata": {
    "ExecuteTime": {
     "end_time": "2020-03-08T06:11:59.366676Z",
     "start_time": "2020-03-08T06:11:58.110319Z"
    }
   },
   "outputs": [
    {
     "data": {
      "text/plain": [
       "<matplotlib.axes._subplots.AxesSubplot at 0x127534710>"
      ]
     },
     "execution_count": 30,
     "metadata": {},
     "output_type": "execute_result"
    },
    {
     "data": {
      "image/png": "[encoded data removed]",
      "text/plain": [
       "<Figure size 432x288 with 1 Axes>"
      ]
     },
     "metadata": {
      "needs_background": "light"
     },
     "output_type": "display_data"
    }
   ],
   "source": [
    "sns.violinplot(np.log(train.event_id.value_counts()))"
   ]
  },
  {
   "cell_type": "code",
   "execution_count": 10,
   "metadata": {
    "ExecuteTime": {
     "end_time": "2020-03-08T09:52:27.631307Z",
     "start_time": "2020-03-08T09:52:21.525643Z"
    }
   },
   "outputs": [],
   "source": [
    "def get_worst_score(group):\n",
    "    return group.sort_values('accuracy_group').iloc[0]\n",
    "\n",
    "labels = train_labels.groupby(['installation_id', 'title']).apply(get_worst_score).reset_index(drop=True)"
   ]
  },
  {
   "cell_type": "code",
   "execution_count": 42,
   "metadata": {
    "ExecuteTime": {
     "end_time": "2020-03-08T10:28:50.086215Z",
     "start_time": "2020-03-08T10:24:22.778791Z"
    }
   },
   "outputs": [],
   "source": [
    "feats = groups.apply(lambda x: features.summarize_events_before_game_session(x, game_session=x.name[1])).reset_index()"
   ]
  },
  {
   "cell_type": "code",
   "execution_count": 55,
   "metadata": {
    "ExecuteTime": {
     "end_time": "2020-03-08T10:42:31.749867Z",
     "start_time": "2020-03-08T10:37:36.153061Z"
    }
   },
   "outputs": [],
   "source": [
    "feats = features.get_basic_user_features(train, labels)"
   ]
  },
  {
   "cell_type": "code",
   "execution_count": 43,
   "metadata": {
    "ExecuteTime": {
     "end_time": "2020-03-08T10:28:53.280597Z",
     "start_time": "2020-03-08T10:28:53.235141Z"
    }
   },
   "outputs": [
    {
     "data": {
      "text/html": [
       "<div>\n",
       "<style scoped>\n",
       "    .dataframe tbody tr th:only-of-type {\n",
       "        vertical-align: middle;\n",
       "    }\n",
       "\n",
       "    .dataframe tbody tr th {\n",
       "        vertical-align: top;\n",
       "    }\n",
       "\n",
       "    .dataframe thead th {\n",
       "        text-align: right;\n",
       "    }\n",
       "</style>\n",
       "<table border=\"1\" class=\"dataframe\">\n",
       "  <thead>\n",
       "    <tr style=\"text-align: right;\">\n",
       "      <th></th>\n",
       "      <th>installation_id</th>\n",
       "      <th>game_session_y</th>\n",
       "      <th>event_count</th>\n",
       "      <th>game_time</th>\n",
       "      <th>num_unique_days</th>\n",
       "      <th>elapsed_days</th>\n",
       "      <th>last_world</th>\n",
       "      <th>type_counts</th>\n",
       "      <th>unique_game_sessions</th>\n",
       "      <th>title_y</th>\n",
       "      <th>num_correct</th>\n",
       "      <th>num_incorrect</th>\n",
       "      <th>accuracy</th>\n",
       "      <th>accuracy_group</th>\n",
       "    </tr>\n",
       "  </thead>\n",
       "  <tbody>\n",
       "    <tr>\n",
       "      <th>0</th>\n",
       "      <td>0006a69f</td>\n",
       "      <td>77b8ee947eb84b4e</td>\n",
       "      <td>80570</td>\n",
       "      <td>75295894</td>\n",
       "      <td>1</td>\n",
       "      <td>0 days</td>\n",
       "      <td>TREETOPCITY</td>\n",
       "      <td>Activity      556\n",
       "Game          525\n",
       "Assessment...</td>\n",
       "      <td>26</td>\n",
       "      <td>Bird Measurer (Assessment)</td>\n",
       "      <td>0</td>\n",
       "      <td>11</td>\n",
       "      <td>0.0</td>\n",
       "      <td>0</td>\n",
       "    </tr>\n",
       "    <tr>\n",
       "      <th>1</th>\n",
       "      <td>0006a69f</td>\n",
       "      <td>9501794defd84e4d</td>\n",
       "      <td>135226</td>\n",
       "      <td>196920049</td>\n",
       "      <td>1</td>\n",
       "      <td>0 days</td>\n",
       "      <td>TREETOPCITY</td>\n",
       "      <td>Activity      1103\n",
       "Game           845\n",
       "Assessme...</td>\n",
       "      <td>48</td>\n",
       "      <td>Mushroom Sorter (Assessment)</td>\n",
       "      <td>1</td>\n",
       "      <td>1</td>\n",
       "      <td>0.5</td>\n",
       "      <td>2</td>\n",
       "    </tr>\n",
       "    <tr>\n",
       "      <th>2</th>\n",
       "      <td>0006c192</td>\n",
       "      <td>197a373a77101924</td>\n",
       "      <td>141995</td>\n",
       "      <td>140663742</td>\n",
       "      <td>2</td>\n",
       "      <td>1 days</td>\n",
       "      <td>MAGMAPEAK</td>\n",
       "      <td>Activity      894\n",
       "Game          633\n",
       "Assessment...</td>\n",
       "      <td>26</td>\n",
       "      <td>Cauldron Filler (Assessment)</td>\n",
       "      <td>1</td>\n",
       "      <td>0</td>\n",
       "      <td>1.0</td>\n",
       "      <td>3</td>\n",
       "    </tr>\n",
       "    <tr>\n",
       "      <th>3</th>\n",
       "      <td>0006c192</td>\n",
       "      <td>957406a905d59afd</td>\n",
       "      <td>195450</td>\n",
       "      <td>201045937</td>\n",
       "      <td>4</td>\n",
       "      <td>18 days</td>\n",
       "      <td>TREETOPCITY</td>\n",
       "      <td>Activity      1206\n",
       "Game           643\n",
       "Assessme...</td>\n",
       "      <td>48</td>\n",
       "      <td>Bird Measurer (Assessment)</td>\n",
       "      <td>1</td>\n",
       "      <td>1</td>\n",
       "      <td>0.5</td>\n",
       "      <td>2</td>\n",
       "    </tr>\n",
       "    <tr>\n",
       "      <th>4</th>\n",
       "      <td>0006c192</td>\n",
       "      <td>b2297d292892745a</td>\n",
       "      <td>175327</td>\n",
       "      <td>179033827</td>\n",
       "      <td>4</td>\n",
       "      <td>18 days</td>\n",
       "      <td>TREETOPCITY</td>\n",
       "      <td>Activity      1206\n",
       "Game           637\n",
       "Assessme...</td>\n",
       "      <td>44</td>\n",
       "      <td>Mushroom Sorter (Assessment)</td>\n",
       "      <td>0</td>\n",
       "      <td>4</td>\n",
       "      <td>0.0</td>\n",
       "      <td>0</td>\n",
       "    </tr>\n",
       "  </tbody>\n",
       "</table>\n",
       "</div>"
      ],
      "text/plain": [
       "  installation_id    game_session_y  event_count  game_time  num_unique_days  \\\n",
       "0        0006a69f  77b8ee947eb84b4e        80570   75295894                1   \n",
       "1        0006a69f  9501794defd84e4d       135226  196920049                1   \n",
       "2        0006c192  197a373a77101924       141995  140663742                2   \n",
       "3        0006c192  957406a905d59afd       195450  201045937                4   \n",
       "4        0006c192  b2297d292892745a       175327  179033827                4   \n",
       "\n",
       "  elapsed_days   last_world  \\\n",
       "0       0 days  TREETOPCITY   \n",
       "1       0 days  TREETOPCITY   \n",
       "2       1 days    MAGMAPEAK   \n",
       "3      18 days  TREETOPCITY   \n",
       "4      18 days  TREETOPCITY   \n",
       "\n",
       "                                         type_counts  unique_game_sessions  \\\n",
       "0  Activity      556\n",
       "Game          525\n",
       "Assessment...                    26   \n",
       "1  Activity      1103\n",
       "Game           845\n",
       "Assessme...                    48   \n",
       "2  Activity      894\n",
       "Game          633\n",
       "Assessment...                    26   \n",
       "3  Activity      1206\n",
       "Game           643\n",
       "Assessme...                    48   \n",
       "4  Activity      1206\n",
       "Game           637\n",
       "Assessme...                    44   \n",
       "\n",
       "                        title_y  num_correct  num_incorrect  accuracy  \\\n",
       "0    Bird Measurer (Assessment)            0             11       0.0   \n",
       "1  Mushroom Sorter (Assessment)            1              1       0.5   \n",
       "2  Cauldron Filler (Assessment)            1              0       1.0   \n",
       "3    Bird Measurer (Assessment)            1              1       0.5   \n",
       "4  Mushroom Sorter (Assessment)            0              4       0.0   \n",
       "\n",
       "   accuracy_group  \n",
       "0               0  \n",
       "1               2  \n",
       "2               3  \n",
       "3               2  \n",
       "4               0  "
      ]
     },
     "execution_count": 43,
     "metadata": {},
     "output_type": "execute_result"
    }
   ],
   "source": [
    "feats.head()"
   ]
  },
  {
   "cell_type": "code",
   "execution_count": 56,
   "metadata": {
    "ExecuteTime": {
     "end_time": "2020-03-08T10:42:38.801517Z",
     "start_time": "2020-03-08T10:42:38.771906Z"
    }
   },
   "outputs": [
    {
     "data": {
      "text/plain": [
       "(9386, 17)"
      ]
     },
     "execution_count": 56,
     "metadata": {},
     "output_type": "execute_result"
    }
   ],
   "source": [
    "feats.shape"
   ]
  },
  {
   "cell_type": "code",
   "execution_count": 57,
   "metadata": {
    "ExecuteTime": {
     "end_time": "2020-03-08T10:42:39.597808Z",
     "start_time": "2020-03-08T10:42:39.572690Z"
    }
   },
   "outputs": [
    {
     "data": {
      "text/plain": [
       "Index(['game_session', 'installation_id', 'title', 'num_correct',\n",
       "       'num_incorrect', 'accuracy', 'accuracy_group'],\n",
       "      dtype='object')"
      ]
     },
     "execution_count": 57,
     "metadata": {},
     "output_type": "execute_result"
    }
   ],
   "source": [
    "train_labels.columns"
   ]
  },
  {
   "cell_type": "code",
   "execution_count": 58,
   "metadata": {
    "ExecuteTime": {
     "end_time": "2020-03-08T10:42:41.955733Z",
     "start_time": "2020-03-08T10:42:41.757290Z"
    }
   },
   "outputs": [
    {
     "data": {
      "text/plain": [
       "<matplotlib.axes._subplots.AxesSubplot at 0x1553e8860>"
      ]
     },
     "execution_count": 58,
     "metadata": {},
     "output_type": "execute_result"
    },
    {
     "data": {
      "image/png": "[encoded data removed]",
      "text/plain": [
       "<Figure size 432x288 with 1 Axes>"
      ]
     },
     "metadata": {
      "needs_background": "light"
     },
     "output_type": "display_data"
    }
   ],
   "source": [
    "sns.violinplot(np.log(feats.event_count))"
   ]
  },
  {
   "cell_type": "code",
   "execution_count": 59,
   "metadata": {
    "ExecuteTime": {
     "end_time": "2020-03-08T10:42:45.556462Z",
     "start_time": "2020-03-08T10:42:45.381529Z"
    }
   },
   "outputs": [
    {
     "data": {
      "text/plain": [
       "<matplotlib.axes._subplots.AxesSubplot at 0x158617b00>"
      ]
     },
     "execution_count": 59,
     "metadata": {},
     "output_type": "execute_result"
    },
    {
     "data": {
      "image/png": "[encoded data removed]",
      "text/plain": [
       "<Figure size 432x288 with 1 Axes>"
      ]
     },
     "metadata": {
      "needs_background": "light"
     },
     "output_type": "display_data"
    }
   ],
   "source": [
    "sns.violinplot(feats.installation_id.value_counts())"
   ]
  },
  {
   "cell_type": "code",
   "execution_count": 61,
   "metadata": {
    "ExecuteTime": {
     "end_time": "2020-03-08T10:43:16.007575Z",
     "start_time": "2020-03-08T10:43:15.694958Z"
    }
   },
   "outputs": [],
   "source": [
    "feats.to_csv('installation_features.csv', index=False)"
   ]
  },
  {
   "cell_type": "code",
   "execution_count": 54,
   "metadata": {
    "ExecuteTime": {
     "end_time": "2020-03-08T10:35:38.181472Z",
     "start_time": "2020-03-08T10:35:31.282203Z"
    }
   },
   "outputs": [
    {
     "data": {
      "text/html": [
       "<div>\n",
       "<style scoped>\n",
       "    .dataframe tbody tr th:only-of-type {\n",
       "        vertical-align: middle;\n",
       "    }\n",
       "\n",
       "    .dataframe tbody tr th {\n",
       "        vertical-align: top;\n",
       "    }\n",
       "\n",
       "    .dataframe thead th {\n",
       "        text-align: right;\n",
       "    }\n",
       "</style>\n",
       "<table border=\"1\" class=\"dataframe\">\n",
       "  <thead>\n",
       "    <tr style=\"text-align: right;\">\n",
       "      <th></th>\n",
       "      <th>Activity</th>\n",
       "      <th>Game</th>\n",
       "      <th>Assessment</th>\n",
       "      <th>Clip</th>\n",
       "    </tr>\n",
       "  </thead>\n",
       "  <tbody>\n",
       "    <tr>\n",
       "      <th>0</th>\n",
       "      <td>556.0</td>\n",
       "      <td>525.0</td>\n",
       "      <td>135.0</td>\n",
       "      <td>14.0</td>\n",
       "    </tr>\n",
       "    <tr>\n",
       "      <th>1</th>\n",
       "      <td>1103.0</td>\n",
       "      <td>845.0</td>\n",
       "      <td>229.0</td>\n",
       "      <td>24.0</td>\n",
       "    </tr>\n",
       "    <tr>\n",
       "      <th>2</th>\n",
       "      <td>894.0</td>\n",
       "      <td>633.0</td>\n",
       "      <td>24.0</td>\n",
       "      <td>15.0</td>\n",
       "    </tr>\n",
       "    <tr>\n",
       "      <th>3</th>\n",
       "      <td>1206.0</td>\n",
       "      <td>643.0</td>\n",
       "      <td>343.0</td>\n",
       "      <td>30.0</td>\n",
       "    </tr>\n",
       "    <tr>\n",
       "      <th>4</th>\n",
       "      <td>1206.0</td>\n",
       "      <td>637.0</td>\n",
       "      <td>143.0</td>\n",
       "      <td>28.0</td>\n",
       "    </tr>\n",
       "    <tr>\n",
       "      <th>...</th>\n",
       "      <td>...</td>\n",
       "      <td>...</td>\n",
       "      <td>...</td>\n",
       "      <td>...</td>\n",
       "    </tr>\n",
       "    <tr>\n",
       "      <th>9381</th>\n",
       "      <td>145.0</td>\n",
       "      <td>56.0</td>\n",
       "      <td>62.0</td>\n",
       "      <td>12.0</td>\n",
       "    </tr>\n",
       "    <tr>\n",
       "      <th>9382</th>\n",
       "      <td>145.0</td>\n",
       "      <td>380.0</td>\n",
       "      <td>145.0</td>\n",
       "      <td>15.0</td>\n",
       "    </tr>\n",
       "    <tr>\n",
       "      <th>9383</th>\n",
       "      <td>561.0</td>\n",
       "      <td>324.0</td>\n",
       "      <td>40.0</td>\n",
       "      <td>3.0</td>\n",
       "    </tr>\n",
       "    <tr>\n",
       "      <th>9384</th>\n",
       "      <td>381.0</td>\n",
       "      <td>941.0</td>\n",
       "      <td>247.0</td>\n",
       "      <td>24.0</td>\n",
       "    </tr>\n",
       "    <tr>\n",
       "      <th>9385</th>\n",
       "      <td>305.0</td>\n",
       "      <td>941.0</td>\n",
       "      <td>186.0</td>\n",
       "      <td>23.0</td>\n",
       "    </tr>\n",
       "  </tbody>\n",
       "</table>\n",
       "<p>9386 rows × 4 columns</p>\n",
       "</div>"
      ],
      "text/plain": [
       "      Activity   Game  Assessment  Clip\n",
       "0        556.0  525.0       135.0  14.0\n",
       "1       1103.0  845.0       229.0  24.0\n",
       "2        894.0  633.0        24.0  15.0\n",
       "3       1206.0  643.0       343.0  30.0\n",
       "4       1206.0  637.0       143.0  28.0\n",
       "...        ...    ...         ...   ...\n",
       "9381     145.0   56.0        62.0  12.0\n",
       "9382     145.0  380.0       145.0  15.0\n",
       "9383     561.0  324.0        40.0   3.0\n",
       "9384     381.0  941.0       247.0  24.0\n",
       "9385     305.0  941.0       186.0  23.0\n",
       "\n",
       "[9386 rows x 4 columns]"
      ]
     },
     "execution_count": 54,
     "metadata": {},
     "output_type": "execute_result"
    }
   ],
   "source": [
    "feats.type_counts.apply(pd.Series)"
   ]
  },
  {
   "cell_type": "code",
   "execution_count": null,
   "metadata": {},
   "outputs": [],
   "source": []
  }
 ],
 "metadata": {
  "kernelspec": {
   "display_name": "Python 3",
   "language": "python",
   "name": "python3"
  },
  "language_info": {
   "codemirror_mode": {
    "name": "ipython",
    "version": 3
   },
   "file_extension": ".py",
   "mimetype": "text/x-python",
   "name": "python",
   "nbconvert_exporter": "python",
   "pygments_lexer": "ipython3",
   "version": "3.7.1"
  },
  "latex_envs": {
   "LaTeX_envs_menu_present": true,
   "autoclose": false,
   "autocomplete": true,
   "bibliofile": "biblio.bib",
   "cite_by": "apalike",
   "current_citInitial": 1,
   "eqLabelWithNumbers": true,
   "eqNumInitial": 1,
   "hotkeys": {
    "equation": "Ctrl-E",
    "itemize": "Ctrl-I"
   },
   "labels_anchors": false,
   "latex_user_defs": false,
   "report_style_numbering": false,
   "user_envs_cfg": false
  },
  "varInspector": {
   "cols": {
    "lenName": 16,
    "lenType": 16,
    "lenVar": 40
   },
   "kernels_config": {
    "python": {
     "delete_cmd_postfix": "",
     "delete_cmd_prefix": "del ",
     "library": "var_list.py",
     "varRefreshCmd": "print(var_dic_list())"
    },
    "r": {
     "delete_cmd_postfix": ") ",
     "delete_cmd_prefix": "rm(",
     "library": "var_list.r",
     "varRefreshCmd": "cat(var_dic_list()) "
    }
   },
   "types_to_exclude": [
    "module",
    "function",
    "builtin_function_or_method",
    "instance",
    "_Feature"
   ],
   "window_display": false
  }
 },
 "nbformat": 4,
 "nbformat_minor": 4
}
