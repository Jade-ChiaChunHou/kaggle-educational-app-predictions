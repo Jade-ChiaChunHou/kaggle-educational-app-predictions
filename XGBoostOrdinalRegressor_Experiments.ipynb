{
 "cells": [
  {
   "cell_type": "code",
   "execution_count": 1,
   "metadata": {},
   "outputs": [],
   "source": [
    "%load_ext autoreload\n",
    "%autoreload 2\n",
    "import pandas as pd\n",
    "import numpy as np\n",
    "import features"
   ]
  },
  {
   "cell_type": "code",
   "execution_count": 5,
   "metadata": {},
   "outputs": [],
   "source": [
    "feats=pd.read_csv('installation_features.csv')\n",
    "labels=pd.read_csv('installation_labels.csv')"
   ]
  },
  {
   "cell_type": "code",
   "execution_count": 6,
   "metadata": {},
   "outputs": [],
   "source": [
    "feature_pipe=features.get_data_processing_pipe(feats,log_features=['game_time', 'event_count'], categorical_features=['last_world', 'last_assessment'])"
   ]
  },
  {
   "cell_type": "code",
   "execution_count": 59,
   "metadata": {},
   "outputs": [
    {
     "name": "stdout",
     "output_type": "stream",
     "text": [
      "0.5073446327683616\n",
      "0.6124221150864135\n"
     ]
    },
    {
     "data": {
      "text/plain": [
       "array([[ 58, 113,  34,  26],\n",
       "       [  5,  42,  42,  33],\n",
       "       [  1,  22,  29,  59],\n",
       "       [  0,  28,  73, 320]])"
      ]
     },
     "execution_count": 59,
     "metadata": {},
     "output_type": "execute_result"
    }
   ],
   "source": [
    "from sklearn.preprocessing import OneHotEncoder\n",
    "from sklearn.linear_model import LogisticRegression\n",
    "from sklearn.model_selection import GridSearchCV, train_test_split\n",
    "from sklearn.svm import SVC \n",
    "from sklearn.ensemble import RandomForestClassifier\n",
    "from sklearn.metrics import confusion_matrix, cohen_kappa_score, make_scorer, accuracy_score, mean_squared_error\n",
    "from sklearn.pipeline import Pipeline\n",
    "import inspect\n",
    "import xgboost as xgb\n",
    "import soft_kappa_loss as kappa\n",
    "from sklearn.utils import class_weight\n",
    "from OrdinalRegressor import OrdinalRegressor\n",
    "from OptimizeThresholds import OptimizedRounder\n",
    "\n",
    "X_train, X_test, y_train, y_test = train_test_split(feats, labels.accuracy_group, test_size=0.05, random_state=42)\n",
    "\n",
    "### setup the pipeline\n",
    "ordinal_pipe = Pipeline(steps=[\n",
    "    ('preprocess', feature_pipe),\n",
    "    ('clf', OrdinalRegressor(xgb.XGBRegressor,\n",
    "                              **{'colsample_bytree':0.5,\n",
    "                                 'learning_rate':0.1,\n",
    "                                 'max_depth':7,\n",
    "                                 'subsample':1}))])\n",
    "\n",
    "\n",
    "ordinal_pipe.fit(X_train, y_train)\n",
    "y_pred = ordinal_pipe.predict(X_test, **{'classify': True})\n",
    "print((y_pred==y_test).mean())\n",
    "print(cohen_kappa_score(y1=y_test, y2=y_pred, weights='quadratic'))\n",
    "confusion_matrix(y_test, y_pred)"
   ]
  },
  {
   "cell_type": "code",
   "execution_count": null,
   "metadata": {},
   "outputs": [],
   "source": [
    "regressor_kappa_score = make_scorer(lambda y, y_pred: cohen_kappa_score(y, y_pred, weights='quadratic'), needs_proba=True)\n",
    "regressor_accuracy_score = make_scorer(lambda y, y_pred: accuracy_score(y, y_pred), needs_proba=True)\n",
    "\n",
    "ordinal_cv = GridSearchCV(ordinal_pipe, cv=10, \n",
    "                      scoring={'kappa': regressor_kappa_score,\n",
    "                               'accuracy': regressor_accuracy_score,\n",
    "                               'rmse': make_scorer(mean_squared_error)},\n",
    "                      param_grid={'clf__max_depth': [5, 6, 7, 8, 9],\n",
    "                                  'clf__learning_rate': [0.01, 0.03, 0.1],\n",
    "                                  'clf__subsample': [0.8, 1],\n",
    "                                  'clf__colsample_bytree': [0.3, 0.5, 0.8]},\n",
    "                      refit=False)\n",
    "ordinal_cv.fit(feats, labels.accuracy_group)\n",
    "pd.DataFrame(ordinal_cv.cv_results_)"
   ]
  },
  {
   "cell_type": "code",
   "execution_count": 48,
   "metadata": {},
   "outputs": [
    {
     "data": {
      "text/html": [
       "<div>\n",
       "<style scoped>\n",
       "    .dataframe tbody tr th:only-of-type {\n",
       "        vertical-align: middle;\n",
       "    }\n",
       "\n",
       "    .dataframe tbody tr th {\n",
       "        vertical-align: top;\n",
       "    }\n",
       "\n",
       "    .dataframe thead th {\n",
       "        text-align: right;\n",
       "    }\n",
       "</style>\n",
       "<table border=\"1\" class=\"dataframe\">\n",
       "  <thead>\n",
       "    <tr style=\"text-align: right;\">\n",
       "      <th></th>\n",
       "      <th>mean_test_kappa</th>\n",
       "      <th>mean_test_accuracy</th>\n",
       "      <th>mean_test_rmse</th>\n",
       "    </tr>\n",
       "  </thead>\n",
       "  <tbody>\n",
       "    <tr>\n",
       "      <th>51</th>\n",
       "      <td>0.545278</td>\n",
       "      <td>0.546128</td>\n",
       "      <td>1.063646</td>\n",
       "    </tr>\n",
       "    <tr>\n",
       "      <th>50</th>\n",
       "      <td>0.543564</td>\n",
       "      <td>0.547089</td>\n",
       "      <td>1.063029</td>\n",
       "    </tr>\n",
       "    <tr>\n",
       "      <th>80</th>\n",
       "      <td>0.542952</td>\n",
       "      <td>0.544432</td>\n",
       "      <td>1.064869</td>\n",
       "    </tr>\n",
       "    <tr>\n",
       "      <th>52</th>\n",
       "      <td>0.542376</td>\n",
       "      <td>0.542906</td>\n",
       "      <td>1.068208</td>\n",
       "    </tr>\n",
       "    <tr>\n",
       "      <th>23</th>\n",
       "      <td>0.541848</td>\n",
       "      <td>0.543358</td>\n",
       "      <td>1.072427</td>\n",
       "    </tr>\n",
       "  </tbody>\n",
       "</table>\n",
       "</div>"
      ],
      "text/plain": [
       "    mean_test_kappa  mean_test_accuracy  mean_test_rmse\n",
       "51         0.545278            0.546128        1.063646\n",
       "50         0.543564            0.547089        1.063029\n",
       "80         0.542952            0.544432        1.064869\n",
       "52         0.542376            0.542906        1.068208\n",
       "23         0.541848            0.543358        1.072427"
      ]
     },
     "execution_count": 48,
     "metadata": {},
     "output_type": "execute_result"
    }
   ],
   "source": [
    "# print(ordinal_cv.best_params_)\n",
    "pd.DataFrame(ordinal_cv.cv_results_).sort_values('mean_test_kappa', ascending=False).head()[['mean_test_kappa', 'mean_test_accuracy', 'mean_test_rmse']]"
   ]
  },
  {
   "cell_type": "code",
   "execution_count": 49,
   "metadata": {},
   "outputs": [
    {
     "name": "stdout",
     "output_type": "stream",
     "text": [
      "{'clf__colsample_bytree': 0.5, 'clf__learning_rate': 0.1, 'clf__max_depth': 5, 'clf__subsample': 1}\n"
     ]
    }
   ],
   "source": [
    "params = pd.DataFrame(ordinal_cv.cv_results_).sort_values('mean_test_kappa', ascending=False)['params'].values[0]\n",
    "print(params)"
   ]
  },
  {
   "cell_type": "code",
   "execution_count": null,
   "metadata": {},
   "outputs": [],
   "source": []
  },
  {
   "cell_type": "code",
   "execution_count": 50,
   "metadata": {},
   "outputs": [
    {
     "name": "stdout",
     "output_type": "stream",
     "text": [
      "0.5864406779661017\n",
      "0.6255592699807795\n"
     ]
    },
    {
     "data": {
      "text/plain": [
       "array([[147,  35,  23,  26],\n",
       "       [ 28,  33,  25,  36],\n",
       "       [ 15,  19,  17,  60],\n",
       "       [ 21,  33,  45, 322]])"
      ]
     },
     "execution_count": 50,
     "metadata": {},
     "output_type": "execute_result"
    }
   ],
   "source": [
    "ordinal_pipe = Pipeline(steps=[\n",
    "    ('preprocess', feature_pipe),\n",
    "    ('clf', OrdinalRegressor(xgb.XGBRegressor,\n",
    "                              **{'clf__colsample_bytree': 0.5, 'clf__learning_rate': 0.1, 'clf__max_depth': 5, 'clf__subsample': 1}))])\n",
    "\n",
    "\n",
    "ordinal_pipe.fit(X_train, y_train)\n",
    "y_pred = ordinal_pipe.predict(X_test, **{'classify': True})\n",
    "print((y_pred==y_test).mean())\n",
    "print(cohen_kappa_score(y1=y_test, y2=y_pred, weights='quadratic'))\n",
    "confusion_matrix(y_test, y_pred)"
   ]
  },
  {
   "cell_type": "code",
   "execution_count": null,
   "metadata": {},
   "outputs": [],
   "source": []
  }
 ],
 "metadata": {
  "kernelspec": {
   "display_name": "Python 3",
   "language": "python",
   "name": "python3"
  },
  "language_info": {
   "codemirror_mode": {
    "name": "ipython",
    "version": 3
   },
   "file_extension": ".py",
   "mimetype": "text/x-python",
   "name": "python",
   "nbconvert_exporter": "python",
   "pygments_lexer": "ipython3",
   "version": "3.7.6"
  }
 },
 "nbformat": 4,
 "nbformat_minor": 4
}
