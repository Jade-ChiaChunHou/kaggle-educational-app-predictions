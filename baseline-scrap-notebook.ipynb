{
 "cells": [
  {
   "cell_type": "code",
   "execution_count": 1,
   "metadata": {
    "ExecuteTime": {
     "end_time": "2020-03-11T21:30:42.571915Z",
     "start_time": "2020-03-11T21:30:34.799416Z"
    }
   },
   "outputs": [],
   "source": [
    "%load_ext autoreload\n",
    "%autoreload 2\n",
    "import features\n",
    "import seaborn as sns\n",
    "import numpy as np\n",
    "import pandas as pd\n",
    "from sklearn.pipeline import Pipeline\n"
   ]
  },
  {
   "cell_type": "code",
   "execution_count": 2,
   "metadata": {
    "ExecuteTime": {
     "end_time": "2020-03-11T21:31:38.544976Z",
     "start_time": "2020-03-11T21:30:44.515405Z"
    }
   },
   "outputs": [
    {
     "name": "stdout",
     "output_type": "stream",
     "text": [
      "Reading train.csv file....\n",
      "Training.csv file have 11341042 rows and 11 columns\n",
      "Reading test.csv file....\n",
      "Test.csv file have 1156414 rows and 11 columns\n",
      "Reading train_labels.csv file....\n",
      "Train_labels.csv file have 17690 rows and 7 columns\n",
      "Reading specs.csv file....\n",
      "Specs.csv file have 386 rows and 3 columns\n"
     ]
    }
   ],
   "source": [
    "train, test, train_labels, specs = features.read_data()"
   ]
  },
  {
   "cell_type": "code",
   "execution_count": 157,
   "metadata": {
    "ExecuteTime": {
     "end_time": "2020-03-11T20:49:29.862937Z",
     "start_time": "2020-03-11T20:49:29.407432Z"
    }
   },
   "outputs": [
    {
     "data": {
      "text/plain": [
       "17000"
      ]
     },
     "execution_count": 157,
     "metadata": {},
     "output_type": "execute_result"
    }
   ],
   "source": [
    "train.installation_id.unique().size"
   ]
  },
  {
   "cell_type": "code",
   "execution_count": 158,
   "metadata": {
    "ExecuteTime": {
     "end_time": "2020-03-11T20:50:26.294222Z",
     "start_time": "2020-03-11T20:50:26.258284Z"
    }
   },
   "outputs": [
    {
     "data": {
      "text/plain": [
       "Index(['event_id', 'game_session', 'timestamp', 'event_data',\n",
       "       'installation_id', 'event_count', 'event_code', 'game_time', 'title',\n",
       "       'type', 'world'],\n",
       "      dtype='object')"
      ]
     },
     "execution_count": 158,
     "metadata": {},
     "output_type": "execute_result"
    }
   ],
   "source": [
    "train.columns"
   ]
  },
  {
   "cell_type": "code",
   "execution_count": 159,
   "metadata": {
    "ExecuteTime": {
     "end_time": "2020-03-11T20:51:22.231391Z",
     "start_time": "2020-03-11T20:51:22.201791Z"
    }
   },
   "outputs": [
    {
     "data": {
      "text/plain": [
       "Index(['game_session', 'installation_id', 'title', 'num_correct',\n",
       "       'num_incorrect', 'accuracy', 'accuracy_group'],\n",
       "      dtype='object')"
      ]
     },
     "execution_count": 159,
     "metadata": {},
     "output_type": "execute_result"
    }
   ],
   "source": [
    "train_labels.columns"
   ]
  },
  {
   "cell_type": "code",
   "execution_count": 160,
   "metadata": {
    "ExecuteTime": {
     "end_time": "2020-03-11T20:52:24.744564Z",
     "start_time": "2020-03-11T20:52:23.482194Z"
    }
   },
   "outputs": [
    {
     "data": {
      "text/plain": [
       "<matplotlib.axes._subplots.AxesSubplot at 0x1653a1160>"
      ]
     },
     "execution_count": 160,
     "metadata": {},
     "output_type": "execute_result"
    },
    {
     "data": {
      "image/png": "[encoded data removed]",
      "text/plain": [
       "<Figure size 432x288 with 1 Axes>"
      ]
     },
     "metadata": {
      "needs_background": "light"
     },
     "output_type": "display_data"
    }
   ],
   "source": [
    "sns.violinplot(np.log(train.installation_id.value_counts()))"
   ]
  },
  {
   "cell_type": "code",
   "execution_count": 161,
   "metadata": {
    "ExecuteTime": {
     "end_time": "2020-03-11T20:54:15.686474Z",
     "start_time": "2020-03-11T20:54:13.813368Z"
    }
   },
   "outputs": [
    {
     "data": {
      "text/plain": [
       "<matplotlib.axes._subplots.AxesSubplot at 0x166721b00>"
      ]
     },
     "execution_count": 161,
     "metadata": {},
     "output_type": "execute_result"
    },
    {
     "data": {
      "image/png": "[encoded data removed]",
      "text/plain": [
       "<Figure size 432x288 with 1 Axes>"
      ]
     },
     "metadata": {
      "needs_background": "light"
     },
     "output_type": "display_data"
    }
   ],
   "source": [
    "sns.violinplot(np.log(train.event_id.value_counts()))"
   ]
  },
  {
   "cell_type": "code",
   "execution_count": 3,
   "metadata": {
    "ExecuteTime": {
     "end_time": "2020-03-11T21:31:58.242223Z",
     "start_time": "2020-03-11T21:31:51.871832Z"
    }
   },
   "outputs": [],
   "source": [
    "def get_worst_score(group):\n",
    "    return group.sort_values('accuracy_group').iloc[0]\n",
    "\n",
    "labels = train_labels.groupby(['installation_id', 'title']).apply(get_worst_score).reset_index(drop=True)"
   ]
  },
  {
   "cell_type": "markdown",
   "metadata": {},
   "source": [
    "## One installation example"
   ]
  },
  {
   "cell_type": "code",
   "execution_count": 64,
   "metadata": {
    "ExecuteTime": {
     "end_time": "2020-03-11T22:07:07.343338Z",
     "start_time": "2020-03-11T22:07:06.521025Z"
    }
   },
   "outputs": [
    {
     "data": {
      "text/html": [
       "<div>\n",
       "<style scoped>\n",
       "    .dataframe tbody tr th:only-of-type {\n",
       "        vertical-align: middle;\n",
       "    }\n",
       "\n",
       "    .dataframe tbody tr th {\n",
       "        vertical-align: top;\n",
       "    }\n",
       "\n",
       "    .dataframe thead th {\n",
       "        text-align: right;\n",
       "    }\n",
       "</style>\n",
       "<table border=\"1\" class=\"dataframe\">\n",
       "  <thead>\n",
       "    <tr style=\"text-align: right;\">\n",
       "      <th></th>\n",
       "      <th>event_id</th>\n",
       "      <th>game_session</th>\n",
       "      <th>timestamp</th>\n",
       "      <th>event_data</th>\n",
       "      <th>installation_id</th>\n",
       "      <th>event_count</th>\n",
       "      <th>event_code</th>\n",
       "      <th>game_time</th>\n",
       "      <th>title</th>\n",
       "      <th>type</th>\n",
       "      <th>world</th>\n",
       "    </tr>\n",
       "  </thead>\n",
       "  <tbody>\n",
       "    <tr>\n",
       "      <th>1538</th>\n",
       "      <td>27253bdc</td>\n",
       "      <td>34ba1a28d02ba8ba</td>\n",
       "      <td>2019-08-06T04:57:18.904Z</td>\n",
       "      <td>{\"event_code\": 2000, \"event_count\": 1}</td>\n",
       "      <td>0006a69f</td>\n",
       "      <td>1</td>\n",
       "      <td>2000</td>\n",
       "      <td>0</td>\n",
       "      <td>Welcome to Lost Lagoon!</td>\n",
       "      <td>Clip</td>\n",
       "      <td>NONE</td>\n",
       "    </tr>\n",
       "    <tr>\n",
       "      <th>1539</th>\n",
       "      <td>27253bdc</td>\n",
       "      <td>4b57c9a59474a1b9</td>\n",
       "      <td>2019-08-06T04:57:45.301Z</td>\n",
       "      <td>{\"event_code\": 2000, \"event_count\": 1}</td>\n",
       "      <td>0006a69f</td>\n",
       "      <td>1</td>\n",
       "      <td>2000</td>\n",
       "      <td>0</td>\n",
       "      <td>Magma Peak - Level 1</td>\n",
       "      <td>Clip</td>\n",
       "      <td>MAGMAPEAK</td>\n",
       "    </tr>\n",
       "    <tr>\n",
       "      <th>1540</th>\n",
       "      <td>77261ab5</td>\n",
       "      <td>2b9d5af79bcdb79f</td>\n",
       "      <td>2019-08-06T04:58:14.538Z</td>\n",
       "      <td>{\"version\":\"1.0\",\"event_count\":1,\"game_time\":0...</td>\n",
       "      <td>0006a69f</td>\n",
       "      <td>1</td>\n",
       "      <td>2000</td>\n",
       "      <td>0</td>\n",
       "      <td>Sandcastle Builder (Activity)</td>\n",
       "      <td>Activity</td>\n",
       "      <td>MAGMAPEAK</td>\n",
       "    </tr>\n",
       "    <tr>\n",
       "      <th>1541</th>\n",
       "      <td>b2dba42b</td>\n",
       "      <td>2b9d5af79bcdb79f</td>\n",
       "      <td>2019-08-06T04:58:14.615Z</td>\n",
       "      <td>{\"description\":\"Let's build a sandcastle! Firs...</td>\n",
       "      <td>0006a69f</td>\n",
       "      <td>2</td>\n",
       "      <td>3010</td>\n",
       "      <td>29</td>\n",
       "      <td>Sandcastle Builder (Activity)</td>\n",
       "      <td>Activity</td>\n",
       "      <td>MAGMAPEAK</td>\n",
       "    </tr>\n",
       "    <tr>\n",
       "      <th>1542</th>\n",
       "      <td>1325467d</td>\n",
       "      <td>2b9d5af79bcdb79f</td>\n",
       "      <td>2019-08-06T04:58:16.680Z</td>\n",
       "      <td>{\"coordinates\":{\"x\":273,\"y\":650,\"stage_width\":...</td>\n",
       "      <td>0006a69f</td>\n",
       "      <td>3</td>\n",
       "      <td>4070</td>\n",
       "      <td>2137</td>\n",
       "      <td>Sandcastle Builder (Activity)</td>\n",
       "      <td>Activity</td>\n",
       "      <td>MAGMAPEAK</td>\n",
       "    </tr>\n",
       "    <tr>\n",
       "      <th>...</th>\n",
       "      <td>...</td>\n",
       "      <td>...</td>\n",
       "      <td>...</td>\n",
       "      <td>...</td>\n",
       "      <td>...</td>\n",
       "      <td>...</td>\n",
       "      <td>...</td>\n",
       "      <td>...</td>\n",
       "      <td>...</td>\n",
       "      <td>...</td>\n",
       "      <td>...</td>\n",
       "    </tr>\n",
       "    <tr>\n",
       "      <th>5334</th>\n",
       "      <td>832735e1</td>\n",
       "      <td>0721802df0531701</td>\n",
       "      <td>2019-08-29T16:33:53.227Z</td>\n",
       "      <td>{\"description\":\"Let's warm up. Tap a dinosaur ...</td>\n",
       "      <td>0006a69f</td>\n",
       "      <td>11</td>\n",
       "      <td>3010</td>\n",
       "      <td>23145</td>\n",
       "      <td>Dino Dive</td>\n",
       "      <td>Game</td>\n",
       "      <td>MAGMAPEAK</td>\n",
       "    </tr>\n",
       "    <tr>\n",
       "      <th>5335</th>\n",
       "      <td>ab3136ba</td>\n",
       "      <td>0721802df0531701</td>\n",
       "      <td>2019-08-29T16:33:56.880Z</td>\n",
       "      <td>{\"description\":\"Let's warm up. Tap a dinosaur ...</td>\n",
       "      <td>0006a69f</td>\n",
       "      <td>12</td>\n",
       "      <td>3110</td>\n",
       "      <td>26804</td>\n",
       "      <td>Dino Dive</td>\n",
       "      <td>Game</td>\n",
       "      <td>MAGMAPEAK</td>\n",
       "    </tr>\n",
       "    <tr>\n",
       "      <th>5336</th>\n",
       "      <td>832735e1</td>\n",
       "      <td>0721802df0531701</td>\n",
       "      <td>2019-08-29T16:34:11.881Z</td>\n",
       "      <td>{\"description\":\"Let's warm up. Tap a dinosaur ...</td>\n",
       "      <td>0006a69f</td>\n",
       "      <td>13</td>\n",
       "      <td>3010</td>\n",
       "      <td>41805</td>\n",
       "      <td>Dino Dive</td>\n",
       "      <td>Game</td>\n",
       "      <td>MAGMAPEAK</td>\n",
       "    </tr>\n",
       "    <tr>\n",
       "      <th>5337</th>\n",
       "      <td>ab3136ba</td>\n",
       "      <td>0721802df0531701</td>\n",
       "      <td>2019-08-29T16:34:15.480Z</td>\n",
       "      <td>{\"description\":\"Let's warm up. Tap a dinosaur ...</td>\n",
       "      <td>0006a69f</td>\n",
       "      <td>14</td>\n",
       "      <td>3110</td>\n",
       "      <td>45405</td>\n",
       "      <td>Dino Dive</td>\n",
       "      <td>Game</td>\n",
       "      <td>MAGMAPEAK</td>\n",
       "    </tr>\n",
       "    <tr>\n",
       "      <th>5338</th>\n",
       "      <td>76babcde</td>\n",
       "      <td>0721802df0531701</td>\n",
       "      <td>2019-08-29T16:39:12.615Z</td>\n",
       "      <td>{\"coordinates\":{\"x\":1013,\"y\":195,\"stage_width\"...</td>\n",
       "      <td>0006a69f</td>\n",
       "      <td>15</td>\n",
       "      <td>4070</td>\n",
       "      <td>167337</td>\n",
       "      <td>Dino Dive</td>\n",
       "      <td>Game</td>\n",
       "      <td>MAGMAPEAK</td>\n",
       "    </tr>\n",
       "  </tbody>\n",
       "</table>\n",
       "<p>3801 rows × 11 columns</p>\n",
       "</div>"
      ],
      "text/plain": [
       "      event_id      game_session                 timestamp  \\\n",
       "1538  27253bdc  34ba1a28d02ba8ba  2019-08-06T04:57:18.904Z   \n",
       "1539  27253bdc  4b57c9a59474a1b9  2019-08-06T04:57:45.301Z   \n",
       "1540  77261ab5  2b9d5af79bcdb79f  2019-08-06T04:58:14.538Z   \n",
       "1541  b2dba42b  2b9d5af79bcdb79f  2019-08-06T04:58:14.615Z   \n",
       "1542  1325467d  2b9d5af79bcdb79f  2019-08-06T04:58:16.680Z   \n",
       "...        ...               ...                       ...   \n",
       "5334  832735e1  0721802df0531701  2019-08-29T16:33:53.227Z   \n",
       "5335  ab3136ba  0721802df0531701  2019-08-29T16:33:56.880Z   \n",
       "5336  832735e1  0721802df0531701  2019-08-29T16:34:11.881Z   \n",
       "5337  ab3136ba  0721802df0531701  2019-08-29T16:34:15.480Z   \n",
       "5338  76babcde  0721802df0531701  2019-08-29T16:39:12.615Z   \n",
       "\n",
       "                                             event_data installation_id  \\\n",
       "1538             {\"event_code\": 2000, \"event_count\": 1}        0006a69f   \n",
       "1539             {\"event_code\": 2000, \"event_count\": 1}        0006a69f   \n",
       "1540  {\"version\":\"1.0\",\"event_count\":1,\"game_time\":0...        0006a69f   \n",
       "1541  {\"description\":\"Let's build a sandcastle! Firs...        0006a69f   \n",
       "1542  {\"coordinates\":{\"x\":273,\"y\":650,\"stage_width\":...        0006a69f   \n",
       "...                                                 ...             ...   \n",
       "5334  {\"description\":\"Let's warm up. Tap a dinosaur ...        0006a69f   \n",
       "5335  {\"description\":\"Let's warm up. Tap a dinosaur ...        0006a69f   \n",
       "5336  {\"description\":\"Let's warm up. Tap a dinosaur ...        0006a69f   \n",
       "5337  {\"description\":\"Let's warm up. Tap a dinosaur ...        0006a69f   \n",
       "5338  {\"coordinates\":{\"x\":1013,\"y\":195,\"stage_width\"...        0006a69f   \n",
       "\n",
       "      event_count  event_code  game_time                          title  \\\n",
       "1538            1        2000          0        Welcome to Lost Lagoon!   \n",
       "1539            1        2000          0           Magma Peak - Level 1   \n",
       "1540            1        2000          0  Sandcastle Builder (Activity)   \n",
       "1541            2        3010         29  Sandcastle Builder (Activity)   \n",
       "1542            3        4070       2137  Sandcastle Builder (Activity)   \n",
       "...           ...         ...        ...                            ...   \n",
       "5334           11        3010      23145                      Dino Dive   \n",
       "5335           12        3110      26804                      Dino Dive   \n",
       "5336           13        3010      41805                      Dino Dive   \n",
       "5337           14        3110      45405                      Dino Dive   \n",
       "5338           15        4070     167337                      Dino Dive   \n",
       "\n",
       "          type      world  \n",
       "1538      Clip       NONE  \n",
       "1539      Clip  MAGMAPEAK  \n",
       "1540  Activity  MAGMAPEAK  \n",
       "1541  Activity  MAGMAPEAK  \n",
       "1542  Activity  MAGMAPEAK  \n",
       "...        ...        ...  \n",
       "5334      Game  MAGMAPEAK  \n",
       "5335      Game  MAGMAPEAK  \n",
       "5336      Game  MAGMAPEAK  \n",
       "5337      Game  MAGMAPEAK  \n",
       "5338      Game  MAGMAPEAK  \n",
       "\n",
       "[3801 rows x 11 columns]"
      ]
     },
     "execution_count": 64,
     "metadata": {},
     "output_type": "execute_result"
    }
   ],
   "source": [
    "train[(train.installation_id == '0006a69f')]"
   ]
  },
  {
   "cell_type": "code",
   "execution_count": 7,
   "metadata": {
    "ExecuteTime": {
     "end_time": "2020-03-11T21:33:01.286278Z",
     "start_time": "2020-03-11T21:33:00.595463Z"
    }
   },
   "outputs": [],
   "source": [
    "testing = train[(train.installation_id == '0006a69f')].merge(labels[labels.installation_id == '0006a69f'], on='installation_id')\n",
    "groups = testing.groupby(['installation_id', 'game_session_y'])                                           \n",
    "                                                             "
   ]
  },
  {
   "cell_type": "code",
   "execution_count": 8,
   "metadata": {
    "ExecuteTime": {
     "end_time": "2020-03-11T21:33:04.526714Z",
     "start_time": "2020-03-11T21:33:04.493996Z"
    }
   },
   "outputs": [
    {
     "data": {
      "text/plain": [
       "<pandas.core.groupby.generic.DataFrameGroupBy object at 0x125b9edd8>"
      ]
     },
     "execution_count": 8,
     "metadata": {},
     "output_type": "execute_result"
    }
   ],
   "source": [
    "groups"
   ]
  },
  {
   "cell_type": "code",
   "execution_count": 20,
   "metadata": {
    "ExecuteTime": {
     "end_time": "2020-03-11T21:35:07.969741Z",
     "start_time": "2020-03-11T21:35:07.828900Z"
    }
   },
   "outputs": [],
   "source": [
    "feats = groups \\\n",
    "        .apply(lambda x: features.summarize_events_before_game_session(x, game_session=x.name[1] if len(x.name) == 2 else '')) \\\n",
    "        .reset_index()"
   ]
  },
  {
   "cell_type": "code",
   "execution_count": 21,
   "metadata": {
    "ExecuteTime": {
     "end_time": "2020-03-11T21:35:09.378297Z",
     "start_time": "2020-03-11T21:35:09.346135Z"
    }
   },
   "outputs": [
    {
     "data": {
      "text/html": [
       "<div>\n",
       "<style scoped>\n",
       "    .dataframe tbody tr th:only-of-type {\n",
       "        vertical-align: middle;\n",
       "    }\n",
       "\n",
       "    .dataframe tbody tr th {\n",
       "        vertical-align: top;\n",
       "    }\n",
       "\n",
       "    .dataframe thead th {\n",
       "        text-align: right;\n",
       "    }\n",
       "</style>\n",
       "<table border=\"1\" class=\"dataframe\">\n",
       "  <thead>\n",
       "    <tr style=\"text-align: right;\">\n",
       "      <th></th>\n",
       "      <th>installation_id</th>\n",
       "      <th>game_session_y</th>\n",
       "      <th>event_count</th>\n",
       "      <th>game_time</th>\n",
       "      <th>num_unique_days</th>\n",
       "      <th>elapsed_days</th>\n",
       "      <th>last_world</th>\n",
       "      <th>last_game_session</th>\n",
       "      <th>type_counts</th>\n",
       "      <th>unique_game_sessions</th>\n",
       "      <th>title_y</th>\n",
       "      <th>num_correct</th>\n",
       "      <th>num_incorrect</th>\n",
       "      <th>accuracy</th>\n",
       "      <th>accuracy_group</th>\n",
       "    </tr>\n",
       "  </thead>\n",
       "  <tbody>\n",
       "    <tr>\n",
       "      <th>0</th>\n",
       "      <td>0006a69f</td>\n",
       "      <td>77b8ee947eb84b4e</td>\n",
       "      <td>1230</td>\n",
       "      <td>1135</td>\n",
       "      <td>1</td>\n",
       "      <td>0</td>\n",
       "      <td>TREETOPCITY</td>\n",
       "      <td>77b8ee947eb84b4e</td>\n",
       "      <td>Activity      556\n",
       "Game          525\n",
       "Assessment...</td>\n",
       "      <td>26</td>\n",
       "      <td>Bird Measurer (Assessment)</td>\n",
       "      <td>0</td>\n",
       "      <td>11</td>\n",
       "      <td>0.0</td>\n",
       "      <td>0</td>\n",
       "    </tr>\n",
       "    <tr>\n",
       "      <th>1</th>\n",
       "      <td>0006a69f</td>\n",
       "      <td>9501794defd84e4d</td>\n",
       "      <td>2201</td>\n",
       "      <td>3488</td>\n",
       "      <td>1</td>\n",
       "      <td>0</td>\n",
       "      <td>TREETOPCITY</td>\n",
       "      <td>9501794defd84e4d</td>\n",
       "      <td>Activity      1103\n",
       "Game           845\n",
       "Assessme...</td>\n",
       "      <td>48</td>\n",
       "      <td>Mushroom Sorter (Assessment)</td>\n",
       "      <td>1</td>\n",
       "      <td>1</td>\n",
       "      <td>0.5</td>\n",
       "      <td>2</td>\n",
       "    </tr>\n",
       "  </tbody>\n",
       "</table>\n",
       "</div>"
      ],
      "text/plain": [
       "  installation_id    game_session_y  event_count  game_time  num_unique_days  \\\n",
       "0        0006a69f  77b8ee947eb84b4e         1230       1135                1   \n",
       "1        0006a69f  9501794defd84e4d         2201       3488                1   \n",
       "\n",
       "   elapsed_days   last_world last_game_session  \\\n",
       "0             0  TREETOPCITY  77b8ee947eb84b4e   \n",
       "1             0  TREETOPCITY  9501794defd84e4d   \n",
       "\n",
       "                                         type_counts  unique_game_sessions  \\\n",
       "0  Activity      556\n",
       "Game          525\n",
       "Assessment...                    26   \n",
       "1  Activity      1103\n",
       "Game           845\n",
       "Assessme...                    48   \n",
       "\n",
       "                        title_y  num_correct  num_incorrect  accuracy  \\\n",
       "0    Bird Measurer (Assessment)            0             11       0.0   \n",
       "1  Mushroom Sorter (Assessment)            1              1       0.5   \n",
       "\n",
       "   accuracy_group  \n",
       "0               0  \n",
       "1               2  "
      ]
     },
     "execution_count": 21,
     "metadata": {},
     "output_type": "execute_result"
    }
   ],
   "source": [
    "feats"
   ]
  },
  {
   "cell_type": "markdown",
   "metadata": {},
   "source": [
    "## Run on all data"
   ]
  },
  {
   "cell_type": "code",
   "execution_count": 23,
   "metadata": {
    "ExecuteTime": {
     "end_time": "2020-03-11T21:42:44.318708Z",
     "start_time": "2020-03-11T21:35:25.182561Z"
    }
   },
   "outputs": [],
   "source": [
    "feats, labels = features.basic_user_features_transform(train, labels)"
   ]
  },
  {
   "cell_type": "code",
   "execution_count": 67,
   "metadata": {
    "ExecuteTime": {
     "end_time": "2020-03-11T22:08:57.121449Z",
     "start_time": "2020-03-11T22:08:56.923406Z"
    }
   },
   "outputs": [],
   "source": [
    "# Save checkpoint\n",
    "feats.to_csv('installation_features.csv', index=False)\n",
    "labels.to_csv('installation_labels.csv', index=False)"
   ]
  },
  {
   "cell_type": "code",
   "execution_count": 24,
   "metadata": {
    "ExecuteTime": {
     "end_time": "2020-03-11T21:42:47.889881Z",
     "start_time": "2020-03-11T21:42:47.851543Z"
    }
   },
   "outputs": [
    {
     "data": {
      "text/plain": [
       "(9386, 10)"
      ]
     },
     "execution_count": 24,
     "metadata": {},
     "output_type": "execute_result"
    }
   ],
   "source": [
    "feats.shape"
   ]
  },
  {
   "cell_type": "code",
   "execution_count": 66,
   "metadata": {
    "ExecuteTime": {
     "end_time": "2020-03-11T22:08:17.189330Z",
     "start_time": "2020-03-11T22:08:16.951776Z"
    }
   },
   "outputs": [
    {
     "data": {
      "text/plain": [
       "<matplotlib.axes._subplots.AxesSubplot at 0x126d78a58>"
      ]
     },
     "execution_count": 66,
     "metadata": {},
     "output_type": "execute_result"
    },
    {
     "data": {
      "image/png": "[encoded data removed]",
      "text/plain": [
       "<Figure size 432x288 with 1 Axes>"
      ]
     },
     "metadata": {
      "needs_background": "light"
     },
     "output_type": "display_data"
    }
   ],
   "source": [
    "# installation ids have between 1 - 5 assessments in the training data\n",
    "sns.kdeplot(labels.installation_id.value_counts())"
   ]
  },
  {
   "cell_type": "code",
   "execution_count": 33,
   "metadata": {
    "ExecuteTime": {
     "end_time": "2020-03-11T21:43:39.202288Z",
     "start_time": "2020-03-11T21:43:39.161953Z"
    }
   },
   "outputs": [
    {
     "data": {
      "text/html": [
       "<div>\n",
       "<style scoped>\n",
       "    .dataframe tbody tr th:only-of-type {\n",
       "        vertical-align: middle;\n",
       "    }\n",
       "\n",
       "    .dataframe tbody tr th {\n",
       "        vertical-align: top;\n",
       "    }\n",
       "\n",
       "    .dataframe thead th {\n",
       "        text-align: right;\n",
       "    }\n",
       "</style>\n",
       "<table border=\"1\" class=\"dataframe\">\n",
       "  <thead>\n",
       "    <tr style=\"text-align: right;\">\n",
       "      <th></th>\n",
       "      <th>event_count</th>\n",
       "      <th>game_time</th>\n",
       "      <th>num_unique_days</th>\n",
       "      <th>elapsed_days</th>\n",
       "      <th>last_world</th>\n",
       "      <th>unique_game_sessions</th>\n",
       "      <th>activity_ct</th>\n",
       "      <th>game_ct</th>\n",
       "      <th>assessment_ct</th>\n",
       "      <th>clip_ct</th>\n",
       "    </tr>\n",
       "  </thead>\n",
       "  <tbody>\n",
       "    <tr>\n",
       "      <th>0</th>\n",
       "      <td>1230</td>\n",
       "      <td>1135</td>\n",
       "      <td>1</td>\n",
       "      <td>0</td>\n",
       "      <td>TREETOPCITY</td>\n",
       "      <td>26</td>\n",
       "      <td>556.0</td>\n",
       "      <td>525.0</td>\n",
       "      <td>135.0</td>\n",
       "      <td>14.0</td>\n",
       "    </tr>\n",
       "    <tr>\n",
       "      <th>1</th>\n",
       "      <td>2201</td>\n",
       "      <td>3488</td>\n",
       "      <td>1</td>\n",
       "      <td>0</td>\n",
       "      <td>TREETOPCITY</td>\n",
       "      <td>48</td>\n",
       "      <td>1103.0</td>\n",
       "      <td>845.0</td>\n",
       "      <td>229.0</td>\n",
       "      <td>24.0</td>\n",
       "    </tr>\n",
       "    <tr>\n",
       "      <th>2</th>\n",
       "      <td>1566</td>\n",
       "      <td>1342</td>\n",
       "      <td>2</td>\n",
       "      <td>1</td>\n",
       "      <td>MAGMAPEAK</td>\n",
       "      <td>26</td>\n",
       "      <td>894.0</td>\n",
       "      <td>633.0</td>\n",
       "      <td>24.0</td>\n",
       "      <td>15.0</td>\n",
       "    </tr>\n",
       "    <tr>\n",
       "      <th>3</th>\n",
       "      <td>2222</td>\n",
       "      <td>2063</td>\n",
       "      <td>4</td>\n",
       "      <td>18</td>\n",
       "      <td>TREETOPCITY</td>\n",
       "      <td>48</td>\n",
       "      <td>1206.0</td>\n",
       "      <td>643.0</td>\n",
       "      <td>343.0</td>\n",
       "      <td>30.0</td>\n",
       "    </tr>\n",
       "    <tr>\n",
       "      <th>4</th>\n",
       "      <td>2014</td>\n",
       "      <td>1835</td>\n",
       "      <td>4</td>\n",
       "      <td>18</td>\n",
       "      <td>TREETOPCITY</td>\n",
       "      <td>44</td>\n",
       "      <td>1206.0</td>\n",
       "      <td>637.0</td>\n",
       "      <td>143.0</td>\n",
       "      <td>28.0</td>\n",
       "    </tr>\n",
       "  </tbody>\n",
       "</table>\n",
       "</div>"
      ],
      "text/plain": [
       "   event_count  game_time  num_unique_days  elapsed_days   last_world  \\\n",
       "0         1230       1135                1             0  TREETOPCITY   \n",
       "1         2201       3488                1             0  TREETOPCITY   \n",
       "2         1566       1342                2             1    MAGMAPEAK   \n",
       "3         2222       2063                4            18  TREETOPCITY   \n",
       "4         2014       1835                4            18  TREETOPCITY   \n",
       "\n",
       "   unique_game_sessions  activity_ct  game_ct  assessment_ct  clip_ct  \n",
       "0                    26        556.0    525.0          135.0     14.0  \n",
       "1                    48       1103.0    845.0          229.0     24.0  \n",
       "2                    26        894.0    633.0           24.0     15.0  \n",
       "3                    48       1206.0    643.0          343.0     30.0  \n",
       "4                    44       1206.0    637.0          143.0     28.0  "
      ]
     },
     "execution_count": 33,
     "metadata": {},
     "output_type": "execute_result"
    }
   ],
   "source": [
    "feats.head()"
   ]
  },
  {
   "cell_type": "code",
   "execution_count": 27,
   "metadata": {
    "ExecuteTime": {
     "end_time": "2020-03-11T21:42:56.830197Z",
     "start_time": "2020-03-11T21:42:56.777248Z"
    }
   },
   "outputs": [
    {
     "data": {
      "text/html": [
       "<div>\n",
       "<style scoped>\n",
       "    .dataframe tbody tr th:only-of-type {\n",
       "        vertical-align: middle;\n",
       "    }\n",
       "\n",
       "    .dataframe tbody tr th {\n",
       "        vertical-align: top;\n",
       "    }\n",
       "\n",
       "    .dataframe thead th {\n",
       "        text-align: right;\n",
       "    }\n",
       "</style>\n",
       "<table border=\"1\" class=\"dataframe\">\n",
       "  <thead>\n",
       "    <tr style=\"text-align: right;\">\n",
       "      <th></th>\n",
       "      <th>title_y</th>\n",
       "      <th>num_correct</th>\n",
       "      <th>num_incorrect</th>\n",
       "      <th>accuracy</th>\n",
       "      <th>accuracy_group</th>\n",
       "      <th>installation_id</th>\n",
       "      <th>game_session_y</th>\n",
       "    </tr>\n",
       "  </thead>\n",
       "  <tbody>\n",
       "    <tr>\n",
       "      <th>0</th>\n",
       "      <td>Bird Measurer (Assessment)</td>\n",
       "      <td>0</td>\n",
       "      <td>11</td>\n",
       "      <td>0.0</td>\n",
       "      <td>0</td>\n",
       "      <td>0006a69f</td>\n",
       "      <td>77b8ee947eb84b4e</td>\n",
       "    </tr>\n",
       "    <tr>\n",
       "      <th>1</th>\n",
       "      <td>Mushroom Sorter (Assessment)</td>\n",
       "      <td>1</td>\n",
       "      <td>1</td>\n",
       "      <td>0.5</td>\n",
       "      <td>2</td>\n",
       "      <td>0006a69f</td>\n",
       "      <td>9501794defd84e4d</td>\n",
       "    </tr>\n",
       "    <tr>\n",
       "      <th>2</th>\n",
       "      <td>Cauldron Filler (Assessment)</td>\n",
       "      <td>1</td>\n",
       "      <td>0</td>\n",
       "      <td>1.0</td>\n",
       "      <td>3</td>\n",
       "      <td>0006c192</td>\n",
       "      <td>197a373a77101924</td>\n",
       "    </tr>\n",
       "    <tr>\n",
       "      <th>3</th>\n",
       "      <td>Bird Measurer (Assessment)</td>\n",
       "      <td>1</td>\n",
       "      <td>1</td>\n",
       "      <td>0.5</td>\n",
       "      <td>2</td>\n",
       "      <td>0006c192</td>\n",
       "      <td>957406a905d59afd</td>\n",
       "    </tr>\n",
       "    <tr>\n",
       "      <th>4</th>\n",
       "      <td>Mushroom Sorter (Assessment)</td>\n",
       "      <td>0</td>\n",
       "      <td>4</td>\n",
       "      <td>0.0</td>\n",
       "      <td>0</td>\n",
       "      <td>0006c192</td>\n",
       "      <td>b2297d292892745a</td>\n",
       "    </tr>\n",
       "  </tbody>\n",
       "</table>\n",
       "</div>"
      ],
      "text/plain": [
       "                        title_y  num_correct  num_incorrect  accuracy  \\\n",
       "0    Bird Measurer (Assessment)            0             11       0.0   \n",
       "1  Mushroom Sorter (Assessment)            1              1       0.5   \n",
       "2  Cauldron Filler (Assessment)            1              0       1.0   \n",
       "3    Bird Measurer (Assessment)            1              1       0.5   \n",
       "4  Mushroom Sorter (Assessment)            0              4       0.0   \n",
       "\n",
       "   accuracy_group installation_id    game_session_y  \n",
       "0               0        0006a69f  77b8ee947eb84b4e  \n",
       "1               2        0006a69f  9501794defd84e4d  \n",
       "2               3        0006c192  197a373a77101924  \n",
       "3               2        0006c192  957406a905d59afd  \n",
       "4               0        0006c192  b2297d292892745a  "
      ]
     },
     "execution_count": 27,
     "metadata": {},
     "output_type": "execute_result"
    }
   ],
   "source": [
    "labels.head()"
   ]
  },
  {
   "cell_type": "code",
   "execution_count": 48,
   "metadata": {
    "ExecuteTime": {
     "end_time": "2020-03-11T21:51:27.992828Z",
     "start_time": "2020-03-11T21:51:26.603443Z"
    }
   },
   "outputs": [],
   "source": [
    "from sklearn.preprocessing import OneHotEncoder\n",
    "from sklearn.linear_model import LogisticRegression\n",
    "from sklearn.model_selection import GridSearchCV\n",
    "from sklearn.svm import SVC \n",
    "from sklearn.ensemble import RandomForestClassifier\n",
    "import inspect"
   ]
  },
  {
   "cell_type": "code",
   "execution_count": 30,
   "metadata": {
    "ExecuteTime": {
     "end_time": "2020-03-11T21:43:20.653062Z",
     "start_time": "2020-03-11T21:43:20.621308Z"
    }
   },
   "outputs": [],
   "source": [
    "feature_pipe = features.get_data_processing_pipe(feats,log_features=['game_time', 'event_count'], categorical_features=['last_world'])"
   ]
  },
  {
   "cell_type": "code",
   "execution_count": 36,
   "metadata": {
    "ExecuteTime": {
     "end_time": "2020-03-11T21:44:08.688005Z",
     "start_time": "2020-03-11T21:44:08.635507Z"
    }
   },
   "outputs": [
    {
     "data": {
      "text/html": [
       "<div>\n",
       "<style scoped>\n",
       "    .dataframe tbody tr th:only-of-type {\n",
       "        vertical-align: middle;\n",
       "    }\n",
       "\n",
       "    .dataframe tbody tr th {\n",
       "        vertical-align: top;\n",
       "    }\n",
       "\n",
       "    .dataframe thead th {\n",
       "        text-align: right;\n",
       "    }\n",
       "</style>\n",
       "<table border=\"1\" class=\"dataframe\">\n",
       "  <thead>\n",
       "    <tr style=\"text-align: right;\">\n",
       "      <th></th>\n",
       "      <th>event_count</th>\n",
       "      <th>game_time</th>\n",
       "      <th>num_unique_days</th>\n",
       "      <th>elapsed_days</th>\n",
       "      <th>last_world</th>\n",
       "      <th>unique_game_sessions</th>\n",
       "      <th>activity_ct</th>\n",
       "      <th>game_ct</th>\n",
       "      <th>assessment_ct</th>\n",
       "      <th>clip_ct</th>\n",
       "    </tr>\n",
       "  </thead>\n",
       "  <tbody>\n",
       "    <tr>\n",
       "      <th>0</th>\n",
       "      <td>1230</td>\n",
       "      <td>1135</td>\n",
       "      <td>1</td>\n",
       "      <td>0</td>\n",
       "      <td>TREETOPCITY</td>\n",
       "      <td>26</td>\n",
       "      <td>556.0</td>\n",
       "      <td>525.0</td>\n",
       "      <td>135.0</td>\n",
       "      <td>14.0</td>\n",
       "    </tr>\n",
       "    <tr>\n",
       "      <th>1</th>\n",
       "      <td>2201</td>\n",
       "      <td>3488</td>\n",
       "      <td>1</td>\n",
       "      <td>0</td>\n",
       "      <td>TREETOPCITY</td>\n",
       "      <td>48</td>\n",
       "      <td>1103.0</td>\n",
       "      <td>845.0</td>\n",
       "      <td>229.0</td>\n",
       "      <td>24.0</td>\n",
       "    </tr>\n",
       "    <tr>\n",
       "      <th>2</th>\n",
       "      <td>1566</td>\n",
       "      <td>1342</td>\n",
       "      <td>2</td>\n",
       "      <td>1</td>\n",
       "      <td>MAGMAPEAK</td>\n",
       "      <td>26</td>\n",
       "      <td>894.0</td>\n",
       "      <td>633.0</td>\n",
       "      <td>24.0</td>\n",
       "      <td>15.0</td>\n",
       "    </tr>\n",
       "    <tr>\n",
       "      <th>3</th>\n",
       "      <td>2222</td>\n",
       "      <td>2063</td>\n",
       "      <td>4</td>\n",
       "      <td>18</td>\n",
       "      <td>TREETOPCITY</td>\n",
       "      <td>48</td>\n",
       "      <td>1206.0</td>\n",
       "      <td>643.0</td>\n",
       "      <td>343.0</td>\n",
       "      <td>30.0</td>\n",
       "    </tr>\n",
       "    <tr>\n",
       "      <th>4</th>\n",
       "      <td>2014</td>\n",
       "      <td>1835</td>\n",
       "      <td>4</td>\n",
       "      <td>18</td>\n",
       "      <td>TREETOPCITY</td>\n",
       "      <td>44</td>\n",
       "      <td>1206.0</td>\n",
       "      <td>637.0</td>\n",
       "      <td>143.0</td>\n",
       "      <td>28.0</td>\n",
       "    </tr>\n",
       "    <tr>\n",
       "      <th>...</th>\n",
       "      <td>...</td>\n",
       "      <td>...</td>\n",
       "      <td>...</td>\n",
       "      <td>...</td>\n",
       "      <td>...</td>\n",
       "      <td>...</td>\n",
       "      <td>...</td>\n",
       "      <td>...</td>\n",
       "      <td>...</td>\n",
       "      <td>...</td>\n",
       "    </tr>\n",
       "    <tr>\n",
       "      <th>995</th>\n",
       "      <td>60</td>\n",
       "      <td>68</td>\n",
       "      <td>1</td>\n",
       "      <td>0</td>\n",
       "      <td>TREETOPCITY</td>\n",
       "      <td>6</td>\n",
       "      <td>0.0</td>\n",
       "      <td>21.0</td>\n",
       "      <td>35.0</td>\n",
       "      <td>4.0</td>\n",
       "    </tr>\n",
       "    <tr>\n",
       "      <th>996</th>\n",
       "      <td>1068</td>\n",
       "      <td>1221</td>\n",
       "      <td>5</td>\n",
       "      <td>82</td>\n",
       "      <td>MAGMAPEAK</td>\n",
       "      <td>37</td>\n",
       "      <td>355.0</td>\n",
       "      <td>484.0</td>\n",
       "      <td>87.0</td>\n",
       "      <td>24.0</td>\n",
       "    </tr>\n",
       "    <tr>\n",
       "      <th>997</th>\n",
       "      <td>1468</td>\n",
       "      <td>1722</td>\n",
       "      <td>1</td>\n",
       "      <td>0</td>\n",
       "      <td>CRYSTALCAVES</td>\n",
       "      <td>31</td>\n",
       "      <td>333.0</td>\n",
       "      <td>852.0</td>\n",
       "      <td>266.0</td>\n",
       "      <td>17.0</td>\n",
       "    </tr>\n",
       "    <tr>\n",
       "      <th>998</th>\n",
       "      <td>384</td>\n",
       "      <td>322</td>\n",
       "      <td>1</td>\n",
       "      <td>0</td>\n",
       "      <td>TREETOPCITY</td>\n",
       "      <td>11</td>\n",
       "      <td>122.0</td>\n",
       "      <td>217.0</td>\n",
       "      <td>38.0</td>\n",
       "      <td>7.0</td>\n",
       "    </tr>\n",
       "    <tr>\n",
       "      <th>999</th>\n",
       "      <td>1196</td>\n",
       "      <td>1263</td>\n",
       "      <td>1</td>\n",
       "      <td>0</td>\n",
       "      <td>CRYSTALCAVES</td>\n",
       "      <td>27</td>\n",
       "      <td>233.0</td>\n",
       "      <td>730.0</td>\n",
       "      <td>217.0</td>\n",
       "      <td>16.0</td>\n",
       "    </tr>\n",
       "  </tbody>\n",
       "</table>\n",
       "<p>1000 rows × 10 columns</p>\n",
       "</div>"
      ],
      "text/plain": [
       "     event_count  game_time  num_unique_days  elapsed_days    last_world  \\\n",
       "0           1230       1135                1             0   TREETOPCITY   \n",
       "1           2201       3488                1             0   TREETOPCITY   \n",
       "2           1566       1342                2             1     MAGMAPEAK   \n",
       "3           2222       2063                4            18   TREETOPCITY   \n",
       "4           2014       1835                4            18   TREETOPCITY   \n",
       "..           ...        ...              ...           ...           ...   \n",
       "995           60         68                1             0   TREETOPCITY   \n",
       "996         1068       1221                5            82     MAGMAPEAK   \n",
       "997         1468       1722                1             0  CRYSTALCAVES   \n",
       "998          384        322                1             0   TREETOPCITY   \n",
       "999         1196       1263                1             0  CRYSTALCAVES   \n",
       "\n",
       "     unique_game_sessions  activity_ct  game_ct  assessment_ct  clip_ct  \n",
       "0                      26        556.0    525.0          135.0     14.0  \n",
       "1                      48       1103.0    845.0          229.0     24.0  \n",
       "2                      26        894.0    633.0           24.0     15.0  \n",
       "3                      48       1206.0    643.0          343.0     30.0  \n",
       "4                      44       1206.0    637.0          143.0     28.0  \n",
       "..                    ...          ...      ...            ...      ...  \n",
       "995                     6          0.0     21.0           35.0      4.0  \n",
       "996                    37        355.0    484.0           87.0     24.0  \n",
       "997                    31        333.0    852.0          266.0     17.0  \n",
       "998                    11        122.0    217.0           38.0      7.0  \n",
       "999                    27        233.0    730.0          217.0     16.0  \n",
       "\n",
       "[1000 rows x 10 columns]"
      ]
     },
     "execution_count": 36,
     "metadata": {},
     "output_type": "execute_result"
    }
   ],
   "source": [
    "feats[:1000]"
   ]
  },
  {
   "cell_type": "code",
   "execution_count": 34,
   "metadata": {
    "ExecuteTime": {
     "end_time": "2020-03-11T21:43:53.612580Z",
     "start_time": "2020-03-11T21:43:53.558677Z"
    }
   },
   "outputs": [],
   "source": [
    "f = feature_pipe.fit_transform(feats[:1000])"
   ]
  },
  {
   "cell_type": "code",
   "execution_count": 37,
   "metadata": {
    "ExecuteTime": {
     "end_time": "2020-03-11T21:44:18.487097Z",
     "start_time": "2020-03-11T21:44:18.458494Z"
    }
   },
   "outputs": [
    {
     "data": {
      "text/plain": [
       "array([-0.58823969, -0.57109623, -0.14503066,  0.0607788 , -0.1039365 ,\n",
       "       -0.16982723, -0.10627748,  0.12066108,  0.46398825,  0.        ,\n",
       "        0.        ,  1.        ])"
      ]
     },
     "execution_count": 37,
     "metadata": {},
     "output_type": "execute_result"
    }
   ],
   "source": [
    "f[0]"
   ]
  },
  {
   "cell_type": "code",
   "execution_count": 38,
   "metadata": {
    "ExecuteTime": {
     "end_time": "2020-03-11T21:44:23.491187Z",
     "start_time": "2020-03-11T21:44:23.458178Z"
    }
   },
   "outputs": [
    {
     "data": {
      "text/plain": [
       "array([-0.58823969, -0.57109623,  0.27396796,  0.74117096,  0.20558543,\n",
       "        0.05003504,  0.22234801,  0.91260474,  0.95262231,  0.        ,\n",
       "        0.        ,  1.        ])"
      ]
     },
     "execution_count": 38,
     "metadata": {},
     "output_type": "execute_result"
    }
   ],
   "source": [
    "f[1]"
   ]
  },
  {
   "cell_type": "code",
   "execution_count": null,
   "metadata": {},
   "outputs": [],
   "source": [
    "f[2]"
   ]
  },
  {
   "cell_type": "code",
   "execution_count": 49,
   "metadata": {
    "ExecuteTime": {
     "end_time": "2020-03-11T21:51:33.782544Z",
     "start_time": "2020-03-11T21:51:33.745160Z"
    }
   },
   "outputs": [],
   "source": [
    "lr_pipe = Pipeline(steps=[\n",
    "    ('preprocess', feature_pipe),\n",
    "    ('clf', LogisticRegression())])\n",
    "\n",
    "rf_pipe = Pipeline(steps=[\n",
    "    ('preprocess', feature_pipe),\n",
    "    ('clf', RandomForestClassifier())])"
   ]
  },
  {
   "cell_type": "code",
   "execution_count": 46,
   "metadata": {
    "ExecuteTime": {
     "end_time": "2020-03-11T21:47:33.580524Z",
     "start_time": "2020-03-11T21:47:27.580523Z"
    },
    "collapsed": true
   },
   "outputs": [
    {
     "data": {
      "text/plain": [
       "GridSearchCV(cv=None, error_score=nan,\n",
       "             estimator=Pipeline(memory=None,\n",
       "                                steps=[('preprocess',\n",
       "                                        ColumnTransformer(n_jobs=None,\n",
       "                                                          remainder='drop',\n",
       "                                                          sparse_threshold=0.3,\n",
       "                                                          transformer_weights=None,\n",
       "                                                          transformers=[('num',\n",
       "                                                                         Pipeline(memory=None,\n",
       "                                                                                  steps=[('imputer',\n",
       "                                                                                          SimpleImputer(add_indicator=False,\n",
       "                                                                                                        copy=True,\n",
       "                                                                                                        fill_value=0,\n",
       "                                                                                                        missing_values=nan,\n",
       "                                                                                                        strategy='mean',\n",
       "                                                                                                        verbose=0)),\n",
       "                                                                                         ('sc...\n",
       "                                                           l1_ratio=None,\n",
       "                                                           max_iter=100,\n",
       "                                                           multi_class='auto',\n",
       "                                                           n_jobs=None,\n",
       "                                                           penalty='l2',\n",
       "                                                           random_state=None,\n",
       "                                                           solver='lbfgs',\n",
       "                                                           tol=0.0001,\n",
       "                                                           verbose=0,\n",
       "                                                           warm_start=False))],\n",
       "                                verbose=False),\n",
       "             iid='deprecated', n_jobs=None,\n",
       "             param_grid={'clf__C': [0.001, 0.01, 0.1, 1, 10, 100, 1000],\n",
       "                         'clf__max_iter': [1000]},\n",
       "             pre_dispatch='2*n_jobs', refit=True, return_train_score=False,\n",
       "             scoring='accuracy', verbose=0)"
      ]
     },
     "execution_count": 46,
     "metadata": {},
     "output_type": "execute_result"
    }
   ],
   "source": [
    "lr_cv = GridSearchCV(lr_pipe, scoring='accuracy', param_grid={'clf__C': [10**i for i in range(-3, 4)], 'clf__max_iter': [1000]})\n",
    "lr_cv.fit(feats, labels.accuracy_group)\n",
    "pd.DataFrame(lr_cv.cv_results_)"
   ]
  },
  {
   "cell_type": "code",
   "execution_count": 54,
   "metadata": {
    "ExecuteTime": {
     "end_time": "2020-03-11T21:58:53.373581Z",
     "start_time": "2020-03-11T21:54:48.985327Z"
    }
   },
   "outputs": [
    {
     "data": {
      "text/plain": [
       "GridSearchCV(cv=None, error_score=nan,\n",
       "             estimator=Pipeline(memory=None,\n",
       "                                steps=[('preprocess',\n",
       "                                        ColumnTransformer(n_jobs=None,\n",
       "                                                          remainder='drop',\n",
       "                                                          sparse_threshold=0.3,\n",
       "                                                          transformer_weights=None,\n",
       "                                                          transformers=[('num',\n",
       "                                                                         Pipeline(memory=None,\n",
       "                                                                                  steps=[('imputer',\n",
       "                                                                                          SimpleImputer(add_indicator=False,\n",
       "                                                                                                        copy=True,\n",
       "                                                                                                        fill_value=0,\n",
       "                                                                                                        missing_values=nan,\n",
       "                                                                                                        strategy='mean',\n",
       "                                                                                                        verbose=0)),\n",
       "                                                                                         ('sc...\n",
       "                                                               min_samples_split=2,\n",
       "                                                               min_weight_fraction_leaf=0.0,\n",
       "                                                               n_estimators=100,\n",
       "                                                               n_jobs=None,\n",
       "                                                               oob_score=False,\n",
       "                                                               random_state=None,\n",
       "                                                               verbose=0,\n",
       "                                                               warm_start=False))],\n",
       "                                verbose=False),\n",
       "             iid='deprecated', n_jobs=None,\n",
       "             param_grid={'clf__max_depth': [1, 3, 5, 7, 9],\n",
       "                         'clf__n_estimators': [100, 500, 1000]},\n",
       "             pre_dispatch='2*n_jobs', refit=True, return_train_score=False,\n",
       "             scoring='accuracy', verbose=0)"
      ]
     },
     "execution_count": 54,
     "metadata": {},
     "output_type": "execute_result"
    }
   ],
   "source": [
    "rf_cv = GridSearchCV(rf_pipe, scoring='accuracy', param_grid={'clf__max_depth': [1, 3, 5, 7, 9], 'clf__n_estimators': [100, 500, 1000]})\n",
    "rf_cv.fit(feats, labels.accuracy_group)\n",
    "pd.DataFrame(rf_cv.cv_results_)"
   ]
  },
  {
   "cell_type": "code",
   "execution_count": 57,
   "metadata": {
    "ExecuteTime": {
     "end_time": "2020-03-11T22:02:26.612486Z",
     "start_time": "2020-03-11T22:02:26.581867Z"
    }
   },
   "outputs": [],
   "source": []
  },
  {
   "cell_type": "code",
   "execution_count": 60,
   "metadata": {
    "ExecuteTime": {
     "end_time": "2020-03-11T22:03:25.461720Z",
     "start_time": "2020-03-11T22:03:25.429859Z"
    }
   },
   "outputs": [
    {
     "name": "stdout",
     "output_type": "stream",
     "text": [
      "import pandas as pd\n",
      "import numpy as np\n",
      "import tensorflow as tf\n",
      "from sklearn.pipeline import Pipeline\n",
      "from sklearn.impute import SimpleImputer\n",
      "from sklearn.compose import ColumnTransformer\n",
      "from sklearn.preprocessing import StandardScaler, OneHotEncoder, FunctionTransformer\n",
      "\n",
      "\n",
      "def read_data():\n",
      "    print('Reading train.csv file....')\n",
      "    train = pd.read_csv('train.csv')\n",
      "    print('Training.csv file have {} rows and {} columns'.format(train.shape[0], train.shape[1]))\n",
      "\n",
      "    print('Reading test.csv file....')\n",
      "    test = pd.read_csv('test.csv')\n",
      "    print('Test.csv file have {} rows and {} columns'.format(test.shape[0], test.shape[1]))\n",
      "\n",
      "    print('Reading train_labels.csv file....')\n",
      "    train_labels = pd.read_csv('train_labels.csv')\n",
      "    print('Train_labels.csv file have {} rows and {} columns'.format(train_labels.shape[0], train_labels.shape[1]))\n",
      "\n",
      "    print('Reading specs.csv file....')\n",
      "    specs = pd.read_csv('specs.csv')\n",
      "    print('Specs.csv file have {} rows and {} columns'.format(specs.shape[0], specs.shape[1]))\n",
      "    return train, test, train_labels, specs\n",
      "\n",
      "\n",
      "def num_unique_days(timestamps):\n",
      "    return pd.to_datetime(timestamps).apply(lambda x: x.date()).unique().size\n",
      "\n",
      "\n",
      "def days_since_first_event(timestamps):\n",
      "    dates = pd.to_datetime(timestamps).apply(lambda x: x.date())\n",
      "    return (dates.max() - dates.min()).days\n",
      "\n",
      "\n",
      "def get_events_before_game_session(events, game_session):\n",
      "    game_session_index = events.index[(events.game_session_x == game_session)]\n",
      "    if not game_session_index.empty:\n",
      "        return events.loc[:game_session_index[-1]]\n",
      "    else:\n",
      "        return events\n",
      "\n",
      "def group_by_game_session_and_sum(events, columns):\n",
      "    \"\"\"\n",
      "    some columns are rolling counts by game session,\n",
      "    take the max value of each game session then some for totals\n",
      "    \"\"\"\n",
      "    series = pd.Series()\n",
      "    for c in columns:\n",
      "        series[c] = events.groupby('game_session')[c].max().sum()\n",
      "    return series\n",
      "\n",
      "\n",
      "def summarize_events(events):\n",
      "    \"\"\"\n",
      "    takes a dataframe of events and returns a pd.Series with aggregate/summary values\n",
      "    \"\"\"\n",
      "    events = events.sort_values('timestamp').reset_index()\n",
      "    events = events.rename(columns={'game_session_x': 'game_session'}, errors='ignore')\n",
      "    numeric_rows = ['event_count', 'game_time']\n",
      "    aggregates = group_by_game_session_and_sum(events, numeric_rows)\n",
      "    aggregates['game_time'] = aggregates['game_time'] / 1000\n",
      "    aggregates['num_unique_days'] = num_unique_days(events['timestamp'])\n",
      "    aggregates['elapsed_days'] = days_since_first_event(events['timestamp'])\n",
      "    aggregates['last_world'] = events.tail(1)['world'].values[0]\n",
      "    aggregates['last_game_session'] = events.tail(1)['game_session'].values[0]\n",
      "    aggregates['type_counts'] = events.type.value_counts()\n",
      "    aggregates['unique_game_sessions'] = events.game_session.unique().size\n",
      "    return aggregates\n",
      "\n",
      "\n",
      "def summarize_events_before_game_session(events, game_session):\n",
      "    events_before = get_events_before_game_session(events, game_session)\n",
      "    aggregates = summarize_events(events_before)\n",
      "    labels = events[['title_y', 'num_correct',\n",
      "       'num_incorrect', 'accuracy', 'accuracy_group']].iloc[0]\n",
      "    row = aggregates.append(labels)\n",
      "    return row\n",
      "\n",
      "\n",
      "def split_features_and_labels(df):\n",
      "    labels_df = df[['title_y', 'num_correct', 'num_incorrect',\n",
      "                    'accuracy', 'accuracy_group', 'installation_id', 'game_session_y']].copy()\n",
      "    feats_df = df.drop(\n",
      "        ['title_y', 'num_correct', 'num_incorrect', 'installation_id', 'game_session_y', 'last_game_session',\n",
      "         'accuracy', 'accuracy_group'], axis=1)\n",
      "    return feats_df, labels_df\n",
      "\n",
      "\n",
      "def basic_user_features_transform(train_data, train_labels=None):\n",
      "    data = train_data[['event_id', 'game_session', 'timestamp', 'installation_id', 'event_count', 'event_code',\n",
      "                       'game_time', 'title', 'type', 'world']]\n",
      "    if train_labels is not None:\n",
      "        train_w_labels = data.merge(train_labels, on='installation_id')\n",
      "        groups = train_w_labels.groupby(['installation_id', 'game_session_y'])\n",
      "    else:\n",
      "        groups = data.groupby(['installation_id'])\n",
      "    # game session y is index 1 of the group name\n",
      "    # passing none to game session is for eval data, does not subset any of the data for each installation_id\n",
      "    features = groups \\\n",
      "        .apply(lambda x: summarize_events_before_game_session(x, game_session=x.name[1] if len(x.name) == 2 else '')) \\\n",
      "        .reset_index()\n",
      "    expanded_counts = features.type_counts.apply(pd.Series).fillna(0)\n",
      "    # rename the type count columns\n",
      "    expanded_counts.columns = [c.lower()+'_ct' for c in expanded_counts.columns]\n",
      "    feats = pd.concat([features.drop(['type_counts'], axis=1), expanded_counts], axis=1)\n",
      "\n",
      "    if train_labels is not None:\n",
      "        return split_features_and_labels(feats)\n",
      "    else:\n",
      "        return feats, None\n",
      "\n",
      "def get_data_processing_pipe(feats, log_features, categorical_features):\n",
      "    # We create the preprocessing pipelines for both numeric and categorical data.\n",
      "    numeric_features = [c for c in feats.columns if c not in log_features+categorical_features]\n",
      "    numeric_transformer = Pipeline(steps=[\n",
      "        ('imputer', SimpleImputer(fill_value=0)),\n",
      "        ('scaler', StandardScaler())])\n",
      "\n",
      "    numeric_log_transformer = Pipeline(steps=[\n",
      "        ('imputer', SimpleImputer(fill_value=1)),\n",
      "        ('log_scale', FunctionTransformer(np.log)),\n",
      "        ('scaler', StandardScaler())])\n",
      "\n",
      "    categorical_transformer = Pipeline(steps=[\n",
      "        ('imputer', SimpleImputer(strategy='constant', fill_value='missing')),\n",
      "        ('onehot', OneHotEncoder(handle_unknown='ignore'))])\n",
      "\n",
      "    preprocessor = ColumnTransformer(\n",
      "        transformers=[\n",
      "            ('num', numeric_transformer, numeric_features),\n",
      "            ('num_log', numeric_log_transformer, log_features),\n",
      "            ('cat', categorical_transformer, categorical_features)])\n",
      "\n",
      "    return preprocessor\n",
      "\n"
     ]
    }
   ],
   "source": [
    "print(inspect.getsource(features))"
   ]
  },
  {
   "cell_type": "code",
   "execution_count": null,
   "metadata": {},
   "outputs": [],
   "source": []
  }
 ],
 "metadata": {
  "kernelspec": {
   "display_name": "Python 3",
   "language": "python",
   "name": "python3"
  },
  "language_info": {
   "codemirror_mode": {
    "name": "ipython",
    "version": 3
   },
   "file_extension": ".py",
   "mimetype": "text/x-python",
   "name": "python",
   "nbconvert_exporter": "python",
   "pygments_lexer": "ipython3",
   "version": "3.7.1"
  },
  "latex_envs": {
   "LaTeX_envs_menu_present": true,
   "autoclose": false,
   "autocomplete": true,
   "bibliofile": "biblio.bib",
   "cite_by": "apalike",
   "current_citInitial": 1,
   "eqLabelWithNumbers": true,
   "eqNumInitial": 1,
   "hotkeys": {
    "equation": "Ctrl-E",
    "itemize": "Ctrl-I"
   },
   "labels_anchors": false,
   "latex_user_defs": false,
   "report_style_numbering": false,
   "user_envs_cfg": false
  },
  "varInspector": {
   "cols": {
    "lenName": 16,
    "lenType": 16,
    "lenVar": 40
   },
   "kernels_config": {
    "python": {
     "delete_cmd_postfix": "",
     "delete_cmd_prefix": "del ",
     "library": "var_list.py",
     "varRefreshCmd": "print(var_dic_list())"
    },
    "r": {
     "delete_cmd_postfix": ") ",
     "delete_cmd_prefix": "rm(",
     "library": "var_list.r",
     "varRefreshCmd": "cat(var_dic_list()) "
    }
   },
   "types_to_exclude": [
    "module",
    "function",
    "builtin_function_or_method",
    "instance",
    "_Feature"
   ],
   "window_display": false
  }
 },
 "nbformat": 4,
 "nbformat_minor": 4
}
