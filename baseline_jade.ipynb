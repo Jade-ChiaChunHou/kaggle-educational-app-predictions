{
  "nbformat": 4,
  "nbformat_minor": 0,
  "metadata": {
    "colab": {
      "name": "baseline_jade.ipynb",
      "provenance": [],
      "collapsed_sections": [],
      "toc_visible": true,
      "machine_shape": "hm"
    },
    "kernelspec": {
      "name": "python3",
      "display_name": "Python 3"
    },
    "accelerator": "GPU"
  },
  "cells": [
    {
      "cell_type": "markdown",
      "metadata": {
        "id": "KqXGO9UOBw4u",
        "colab_type": "text"
      },
      "source": [
        "### Load the Packages"
      ]
    },
    {
      "cell_type": "code",
      "metadata": {
        "id": "5d8P1N9GjP9N",
        "colab_type": "code",
        "colab": {}
      },
      "source": [
        "import pandas as pd\n",
        "import matplotlib.pyplot as plt\n",
        "import json\n",
        "from pandas.io.json import json_normalize\n",
        "import numpy as np\n",
        "\n",
        "%matplotlib inline\n"
      ],
      "execution_count": 0,
      "outputs": []
    },
    {
      "cell_type": "markdown",
      "metadata": {
        "id": "bzZ5gMw6B6uo",
        "colab_type": "text"
      },
      "source": [
        "### Load the Data"
      ]
    },
    {
      "cell_type": "code",
      "metadata": {
        "id": "WL6XcKciE6cr",
        "colab_type": "code",
        "outputId": "4d6de7ee-66d7-4bca-e6bd-3586c79b0e68",
        "colab": {
          "base_uri": "https://localhost:8080/",
          "height": 54
        }
      },
      "source": [
        "from google.colab import drive\n",
        "drive.mount('/content/gdrive')"
      ],
      "execution_count": 4,
      "outputs": [
        {
          "output_type": "stream",
          "text": [
            "Drive already mounted at /content/gdrive; to attempt to forcibly remount, call drive.mount(\"/content/gdrive\", force_remount=True).\n"
          ],
          "name": "stdout"
        }
      ]
    },
    {
      "cell_type": "code",
      "metadata": {
        "id": "z5C3ozPfFNgO",
        "colab_type": "code",
        "outputId": "af76b775-da62-41f7-99e9-e082f2adcea4",
        "colab": {
          "base_uri": "https://localhost:8080/",
          "height": 122
        }
      },
      "source": [
        "!ls /content/gdrive/My\\ Drive/Colab\\ Notebooks/W207/final_project/data-science-bowl-2019/*.csv"
      ],
      "execution_count": 0,
      "outputs": [
        {
          "output_type": "stream",
          "text": [
            "'/content/gdrive/My Drive/Colab Notebooks/W207/final_project/data-science-bowl-2019/sample_submission.csv'\n",
            "'/content/gdrive/My Drive/Colab Notebooks/W207/final_project/data-science-bowl-2019/specs.csv'\n",
            "'/content/gdrive/My Drive/Colab Notebooks/W207/final_project/data-science-bowl-2019/test.csv'\n",
            "'/content/gdrive/My Drive/Colab Notebooks/W207/final_project/data-science-bowl-2019/train.csv'\n",
            "'/content/gdrive/My Drive/Colab Notebooks/W207/final_project/data-science-bowl-2019/train_labels.csv'\n"
          ],
          "name": "stdout"
        }
      ]
    },
    {
      "cell_type": "code",
      "metadata": {
        "id": "H0JCZ35TDluS",
        "colab_type": "code",
        "colab": {}
      },
      "source": [
        "df_train = pd.read_csv('/content/gdrive/My Drive/Colab Notebooks/W207/final_project/data-science-bowl-2019/train.csv', header=0, sep=',', quotechar='\"')\n",
        "df_test = pd.read_csv('/content/gdrive/My Drive/Colab Notebooks/W207/final_project/data-science-bowl-2019/test.csv', header=0, sep=',', quotechar='\"')\n",
        "df_train_label = pd.read_csv('/content/gdrive/My Drive/Colab Notebooks/W207/final_project/data-science-bowl-2019/train_labels.csv', header=0, sep=',', quotechar='\"')\n",
        "df_specs = pd.read_csv('/content/gdrive/My Drive/Colab Notebooks/W207/final_project/data-science-bowl-2019/specs.csv', header=0, sep=',', quotechar='\"')\n",
        "df_sample_submission = pd.read_csv('/content/gdrive/My Drive/Colab Notebooks/W207/final_project/data-science-bowl-2019/sample_submission.csv', header=0, sep=',', quotechar='\"')"
      ],
      "execution_count": 0,
      "outputs": []
    },
    {
      "cell_type": "code",
      "metadata": {
        "id": "Owwg-xWnMll8",
        "colab_type": "code",
        "colab": {
          "base_uri": "https://localhost:8080/",
          "height": 102
        },
        "outputId": "1afd1998-6611-4eb1-a838-aeeec4d43ba4"
      },
      "source": [
        "print(\"df_train shape: \", df_train.shape)\n",
        "print(\"df_test shape: \", df_test.shape)\n",
        "print(\"df_train_label shape: \", df_train_label.shape)\n",
        "print(\"df_specs shape: \", df_specs.shape)\n",
        "print(\"df_sample_submission shape: \", df_sample_submission.shape)"
      ],
      "execution_count": 6,
      "outputs": [
        {
          "output_type": "stream",
          "text": [
            "df_train shape:  (11341042, 11)\n",
            "df_test shape:  (1156414, 11)\n",
            "df_train_label shape:  (17690, 7)\n",
            "df_specs shape:  (386, 3)\n",
            "df_sample_submission shape:  (1000, 2)\n"
          ],
          "name": "stdout"
        }
      ]
    },
    {
      "cell_type": "markdown",
      "metadata": {
        "id": "kf6vXk1264MP",
        "colab_type": "text"
      },
      "source": [
        "### Understanding the train data"
      ]
    },
    {
      "cell_type": "markdown",
      "metadata": {
        "id": "RNb-hX2y8pWC",
        "colab_type": "text"
      },
      "source": [
        "#### Sample train data"
      ]
    },
    {
      "cell_type": "code",
      "metadata": {
        "id": "UAcSnBsC6-Kg",
        "colab_type": "code",
        "colab": {
          "base_uri": "https://localhost:8080/",
          "height": 1000
        },
        "outputId": "e71ad9e9-4795-416e-cb9e-a6afd852dd7c"
      },
      "source": [
        "print(\"Sample train data (rows: %d, columns: %d)\" %(df_train.shape[0], df_train.shape[1]))\n",
        "df_train.head(15)"
      ],
      "execution_count": 7,
      "outputs": [
        {
          "output_type": "stream",
          "text": [
            "Sample train data (rows: 11341042, columns: 11)\n"
          ],
          "name": "stdout"
        },
        {
          "output_type": "execute_result",
          "data": {
            "text/html": [
              "<div>\n",
              "<style scoped>\n",
              "    .dataframe tbody tr th:only-of-type {\n",
              "        vertical-align: middle;\n",
              "    }\n",
              "\n",
              "    .dataframe tbody tr th {\n",
              "        vertical-align: top;\n",
              "    }\n",
              "\n",
              "    .dataframe thead th {\n",
              "        text-align: right;\n",
              "    }\n",
              "</style>\n",
              "<table border=\"1\" class=\"dataframe\">\n",
              "  <thead>\n",
              "    <tr style=\"text-align: right;\">\n",
              "      <th></th>\n",
              "      <th>event_id</th>\n",
              "      <th>game_session</th>\n",
              "      <th>timestamp</th>\n",
              "      <th>event_data</th>\n",
              "      <th>installation_id</th>\n",
              "      <th>event_count</th>\n",
              "      <th>event_code</th>\n",
              "      <th>game_time</th>\n",
              "      <th>title</th>\n",
              "      <th>type</th>\n",
              "      <th>world</th>\n",
              "    </tr>\n",
              "  </thead>\n",
              "  <tbody>\n",
              "    <tr>\n",
              "      <th>0</th>\n",
              "      <td>27253bdc</td>\n",
              "      <td>45bb1e1b6b50c07b</td>\n",
              "      <td>2019-09-06T17:53:46.937Z</td>\n",
              "      <td>{\"event_code\": 2000, \"event_count\": 1}</td>\n",
              "      <td>0001e90f</td>\n",
              "      <td>1</td>\n",
              "      <td>2000</td>\n",
              "      <td>0</td>\n",
              "      <td>Welcome to Lost Lagoon!</td>\n",
              "      <td>Clip</td>\n",
              "      <td>NONE</td>\n",
              "    </tr>\n",
              "    <tr>\n",
              "      <th>1</th>\n",
              "      <td>27253bdc</td>\n",
              "      <td>17eeb7f223665f53</td>\n",
              "      <td>2019-09-06T17:54:17.519Z</td>\n",
              "      <td>{\"event_code\": 2000, \"event_count\": 1}</td>\n",
              "      <td>0001e90f</td>\n",
              "      <td>1</td>\n",
              "      <td>2000</td>\n",
              "      <td>0</td>\n",
              "      <td>Magma Peak - Level 1</td>\n",
              "      <td>Clip</td>\n",
              "      <td>MAGMAPEAK</td>\n",
              "    </tr>\n",
              "    <tr>\n",
              "      <th>2</th>\n",
              "      <td>77261ab5</td>\n",
              "      <td>0848ef14a8dc6892</td>\n",
              "      <td>2019-09-06T17:54:56.302Z</td>\n",
              "      <td>{\"version\":\"1.0\",\"event_count\":1,\"game_time\":0...</td>\n",
              "      <td>0001e90f</td>\n",
              "      <td>1</td>\n",
              "      <td>2000</td>\n",
              "      <td>0</td>\n",
              "      <td>Sandcastle Builder (Activity)</td>\n",
              "      <td>Activity</td>\n",
              "      <td>MAGMAPEAK</td>\n",
              "    </tr>\n",
              "    <tr>\n",
              "      <th>3</th>\n",
              "      <td>b2dba42b</td>\n",
              "      <td>0848ef14a8dc6892</td>\n",
              "      <td>2019-09-06T17:54:56.387Z</td>\n",
              "      <td>{\"description\":\"Let's build a sandcastle! Firs...</td>\n",
              "      <td>0001e90f</td>\n",
              "      <td>2</td>\n",
              "      <td>3010</td>\n",
              "      <td>53</td>\n",
              "      <td>Sandcastle Builder (Activity)</td>\n",
              "      <td>Activity</td>\n",
              "      <td>MAGMAPEAK</td>\n",
              "    </tr>\n",
              "    <tr>\n",
              "      <th>4</th>\n",
              "      <td>1bb5fbdb</td>\n",
              "      <td>0848ef14a8dc6892</td>\n",
              "      <td>2019-09-06T17:55:03.253Z</td>\n",
              "      <td>{\"description\":\"Let's build a sandcastle! Firs...</td>\n",
              "      <td>0001e90f</td>\n",
              "      <td>3</td>\n",
              "      <td>3110</td>\n",
              "      <td>6972</td>\n",
              "      <td>Sandcastle Builder (Activity)</td>\n",
              "      <td>Activity</td>\n",
              "      <td>MAGMAPEAK</td>\n",
              "    </tr>\n",
              "    <tr>\n",
              "      <th>5</th>\n",
              "      <td>1325467d</td>\n",
              "      <td>0848ef14a8dc6892</td>\n",
              "      <td>2019-09-06T17:55:06.279Z</td>\n",
              "      <td>{\"coordinates\":{\"x\":583,\"y\":605,\"stage_width\":...</td>\n",
              "      <td>0001e90f</td>\n",
              "      <td>4</td>\n",
              "      <td>4070</td>\n",
              "      <td>9991</td>\n",
              "      <td>Sandcastle Builder (Activity)</td>\n",
              "      <td>Activity</td>\n",
              "      <td>MAGMAPEAK</td>\n",
              "    </tr>\n",
              "    <tr>\n",
              "      <th>6</th>\n",
              "      <td>1325467d</td>\n",
              "      <td>0848ef14a8dc6892</td>\n",
              "      <td>2019-09-06T17:55:06.913Z</td>\n",
              "      <td>{\"coordinates\":{\"x\":601,\"y\":570,\"stage_width\":...</td>\n",
              "      <td>0001e90f</td>\n",
              "      <td>5</td>\n",
              "      <td>4070</td>\n",
              "      <td>10622</td>\n",
              "      <td>Sandcastle Builder (Activity)</td>\n",
              "      <td>Activity</td>\n",
              "      <td>MAGMAPEAK</td>\n",
              "    </tr>\n",
              "    <tr>\n",
              "      <th>7</th>\n",
              "      <td>1325467d</td>\n",
              "      <td>0848ef14a8dc6892</td>\n",
              "      <td>2019-09-06T17:55:07.546Z</td>\n",
              "      <td>{\"coordinates\":{\"x\":250,\"y\":665,\"stage_width\":...</td>\n",
              "      <td>0001e90f</td>\n",
              "      <td>6</td>\n",
              "      <td>4070</td>\n",
              "      <td>11255</td>\n",
              "      <td>Sandcastle Builder (Activity)</td>\n",
              "      <td>Activity</td>\n",
              "      <td>MAGMAPEAK</td>\n",
              "    </tr>\n",
              "    <tr>\n",
              "      <th>8</th>\n",
              "      <td>1325467d</td>\n",
              "      <td>0848ef14a8dc6892</td>\n",
              "      <td>2019-09-06T17:55:07.979Z</td>\n",
              "      <td>{\"coordinates\":{\"x\":279,\"y\":629,\"stage_width\":...</td>\n",
              "      <td>0001e90f</td>\n",
              "      <td>7</td>\n",
              "      <td>4070</td>\n",
              "      <td>11689</td>\n",
              "      <td>Sandcastle Builder (Activity)</td>\n",
              "      <td>Activity</td>\n",
              "      <td>MAGMAPEAK</td>\n",
              "    </tr>\n",
              "    <tr>\n",
              "      <th>9</th>\n",
              "      <td>1325467d</td>\n",
              "      <td>0848ef14a8dc6892</td>\n",
              "      <td>2019-09-06T17:55:08.566Z</td>\n",
              "      <td>{\"coordinates\":{\"x\":839,\"y\":654,\"stage_width\":...</td>\n",
              "      <td>0001e90f</td>\n",
              "      <td>8</td>\n",
              "      <td>4070</td>\n",
              "      <td>12272</td>\n",
              "      <td>Sandcastle Builder (Activity)</td>\n",
              "      <td>Activity</td>\n",
              "      <td>MAGMAPEAK</td>\n",
              "    </tr>\n",
              "    <tr>\n",
              "      <th>10</th>\n",
              "      <td>1325467d</td>\n",
              "      <td>0848ef14a8dc6892</td>\n",
              "      <td>2019-09-06T17:55:08.966Z</td>\n",
              "      <td>{\"coordinates\":{\"x\":807,\"y\":619,\"stage_width\":...</td>\n",
              "      <td>0001e90f</td>\n",
              "      <td>9</td>\n",
              "      <td>4070</td>\n",
              "      <td>12672</td>\n",
              "      <td>Sandcastle Builder (Activity)</td>\n",
              "      <td>Activity</td>\n",
              "      <td>MAGMAPEAK</td>\n",
              "    </tr>\n",
              "    <tr>\n",
              "      <th>11</th>\n",
              "      <td>1325467d</td>\n",
              "      <td>0848ef14a8dc6892</td>\n",
              "      <td>2019-09-06T17:55:09.673Z</td>\n",
              "      <td>{\"coordinates\":{\"x\":810,\"y\":611,\"stage_width\":...</td>\n",
              "      <td>0001e90f</td>\n",
              "      <td>10</td>\n",
              "      <td>4070</td>\n",
              "      <td>13389</td>\n",
              "      <td>Sandcastle Builder (Activity)</td>\n",
              "      <td>Activity</td>\n",
              "      <td>MAGMAPEAK</td>\n",
              "    </tr>\n",
              "    <tr>\n",
              "      <th>12</th>\n",
              "      <td>1325467d</td>\n",
              "      <td>0848ef14a8dc6892</td>\n",
              "      <td>2019-09-06T17:55:09.930Z</td>\n",
              "      <td>{\"coordinates\":{\"x\":827,\"y\":584,\"stage_width\":...</td>\n",
              "      <td>0001e90f</td>\n",
              "      <td>11</td>\n",
              "      <td>4070</td>\n",
              "      <td>13639</td>\n",
              "      <td>Sandcastle Builder (Activity)</td>\n",
              "      <td>Activity</td>\n",
              "      <td>MAGMAPEAK</td>\n",
              "    </tr>\n",
              "    <tr>\n",
              "      <th>13</th>\n",
              "      <td>1325467d</td>\n",
              "      <td>0848ef14a8dc6892</td>\n",
              "      <td>2019-09-06T17:55:10.157Z</td>\n",
              "      <td>{\"coordinates\":{\"x\":823,\"y\":615,\"stage_width\":...</td>\n",
              "      <td>0001e90f</td>\n",
              "      <td>12</td>\n",
              "      <td>4070</td>\n",
              "      <td>13872</td>\n",
              "      <td>Sandcastle Builder (Activity)</td>\n",
              "      <td>Activity</td>\n",
              "      <td>MAGMAPEAK</td>\n",
              "    </tr>\n",
              "    <tr>\n",
              "      <th>14</th>\n",
              "      <td>1325467d</td>\n",
              "      <td>0848ef14a8dc6892</td>\n",
              "      <td>2019-09-06T17:55:10.414Z</td>\n",
              "      <td>{\"coordinates\":{\"x\":832,\"y\":614,\"stage_width\":...</td>\n",
              "      <td>0001e90f</td>\n",
              "      <td>13</td>\n",
              "      <td>4070</td>\n",
              "      <td>14122</td>\n",
              "      <td>Sandcastle Builder (Activity)</td>\n",
              "      <td>Activity</td>\n",
              "      <td>MAGMAPEAK</td>\n",
              "    </tr>\n",
              "  </tbody>\n",
              "</table>\n",
              "</div>"
            ],
            "text/plain": [
              "    event_id      game_session  ...      type      world\n",
              "0   27253bdc  45bb1e1b6b50c07b  ...      Clip       NONE\n",
              "1   27253bdc  17eeb7f223665f53  ...      Clip  MAGMAPEAK\n",
              "2   77261ab5  0848ef14a8dc6892  ...  Activity  MAGMAPEAK\n",
              "3   b2dba42b  0848ef14a8dc6892  ...  Activity  MAGMAPEAK\n",
              "4   1bb5fbdb  0848ef14a8dc6892  ...  Activity  MAGMAPEAK\n",
              "5   1325467d  0848ef14a8dc6892  ...  Activity  MAGMAPEAK\n",
              "6   1325467d  0848ef14a8dc6892  ...  Activity  MAGMAPEAK\n",
              "7   1325467d  0848ef14a8dc6892  ...  Activity  MAGMAPEAK\n",
              "8   1325467d  0848ef14a8dc6892  ...  Activity  MAGMAPEAK\n",
              "9   1325467d  0848ef14a8dc6892  ...  Activity  MAGMAPEAK\n",
              "10  1325467d  0848ef14a8dc6892  ...  Activity  MAGMAPEAK\n",
              "11  1325467d  0848ef14a8dc6892  ...  Activity  MAGMAPEAK\n",
              "12  1325467d  0848ef14a8dc6892  ...  Activity  MAGMAPEAK\n",
              "13  1325467d  0848ef14a8dc6892  ...  Activity  MAGMAPEAK\n",
              "14  1325467d  0848ef14a8dc6892  ...  Activity  MAGMAPEAK\n",
              "\n",
              "[15 rows x 11 columns]"
            ]
          },
          "metadata": {
            "tags": []
          },
          "execution_count": 7
        }
      ]
    },
    {
      "cell_type": "code",
      "metadata": {
        "id": "4MH5Q6k7KMG2",
        "colab_type": "code",
        "outputId": "5289cecf-889f-4607-db93-a3eadfc67877",
        "colab": {
          "base_uri": "https://localhost:8080/",
          "height": 34
        }
      },
      "source": [
        "len(df_train)"
      ],
      "execution_count": 24,
      "outputs": [
        {
          "output_type": "execute_result",
          "data": {
            "text/plain": [
              "11341042"
            ]
          },
          "metadata": {
            "tags": []
          },
          "execution_count": 24
        }
      ]
    },
    {
      "cell_type": "markdown",
      "metadata": {
        "id": "RkMyCTpr8eJq",
        "colab_type": "text"
      },
      "source": [
        "Clean up the train data by dropping the row where the installation_id never take any game"
      ]
    },
    {
      "cell_type": "markdown",
      "metadata": {
        "id": "nxYCmYUI8xve",
        "colab_type": "text"
      },
      "source": [
        "#### Clean up train data"
      ]
    },
    {
      "cell_type": "code",
      "metadata": {
        "id": "rZ0jAt4p8dhW",
        "colab_type": "code",
        "colab": {
          "base_uri": "https://localhost:8080/",
          "height": 34
        },
        "outputId": "b6fa764b-fb8d-4156-be5b-55f1202dfa80"
      },
      "source": [
        "# keep the last entries with installation_id duplicates\n",
        "#df_train = df_train.drop_duplicates(subset = 'installation_id', keep='last')\n",
        "keep_id = df_train[df_train.type == \"Assessment\"][['installation_id']].drop_duplicates(keep='last')\n",
        "df_train = pd.merge(df_train, keep_id, on=\"installation_id\", how=\"inner\")\n",
        "len(df_train)"
      ],
      "execution_count": 4,
      "outputs": [
        {
          "output_type": "execute_result",
          "data": {
            "text/plain": [
              "8294138"
            ]
          },
          "metadata": {
            "tags": []
          },
          "execution_count": 4
        }
      ]
    },
    {
      "cell_type": "code",
      "metadata": {
        "id": "YOSNS-iz9K26",
        "colab_type": "code",
        "outputId": "4cbd6342-a38c-44f1-d462-09d42a471104",
        "colab": {
          "base_uri": "https://localhost:8080/",
          "height": 1000
        }
      },
      "source": [
        "print(\"Sample train data after clean up (rows: %d, columns: %d)\" %(df_train.shape[0], df_train.shape[1]))\n",
        "df_train.head(20)"
      ],
      "execution_count": 27,
      "outputs": [
        {
          "output_type": "stream",
          "text": [
            "Sample train data after clean up (rows: 8294138, columns: 11)\n"
          ],
          "name": "stdout"
        },
        {
          "output_type": "execute_result",
          "data": {
            "text/html": [
              "<div>\n",
              "<style scoped>\n",
              "    .dataframe tbody tr th:only-of-type {\n",
              "        vertical-align: middle;\n",
              "    }\n",
              "\n",
              "    .dataframe tbody tr th {\n",
              "        vertical-align: top;\n",
              "    }\n",
              "\n",
              "    .dataframe thead th {\n",
              "        text-align: right;\n",
              "    }\n",
              "</style>\n",
              "<table border=\"1\" class=\"dataframe\">\n",
              "  <thead>\n",
              "    <tr style=\"text-align: right;\">\n",
              "      <th></th>\n",
              "      <th>event_id</th>\n",
              "      <th>game_session</th>\n",
              "      <th>timestamp</th>\n",
              "      <th>event_data</th>\n",
              "      <th>installation_id</th>\n",
              "      <th>event_count</th>\n",
              "      <th>event_code</th>\n",
              "      <th>game_time</th>\n",
              "      <th>title</th>\n",
              "      <th>type</th>\n",
              "      <th>world</th>\n",
              "    </tr>\n",
              "  </thead>\n",
              "  <tbody>\n",
              "    <tr>\n",
              "      <th>0</th>\n",
              "      <td>27253bdc</td>\n",
              "      <td>34ba1a28d02ba8ba</td>\n",
              "      <td>2019-08-06T04:57:18.904Z</td>\n",
              "      <td>{\"event_code\": 2000, \"event_count\": 1}</td>\n",
              "      <td>0006a69f</td>\n",
              "      <td>1</td>\n",
              "      <td>2000</td>\n",
              "      <td>0</td>\n",
              "      <td>Welcome to Lost Lagoon!</td>\n",
              "      <td>Clip</td>\n",
              "      <td>NONE</td>\n",
              "    </tr>\n",
              "    <tr>\n",
              "      <th>1</th>\n",
              "      <td>27253bdc</td>\n",
              "      <td>4b57c9a59474a1b9</td>\n",
              "      <td>2019-08-06T04:57:45.301Z</td>\n",
              "      <td>{\"event_code\": 2000, \"event_count\": 1}</td>\n",
              "      <td>0006a69f</td>\n",
              "      <td>1</td>\n",
              "      <td>2000</td>\n",
              "      <td>0</td>\n",
              "      <td>Magma Peak - Level 1</td>\n",
              "      <td>Clip</td>\n",
              "      <td>MAGMAPEAK</td>\n",
              "    </tr>\n",
              "    <tr>\n",
              "      <th>2</th>\n",
              "      <td>77261ab5</td>\n",
              "      <td>2b9d5af79bcdb79f</td>\n",
              "      <td>2019-08-06T04:58:14.538Z</td>\n",
              "      <td>{\"version\":\"1.0\",\"event_count\":1,\"game_time\":0...</td>\n",
              "      <td>0006a69f</td>\n",
              "      <td>1</td>\n",
              "      <td>2000</td>\n",
              "      <td>0</td>\n",
              "      <td>Sandcastle Builder (Activity)</td>\n",
              "      <td>Activity</td>\n",
              "      <td>MAGMAPEAK</td>\n",
              "    </tr>\n",
              "    <tr>\n",
              "      <th>3</th>\n",
              "      <td>b2dba42b</td>\n",
              "      <td>2b9d5af79bcdb79f</td>\n",
              "      <td>2019-08-06T04:58:14.615Z</td>\n",
              "      <td>{\"description\":\"Let's build a sandcastle! Firs...</td>\n",
              "      <td>0006a69f</td>\n",
              "      <td>2</td>\n",
              "      <td>3010</td>\n",
              "      <td>29</td>\n",
              "      <td>Sandcastle Builder (Activity)</td>\n",
              "      <td>Activity</td>\n",
              "      <td>MAGMAPEAK</td>\n",
              "    </tr>\n",
              "    <tr>\n",
              "      <th>4</th>\n",
              "      <td>1325467d</td>\n",
              "      <td>2b9d5af79bcdb79f</td>\n",
              "      <td>2019-08-06T04:58:16.680Z</td>\n",
              "      <td>{\"coordinates\":{\"x\":273,\"y\":650,\"stage_width\":...</td>\n",
              "      <td>0006a69f</td>\n",
              "      <td>3</td>\n",
              "      <td>4070</td>\n",
              "      <td>2137</td>\n",
              "      <td>Sandcastle Builder (Activity)</td>\n",
              "      <td>Activity</td>\n",
              "      <td>MAGMAPEAK</td>\n",
              "    </tr>\n",
              "    <tr>\n",
              "      <th>5</th>\n",
              "      <td>1325467d</td>\n",
              "      <td>2b9d5af79bcdb79f</td>\n",
              "      <td>2019-08-06T04:58:18.474Z</td>\n",
              "      <td>{\"coordinates\":{\"x\":863,\"y\":237,\"stage_width\":...</td>\n",
              "      <td>0006a69f</td>\n",
              "      <td>4</td>\n",
              "      <td>4070</td>\n",
              "      <td>3937</td>\n",
              "      <td>Sandcastle Builder (Activity)</td>\n",
              "      <td>Activity</td>\n",
              "      <td>MAGMAPEAK</td>\n",
              "    </tr>\n",
              "    <tr>\n",
              "      <th>6</th>\n",
              "      <td>1325467d</td>\n",
              "      <td>2b9d5af79bcdb79f</td>\n",
              "      <td>2019-08-06T04:58:19.365Z</td>\n",
              "      <td>{\"coordinates\":{\"x\":817,\"y\":617,\"stage_width\":...</td>\n",
              "      <td>0006a69f</td>\n",
              "      <td>5</td>\n",
              "      <td>4070</td>\n",
              "      <td>4820</td>\n",
              "      <td>Sandcastle Builder (Activity)</td>\n",
              "      <td>Activity</td>\n",
              "      <td>MAGMAPEAK</td>\n",
              "    </tr>\n",
              "    <tr>\n",
              "      <th>7</th>\n",
              "      <td>1bb5fbdb</td>\n",
              "      <td>2b9d5af79bcdb79f</td>\n",
              "      <td>2019-08-06T04:58:21.490Z</td>\n",
              "      <td>{\"description\":\"Let's build a sandcastle! Firs...</td>\n",
              "      <td>0006a69f</td>\n",
              "      <td>6</td>\n",
              "      <td>3110</td>\n",
              "      <td>6954</td>\n",
              "      <td>Sandcastle Builder (Activity)</td>\n",
              "      <td>Activity</td>\n",
              "      <td>MAGMAPEAK</td>\n",
              "    </tr>\n",
              "    <tr>\n",
              "      <th>8</th>\n",
              "      <td>1325467d</td>\n",
              "      <td>2b9d5af79bcdb79f</td>\n",
              "      <td>2019-08-06T04:58:22.732Z</td>\n",
              "      <td>{\"coordinates\":{\"x\":809,\"y\":180,\"stage_width\":...</td>\n",
              "      <td>0006a69f</td>\n",
              "      <td>7</td>\n",
              "      <td>4070</td>\n",
              "      <td>8187</td>\n",
              "      <td>Sandcastle Builder (Activity)</td>\n",
              "      <td>Activity</td>\n",
              "      <td>MAGMAPEAK</td>\n",
              "    </tr>\n",
              "    <tr>\n",
              "      <th>9</th>\n",
              "      <td>5e812b27</td>\n",
              "      <td>2b9d5af79bcdb79f</td>\n",
              "      <td>2019-08-06T04:58:23.295Z</td>\n",
              "      <td>{\"size\":0,\"coordinates\":{\"x\":782,\"y\":207,\"stag...</td>\n",
              "      <td>0006a69f</td>\n",
              "      <td>8</td>\n",
              "      <td>4030</td>\n",
              "      <td>8745</td>\n",
              "      <td>Sandcastle Builder (Activity)</td>\n",
              "      <td>Activity</td>\n",
              "      <td>MAGMAPEAK</td>\n",
              "    </tr>\n",
              "    <tr>\n",
              "      <th>10</th>\n",
              "      <td>b2dba42b</td>\n",
              "      <td>2b9d5af79bcdb79f</td>\n",
              "      <td>2019-08-06T04:58:23.993Z</td>\n",
              "      <td>{\"description\":\"Fill it up!\",\"identifier\":\"Dot...</td>\n",
              "      <td>0006a69f</td>\n",
              "      <td>9</td>\n",
              "      <td>3010</td>\n",
              "      <td>9445</td>\n",
              "      <td>Sandcastle Builder (Activity)</td>\n",
              "      <td>Activity</td>\n",
              "      <td>MAGMAPEAK</td>\n",
              "    </tr>\n",
              "    <tr>\n",
              "      <th>11</th>\n",
              "      <td>9ee1c98c</td>\n",
              "      <td>2b9d5af79bcdb79f</td>\n",
              "      <td>2019-08-06T04:58:23.993Z</td>\n",
              "      <td>{\"size\":3,\"sand\":1,\"duration\":300,\"coordinates...</td>\n",
              "      <td>0006a69f</td>\n",
              "      <td>10</td>\n",
              "      <td>4021</td>\n",
              "      <td>9445</td>\n",
              "      <td>Sandcastle Builder (Activity)</td>\n",
              "      <td>Activity</td>\n",
              "      <td>MAGMAPEAK</td>\n",
              "    </tr>\n",
              "    <tr>\n",
              "      <th>12</th>\n",
              "      <td>1325467d</td>\n",
              "      <td>2b9d5af79bcdb79f</td>\n",
              "      <td>2019-08-06T04:58:24.051Z</td>\n",
              "      <td>{\"coordinates\":{\"x\":841,\"y\":406,\"stage_width\":...</td>\n",
              "      <td>0006a69f</td>\n",
              "      <td>11</td>\n",
              "      <td>4070</td>\n",
              "      <td>9516</td>\n",
              "      <td>Sandcastle Builder (Activity)</td>\n",
              "      <td>Activity</td>\n",
              "      <td>MAGMAPEAK</td>\n",
              "    </tr>\n",
              "    <tr>\n",
              "      <th>13</th>\n",
              "      <td>1bb5fbdb</td>\n",
              "      <td>2b9d5af79bcdb79f</td>\n",
              "      <td>2019-08-06T04:58:24.730Z</td>\n",
              "      <td>{\"description\":\"Fill it up!\",\"identifier\":\"Dot...</td>\n",
              "      <td>0006a69f</td>\n",
              "      <td>12</td>\n",
              "      <td>3110</td>\n",
              "      <td>10195</td>\n",
              "      <td>Sandcastle Builder (Activity)</td>\n",
              "      <td>Activity</td>\n",
              "      <td>MAGMAPEAK</td>\n",
              "    </tr>\n",
              "    <tr>\n",
              "      <th>14</th>\n",
              "      <td>5e812b27</td>\n",
              "      <td>2b9d5af79bcdb79f</td>\n",
              "      <td>2019-08-06T04:58:25.144Z</td>\n",
              "      <td>{\"size\":0,\"coordinates\":{\"x\":782,\"y\":207,\"stag...</td>\n",
              "      <td>0006a69f</td>\n",
              "      <td>13</td>\n",
              "      <td>4030</td>\n",
              "      <td>10595</td>\n",
              "      <td>Sandcastle Builder (Activity)</td>\n",
              "      <td>Activity</td>\n",
              "      <td>MAGMAPEAK</td>\n",
              "    </tr>\n",
              "    <tr>\n",
              "      <th>15</th>\n",
              "      <td>9ee1c98c</td>\n",
              "      <td>2b9d5af79bcdb79f</td>\n",
              "      <td>2019-08-06T04:58:26.053Z</td>\n",
              "      <td>{\"size\":3,\"sand\":2,\"duration\":526,\"coordinates...</td>\n",
              "      <td>0006a69f</td>\n",
              "      <td>14</td>\n",
              "      <td>4021</td>\n",
              "      <td>11512</td>\n",
              "      <td>Sandcastle Builder (Activity)</td>\n",
              "      <td>Activity</td>\n",
              "      <td>MAGMAPEAK</td>\n",
              "    </tr>\n",
              "    <tr>\n",
              "      <th>16</th>\n",
              "      <td>1325467d</td>\n",
              "      <td>2b9d5af79bcdb79f</td>\n",
              "      <td>2019-08-06T04:58:26.790Z</td>\n",
              "      <td>{\"coordinates\":{\"x\":842,\"y\":131,\"stage_width\":...</td>\n",
              "      <td>0006a69f</td>\n",
              "      <td>15</td>\n",
              "      <td>4070</td>\n",
              "      <td>12246</td>\n",
              "      <td>Sandcastle Builder (Activity)</td>\n",
              "      <td>Activity</td>\n",
              "      <td>MAGMAPEAK</td>\n",
              "    </tr>\n",
              "    <tr>\n",
              "      <th>17</th>\n",
              "      <td>5e812b27</td>\n",
              "      <td>2b9d5af79bcdb79f</td>\n",
              "      <td>2019-08-06T04:58:27.319Z</td>\n",
              "      <td>{\"size\":0,\"coordinates\":{\"x\":782,\"y\":207,\"stag...</td>\n",
              "      <td>0006a69f</td>\n",
              "      <td>16</td>\n",
              "      <td>4030</td>\n",
              "      <td>12771</td>\n",
              "      <td>Sandcastle Builder (Activity)</td>\n",
              "      <td>Activity</td>\n",
              "      <td>MAGMAPEAK</td>\n",
              "    </tr>\n",
              "    <tr>\n",
              "      <th>18</th>\n",
              "      <td>b2dba42b</td>\n",
              "      <td>2b9d5af79bcdb79f</td>\n",
              "      <td>2019-08-06T04:58:28.260Z</td>\n",
              "      <td>{\"description\":\"Drag your mold to the sand to ...</td>\n",
              "      <td>0006a69f</td>\n",
              "      <td>17</td>\n",
              "      <td>3010</td>\n",
              "      <td>13712</td>\n",
              "      <td>Sandcastle Builder (Activity)</td>\n",
              "      <td>Activity</td>\n",
              "      <td>MAGMAPEAK</td>\n",
              "    </tr>\n",
              "    <tr>\n",
              "      <th>19</th>\n",
              "      <td>9ee1c98c</td>\n",
              "      <td>2b9d5af79bcdb79f</td>\n",
              "      <td>2019-08-06T04:58:28.260Z</td>\n",
              "      <td>{\"size\":3,\"sand\":3,\"duration\":558,\"coordinates...</td>\n",
              "      <td>0006a69f</td>\n",
              "      <td>18</td>\n",
              "      <td>4021</td>\n",
              "      <td>13712</td>\n",
              "      <td>Sandcastle Builder (Activity)</td>\n",
              "      <td>Activity</td>\n",
              "      <td>MAGMAPEAK</td>\n",
              "    </tr>\n",
              "  </tbody>\n",
              "</table>\n",
              "</div>"
            ],
            "text/plain": [
              "    event_id      game_session  ...      type      world\n",
              "0   27253bdc  34ba1a28d02ba8ba  ...      Clip       NONE\n",
              "1   27253bdc  4b57c9a59474a1b9  ...      Clip  MAGMAPEAK\n",
              "2   77261ab5  2b9d5af79bcdb79f  ...  Activity  MAGMAPEAK\n",
              "3   b2dba42b  2b9d5af79bcdb79f  ...  Activity  MAGMAPEAK\n",
              "4   1325467d  2b9d5af79bcdb79f  ...  Activity  MAGMAPEAK\n",
              "5   1325467d  2b9d5af79bcdb79f  ...  Activity  MAGMAPEAK\n",
              "6   1325467d  2b9d5af79bcdb79f  ...  Activity  MAGMAPEAK\n",
              "7   1bb5fbdb  2b9d5af79bcdb79f  ...  Activity  MAGMAPEAK\n",
              "8   1325467d  2b9d5af79bcdb79f  ...  Activity  MAGMAPEAK\n",
              "9   5e812b27  2b9d5af79bcdb79f  ...  Activity  MAGMAPEAK\n",
              "10  b2dba42b  2b9d5af79bcdb79f  ...  Activity  MAGMAPEAK\n",
              "11  9ee1c98c  2b9d5af79bcdb79f  ...  Activity  MAGMAPEAK\n",
              "12  1325467d  2b9d5af79bcdb79f  ...  Activity  MAGMAPEAK\n",
              "13  1bb5fbdb  2b9d5af79bcdb79f  ...  Activity  MAGMAPEAK\n",
              "14  5e812b27  2b9d5af79bcdb79f  ...  Activity  MAGMAPEAK\n",
              "15  9ee1c98c  2b9d5af79bcdb79f  ...  Activity  MAGMAPEAK\n",
              "16  1325467d  2b9d5af79bcdb79f  ...  Activity  MAGMAPEAK\n",
              "17  5e812b27  2b9d5af79bcdb79f  ...  Activity  MAGMAPEAK\n",
              "18  b2dba42b  2b9d5af79bcdb79f  ...  Activity  MAGMAPEAK\n",
              "19  9ee1c98c  2b9d5af79bcdb79f  ...  Activity  MAGMAPEAK\n",
              "\n",
              "[20 rows x 11 columns]"
            ]
          },
          "metadata": {
            "tags": []
          },
          "execution_count": 27
        }
      ]
    },
    {
      "cell_type": "code",
      "metadata": {
        "id": "bpBLIlo7KcaV",
        "colab_type": "code",
        "outputId": "7f1f407c-2f8f-4d5b-eaac-9495fb6024a7",
        "colab": {
          "base_uri": "https://localhost:8080/",
          "height": 51
        }
      },
      "source": [
        "df_train.installation_id.unique()"
      ],
      "execution_count": 28,
      "outputs": [
        {
          "output_type": "execute_result",
          "data": {
            "text/plain": [
              "array(['0006a69f', '0006c192', '00129856', ..., 'ffd2871d', 'ffe3b25d',\n",
              "       'ffeb0b1b'], dtype=object)"
            ]
          },
          "metadata": {
            "tags": []
          },
          "execution_count": 28
        }
      ]
    },
    {
      "cell_type": "code",
      "metadata": {
        "id": "Y9-vzgcXRZdG",
        "colab_type": "code",
        "colab": {
          "base_uri": "https://localhost:8080/",
          "height": 34
        },
        "outputId": "3140d9bf-c3f2-43e0-d845-99c0599ff0a8"
      },
      "source": [
        "df_train.event_count.unique()"
      ],
      "execution_count": 36,
      "outputs": [
        {
          "output_type": "execute_result",
          "data": {
            "text/plain": [
              "array([   1,    2,    3, ..., 3181, 3180, 3182])"
            ]
          },
          "metadata": {
            "tags": []
          },
          "execution_count": 36
        }
      ]
    },
    {
      "cell_type": "markdown",
      "metadata": {
        "id": "RzMM0G-y9lkq",
        "colab_type": "text"
      },
      "source": [
        "#### Visualization"
      ]
    },
    {
      "cell_type": "code",
      "metadata": {
        "id": "ie4rP-brACGR",
        "colab_type": "code",
        "outputId": "047acc6f-65bd-4147-9b6a-c7921bf9cc48",
        "colab": {
          "base_uri": "https://localhost:8080/",
          "height": 34
        }
      },
      "source": [
        "df_train.type.unique()"
      ],
      "execution_count": 0,
      "outputs": [
        {
          "output_type": "execute_result",
          "data": {
            "text/plain": [
              "array(['Clip', 'Activity', 'Game', 'Assessment'], dtype=object)"
            ]
          },
          "metadata": {
            "tags": []
          },
          "execution_count": 14
        }
      ]
    },
    {
      "cell_type": "code",
      "metadata": {
        "id": "dq0bVDYr9onx",
        "colab_type": "code",
        "outputId": "ee8ce7a4-1973-4459-cb06-7ce561e4ad49",
        "colab": {
          "base_uri": "https://localhost:8080/",
          "height": 525
        }
      },
      "source": [
        "types_data = df_train['type']\n",
        "\n",
        "plt.figure(figsize=[10,8])\n",
        "n, bins, patches = plt.hist(x=types_data, bins=4, color='#0504aa',alpha=0.7, rwidth=0.85)\n",
        "plt.grid(axis='y', alpha=0.75)\n",
        "plt.xlabel('Type',fontsize=15)\n",
        "plt.ylabel('Frequency',fontsize=15)\n",
        "plt.xticks(fontsize=15)\n",
        "plt.yticks(fontsize=15)\n",
        "plt.ylabel('Frequency',fontsize=15)\n",
        "plt.title('Type of Game',fontsize=15)\n",
        "plt.show()"
      ],
      "execution_count": 0,
      "outputs": [
        {
          "output_type": "display_data",
          "data": {
            "image/png": "[encoded data removed]",
            "text/plain": [
              "<Figure size 720x576 with 1 Axes>"
            ]
          },
          "metadata": {
            "tags": []
          }
        }
      ]
    },
    {
      "cell_type": "code",
      "metadata": {
        "id": "fIJ0gPCZCHZL",
        "colab_type": "code",
        "outputId": "dd21b0d1-44fb-4ae5-9408-196e1fa73550",
        "colab": {
          "base_uri": "https://localhost:8080/",
          "height": 525
        }
      },
      "source": [
        "types_data = df_train['world']\n",
        "\n",
        "plt.figure(figsize=[10,8])\n",
        "n, bins, patches = plt.hist(x=types_data, bins=4, color='#0504aa',alpha=0.7, rwidth=0.85)\n",
        "plt.grid(axis='y', alpha=0.75)\n",
        "plt.xlabel('World',fontsize=15)\n",
        "plt.ylabel('Frequency',fontsize=15)\n",
        "plt.xticks(fontsize=15)\n",
        "plt.yticks(fontsize=15)\n",
        "plt.ylabel('Frequency',fontsize=15)\n",
        "plt.title('Type of World',fontsize=15)\n",
        "plt.show()"
      ],
      "execution_count": 0,
      "outputs": [
        {
          "output_type": "display_data",
          "data": {
            "image/png": "[encoded data removed]",
            "text/plain": [
              "<Figure size 720x576 with 1 Axes>"
            ]
          },
          "metadata": {
            "tags": []
          }
        }
      ]
    },
    {
      "cell_type": "code",
      "metadata": {
        "id": "n5M0v-JoZJSm",
        "colab_type": "code",
        "colab": {}
      },
      "source": [
        "title_frequency = df_train['title'].value_counts(sort=True, ascending=False)"
      ],
      "execution_count": 0,
      "outputs": []
    },
    {
      "cell_type": "code",
      "metadata": {
        "id": "URWT2tnmCUAn",
        "colab_type": "code",
        "outputId": "aa132a84-b115-4e52-a57f-2cce5120d74b",
        "colab": {
          "base_uri": "https://localhost:8080/",
          "height": 925
        }
      },
      "source": [
        "types_data = df_train['title']\n",
        "plt.figure(figsize=[18,15])\n",
        "\n",
        "frequencies = title_frequency.values\n",
        "titles = title_frequency.keys().to_list()\n",
        "y_pos = np.arange(len(titles))\n",
        "plt.barh(y_pos, frequencies, color='#0504aa',alpha=0.7)\n",
        "plt.yticks(y_pos, titles, fontsize=15)\n",
        "plt.grid(axis='x', alpha=0.75)\n",
        "plt.xlabel('Frequency',fontsize=15)\n",
        "plt.xticks(fontsize=15)\n",
        "plt.title('Type of Title',fontsize=15)\n",
        "\n",
        "plt.show()\n"
      ],
      "execution_count": 0,
      "outputs": [
        {
          "output_type": "display_data",
          "data": {
            "image/png": "[encoded data removed]",
            "text/plain": [
              "<Figure size 1296x1080 with 1 Axes>"
            ]
          },
          "metadata": {
            "tags": []
          }
        }
      ]
    },
    {
      "cell_type": "markdown",
      "metadata": {
        "id": "V5qj_B3p9cA8",
        "colab_type": "text"
      },
      "source": [
        "### Understand the Test Data"
      ]
    },
    {
      "cell_type": "markdown",
      "metadata": {
        "id": "t6-uPP1XAzHL",
        "colab_type": "text"
      },
      "source": [
        "#### Sample test data and clean up test data"
      ]
    },
    {
      "cell_type": "code",
      "metadata": {
        "id": "fM3UxxeV7Fvi",
        "colab_type": "code",
        "outputId": "3cbe09fc-ee68-4e55-f1fd-2073ba24247c",
        "colab": {
          "base_uri": "https://localhost:8080/",
          "height": 377
        }
      },
      "source": [
        "keep_id = df_test[df_test.type == \"Assessment\"][['installation_id']].drop_duplicates()\n",
        "df_test = pd.merge(df_test, keep_id, on=\"installation_id\", how=\"inner\")\n",
        "df_test.head()"
      ],
      "execution_count": 0,
      "outputs": [
        {
          "output_type": "execute_result",
          "data": {
            "text/html": [
              "<div>\n",
              "<style scoped>\n",
              "    .dataframe tbody tr th:only-of-type {\n",
              "        vertical-align: middle;\n",
              "    }\n",
              "\n",
              "    .dataframe tbody tr th {\n",
              "        vertical-align: top;\n",
              "    }\n",
              "\n",
              "    .dataframe thead th {\n",
              "        text-align: right;\n",
              "    }\n",
              "</style>\n",
              "<table border=\"1\" class=\"dataframe\">\n",
              "  <thead>\n",
              "    <tr style=\"text-align: right;\">\n",
              "      <th></th>\n",
              "      <th>event_id</th>\n",
              "      <th>game_session</th>\n",
              "      <th>timestamp</th>\n",
              "      <th>event_data</th>\n",
              "      <th>installation_id</th>\n",
              "      <th>event_count</th>\n",
              "      <th>event_code</th>\n",
              "      <th>game_time</th>\n",
              "      <th>title</th>\n",
              "      <th>type</th>\n",
              "      <th>world</th>\n",
              "    </tr>\n",
              "  </thead>\n",
              "  <tbody>\n",
              "    <tr>\n",
              "      <th>0</th>\n",
              "      <td>27253bdc</td>\n",
              "      <td>0ea9ecc81a565215</td>\n",
              "      <td>2019-09-10T16:50:24.910Z</td>\n",
              "      <td>{\"event_code\": 2000, \"event_count\": 1}</td>\n",
              "      <td>00abaee7</td>\n",
              "      <td>1</td>\n",
              "      <td>2000</td>\n",
              "      <td>0</td>\n",
              "      <td>Welcome to Lost Lagoon!</td>\n",
              "      <td>Clip</td>\n",
              "      <td>NONE</td>\n",
              "    </tr>\n",
              "    <tr>\n",
              "      <th>1</th>\n",
              "      <td>27253bdc</td>\n",
              "      <td>c1ea43d8b8261d27</td>\n",
              "      <td>2019-09-10T16:50:55.503Z</td>\n",
              "      <td>{\"event_code\": 2000, \"event_count\": 1}</td>\n",
              "      <td>00abaee7</td>\n",
              "      <td>1</td>\n",
              "      <td>2000</td>\n",
              "      <td>0</td>\n",
              "      <td>Magma Peak - Level 1</td>\n",
              "      <td>Clip</td>\n",
              "      <td>MAGMAPEAK</td>\n",
              "    </tr>\n",
              "    <tr>\n",
              "      <th>2</th>\n",
              "      <td>27253bdc</td>\n",
              "      <td>7ed86c6b72e725e2</td>\n",
              "      <td>2019-09-10T16:51:51.805Z</td>\n",
              "      <td>{\"event_code\": 2000, \"event_count\": 1}</td>\n",
              "      <td>00abaee7</td>\n",
              "      <td>1</td>\n",
              "      <td>2000</td>\n",
              "      <td>0</td>\n",
              "      <td>Magma Peak - Level 2</td>\n",
              "      <td>Clip</td>\n",
              "      <td>MAGMAPEAK</td>\n",
              "    </tr>\n",
              "    <tr>\n",
              "      <th>3</th>\n",
              "      <td>27253bdc</td>\n",
              "      <td>7e516ace50e7fe67</td>\n",
              "      <td>2019-09-10T16:53:12.825Z</td>\n",
              "      <td>{\"event_code\": 2000, \"event_count\": 1}</td>\n",
              "      <td>00abaee7</td>\n",
              "      <td>1</td>\n",
              "      <td>2000</td>\n",
              "      <td>0</td>\n",
              "      <td>Crystal Caves - Level 1</td>\n",
              "      <td>Clip</td>\n",
              "      <td>CRYSTALCAVES</td>\n",
              "    </tr>\n",
              "    <tr>\n",
              "      <th>4</th>\n",
              "      <td>7d093bf9</td>\n",
              "      <td>a022c3f60ba547e7</td>\n",
              "      <td>2019-09-10T16:54:12.115Z</td>\n",
              "      <td>{\"version\":\"1.0\",\"round\":0,\"event_count\":1,\"ga...</td>\n",
              "      <td>00abaee7</td>\n",
              "      <td>1</td>\n",
              "      <td>2000</td>\n",
              "      <td>0</td>\n",
              "      <td>Chow Time</td>\n",
              "      <td>Game</td>\n",
              "      <td>CRYSTALCAVES</td>\n",
              "    </tr>\n",
              "  </tbody>\n",
              "</table>\n",
              "</div>"
            ],
            "text/plain": [
              "   event_id      game_session  ...  type         world\n",
              "0  27253bdc  0ea9ecc81a565215  ...  Clip          NONE\n",
              "1  27253bdc  c1ea43d8b8261d27  ...  Clip     MAGMAPEAK\n",
              "2  27253bdc  7ed86c6b72e725e2  ...  Clip     MAGMAPEAK\n",
              "3  27253bdc  7e516ace50e7fe67  ...  Clip  CRYSTALCAVES\n",
              "4  7d093bf9  a022c3f60ba547e7  ...  Game  CRYSTALCAVES\n",
              "\n",
              "[5 rows x 11 columns]"
            ]
          },
          "metadata": {
            "tags": []
          },
          "execution_count": 10
        }
      ]
    },
    {
      "cell_type": "markdown",
      "metadata": {
        "id": "hzDC--AcBFfD",
        "colab_type": "text"
      },
      "source": [
        "Visualization"
      ]
    },
    {
      "cell_type": "code",
      "metadata": {
        "id": "YGoIXZmzBFGm",
        "colab_type": "code",
        "outputId": "c6787963-c30c-446f-9654-61f166c8ba6c",
        "colab": {
          "base_uri": "https://localhost:8080/",
          "height": 525
        }
      },
      "source": [
        "types_data = df_test['type']\n",
        "\n",
        "plt.figure(figsize=[10,8])\n",
        "n, bins, patches = plt.hist(x=types_data, bins=4, color='#0504aa',alpha=0.7, rwidth=0.85)\n",
        "plt.grid(axis='y', alpha=0.75)\n",
        "plt.xlabel('Type',fontsize=15)\n",
        "plt.ylabel('Frequency',fontsize=15)\n",
        "plt.xticks(fontsize=15)\n",
        "plt.yticks(fontsize=15)\n",
        "plt.ylabel('Frequency',fontsize=15)\n",
        "plt.title('Type of Game',fontsize=15)\n",
        "plt.show()"
      ],
      "execution_count": 0,
      "outputs": [
        {
          "output_type": "display_data",
          "data": {
            "image/png": "[encoded data removed]",
            "text/plain": [
              "<Figure size 720x576 with 1 Axes>"
            ]
          },
          "metadata": {
            "tags": []
          }
        }
      ]
    },
    {
      "cell_type": "code",
      "metadata": {
        "id": "Di8di6paBY93",
        "colab_type": "code",
        "outputId": "29b951fb-ca08-416a-89f2-29d485bf0985",
        "colab": {
          "base_uri": "https://localhost:8080/",
          "height": 525
        }
      },
      "source": [
        "types_data = df_test['world']\n",
        "\n",
        "plt.figure(figsize=[10,8])\n",
        "n, bins, patches = plt.hist(x=types_data, bins=4, color='#0504aa',alpha=0.7, rwidth=0.85)\n",
        "plt.grid(axis='y', alpha=0.75)\n",
        "plt.xlabel('World',fontsize=15)\n",
        "plt.ylabel('Frequency',fontsize=15)\n",
        "plt.xticks(fontsize=15)\n",
        "plt.yticks(fontsize=15)\n",
        "plt.ylabel('Frequency',fontsize=15)\n",
        "plt.title('Type of World',fontsize=15)\n",
        "plt.show()"
      ],
      "execution_count": 0,
      "outputs": [
        {
          "output_type": "display_data",
          "data": {
            "image/png": "[encoded data removed]",
            "text/plain": [
              "<Figure size 720x576 with 1 Axes>"
            ]
          },
          "metadata": {
            "tags": []
          }
        }
      ]
    },
    {
      "cell_type": "code",
      "metadata": {
        "id": "eqVMs4i7BePc",
        "colab_type": "code",
        "outputId": "1654ae5e-e457-4e25-bb63-bb86f98d0a69",
        "colab": {
          "base_uri": "https://localhost:8080/",
          "height": 925
        }
      },
      "source": [
        "title_frequency = df_test['title'].value_counts(sort=True, ascending=False)\n",
        "types_data = df_test['title']\n",
        "plt.figure(figsize=[18,15])\n",
        "\n",
        "frequencies = title_frequency.values\n",
        "titles = title_frequency.keys().to_list()\n",
        "y_pos = np.arange(len(titles))\n",
        "plt.barh(y_pos, frequencies, color='#0504aa',alpha=0.7)\n",
        "plt.yticks(y_pos, titles, fontsize=15)\n",
        "plt.grid(axis='x', alpha=0.75)\n",
        "plt.xlabel('Frequency',fontsize=15)\n",
        "plt.xticks(fontsize=15)\n",
        "plt.title('Type of Title',fontsize=15)\n",
        "\n",
        "plt.show()"
      ],
      "execution_count": 0,
      "outputs": [
        {
          "output_type": "display_data",
          "data": {
            "image/png": "[encoded data removed]",
            "text/plain": [
              "<Figure size 1296x1080 with 1 Axes>"
            ]
          },
          "metadata": {
            "tags": []
          }
        }
      ]
    },
    {
      "cell_type": "markdown",
      "metadata": {
        "id": "Zn66l3VyBpF9",
        "colab_type": "text"
      },
      "source": [
        "### Understanding the Train Label data"
      ]
    },
    {
      "cell_type": "markdown",
      "metadata": {
        "id": "I0T17ZS1CNRQ",
        "colab_type": "text"
      },
      "source": [
        "#### Sample train label data"
      ]
    },
    {
      "cell_type": "code",
      "metadata": {
        "id": "XWUUsH9UBuqO",
        "colab_type": "code",
        "outputId": "d7a66224-e15f-4f37-9425-ed59f572d952",
        "colab": {
          "base_uri": "https://localhost:8080/",
          "height": 204
        }
      },
      "source": [
        "df_train_label.head()"
      ],
      "execution_count": 0,
      "outputs": [
        {
          "output_type": "execute_result",
          "data": {
            "text/html": [
              "<div>\n",
              "<style scoped>\n",
              "    .dataframe tbody tr th:only-of-type {\n",
              "        vertical-align: middle;\n",
              "    }\n",
              "\n",
              "    .dataframe tbody tr th {\n",
              "        vertical-align: top;\n",
              "    }\n",
              "\n",
              "    .dataframe thead th {\n",
              "        text-align: right;\n",
              "    }\n",
              "</style>\n",
              "<table border=\"1\" class=\"dataframe\">\n",
              "  <thead>\n",
              "    <tr style=\"text-align: right;\">\n",
              "      <th></th>\n",
              "      <th>game_session</th>\n",
              "      <th>installation_id</th>\n",
              "      <th>title</th>\n",
              "      <th>num_correct</th>\n",
              "      <th>num_incorrect</th>\n",
              "      <th>accuracy</th>\n",
              "      <th>accuracy_group</th>\n",
              "    </tr>\n",
              "  </thead>\n",
              "  <tbody>\n",
              "    <tr>\n",
              "      <th>0</th>\n",
              "      <td>6bdf9623adc94d89</td>\n",
              "      <td>0006a69f</td>\n",
              "      <td>Mushroom Sorter (Assessment)</td>\n",
              "      <td>1</td>\n",
              "      <td>0</td>\n",
              "      <td>1.0</td>\n",
              "      <td>3</td>\n",
              "    </tr>\n",
              "    <tr>\n",
              "      <th>1</th>\n",
              "      <td>77b8ee947eb84b4e</td>\n",
              "      <td>0006a69f</td>\n",
              "      <td>Bird Measurer (Assessment)</td>\n",
              "      <td>0</td>\n",
              "      <td>11</td>\n",
              "      <td>0.0</td>\n",
              "      <td>0</td>\n",
              "    </tr>\n",
              "    <tr>\n",
              "      <th>2</th>\n",
              "      <td>901acc108f55a5a1</td>\n",
              "      <td>0006a69f</td>\n",
              "      <td>Mushroom Sorter (Assessment)</td>\n",
              "      <td>1</td>\n",
              "      <td>0</td>\n",
              "      <td>1.0</td>\n",
              "      <td>3</td>\n",
              "    </tr>\n",
              "    <tr>\n",
              "      <th>3</th>\n",
              "      <td>9501794defd84e4d</td>\n",
              "      <td>0006a69f</td>\n",
              "      <td>Mushroom Sorter (Assessment)</td>\n",
              "      <td>1</td>\n",
              "      <td>1</td>\n",
              "      <td>0.5</td>\n",
              "      <td>2</td>\n",
              "    </tr>\n",
              "    <tr>\n",
              "      <th>4</th>\n",
              "      <td>a9ef3ecb3d1acc6a</td>\n",
              "      <td>0006a69f</td>\n",
              "      <td>Bird Measurer (Assessment)</td>\n",
              "      <td>1</td>\n",
              "      <td>0</td>\n",
              "      <td>1.0</td>\n",
              "      <td>3</td>\n",
              "    </tr>\n",
              "  </tbody>\n",
              "</table>\n",
              "</div>"
            ],
            "text/plain": [
              "       game_session installation_id  ... accuracy  accuracy_group\n",
              "0  6bdf9623adc94d89        0006a69f  ...      1.0               3\n",
              "1  77b8ee947eb84b4e        0006a69f  ...      0.0               0\n",
              "2  901acc108f55a5a1        0006a69f  ...      1.0               3\n",
              "3  9501794defd84e4d        0006a69f  ...      0.5               2\n",
              "4  a9ef3ecb3d1acc6a        0006a69f  ...      1.0               3\n",
              "\n",
              "[5 rows x 7 columns]"
            ]
          },
          "metadata": {
            "tags": []
          },
          "execution_count": 16
        }
      ]
    },
    {
      "cell_type": "code",
      "metadata": {
        "id": "Ij4gGBudKBW8",
        "colab_type": "code",
        "outputId": "44629f9a-b791-45d2-f0dd-eb206f81fa2b",
        "colab": {
          "base_uri": "https://localhost:8080/",
          "height": 34
        }
      },
      "source": [
        "len(df_train_label)"
      ],
      "execution_count": 0,
      "outputs": [
        {
          "output_type": "execute_result",
          "data": {
            "text/plain": [
              "17690"
            ]
          },
          "metadata": {
            "tags": []
          },
          "execution_count": 16
        }
      ]
    },
    {
      "cell_type": "markdown",
      "metadata": {
        "id": "EA3KmatCCSvz",
        "colab_type": "text"
      },
      "source": [
        "#### Visualization"
      ]
    },
    {
      "cell_type": "code",
      "metadata": {
        "id": "FsYza2rOCjtE",
        "colab_type": "code",
        "outputId": "49a56f62-9818-4925-c719-1597d64e84b1",
        "colab": {
          "base_uri": "https://localhost:8080/",
          "height": 525
        }
      },
      "source": [
        "df_avg_accuracy = df_train_label.groupby('title').mean()\n",
        "df_avg_accuracy.sort_values(by=['accuracy'])\n",
        "\n",
        "avg_accuracy_data = df_avg_accuracy['accuracy']\n",
        "plt.figure(figsize=[10,8])\n",
        "\n",
        "titles = df_avg_accuracy.index\n",
        "y_pos = np.arange(len(titles))\n",
        "plt.barh(y_pos, avg_accuracy_data, color='#0504aa',alpha=0.7)\n",
        "plt.yticks(y_pos, titles, fontsize=15)\n",
        "plt.grid(axis='x', alpha=0.75)\n",
        "plt.xlabel('Frequency',fontsize=15)\n",
        "plt.xticks(fontsize=15)\n",
        "plt.title('Type of Title',fontsize=15)\n",
        "\n",
        "plt.show()"
      ],
      "execution_count": 0,
      "outputs": [
        {
          "output_type": "display_data",
          "data": {
            "image/png": "[encoded data removed]",
            "text/plain": [
              "<Figure size 720x576 with 1 Axes>"
            ]
          },
          "metadata": {
            "tags": []
          }
        }
      ]
    },
    {
      "cell_type": "markdown",
      "metadata": {
        "id": "ExvmPaXEO4fG",
        "colab_type": "text"
      },
      "source": [
        "### Preprocessing data for models"
      ]
    },
    {
      "cell_type": "markdown",
      "metadata": {
        "id": "jZbU0ZsHfTAI",
        "colab_type": "text"
      },
      "source": [
        "#### Get labels for training set"
      ]
    },
    {
      "cell_type": "code",
      "metadata": {
        "id": "9D4UANa-PAat",
        "colab_type": "code",
        "colab": {
          "base_uri": "https://localhost:8080/",
          "height": 34
        },
        "outputId": "4c46955e-1c8a-4584-a2e6-e4c76de36397"
      },
      "source": [
        "# Select the training set with last game_session entries\n",
        "train = df_train.drop_duplicates(subset = 'game_session', keep='last')\n",
        "# Merge train and train_label datasets\n",
        "train = pd.merge(train, df_train_label, on=\"game_session\", how=\"inner\")\n",
        "print(\"The length after merging the training set and labels: \", len(train))"
      ],
      "execution_count": 6,
      "outputs": [
        {
          "output_type": "stream",
          "text": [
            "The length after merging the training set and labels:  17690\n"
          ],
          "name": "stdout"
        }
      ]
    },
    {
      "cell_type": "code",
      "metadata": {
        "id": "eDpDfC1cPhhc",
        "colab_type": "code",
        "colab": {
          "base_uri": "https://localhost:8080/",
          "height": 394
        },
        "outputId": "f04f9172-6866-42ed-ecdc-9ba33e046155"
      },
      "source": [
        "train.head()"
      ],
      "execution_count": 14,
      "outputs": [
        {
          "output_type": "execute_result",
          "data": {
            "text/html": [
              "<div>\n",
              "<style scoped>\n",
              "    .dataframe tbody tr th:only-of-type {\n",
              "        vertical-align: middle;\n",
              "    }\n",
              "\n",
              "    .dataframe tbody tr th {\n",
              "        vertical-align: top;\n",
              "    }\n",
              "\n",
              "    .dataframe thead th {\n",
              "        text-align: right;\n",
              "    }\n",
              "</style>\n",
              "<table border=\"1\" class=\"dataframe\">\n",
              "  <thead>\n",
              "    <tr style=\"text-align: right;\">\n",
              "      <th></th>\n",
              "      <th>event_id</th>\n",
              "      <th>game_session</th>\n",
              "      <th>timestamp</th>\n",
              "      <th>event_data</th>\n",
              "      <th>installation_id_x</th>\n",
              "      <th>event_count</th>\n",
              "      <th>event_code</th>\n",
              "      <th>game_time</th>\n",
              "      <th>title_x</th>\n",
              "      <th>type</th>\n",
              "      <th>world</th>\n",
              "      <th>installation_id_y</th>\n",
              "      <th>title_y</th>\n",
              "      <th>num_correct</th>\n",
              "      <th>num_incorrect</th>\n",
              "      <th>accuracy</th>\n",
              "      <th>accuracy_group</th>\n",
              "    </tr>\n",
              "  </thead>\n",
              "  <tbody>\n",
              "    <tr>\n",
              "      <th>0</th>\n",
              "      <td>a5be6304</td>\n",
              "      <td>901acc108f55a5a1</td>\n",
              "      <td>2019-08-06T05:22:41.147Z</td>\n",
              "      <td>{\"session_duration\":39803,\"exit_type\":\"game_co...</td>\n",
              "      <td>0006a69f</td>\n",
              "      <td>48</td>\n",
              "      <td>2010</td>\n",
              "      <td>39803</td>\n",
              "      <td>Mushroom Sorter (Assessment)</td>\n",
              "      <td>Assessment</td>\n",
              "      <td>TREETOPCITY</td>\n",
              "      <td>0006a69f</td>\n",
              "      <td>Mushroom Sorter (Assessment)</td>\n",
              "      <td>1</td>\n",
              "      <td>0</td>\n",
              "      <td>1.0</td>\n",
              "      <td>3</td>\n",
              "    </tr>\n",
              "    <tr>\n",
              "      <th>1</th>\n",
              "      <td>e37a2b78</td>\n",
              "      <td>77b8ee947eb84b4e</td>\n",
              "      <td>2019-08-06T05:36:51.915Z</td>\n",
              "      <td>{\"description\":\"Uh oh. This caterpillar is too...</td>\n",
              "      <td>0006a69f</td>\n",
              "      <td>87</td>\n",
              "      <td>3120</td>\n",
              "      <td>92799</td>\n",
              "      <td>Bird Measurer (Assessment)</td>\n",
              "      <td>Assessment</td>\n",
              "      <td>TREETOPCITY</td>\n",
              "      <td>0006a69f</td>\n",
              "      <td>Bird Measurer (Assessment)</td>\n",
              "      <td>0</td>\n",
              "      <td>11</td>\n",
              "      <td>0.0</td>\n",
              "      <td>0</td>\n",
              "    </tr>\n",
              "    <tr>\n",
              "      <th>2</th>\n",
              "      <td>a5be6304</td>\n",
              "      <td>6bdf9623adc94d89</td>\n",
              "      <td>2019-08-06T05:38:16.835Z</td>\n",
              "      <td>{\"session_duration\":26827,\"exit_type\":\"game_co...</td>\n",
              "      <td>0006a69f</td>\n",
              "      <td>35</td>\n",
              "      <td>2010</td>\n",
              "      <td>26827</td>\n",
              "      <td>Mushroom Sorter (Assessment)</td>\n",
              "      <td>Assessment</td>\n",
              "      <td>TREETOPCITY</td>\n",
              "      <td>0006a69f</td>\n",
              "      <td>Mushroom Sorter (Assessment)</td>\n",
              "      <td>1</td>\n",
              "      <td>0</td>\n",
              "      <td>1.0</td>\n",
              "      <td>3</td>\n",
              "    </tr>\n",
              "    <tr>\n",
              "      <th>3</th>\n",
              "      <td>a5be6304</td>\n",
              "      <td>9501794defd84e4d</td>\n",
              "      <td>2019-08-06T20:35:25.648Z</td>\n",
              "      <td>{\"session_duration\":31843,\"exit_type\":\"game_co...</td>\n",
              "      <td>0006a69f</td>\n",
              "      <td>42</td>\n",
              "      <td>2010</td>\n",
              "      <td>31843</td>\n",
              "      <td>Mushroom Sorter (Assessment)</td>\n",
              "      <td>Assessment</td>\n",
              "      <td>TREETOPCITY</td>\n",
              "      <td>0006a69f</td>\n",
              "      <td>Mushroom Sorter (Assessment)</td>\n",
              "      <td>1</td>\n",
              "      <td>1</td>\n",
              "      <td>0.5</td>\n",
              "      <td>2</td>\n",
              "    </tr>\n",
              "    <tr>\n",
              "      <th>4</th>\n",
              "      <td>3393b68b</td>\n",
              "      <td>a9ef3ecb3d1acc6a</td>\n",
              "      <td>2019-08-06T20:50:35.426Z</td>\n",
              "      <td>{\"session_duration\":36368,\"event_count\":32,\"ga...</td>\n",
              "      <td>0006a69f</td>\n",
              "      <td>32</td>\n",
              "      <td>2010</td>\n",
              "      <td>36368</td>\n",
              "      <td>Bird Measurer (Assessment)</td>\n",
              "      <td>Assessment</td>\n",
              "      <td>TREETOPCITY</td>\n",
              "      <td>0006a69f</td>\n",
              "      <td>Bird Measurer (Assessment)</td>\n",
              "      <td>1</td>\n",
              "      <td>0</td>\n",
              "      <td>1.0</td>\n",
              "      <td>3</td>\n",
              "    </tr>\n",
              "  </tbody>\n",
              "</table>\n",
              "</div>"
            ],
            "text/plain": [
              "   event_id      game_session  ... accuracy accuracy_group\n",
              "0  a5be6304  901acc108f55a5a1  ...      1.0              3\n",
              "1  e37a2b78  77b8ee947eb84b4e  ...      0.0              0\n",
              "2  a5be6304  6bdf9623adc94d89  ...      1.0              3\n",
              "3  a5be6304  9501794defd84e4d  ...      0.5              2\n",
              "4  3393b68b  a9ef3ecb3d1acc6a  ...      1.0              3\n",
              "\n",
              "[5 rows x 17 columns]"
            ]
          },
          "metadata": {
            "tags": []
          },
          "execution_count": 14
        }
      ]
    },
    {
      "cell_type": "code",
      "metadata": {
        "id": "QRHhvOppXFUd",
        "colab_type": "code",
        "colab": {
          "base_uri": "https://localhost:8080/",
          "height": 419
        },
        "outputId": "42567699-3519-4e42-ce56-969247dbc81b"
      },
      "source": [
        "# Using numical features to train model\n",
        "train.iloc[:,5:8]"
      ],
      "execution_count": 7,
      "outputs": [
        {
          "output_type": "execute_result",
          "data": {
            "text/html": [
              "<div>\n",
              "<style scoped>\n",
              "    .dataframe tbody tr th:only-of-type {\n",
              "        vertical-align: middle;\n",
              "    }\n",
              "\n",
              "    .dataframe tbody tr th {\n",
              "        vertical-align: top;\n",
              "    }\n",
              "\n",
              "    .dataframe thead th {\n",
              "        text-align: right;\n",
              "    }\n",
              "</style>\n",
              "<table border=\"1\" class=\"dataframe\">\n",
              "  <thead>\n",
              "    <tr style=\"text-align: right;\">\n",
              "      <th></th>\n",
              "      <th>event_count</th>\n",
              "      <th>event_code</th>\n",
              "      <th>game_time</th>\n",
              "    </tr>\n",
              "  </thead>\n",
              "  <tbody>\n",
              "    <tr>\n",
              "      <th>0</th>\n",
              "      <td>48</td>\n",
              "      <td>2010</td>\n",
              "      <td>39803</td>\n",
              "    </tr>\n",
              "    <tr>\n",
              "      <th>1</th>\n",
              "      <td>87</td>\n",
              "      <td>3120</td>\n",
              "      <td>92799</td>\n",
              "    </tr>\n",
              "    <tr>\n",
              "      <th>2</th>\n",
              "      <td>35</td>\n",
              "      <td>2010</td>\n",
              "      <td>26827</td>\n",
              "    </tr>\n",
              "    <tr>\n",
              "      <th>3</th>\n",
              "      <td>42</td>\n",
              "      <td>2010</td>\n",
              "      <td>31843</td>\n",
              "    </tr>\n",
              "    <tr>\n",
              "      <th>4</th>\n",
              "      <td>32</td>\n",
              "      <td>2010</td>\n",
              "      <td>36368</td>\n",
              "    </tr>\n",
              "    <tr>\n",
              "      <th>...</th>\n",
              "      <td>...</td>\n",
              "      <td>...</td>\n",
              "      <td>...</td>\n",
              "    </tr>\n",
              "    <tr>\n",
              "      <th>17685</th>\n",
              "      <td>38</td>\n",
              "      <td>2010</td>\n",
              "      <td>43142</td>\n",
              "    </tr>\n",
              "    <tr>\n",
              "      <th>17686</th>\n",
              "      <td>40</td>\n",
              "      <td>2010</td>\n",
              "      <td>54533</td>\n",
              "    </tr>\n",
              "    <tr>\n",
              "      <th>17687</th>\n",
              "      <td>89</td>\n",
              "      <td>2010</td>\n",
              "      <td>101189</td>\n",
              "    </tr>\n",
              "    <tr>\n",
              "      <th>17688</th>\n",
              "      <td>97</td>\n",
              "      <td>4070</td>\n",
              "      <td>126295</td>\n",
              "    </tr>\n",
              "    <tr>\n",
              "      <th>17689</th>\n",
              "      <td>61</td>\n",
              "      <td>2010</td>\n",
              "      <td>71511</td>\n",
              "    </tr>\n",
              "  </tbody>\n",
              "</table>\n",
              "<p>17690 rows × 3 columns</p>\n",
              "</div>"
            ],
            "text/plain": [
              "       event_count  event_code  game_time\n",
              "0               48        2010      39803\n",
              "1               87        3120      92799\n",
              "2               35        2010      26827\n",
              "3               42        2010      31843\n",
              "4               32        2010      36368\n",
              "...            ...         ...        ...\n",
              "17685           38        2010      43142\n",
              "17686           40        2010      54533\n",
              "17687           89        2010     101189\n",
              "17688           97        4070     126295\n",
              "17689           61        2010      71511\n",
              "\n",
              "[17690 rows x 3 columns]"
            ]
          },
          "metadata": {
            "tags": []
          },
          "execution_count": 7
        }
      ]
    },
    {
      "cell_type": "markdown",
      "metadata": {
        "id": "oRocmnUsThSr",
        "colab_type": "text"
      },
      "source": [
        "### SVM classifier"
      ]
    },
    {
      "cell_type": "markdown",
      "metadata": {
        "id": "hJzh1rTcUh-W",
        "colab_type": "text"
      },
      "source": [
        "#### Import libraries"
      ]
    },
    {
      "cell_type": "code",
      "metadata": {
        "id": "8IVVkPYaUysJ",
        "colab_type": "code",
        "colab": {}
      },
      "source": [
        "from sklearn.svm import SVC \n",
        "from sklearn.metrics import confusion_matrix \n",
        "from sklearn.model_selection import train_test_split"
      ],
      "execution_count": 0,
      "outputs": []
    },
    {
      "cell_type": "markdown",
      "metadata": {
        "id": "d07-t2IWfYPe",
        "colab_type": "text"
      },
      "source": [
        "#### Train model"
      ]
    },
    {
      "cell_type": "code",
      "metadata": {
        "id": "C6T0G4RkUVZX",
        "colab_type": "code",
        "colab": {}
      },
      "source": [
        "# X -> features, y -> label \n",
        "random_train = train.sample(n = 1000) \n",
        "X = random_train.iloc[:,5:8]\n",
        "y = random_train[\"accuracy_group\"]"
      ],
      "execution_count": 0,
      "outputs": []
    },
    {
      "cell_type": "code",
      "metadata": {
        "id": "Cx8DXTMjP0Qg",
        "colab_type": "code",
        "colab": {
          "base_uri": "https://localhost:8080/",
          "height": 85
        },
        "outputId": "dc399e87-bb20-41cb-b879-abea9c152576"
      },
      "source": [
        "# dividing X, y into train and test data \n",
        "X_train, X_test, y_train, y_test = train_test_split(X, y, random_state = 0) \n",
        "print(\"X_train.shape\", X_train.shape)\n",
        "print(\"y_train.shape\", y_train.shape)\n",
        "print(\"X_test.shape:\", X_test.shape)\n",
        "print(\"y_test.shape:\", y_test.shape)"
      ],
      "execution_count": 25,
      "outputs": [
        {
          "output_type": "stream",
          "text": [
            "X_train.shape (750, 3)\n",
            "y_train.shape (750,)\n",
            "X_test.shape: (250, 3)\n",
            "y_test.shape: (250,)\n"
          ],
          "name": "stdout"
        }
      ]
    },
    {
      "cell_type": "code",
      "metadata": {
        "id": "EZzrv3kdcjXE",
        "colab_type": "code",
        "colab": {}
      },
      "source": [
        "# SVM model\n",
        "clf = SVC()\n",
        "svm_model = clf.fit(X_train, y_train)\n",
        "svm_predictions = svm_model.predict(X_test)"
      ],
      "execution_count": 0,
      "outputs": []
    },
    {
      "cell_type": "code",
      "metadata": {
        "id": "Std0W9pmWqUx",
        "colab_type": "code",
        "colab": {
          "base_uri": "https://localhost:8080/",
          "height": 51
        },
        "outputId": "fdc75a77-c8e5-4b8c-b577-833e25745caa"
      },
      "source": [
        "# model accuracy for X_test   \n",
        "accuracy = svm_model.score(X_test, y_test) \n",
        "print(\"SVM classifier's accuracy: \", accuracy)"
      ],
      "execution_count": 38,
      "outputs": [
        {
          "output_type": "stream",
          "text": [
            "0.532\n",
            "SVM classifier's accuracy:  0.532\n"
          ],
          "name": "stdout"
        }
      ]
    },
    {
      "cell_type": "code",
      "metadata": {
        "id": "xeQCnmIAgNKr",
        "colab_type": "code",
        "colab": {
          "base_uri": "https://localhost:8080/",
          "height": 102
        },
        "outputId": "e09853b0-e0e0-4ee4-caef-dce62bd741f6"
      },
      "source": [
        "# creating a confusion matrix \n",
        "cm = confusion_matrix(y_test, svm_predictions) \n",
        "print(\"SVM classifier's confusion_matrix:\")\n",
        "print(cm)"
      ],
      "execution_count": 39,
      "outputs": [
        {
          "output_type": "stream",
          "text": [
            "SVM classifier's confusion_matrix:\n",
            "[[ 6  5  0 64]\n",
            " [ 1  2  0 23]\n",
            " [ 1  1  0 29]\n",
            " [ 9 10  0 99]]\n"
          ],
          "name": "stdout"
        }
      ]
    },
    {
      "cell_type": "markdown",
      "metadata": {
        "id": "MmnWMIajgo0K",
        "colab_type": "text"
      },
      "source": [
        "### Decision tree classifier"
      ]
    },
    {
      "cell_type": "markdown",
      "metadata": {
        "id": "H_VTCb1MgySE",
        "colab_type": "text"
      },
      "source": [
        "#### Import libraries\n"
      ]
    },
    {
      "cell_type": "code",
      "metadata": {
        "id": "6WCeq8tfg6gR",
        "colab_type": "code",
        "colab": {}
      },
      "source": [
        "from sklearn.tree import DecisionTreeClassifier \n",
        "from sklearn.metrics import confusion_matrix \n",
        "from sklearn.model_selection import train_test_split"
      ],
      "execution_count": 0,
      "outputs": []
    },
    {
      "cell_type": "markdown",
      "metadata": {
        "id": "6QU6G8b6g-XY",
        "colab_type": "text"
      },
      "source": [
        "#### Train model"
      ]
    },
    {
      "cell_type": "code",
      "metadata": {
        "id": "iofXp60ZhBZr",
        "colab_type": "code",
        "colab": {}
      },
      "source": [
        "# X -> features, y -> label \n",
        "random_train = train.sample(n = 5000) \n",
        "X = random_train.iloc[:,5:8]\n",
        "y = random_train[\"accuracy_group\"]"
      ],
      "execution_count": 0,
      "outputs": []
    },
    {
      "cell_type": "code",
      "metadata": {
        "id": "z-D3zAKshGZG",
        "colab_type": "code",
        "colab": {
          "base_uri": "https://localhost:8080/",
          "height": 85
        },
        "outputId": "ff155f2d-6046-48f1-d2b0-40b46d824de1"
      },
      "source": [
        "# dividing X, y into train and test data \n",
        "X_train, X_test, y_train, y_test = train_test_split(X, y, random_state = 0) \n",
        "print(\"X_train.shape\", X_train.shape)\n",
        "print(\"y_train.shape\", y_train.shape)\n",
        "print(\"X_test.shape:\", X_test.shape)\n",
        "print(\"y_test.shape:\", y_test.shape)"
      ],
      "execution_count": 47,
      "outputs": [
        {
          "output_type": "stream",
          "text": [
            "X_train.shape (3750, 3)\n",
            "y_train.shape (3750,)\n",
            "X_test.shape: (1250, 3)\n",
            "y_test.shape: (1250,)\n"
          ],
          "name": "stdout"
        }
      ]
    },
    {
      "cell_type": "code",
      "metadata": {
        "id": "j13kWXuShOQn",
        "colab_type": "code",
        "colab": {}
      },
      "source": [
        "# training a Descision Tree Classifier \n",
        "dtree_model = DecisionTreeClassifier(max_depth = 2).fit(X_train, y_train) \n",
        "dtree_predictions = dtree_model.predict(X_test) "
      ],
      "execution_count": 0,
      "outputs": []
    },
    {
      "cell_type": "code",
      "metadata": {
        "id": "SuRPE02PhXeV",
        "colab_type": "code",
        "colab": {
          "base_uri": "https://localhost:8080/",
          "height": 34
        },
        "outputId": "fa310e69-0928-400c-90d1-7da81c07b55c"
      },
      "source": [
        "# accuracy on X_test \n",
        "accuracy = dtree_model.score(X_test, y_test) \n",
        "print(\"Decision tree classifier's accuracy: \", accuracy)"
      ],
      "execution_count": 50,
      "outputs": [
        {
          "output_type": "stream",
          "text": [
            "Decision tree classifier's accuracy:  0.716\n"
          ],
          "name": "stdout"
        }
      ]
    },
    {
      "cell_type": "code",
      "metadata": {
        "id": "LHJDO1C4hlk_",
        "colab_type": "code",
        "colab": {
          "base_uri": "https://localhost:8080/",
          "height": 102
        },
        "outputId": "156857a5-97b2-4c77-d20f-6f82241d58ef"
      },
      "source": [
        "# creating a confusion matrix \n",
        "dtree_predictions = dtree_model.predict(X_test)  \n",
        "cm = confusion_matrix(y_test, dtree_predictions) \n",
        "print(\"Decision tree classifier's confusion_matrix:\")\n",
        "cm"
      ],
      "execution_count": 51,
      "outputs": [
        {
          "output_type": "stream",
          "text": [
            "Decision tree classifier's confusion_matrix:\n"
          ],
          "name": "stdout"
        },
        {
          "output_type": "execute_result",
          "data": {
            "text/plain": [
              "array([[316,   0,   0,   0],\n",
              "       [ 31, 127,   0,  15],\n",
              "       [ 25,  79,   0,  54],\n",
              "       [ 75,  76,   0, 452]])"
            ]
          },
          "metadata": {
            "tags": []
          },
          "execution_count": 51
        }
      ]
    },
    {
      "cell_type": "markdown",
      "metadata": {
        "id": "zViN8oo9d0Q9",
        "colab_type": "text"
      },
      "source": [
        "### KNN (k-nearest neighbours) classifier "
      ]
    },
    {
      "cell_type": "markdown",
      "metadata": {
        "id": "FpVd6sTEeOIl",
        "colab_type": "text"
      },
      "source": [
        "#### Import libraries"
      ]
    },
    {
      "cell_type": "code",
      "metadata": {
        "id": "5Fy7GekieIk3",
        "colab_type": "code",
        "colab": {}
      },
      "source": [
        "from sklearn.neighbors import KNeighborsClassifier \n",
        "from sklearn.metrics import confusion_matrix \n",
        "from sklearn.model_selection import train_test_split "
      ],
      "execution_count": 0,
      "outputs": []
    },
    {
      "cell_type": "markdown",
      "metadata": {
        "id": "gpCUE8pVfdFi",
        "colab_type": "text"
      },
      "source": [
        "#### Train model"
      ]
    },
    {
      "cell_type": "code",
      "metadata": {
        "id": "-kTK1VvFey0c",
        "colab_type": "code",
        "colab": {}
      },
      "source": [
        "# X -> features, y -> label \n",
        "random_train = train.sample(n = 5000) \n",
        "X = random_train.iloc[:,5:8]\n",
        "y = random_train[\"accuracy_group\"]"
      ],
      "execution_count": 0,
      "outputs": []
    },
    {
      "cell_type": "code",
      "metadata": {
        "id": "UAo5e46OfiqB",
        "colab_type": "code",
        "colab": {
          "base_uri": "https://localhost:8080/",
          "height": 85
        },
        "outputId": "91dd50fc-72d5-4568-9a70-34a9b825f7cc"
      },
      "source": [
        "# dividing X, y into train and test data \n",
        "X_train, X_test, y_train, y_test = train_test_split(X, y, random_state = 0) \n",
        "print(\"X_train.shape\", X_train.shape)\n",
        "print(\"y_train.shape\", y_train.shape)\n",
        "print(\"X_test.shape:\", X_test.shape)\n",
        "print(\"y_test.shape:\", y_test.shape)"
      ],
      "execution_count": 41,
      "outputs": [
        {
          "output_type": "stream",
          "text": [
            "X_train.shape (3750, 3)\n",
            "y_train.shape (3750,)\n",
            "X_test.shape: (1250, 3)\n",
            "y_test.shape: (1250,)\n"
          ],
          "name": "stdout"
        }
      ]
    },
    {
      "cell_type": "code",
      "metadata": {
        "id": "fcr-12Q2fkh4",
        "colab_type": "code",
        "colab": {}
      },
      "source": [
        "# training a KNN classifier \n",
        "knn = KNeighborsClassifier(n_neighbors = 7).fit(X_train, y_train) "
      ],
      "execution_count": 0,
      "outputs": []
    },
    {
      "cell_type": "code",
      "metadata": {
        "id": "IAvl31m5fscR",
        "colab_type": "code",
        "colab": {
          "base_uri": "https://localhost:8080/",
          "height": 34
        },
        "outputId": "dd7c0204-8575-4b8c-cc9f-3870542e9a20"
      },
      "source": [
        "# accuracy on X_test \n",
        "accuracy = knn.score(X_test, y_test) \n",
        "print(\"KNN classifier's accuracy: \", accuracy)"
      ],
      "execution_count": 43,
      "outputs": [
        {
          "output_type": "stream",
          "text": [
            "KNN classifier's accuracy:  0.688\n"
          ],
          "name": "stdout"
        }
      ]
    },
    {
      "cell_type": "code",
      "metadata": {
        "id": "ZhV0wSg0fyXO",
        "colab_type": "code",
        "colab": {
          "base_uri": "https://localhost:8080/",
          "height": 102
        },
        "outputId": "dd73cfb7-702b-43ed-a11e-7396ae904160"
      },
      "source": [
        "# creating a confusion matrix \n",
        "knn_predictions = knn.predict(X_test)  \n",
        "cm = confusion_matrix(y_test, knn_predictions) \n",
        "print(\"KNN classifier's confusion_matrix:\")\n",
        "cm"
      ],
      "execution_count": 44,
      "outputs": [
        {
          "output_type": "stream",
          "text": [
            "KNN classifier's confusion_matrix:\n"
          ],
          "name": "stdout"
        },
        {
          "output_type": "execute_result",
          "data": {
            "text/plain": [
              "array([[273,  10,   0,  10],\n",
              "       [ 41,  77,  20,  40],\n",
              "       [ 23,  29,  22,  85],\n",
              "       [ 55,  38,  39, 488]])"
            ]
          },
          "metadata": {
            "tags": []
          },
          "execution_count": 44
        }
      ]
    }
  ]
}